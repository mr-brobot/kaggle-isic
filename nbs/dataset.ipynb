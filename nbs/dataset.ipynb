{
 "cells": [
  {
   "cell_type": "markdown",
   "id": "f69bbe4a",
   "metadata": {},
   "source": [
    "# Download\n",
    "\n",
    "This section assumes [Kaggle is configured](https://github.com/Kaggle/kaggle-api/blob/main/docs/README.md#api-credentials).\n"
   ]
  },
  {
   "cell_type": "code",
   "execution_count": 1,
   "id": "473e3b60",
   "metadata": {},
   "outputs": [
    {
     "name": "stdout",
     "output_type": "stream",
     "text": [
      "/workspaces/isic/nbs\n"
     ]
    }
   ],
   "source": [
    "!pwd"
   ]
  },
  {
   "cell_type": "code",
   "execution_count": 2,
   "id": "a06e5324",
   "metadata": {},
   "outputs": [
    {
     "name": "stdout",
     "output_type": "stream",
     "text": [
      "env: KAGGLE_COMPETITION=isic-2024-challenge\n",
      "env: DATA_DIR=../data\n"
     ]
    }
   ],
   "source": [
    "%env KAGGLE_COMPETITION=isic-2024-challenge\n",
    "%env DATA_DIR=../data"
   ]
  },
  {
   "cell_type": "code",
   "execution_count": 3,
   "id": "a4003577",
   "metadata": {},
   "outputs": [
    {
     "name": "stdout",
     "output_type": "stream",
     "text": [
      "Configuration values from /home/vscode/.kaggle\n",
      "- username: joshwiley\n",
      "- path: None\n",
      "- proxy: None\n",
      "- competition: None\n"
     ]
    }
   ],
   "source": [
    "!kaggle config view"
   ]
  },
  {
   "cell_type": "code",
   "execution_count": 4,
   "id": "7b495bdb",
   "metadata": {},
   "outputs": [
    {
     "name": "stdout",
     "output_type": "stream",
     "text": [
      "Downloading isic-2024-challenge.zip to ../data\n",
      " 95%|████████████████████████████████████  | 1.90G/2.00G [00:01<00:00, 1.10GB/s]\n",
      "100%|██████████████████████████████████████| 2.00G/2.00G [00:01<00:00, 1.12GB/s]\n"
     ]
    }
   ],
   "source": [
    "!kaggle competitions download --path $DATA_DIR $KAGGLE_COMPETITION "
   ]
  },
  {
   "cell_type": "code",
   "execution_count": 5,
   "id": "15761b9b",
   "metadata": {},
   "outputs": [],
   "source": [
    "!unzip -d $DATA_DIR $DATA_DIR/$KAGGLE_COMPETITION.zip -x train-image/* > /dev/null"
   ]
  },
  {
   "cell_type": "code",
   "execution_count": 6,
   "id": "09e891ac",
   "metadata": {},
   "outputs": [],
   "source": [
    "!rm $DATA_DIR/$KAGGLE_COMPETITION.zip"
   ]
  },
  {
   "cell_type": "code",
   "execution_count": 7,
   "id": "5ef3c782",
   "metadata": {},
   "outputs": [
    {
     "name": "stdout",
     "output_type": "stream",
     "text": [
      "sample_submission.csv  test-metadata.csv  train-metadata.csv\n",
      "test-image.hdf5        train-image.hdf5\n"
     ]
    }
   ],
   "source": [
    "!ls $DATA_DIR"
   ]
  },
  {
   "cell_type": "markdown",
   "id": "d00d2ae1",
   "metadata": {},
   "source": [
    "# Convert\n"
   ]
  },
  {
   "cell_type": "code",
   "execution_count": 8,
   "id": "592cef8f",
   "metadata": {},
   "outputs": [
    {
     "data": {
      "text/plain": [
       "PosixPath('/workspaces/isic/data')"
      ]
     },
     "execution_count": 8,
     "metadata": {},
     "output_type": "execute_result"
    }
   ],
   "source": [
    "from pathlib import Path\n",
    "import os\n",
    "\n",
    "DATA_DIR = Path(os.getenv(\"DATA_DIR\")).resolve()\n",
    "\n",
    "DATA_DIR"
   ]
  },
  {
   "cell_type": "code",
   "execution_count": 9,
   "id": "f4e99eaf",
   "metadata": {},
   "outputs": [
    {
     "data": {
      "text/plain": [
       "(PosixPath('/workspaces/isic/data/train-image.hdf5'),\n",
       " PosixPath('/workspaces/isic/data/train-metadata.csv'),\n",
       " PosixPath('/workspaces/isic/data/test-image.hdf5'),\n",
       " PosixPath('/workspaces/isic/data/test-metadata.csv'))"
      ]
     },
     "execution_count": 9,
     "metadata": {},
     "output_type": "execute_result"
    }
   ],
   "source": [
    "TRAIN_IMAGES_FILE = DATA_DIR / \"train-image.hdf5\"\n",
    "TRAIN_METADATA_FILE = DATA_DIR / \"train-metadata.csv\"\n",
    "TEST_IMAGES_FILE = DATA_DIR / \"test-image.hdf5\"\n",
    "TEST_METADATA_FILE = DATA_DIR / \"test-metadata.csv\"\n",
    "\n",
    "TRAIN_IMAGES_FILE, TRAIN_METADATA_FILE, TEST_IMAGES_FILE, TEST_METADATA_FILE"
   ]
  },
  {
   "cell_type": "code",
   "execution_count": 10,
   "id": "1d9da107",
   "metadata": {},
   "outputs": [
    {
     "data": {
      "text/plain": [
       "(401059, 3)"
      ]
     },
     "execution_count": 10,
     "metadata": {},
     "output_type": "execute_result"
    }
   ],
   "source": [
    "from pyarrow import csv\n",
    "\n",
    "train_df = csv.read_csv(TRAIN_METADATA_FILE).to_pandas()\n",
    "test_df = csv.read_csv(TEST_METADATA_FILE).to_pandas()\n",
    "\n",
    "(len(train_df), len(test_df))"
   ]
  },
  {
   "cell_type": "code",
   "execution_count": 11,
   "id": "fb38360d",
   "metadata": {},
   "outputs": [
    {
     "name": "stdout",
     "output_type": "stream",
     "text": [
      "Columns missing in test split:\n",
      "{'iddx_1', 'mel_thick_mm', 'lesion_id', 'mel_mitotic_index', 'iddx_4', 'iddx_5', 'iddx_full', 'iddx_2', 'tbp_lv_dnn_lesion_confidence', 'target', 'iddx_3'}\n"
     ]
    }
   ],
   "source": [
    "train_cols = set(train_df.columns)\n",
    "test_cols = set(test_df.columns)\n",
    "\n",
    "print(\"Columns missing in test split:\")\n",
    "print(train_cols - test_cols)"
   ]
  },
  {
   "cell_type": "markdown",
   "id": "b421e542",
   "metadata": {},
   "source": [
    "The available test split contains only contains 3 rows. Since the real test split is not pulicly available, the public test split will be ignored.\n"
   ]
  },
  {
   "cell_type": "code",
   "execution_count": 12,
   "id": "a6d72417",
   "metadata": {},
   "outputs": [
    {
     "data": {
      "application/vnd.microsoft.datawrangler.viewer.v0+json": {
       "columns": [
        {
         "name": "index",
         "rawType": "int64",
         "type": "integer"
        },
        {
         "name": "isic_id",
         "rawType": "object",
         "type": "string"
        },
        {
         "name": "target",
         "rawType": "int64",
         "type": "integer"
        },
        {
         "name": "patient_id",
         "rawType": "object",
         "type": "string"
        },
        {
         "name": "age_approx",
         "rawType": "float64",
         "type": "float"
        },
        {
         "name": "sex",
         "rawType": "object",
         "type": "string"
        },
        {
         "name": "anatom_site_general",
         "rawType": "object",
         "type": "string"
        },
        {
         "name": "clin_size_long_diam_mm",
         "rawType": "float64",
         "type": "float"
        },
        {
         "name": "image_type",
         "rawType": "object",
         "type": "string"
        },
        {
         "name": "tbp_tile_type",
         "rawType": "object",
         "type": "string"
        },
        {
         "name": "tbp_lv_A",
         "rawType": "float64",
         "type": "float"
        },
        {
         "name": "tbp_lv_Aext",
         "rawType": "float64",
         "type": "float"
        },
        {
         "name": "tbp_lv_B",
         "rawType": "float64",
         "type": "float"
        },
        {
         "name": "tbp_lv_Bext",
         "rawType": "float64",
         "type": "float"
        },
        {
         "name": "tbp_lv_C",
         "rawType": "float64",
         "type": "float"
        },
        {
         "name": "tbp_lv_Cext",
         "rawType": "float64",
         "type": "float"
        },
        {
         "name": "tbp_lv_H",
         "rawType": "float64",
         "type": "float"
        },
        {
         "name": "tbp_lv_Hext",
         "rawType": "float64",
         "type": "float"
        },
        {
         "name": "tbp_lv_L",
         "rawType": "float64",
         "type": "float"
        },
        {
         "name": "tbp_lv_Lext",
         "rawType": "float64",
         "type": "float"
        },
        {
         "name": "tbp_lv_areaMM2",
         "rawType": "float64",
         "type": "float"
        },
        {
         "name": "tbp_lv_area_perim_ratio",
         "rawType": "float64",
         "type": "float"
        },
        {
         "name": "tbp_lv_color_std_mean",
         "rawType": "float64",
         "type": "float"
        },
        {
         "name": "tbp_lv_deltaA",
         "rawType": "float64",
         "type": "float"
        },
        {
         "name": "tbp_lv_deltaB",
         "rawType": "float64",
         "type": "float"
        },
        {
         "name": "tbp_lv_deltaL",
         "rawType": "float64",
         "type": "float"
        },
        {
         "name": "tbp_lv_deltaLB",
         "rawType": "float64",
         "type": "float"
        },
        {
         "name": "tbp_lv_deltaLBnorm",
         "rawType": "float64",
         "type": "float"
        },
        {
         "name": "tbp_lv_eccentricity",
         "rawType": "float64",
         "type": "float"
        },
        {
         "name": "tbp_lv_location",
         "rawType": "object",
         "type": "string"
        },
        {
         "name": "tbp_lv_location_simple",
         "rawType": "object",
         "type": "string"
        },
        {
         "name": "tbp_lv_minorAxisMM",
         "rawType": "float64",
         "type": "float"
        },
        {
         "name": "tbp_lv_nevi_confidence",
         "rawType": "float64",
         "type": "float"
        },
        {
         "name": "tbp_lv_norm_border",
         "rawType": "float64",
         "type": "float"
        },
        {
         "name": "tbp_lv_norm_color",
         "rawType": "float64",
         "type": "float"
        },
        {
         "name": "tbp_lv_perimeterMM",
         "rawType": "float64",
         "type": "float"
        },
        {
         "name": "tbp_lv_radial_color_std_max",
         "rawType": "float64",
         "type": "float"
        },
        {
         "name": "tbp_lv_stdL",
         "rawType": "float64",
         "type": "float"
        },
        {
         "name": "tbp_lv_stdLExt",
         "rawType": "float64",
         "type": "float"
        },
        {
         "name": "tbp_lv_symm_2axis",
         "rawType": "float64",
         "type": "float"
        },
        {
         "name": "tbp_lv_symm_2axis_angle",
         "rawType": "int64",
         "type": "integer"
        },
        {
         "name": "tbp_lv_x",
         "rawType": "float64",
         "type": "float"
        },
        {
         "name": "tbp_lv_y",
         "rawType": "float64",
         "type": "float"
        },
        {
         "name": "tbp_lv_z",
         "rawType": "float64",
         "type": "float"
        },
        {
         "name": "attribution",
         "rawType": "object",
         "type": "string"
        },
        {
         "name": "copyright_license",
         "rawType": "object",
         "type": "string"
        },
        {
         "name": "lesion_id",
         "rawType": "object",
         "type": "string"
        },
        {
         "name": "iddx_full",
         "rawType": "object",
         "type": "string"
        },
        {
         "name": "iddx_1",
         "rawType": "object",
         "type": "string"
        },
        {
         "name": "iddx_2",
         "rawType": "object",
         "type": "string"
        },
        {
         "name": "iddx_3",
         "rawType": "object",
         "type": "string"
        },
        {
         "name": "iddx_4",
         "rawType": "object",
         "type": "string"
        },
        {
         "name": "iddx_5",
         "rawType": "object",
         "type": "string"
        },
        {
         "name": "mel_mitotic_index",
         "rawType": "object",
         "type": "string"
        },
        {
         "name": "mel_thick_mm",
         "rawType": "float64",
         "type": "float"
        },
        {
         "name": "tbp_lv_dnn_lesion_confidence",
         "rawType": "float64",
         "type": "float"
        }
       ],
       "ref": "c5d2f937-0ab2-4955-919f-ac5170c729b5",
       "rows": [
        [
         "0",
         "ISIC_0015670",
         "0",
         "IP_1235828",
         "60.0",
         "male",
         "lower extremity",
         "3.04",
         "TBP tile: close-up",
         "3D: white",
         "20.2444222995213",
         "16.2619751791219",
         "26.9224473862421",
         "23.954773134576",
         "33.6846375593731",
         "28.9531171492014",
         "53.0585445070501",
         "55.8289238915569",
         "54.3674478530884",
         "62.0257012013125",
         "3.15256145618315",
         "27.4761698440053",
         "0.0",
         "3.98244712039942",
         "2.96767425166613",
         "-7.65825334822409",
         "8.36056573901858",
         "5.78430238218227",
         "0.901301769055263",
         "Right Leg - Upper",
         "Right Leg",
         "1.54301591115455",
         "0.0026285923013347",
         "7.09135958738072",
         "0.0",
         "9.30700349273346",
         "0.0",
         "2.03619534985743",
         "2.63778008066265",
         "0.59047619047619",
         "85",
         "-182.703552246094",
         "613.49365234375",
         "-42.4279479980469",
         "Memorial Sloan Kettering Cancer Center",
         "CC-BY",
         "",
         "Benign",
         "Benign",
         "",
         "",
         "",
         "",
         "",
         null,
         "97.5172817707062"
        ],
        [
         "1",
         "ISIC_0015845",
         "0",
         "IP_8170065",
         "60.0",
         "male",
         "head/neck",
         "1.1",
         "TBP tile: close-up",
         "3D: white",
         "31.71257",
         "25.36474",
         "26.331",
         "24.54929",
         "41.21903",
         "35.29926",
         "39.70291",
         "44.06404",
         "48.86152",
         "55.36236",
         "0.9194971",
         "12.23529",
         "0.0",
         "6.34783",
         "1.781713",
         "-6.500838",
         "6.839008",
         "4.987244",
         "0.639885",
         "Head & Neck",
         "Head & Neck",
         "0.8219178",
         "1.334303e-07",
         "2.116402",
         "0.0",
         "3.354148",
         "0.0",
         "0.8532267",
         "3.912844",
         "0.2857143",
         "55",
         "-0.07830811",
         "1575.687",
         "57.1745",
         "Memorial Sloan Kettering Cancer Center",
         "CC-BY",
         "IL_6727506",
         "Benign",
         "Benign",
         "",
         "",
         "",
         "",
         "",
         null,
         "3.141455"
        ],
        [
         "2",
         "ISIC_0015864",
         "0",
         "IP_6724798",
         "60.0",
         "male",
         "posterior torso",
         "3.4",
         "TBP tile: close-up",
         "3D: XP",
         "22.57583",
         "17.12817",
         "37.97046",
         "33.48541",
         "44.17492",
         "37.6118",
         "59.26585",
         "62.90973",
         "53.96118",
         "61.67052",
         "3.265153",
         "24.18462",
         "0.0",
         "5.447655",
         "4.485044",
         "-7.709336",
         "9.092376",
         "6.290359",
         "0.932147",
         "Torso Back Top Third",
         "Torso Back",
         "1.194905",
         "0.0002959177",
         "4.798335",
         "0.0",
         "8.886309",
         "0.0",
         "1.743651",
         "1.950777",
         "0.3619048",
         "105",
         "123.6497",
         "1472.01",
         "232.9089",
         "Memorial Sloan Kettering Cancer Center",
         "CC-BY",
         "",
         "Benign",
         "Benign",
         "",
         "",
         "",
         "",
         "",
         null,
         "99.80404"
        ],
        [
         "3",
         "ISIC_0015902",
         "0",
         "IP_4111386",
         "65.0",
         "male",
         "anterior torso",
         "3.22",
         "TBP tile: close-up",
         "3D: XP",
         "14.2423288822174",
         "12.1647572742568",
         "21.4481442651631",
         "21.1213562925657",
         "25.7462001935915",
         "24.3740232866691",
         "56.4144285170649",
         "60.0603876362602",
         "18.6495183426657",
         "23.3148413340251",
         "6.07993995121036",
         "14.8892416135771",
         "0.514520296995049",
         "2.07757160796059",
         "0.326787972597426",
         "-4.66532299135938",
         "4.78341293261375",
         "6.40019612363943",
         "0.654458375002421",
         "Torso Front Top Half",
         "Torso Front",
         "2.48132784072667",
         "21.9894528388977",
         "1.97587443743163",
         "1.77170459478913",
         "9.51449919489256",
         "0.66468987772986",
         "1.25854054346649",
         "1.57373265038448",
         "0.209580838323353",
         "130",
         "-141.024780273438",
         "1442.18579101562",
         "58.3598022460938",
         "ACEMID MIA",
         "CC-0",
         "",
         "Benign",
         "Benign",
         "",
         "",
         "",
         "",
         "",
         null,
         "99.9899983406067"
        ],
        [
         "4",
         "ISIC_0024200",
         "0",
         "IP_8313778",
         "55.0",
         "male",
         "anterior torso",
         "2.73",
         "TBP tile: close-up",
         "3D: white",
         "24.72552",
         "20.05747",
         "26.4649",
         "25.71046",
         "36.21798",
         "32.60874",
         "46.94607",
         "52.04118",
         "46.27631",
         "54.85574",
         "2.101708",
         "19.90256",
         "0.0",
         "4.668053",
         "0.7544338",
         "-8.579431",
         "9.148495",
         "6.531302",
         "0.9464478",
         "Torso Front Top Half",
         "Torso Front",
         "0.929916",
         "0.001378832",
         "3.658854",
         "0.0",
         "6.467562",
         "0.0",
         "2.085409",
         "2.480509",
         "0.3134328",
         "20",
         "-72.31564",
         "1488.72",
         "21.42896",
         "Memorial Sloan Kettering Cancer Center",
         "CC-BY",
         "",
         "Benign",
         "Benign",
         "",
         "",
         "",
         "",
         "",
         null,
         "70.44251"
        ]
       ],
       "shape": {
        "columns": 55,
        "rows": 5
       }
      },
      "text/html": [
       "<div>\n",
       "<style scoped>\n",
       "    .dataframe tbody tr th:only-of-type {\n",
       "        vertical-align: middle;\n",
       "    }\n",
       "\n",
       "    .dataframe tbody tr th {\n",
       "        vertical-align: top;\n",
       "    }\n",
       "\n",
       "    .dataframe thead th {\n",
       "        text-align: right;\n",
       "    }\n",
       "</style>\n",
       "<table border=\"1\" class=\"dataframe\">\n",
       "  <thead>\n",
       "    <tr style=\"text-align: right;\">\n",
       "      <th></th>\n",
       "      <th>isic_id</th>\n",
       "      <th>target</th>\n",
       "      <th>patient_id</th>\n",
       "      <th>age_approx</th>\n",
       "      <th>sex</th>\n",
       "      <th>anatom_site_general</th>\n",
       "      <th>clin_size_long_diam_mm</th>\n",
       "      <th>image_type</th>\n",
       "      <th>tbp_tile_type</th>\n",
       "      <th>tbp_lv_A</th>\n",
       "      <th>...</th>\n",
       "      <th>lesion_id</th>\n",
       "      <th>iddx_full</th>\n",
       "      <th>iddx_1</th>\n",
       "      <th>iddx_2</th>\n",
       "      <th>iddx_3</th>\n",
       "      <th>iddx_4</th>\n",
       "      <th>iddx_5</th>\n",
       "      <th>mel_mitotic_index</th>\n",
       "      <th>mel_thick_mm</th>\n",
       "      <th>tbp_lv_dnn_lesion_confidence</th>\n",
       "    </tr>\n",
       "  </thead>\n",
       "  <tbody>\n",
       "    <tr>\n",
       "      <th>0</th>\n",
       "      <td>ISIC_0015670</td>\n",
       "      <td>0</td>\n",
       "      <td>IP_1235828</td>\n",
       "      <td>60.0</td>\n",
       "      <td>male</td>\n",
       "      <td>lower extremity</td>\n",
       "      <td>3.04</td>\n",
       "      <td>TBP tile: close-up</td>\n",
       "      <td>3D: white</td>\n",
       "      <td>20.244422</td>\n",
       "      <td>...</td>\n",
       "      <td></td>\n",
       "      <td>Benign</td>\n",
       "      <td>Benign</td>\n",
       "      <td></td>\n",
       "      <td></td>\n",
       "      <td></td>\n",
       "      <td></td>\n",
       "      <td></td>\n",
       "      <td>NaN</td>\n",
       "      <td>97.517282</td>\n",
       "    </tr>\n",
       "    <tr>\n",
       "      <th>1</th>\n",
       "      <td>ISIC_0015845</td>\n",
       "      <td>0</td>\n",
       "      <td>IP_8170065</td>\n",
       "      <td>60.0</td>\n",
       "      <td>male</td>\n",
       "      <td>head/neck</td>\n",
       "      <td>1.10</td>\n",
       "      <td>TBP tile: close-up</td>\n",
       "      <td>3D: white</td>\n",
       "      <td>31.712570</td>\n",
       "      <td>...</td>\n",
       "      <td>IL_6727506</td>\n",
       "      <td>Benign</td>\n",
       "      <td>Benign</td>\n",
       "      <td></td>\n",
       "      <td></td>\n",
       "      <td></td>\n",
       "      <td></td>\n",
       "      <td></td>\n",
       "      <td>NaN</td>\n",
       "      <td>3.141455</td>\n",
       "    </tr>\n",
       "    <tr>\n",
       "      <th>2</th>\n",
       "      <td>ISIC_0015864</td>\n",
       "      <td>0</td>\n",
       "      <td>IP_6724798</td>\n",
       "      <td>60.0</td>\n",
       "      <td>male</td>\n",
       "      <td>posterior torso</td>\n",
       "      <td>3.40</td>\n",
       "      <td>TBP tile: close-up</td>\n",
       "      <td>3D: XP</td>\n",
       "      <td>22.575830</td>\n",
       "      <td>...</td>\n",
       "      <td></td>\n",
       "      <td>Benign</td>\n",
       "      <td>Benign</td>\n",
       "      <td></td>\n",
       "      <td></td>\n",
       "      <td></td>\n",
       "      <td></td>\n",
       "      <td></td>\n",
       "      <td>NaN</td>\n",
       "      <td>99.804040</td>\n",
       "    </tr>\n",
       "    <tr>\n",
       "      <th>3</th>\n",
       "      <td>ISIC_0015902</td>\n",
       "      <td>0</td>\n",
       "      <td>IP_4111386</td>\n",
       "      <td>65.0</td>\n",
       "      <td>male</td>\n",
       "      <td>anterior torso</td>\n",
       "      <td>3.22</td>\n",
       "      <td>TBP tile: close-up</td>\n",
       "      <td>3D: XP</td>\n",
       "      <td>14.242329</td>\n",
       "      <td>...</td>\n",
       "      <td></td>\n",
       "      <td>Benign</td>\n",
       "      <td>Benign</td>\n",
       "      <td></td>\n",
       "      <td></td>\n",
       "      <td></td>\n",
       "      <td></td>\n",
       "      <td></td>\n",
       "      <td>NaN</td>\n",
       "      <td>99.989998</td>\n",
       "    </tr>\n",
       "    <tr>\n",
       "      <th>4</th>\n",
       "      <td>ISIC_0024200</td>\n",
       "      <td>0</td>\n",
       "      <td>IP_8313778</td>\n",
       "      <td>55.0</td>\n",
       "      <td>male</td>\n",
       "      <td>anterior torso</td>\n",
       "      <td>2.73</td>\n",
       "      <td>TBP tile: close-up</td>\n",
       "      <td>3D: white</td>\n",
       "      <td>24.725520</td>\n",
       "      <td>...</td>\n",
       "      <td></td>\n",
       "      <td>Benign</td>\n",
       "      <td>Benign</td>\n",
       "      <td></td>\n",
       "      <td></td>\n",
       "      <td></td>\n",
       "      <td></td>\n",
       "      <td></td>\n",
       "      <td>NaN</td>\n",
       "      <td>70.442510</td>\n",
       "    </tr>\n",
       "  </tbody>\n",
       "</table>\n",
       "<p>5 rows × 55 columns</p>\n",
       "</div>"
      ],
      "text/plain": [
       "        isic_id  target  patient_id  age_approx   sex anatom_site_general  \\\n",
       "0  ISIC_0015670       0  IP_1235828        60.0  male     lower extremity   \n",
       "1  ISIC_0015845       0  IP_8170065        60.0  male           head/neck   \n",
       "2  ISIC_0015864       0  IP_6724798        60.0  male     posterior torso   \n",
       "3  ISIC_0015902       0  IP_4111386        65.0  male      anterior torso   \n",
       "4  ISIC_0024200       0  IP_8313778        55.0  male      anterior torso   \n",
       "\n",
       "   clin_size_long_diam_mm          image_type tbp_tile_type   tbp_lv_A  ...  \\\n",
       "0                    3.04  TBP tile: close-up     3D: white  20.244422  ...   \n",
       "1                    1.10  TBP tile: close-up     3D: white  31.712570  ...   \n",
       "2                    3.40  TBP tile: close-up        3D: XP  22.575830  ...   \n",
       "3                    3.22  TBP tile: close-up        3D: XP  14.242329  ...   \n",
       "4                    2.73  TBP tile: close-up     3D: white  24.725520  ...   \n",
       "\n",
       "    lesion_id  iddx_full  iddx_1  iddx_2  iddx_3  iddx_4  iddx_5  \\\n",
       "0                 Benign  Benign                                   \n",
       "1  IL_6727506     Benign  Benign                                   \n",
       "2                 Benign  Benign                                   \n",
       "3                 Benign  Benign                                   \n",
       "4                 Benign  Benign                                   \n",
       "\n",
       "   mel_mitotic_index  mel_thick_mm  tbp_lv_dnn_lesion_confidence  \n",
       "0                              NaN                     97.517282  \n",
       "1                              NaN                      3.141455  \n",
       "2                              NaN                     99.804040  \n",
       "3                              NaN                     99.989998  \n",
       "4                              NaN                     70.442510  \n",
       "\n",
       "[5 rows x 55 columns]"
      ]
     },
     "execution_count": 12,
     "metadata": {},
     "output_type": "execute_result"
    }
   ],
   "source": [
    "train_df.head()"
   ]
  },
  {
   "cell_type": "code",
   "execution_count": 13,
   "id": "6194784a",
   "metadata": {},
   "outputs": [
    {
     "name": "stdout",
     "output_type": "stream",
     "text": [
      "ISIC_0015670\n"
     ]
    },
    {
     "data": {
      "image/jpeg": "[encoded data removed]",
      "image/png": "[encoded data removed]",
      "text/plain": [
       "<PIL.JpegImagePlugin.JpegImageFile image mode=RGB size=139x139>"
      ]
     },
     "metadata": {},
     "output_type": "display_data"
    },
    {
     "name": "stdout",
     "output_type": "stream",
     "text": [
      "ISIC_0015845\n"
     ]
    },
    {
     "data": {
      "image/jpeg": "[encoded data removed]",
      "image/png": "[encoded data removed]",
      "text/plain": [
       "<PIL.JpegImagePlugin.JpegImageFile image mode=RGB size=127x127>"
      ]
     },
     "metadata": {},
     "output_type": "display_data"
    },
    {
     "name": "stdout",
     "output_type": "stream",
     "text": [
      "ISIC_0015864\n"
     ]
    },
    {
     "data": {
      "image/jpeg": "[encoded data removed]",
      "image/png": "[encoded data removed]",
      "text/plain": [
       "<PIL.JpegImagePlugin.JpegImageFile image mode=RGB size=145x145>"
      ]
     },
     "metadata": {},
     "output_type": "display_data"
    }
   ],
   "source": [
    "import io\n",
    "\n",
    "import h5py\n",
    "from PIL import Image\n",
    "from PIL.Image import Image as PILImage\n",
    "\n",
    "\n",
    "def get_image(file: h5py.File, key: str) -> PILImage:\n",
    "    b = io.BytesIO(file[key][()])\n",
    "    return Image.open(b)\n",
    "\n",
    "\n",
    "with h5py.File(TRAIN_IMAGES_FILE, \"r\") as f:\n",
    "    for isic_id in train_df[\"isic_id\"][:3]:\n",
    "        print(isic_id)\n",
    "        image = get_image(f, isic_id)\n",
    "        display(image)"
   ]
  },
  {
   "cell_type": "code",
   "execution_count": 14,
   "id": "eb9c0c76",
   "metadata": {},
   "outputs": [
    {
     "data": {
      "application/vnd.microsoft.datawrangler.viewer.v0+json": {
       "columns": [
        {
         "name": "index",
         "rawType": "int64",
         "type": "integer"
        },
        {
         "name": "isic_id",
         "rawType": "object",
         "type": "string"
        },
        {
         "name": "target",
         "rawType": "int64",
         "type": "integer"
        },
        {
         "name": "patient_id",
         "rawType": "object",
         "type": "string"
        },
        {
         "name": "age_approx",
         "rawType": "float64",
         "type": "float"
        },
        {
         "name": "sex",
         "rawType": "object",
         "type": "string"
        },
        {
         "name": "anatom_site_general",
         "rawType": "object",
         "type": "string"
        },
        {
         "name": "clin_size_long_diam_mm",
         "rawType": "float64",
         "type": "float"
        },
        {
         "name": "image_type",
         "rawType": "object",
         "type": "string"
        },
        {
         "name": "tbp_tile_type",
         "rawType": "object",
         "type": "string"
        },
        {
         "name": "tbp_lv_A",
         "rawType": "float64",
         "type": "float"
        },
        {
         "name": "tbp_lv_Aext",
         "rawType": "float64",
         "type": "float"
        },
        {
         "name": "tbp_lv_B",
         "rawType": "float64",
         "type": "float"
        },
        {
         "name": "tbp_lv_Bext",
         "rawType": "float64",
         "type": "float"
        },
        {
         "name": "tbp_lv_C",
         "rawType": "float64",
         "type": "float"
        },
        {
         "name": "tbp_lv_Cext",
         "rawType": "float64",
         "type": "float"
        },
        {
         "name": "tbp_lv_H",
         "rawType": "float64",
         "type": "float"
        },
        {
         "name": "tbp_lv_Hext",
         "rawType": "float64",
         "type": "float"
        },
        {
         "name": "tbp_lv_L",
         "rawType": "float64",
         "type": "float"
        },
        {
         "name": "tbp_lv_Lext",
         "rawType": "float64",
         "type": "float"
        },
        {
         "name": "tbp_lv_areaMM2",
         "rawType": "float64",
         "type": "float"
        },
        {
         "name": "tbp_lv_area_perim_ratio",
         "rawType": "float64",
         "type": "float"
        },
        {
         "name": "tbp_lv_color_std_mean",
         "rawType": "float64",
         "type": "float"
        },
        {
         "name": "tbp_lv_deltaA",
         "rawType": "float64",
         "type": "float"
        },
        {
         "name": "tbp_lv_deltaB",
         "rawType": "float64",
         "type": "float"
        },
        {
         "name": "tbp_lv_deltaL",
         "rawType": "float64",
         "type": "float"
        },
        {
         "name": "tbp_lv_deltaLB",
         "rawType": "float64",
         "type": "float"
        },
        {
         "name": "tbp_lv_deltaLBnorm",
         "rawType": "float64",
         "type": "float"
        },
        {
         "name": "tbp_lv_eccentricity",
         "rawType": "float64",
         "type": "float"
        },
        {
         "name": "tbp_lv_location",
         "rawType": "object",
         "type": "string"
        },
        {
         "name": "tbp_lv_location_simple",
         "rawType": "object",
         "type": "string"
        },
        {
         "name": "tbp_lv_minorAxisMM",
         "rawType": "float64",
         "type": "float"
        },
        {
         "name": "tbp_lv_nevi_confidence",
         "rawType": "float64",
         "type": "float"
        },
        {
         "name": "tbp_lv_norm_border",
         "rawType": "float64",
         "type": "float"
        },
        {
         "name": "tbp_lv_norm_color",
         "rawType": "float64",
         "type": "float"
        },
        {
         "name": "tbp_lv_perimeterMM",
         "rawType": "float64",
         "type": "float"
        },
        {
         "name": "tbp_lv_radial_color_std_max",
         "rawType": "float64",
         "type": "float"
        },
        {
         "name": "tbp_lv_stdL",
         "rawType": "float64",
         "type": "float"
        },
        {
         "name": "tbp_lv_stdLExt",
         "rawType": "float64",
         "type": "float"
        },
        {
         "name": "tbp_lv_symm_2axis",
         "rawType": "float64",
         "type": "float"
        },
        {
         "name": "tbp_lv_symm_2axis_angle",
         "rawType": "int64",
         "type": "integer"
        },
        {
         "name": "tbp_lv_x",
         "rawType": "float64",
         "type": "float"
        },
        {
         "name": "tbp_lv_y",
         "rawType": "float64",
         "type": "float"
        },
        {
         "name": "tbp_lv_z",
         "rawType": "float64",
         "type": "float"
        },
        {
         "name": "attribution",
         "rawType": "object",
         "type": "string"
        },
        {
         "name": "copyright_license",
         "rawType": "object",
         "type": "string"
        },
        {
         "name": "lesion_id",
         "rawType": "object",
         "type": "string"
        },
        {
         "name": "iddx_full",
         "rawType": "object",
         "type": "string"
        },
        {
         "name": "iddx_1",
         "rawType": "object",
         "type": "string"
        },
        {
         "name": "iddx_2",
         "rawType": "object",
         "type": "string"
        },
        {
         "name": "iddx_3",
         "rawType": "object",
         "type": "string"
        },
        {
         "name": "iddx_4",
         "rawType": "object",
         "type": "string"
        },
        {
         "name": "iddx_5",
         "rawType": "object",
         "type": "string"
        },
        {
         "name": "mel_mitotic_index",
         "rawType": "object",
         "type": "string"
        },
        {
         "name": "mel_thick_mm",
         "rawType": "float64",
         "type": "float"
        },
        {
         "name": "tbp_lv_dnn_lesion_confidence",
         "rawType": "float64",
         "type": "float"
        },
        {
         "name": "image",
         "rawType": "object",
         "type": "unknown"
        }
       ],
       "ref": "8710f90c-dc0c-4c73-88b4-848243c19027",
       "rows": [
        [
         "0",
         "ISIC_0015670",
         "0",
         "IP_1235828",
         "60.0",
         "male",
         "lower extremity",
         "3.04",
         "TBP tile: close-up",
         "3D: white",
         "20.2444222995213",
         "16.2619751791219",
         "26.9224473862421",
         "23.954773134576",
         "33.6846375593731",
         "28.9531171492014",
         "53.0585445070501",
         "55.8289238915569",
         "54.3674478530884",
         "62.0257012013125",
         "3.15256145618315",
         "27.4761698440053",
         "0.0",
         "3.98244712039942",
         "2.96767425166613",
         "-7.65825334822409",
         "8.36056573901858",
         "5.78430238218227",
         "0.901301769055263",
         "Right Leg - Upper",
         "Right Leg",
         "1.54301591115455",
         "0.0026285923013347",
         "7.09135958738072",
         "0.0",
         "9.30700349273346",
         "0.0",
         "2.03619534985743",
         "2.63778008066265",
         "0.59047619047619",
         "85",
         "-182.703552246094",
         "613.49365234375",
         "-42.4279479980469",
         "Memorial Sloan Kettering Cancer Center",
         "CC-BY",
         "",
         "Benign",
         "Benign",
         "",
         "",
         "",
         "",
         "",
         null,
         "97.5172817707062",
         "{'path': None, 'bytes': b'\\xff\\xd8\\xff\\xe0\\x00\\x10JFIF\\x00\\x01\\x01\\x00\\x00\\x01\\x00\\x01\\x00\\x00\\xff\\xdb\\x00C\\x00\\x08\\x06\\x06\\x07\\x06\\x05\\x08\\x07\\x07\\x07\\t\\t\\x08\\n\\x0c\\x14\\r\\x0c\\x0b\\x0b\\x0c\\x19\\x12\\x13\\x0f\\x14\\x1d\\x1a\\x1f\\x1e\\x1d\\x1a\\x1c\\x1c $.\\' \",#\\x1c\\x1c(7),01444\\x1f\\'9=82<.342\\xff\\xdb\\x00C\\x01\\t\\t\\t\\x0c\\x0b\\x0c\\x18\\r\\r\\x182!\\x1c!22222222222222222222222222222222222222222222222222\\xff\\xc0\\x00\\x11\\x08\\x00\\x8b\\x00\\x8b\\x03\\x01\"\\x00\\x02\\x11\\x01\\x03\\x11\\x01\\xff\\xc4\\x00\\x1f\\x00\\x00\\x01\\x05\\x01\\x01\\x01\\x01\\x01\\x01\\x00\\x00\\x00\\x00\\x00\\x00\\x00\\x00\\x01\\x02\\x03\\x04\\x05\\x06\\x07\\x08\\t\\n\\x0b\\xff\\xc4\\x00\\xb5\\x10\\x00\\x02\\x01\\x03\\x03\\x02\\x04\\x03\\x05\\x05\\x04\\x04\\x00\\x00\\x01}\\x01\\x02\\x03\\x00\\x04\\x11\\x05\\x12!1A\\x06\\x13Qa\\x07\"q\\x142\\x81\\x91\\xa1\\x08#B\\xb1\\xc1\\x15R\\xd1\\xf0$3br\\x82\\t\\n\\x16\\x17\\x18\\x19\\x1a%&\\'()*456789:CDEFGHIJSTUVWXYZcdefghijstuvwxyz\\x83\\x84\\x85\\x86\\x87\\x88\\x89\\x8a\\x92\\x93\\x94\\x95\\x96\\x97\\x98\\x99\\x9a\\xa2\\xa3\\xa4\\xa5\\xa6\\xa7\\xa8\\xa9\\xaa\\xb2\\xb3\\xb4\\xb5\\xb6\\xb7\\xb8\\xb9\\xba\\xc2\\xc3\\xc4\\xc5\\xc6\\xc7\\xc8\\xc9\\xca\\xd2\\xd3\\xd4\\xd5\\xd6\\xd7\\xd8\\xd9\\xda\\xe1\\xe2\\xe3\\xe4\\xe5\\xe6\\xe7\\xe8\\xe9\\xea\\xf1\\xf2\\xf3\\xf4\\xf5\\xf6\\xf7\\xf8\\xf9\\xfa\\xff\\xc4\\x00\\x1f\\x01\\x00\\x03\\x01\\x01\\x01\\x01\\x01\\x01\\x01\\x01\\x01\\x00\\x00\\x00\\x00\\x00\\x00\\x01\\x02\\x03\\x04\\x05\\x06\\x07\\x08\\t\\n\\x0b\\xff\\xc4\\x00\\xb5\\x11\\x00\\x02\\x01\\x02\\x04\\x04\\x03\\x04\\x07\\x05\\x04\\x04\\x00\\x01\\x02w\\x00\\x01\\x02\\x03\\x11\\x04\\x05!1\\x06\\x12AQ\\x07aq\\x13\"2\\x81\\x08\\x14B\\x91\\xa1\\xb1\\xc1\\t#3R\\xf0\\x15br\\xd1\\n\\x16$4\\xe1%\\xf1\\x17\\x18\\x19\\x1a&\\'()*56789:CDEFGHIJSTUVWXYZcdefghijstuvwxyz\\x82\\x83\\x84\\x85\\x86\\x87\\x88\\x89\\x8a\\x92\\x93\\x94\\x95\\x96\\x97\\x98\\x99\\x9a\\xa2\\xa3\\xa4\\xa5\\xa6\\xa7\\xa8\\xa9\\xaa\\xb2\\xb3\\xb4\\xb5\\xb6\\xb7\\xb8\\xb9\\xba\\xc2\\xc3\\xc4\\xc5\\xc6\\xc7\\xc8\\xc9\\xca\\xd2\\xd3\\xd4\\xd5\\xd6\\xd7\\xd8\\xd9\\xda\\xe2\\xe3\\xe4\\xe5\\xe6\\xe7\\xe8\\xe9\\xea\\xf2\\xf3\\xf4\\xf5\\xf6\\xf7\\xf8\\xf9\\xfa\\xff\\xda\\x00\\x0c\\x03\\x01\\x00\\x02\\x11\\x03\\x11\\x00?\\x00\\xdev\\x8c)\\xc5VFR\\xd9\\xcf\\x04\\xd2\\xbc2y\\xa4\\x80Lc\\xbf\\xb5G\\xb5\\x96A\\xc7\\x07\\xa6+\\x8e\\xe7\\xa6\\x91d\\xda\\x04\\x1b\\xf7\\xeel\\xfd\\xd1\\xe9Lx\\xb6\\xc6d\\'\\x8fOJ{a\\x0e\\x01\\'\\x03\\x96\\xa8\\x99\\xbc\\xd7\\xda[(;\\x9a\\xab\\x88\\x8a\"\\xbb\\xf7\\x11\\xf9T\\xf1\\x12\\x8c\\xccr\\x18\\xd3\\\\(!P|\\xc3\\x9c\\x8ap#g<\\x9e\\xe6\\x90\\xc8\\xd8\\x02[\\x07\\'9\\xa8\\x9c\\xcb\\x92\\x17\\xa1\\xeb\\xc5ZU\\x19\\x07\\x8c\\xe6\\x9f\\x18I&\"E\\xf91\\xd4v5V\\x15\\xecREe?1\\xc0\\xc1\\xc0\\xabE]\\x94\\x120)\\xf2B\\x89\\x8c\\x10\\xc2\\x84\\x91\\x99\\xce\\x07\\x1e\\x86\\xa6\\xc1{\\x91\\x10\\x15\\xc2\\xf5\\xdd\\xc0\\x14K\\x12\\x84\\xc3\\x921\\xd7\\x150\\t\\xbbs\\x0ez\\xfe5^\\xe40\\xdcW\\x92z\\n,\\t\\x91\\x99\\x95F\\xd5v\\xc7\\xadM\\x1cI&$\\x0cs\\x9e\\x86\\xa8\\x15f`\\x1c\\x05Py\\xad8\\xddU6\\xa8\\x18\\xeb\\xf8T\\xdfR\\x996\\xdd\\xa4\\xf7\\xc7\\x19\\xa5PX\\x85^I\\xa7\\xc7\\x181\\xe7?\\x855\\xe60\\xaf\\xee\\x87\\xcc{\\x8a\\xb32)7Ds\\x9c\\x9fOJ\\x8f\\xcf\\xf7?\\x95&\\xd9\\'\\x90oq\\x8e\\xb8\\xcdI\\xe7,_\\xbbS\\x90\\xbc\\x03A^\\xa4bV\\xba\\x1b\\n\\xec\\x89NN(&$\\xe20s\\xdb\\'4\\xa5\\xcf\\x97\\xe5 \\xe3\\xdb\\xad@p\\xa39\\'\\x1cf\\x8b\\x0c\\x93\\x92\\x0e\\xf2\\x0e=(O-\\xd0\\x92\\xa4`\\xf4\\x14\\xd4\\x8dO\\xce\\xe4\\xe0\\x8e\\x05I\\x1e\\x04G\\x8c~4\\xac\\x03\\x15G<p\\x0e\\x084\\xd6\\x89\\xb1\\xe6)\\x05Gpjr\\xdbW*\\xbc\\x1f^\\x95\\x15\\xb2\\xa4\\x97$\\xb6\\xe4Le\\x80<SV\\x18\\xb1\\xb1\\xc8$\\xe4w\\x15*\\xbe\\xd3\\x9e\\x08\\xa4\\x91\\xa237\\x94\\n\\xa0\\xe9\\x9aPW$\\x9e\\x95v!\\x92(\\xdc\\xb8f\\x001\\xfc\\xaa9\\x02\\xc2X\\xe788\\x1cS\\xf7\\x00\\x879\\xe9\\x9a \\x88\\xce\\x9b\\x9cq\\x8f\\xce\\x93\\x12\\x19\\x18.\\t\\xe8\\xa7\\xd6\\x99)\\xd8\\x8d\\x1a\\xbe\\t\\xef\\xe8*I\\xb1\\x12py=\\xaa\\x98<\\x12>by\\xe6\\xa2\\xf6)\\n!\\x0c\\x14\\x02\\x1c\\x03\\xebV\\xd4\\x02\\x83#\\xa0\\xe7\\x15\\x04@\\x0201\\x9a\\xb5\\x1an\\x01\\xddN\\xc1\\xfa\\xd2Hm\\x90\\xfd\\xa1\\xcc\\x84\\x01\\xf2\\xe3\\xaf\\xad,Q\\xb9\\xe4\\x9f\\x94\\x9aqt\\xf3v\\xe0`\\xf6\\xc56i\\xbe`\\x88\\xa5Pp\\t\\xa6!eT\\x8f#\\x1c\\x93\\xcd\\n\\xbf(\\xe2\\x92 \\xce\\xe7<\\xf3S\\x9d\\x80\\xe3&\\x9a`RV(\\xce\\xc3\\xbeE \\xda\\xaaP\\x0fs\\x8ar\\x90\\x0e\\x1f>\\xd8\\xa5\\x8e\\x1c9f\\xf4\\xe8h\\xb9Hj\\x0c\\x90\\xa0\\x11V\\xe71\\x88V8F[9$\\xd3\\x1ae\\x8a2\\n\\xab{\\xe3\\x9a\\xab\\xf3\\xcb d\\xc8\\x03\\x9a.N\\xe4\\xed\"\\xc9\\x1f\\xcd\\xc3\\xa8\\xc0\\x14\\xd8\\xed\\xd1\\xc0\\xcc\\x8c\\xb2w\\\\S@i\\x08R\\xbbNxj\\xb2\\xc5\\xa2B\\x81\\xf7\\x1cg\\xe9@\\xc6\\xc6\\xeb\\x13\\xb1m\\xad\\xe8qN\\x93\\xcae\\xca\\xe3\\x07\\xadV\\xde\\xdb\\xf6\\x84\\'\\xe9S\\xaa\\xe5@|\\x85\\xf4\\x14\\\\\\x96\\x87\\xac*\\xcb\\x9c\\xe60:\\xd2I~\\xb1\\xa9H\\x97\\xe5\\xc63\\xe9Q\\xcfw\\xb63\\x1a\\xf4\\xc7\\xe3\\x8a\\xcd\\xf3\\x16bW\\x95\\xe7\\x9fz\\x1b\\x1aW-\\x03\\xe6\\x13\\x9f\\xc2\\xa4\\x11*\\x80\\xe7\\x81\\x9a\\x8e\\xca\\x13\\xe6\\x17v$\\x0e\\x00\\xf5\\xad!\\x02\\x00e|\\x95\\x1ft\\x13\\xde\\xa7q\\xecV\\x8e\\x10\\x7fx\\xdc&r\\x07\\xad-\\xc4\\xac\\xf1\\xe1\\x07\\x0b\\xd3\\x14\\x93\\\\,\\x87\\x9e=\\x052(\\x89`\\xd2\\xe5W\\xb0\\xf5\\xa7\\xb0\\x11\\xc6B`\\x90K\\x13\\xde\\xa61\\xb6\\xe0\\xf2\\x0c\\xaf\\xa7\\xbd\"\\xe1\\xa6\\x18\\x1f.}j\\xc3\\xfc\\xf2m^\\xde\\xb4\\x80#\\x89[\\xe6\\xc1U=\\x85I\\x8bu\\xe3\\xd3\\xde\\xa0i\\x88\\x95S \\xf6\\xe2\\x98\\xf2|\\xe7\\xebTK#\\t\\xf3\\r\\xc7\\xaf54\\xa3\\xf7_#g+\\xc9\\xa8\\xa4a\\x1e2r\\x0f=)\\x89\\xb8\\x9d\\xcd\\x9c\\x1e\\x94!\\x881#\\r\\xd9\\xdd\\x8e\\x86\\xae,\\x1ba\\x05\\x87\\x1di\\xb9U\\xe5@\\x1cw\\xf5\\xa8\\x9a\\xf0H\\x00c\\x86\\xe9\\xc5 \\xdc\\x90]*c\\xe4\\xc6:\\n\\x82D\\xdd!v;A<{S\\xb6\\xe0\\xee-\\x90zR\\xe5O\\xde8\\xc7JCBG\\x9eY\\t(8\\'=i./N6\\x05\\xcf\\x1c\\x1fJF}\\xccv\\xe4\\x01\\xd6\\xab\\x98\\xcd\\xc4\\x9eZ\\xb8^\\xf9=\\xe9\\xb7`z\\x91\\xf9\\xc3\\x8e\\x031\\xe7\\xf0\\xa9\\xed\\xe1R\\xac\\\\\\x03\\x93\\xc05E\\xa2t\\xb99<\\xf4\\xad\\x04qn\\xa3w/\\xd8T_R\\xad\\xa1n(B\\x10\\xe7\\x0b\\x81Q\\xdd]4\\xc0\\xa4L\\x0e*\\x16\\x9aW\\xe1\\xc8\\xdb\\xe9N\\x8e.\\x17h\\xc7\\x19\\xaa\\xb96\\xee,Q\\x80\\x81\\xd8e\\x87\\xe9R\\x80n\\x18\\x0c\\x16\\xc5*\\x8d\\xfd]z\\xe7\\xaf_\\xadH&\\x8e\\x05\\x1b1\\x8f\\xe2\\x02\\x9a\\x13drD\\xb0\\x83\\xb7\\xaf\\xd2\\xa2Y\\x87\\xcc\\xb8\\x04\\xfa\\xe6\\x96y!\\x7f\\xf9i\\xb4\\x11\\xc0\\x14\\xc8\\x93,\\x00#=hcL\\x922A\\xda\\xa0n51\\xb4\\x0cw3\\x1d\\xc7\\xaf\\x14\\xe5\\x01Tm\\x00\\x9e\\xed\\x9ax\\xcb\\x0c\\xee\\xebT\\x89l\\xca\\x88\\x89\\xa6\\xc3;\\x11\\xdcU\\xf9\\nF\\xbbP\\x1cc\\xa5VU\\x8a\\xd4oe\\xc3\\x11\\xf9\\xd2\\xa4\\xea\\xe7$\\xe2\\xa1\\r\\xf9\\x0e\\xde0A\\xc7N3\\xebU\\xc2)b\\xc4d\\xf7\\xab2$r\\x1e;{R\\r\\x81wt w\\xa1\\xa0D*\\xde_ g=h\\xc3\\xb3\\xed#\\x04\\x7f*q\\xdc\\xec\\n|\\xde\\xd5)gT\\xc7\\x1b\\xcf^(C+I!T+\\x8e\\x87\\x9a\\xa9)\\xc4\\xa0\\xe7\\x02\\xae\\xcb\\x8d\\x8b\\x8co\\xdd\\x92\\x058\\xa2\\x94.\\xe4&z\\nL\\n\\x12\\xb4q!\\x907=\\x85G\\x04\\x8f1\\x0e\\x0b\\x16\\xfeU^\\xed\\x0c\\x92n\\x19\\xc0\\xee*\\xd5\\x97\\x9f\"\\x84U\\n\\t\\xebJ\\xc6\\x9aX\\xbd\\n\\x12\\xc3\\x9e\\x9c\\xf3V\\x9b\\t\\x19W`r8\\x14\\x89\\x10Efb:~\\xb5\\x19\\x93\\xef\\x06\\\\\\x90p\\xb5D^\\xech\"\\x11\\x94Ps\\xc6)\\xcbp\\x14|\\xcb\\x83\\x8e\\x94\\x80\\xa8?9\\xf9\\x8f\\x00P\\x1bcg\\x86\\xcfZ\\x15\\xc1\\x92E\\x12\\\\\\xc8Z@B\\xaf_\\xa5\\x12\\x08\\x1eM\\xb1!\\n\\x00\\xe7\\xb9\\xa9\\xd1C\\xa8\\x11\\xf0H\\xe4T-\\xfb\\xb6(\\xcaA\\xcd;\\x129\\xa1\\x8a4\\xef\\xf9\\xd36\\x8e\\xd9\\xa4y\\x14\\xb0Fo\\x95EX\\x17\\'\\x1f.1\\xdb\\xe5\\x14\\xc2\\xc6m\\xdb\\x99d\\xc0\\x1c\\n\\xae\\x8c\\xcb!\\xc98\\xf4\\xab\\x11\\r\\xe0\\x9e3S,j\\x8aK\\x0f\\x98\\xd4\\x15\\xb1\":\\xf9c+\\xf3\\x0e\\xf5\\x1a\\xae\\xd9\\x0b\\xb1\\xc0\\xec\\xa4f\\x958M\\xd9\\xc7\\xa0\\xf5\\xa7\\xa4R\\\\\\x11\\xbf\\xd6\\x98\\x829X\\x93\\x85\\x19=N1\\xc5?8\\xf9\\x13\\r\\xeajG\\x91b\\x89\\xa3X\\x81s\\xdc\\x9a\\x84H\\xc8\\xa4\\x93\\x83\\xf4\\xa6K${e\\x8c\\x06\\x93\\xe5~\\xa0U\\x06\\x7f:B\\xc4\\x10\\x01\\xfc\\xfd\\xaa\\xcb9\\x94e\\xfe`;\\xfa\\xd4K\\x18rA\\xc8\\x06\\x93E\"\\x92!26\\x13\\x8e\\x83\\x8a\\xd2\\xb7\\x8d#\\xe7\\x00\\x8ad\\x16\\x7f\\xbe\\xdd\\xbd\\xb1\\x8a\\xb3*\\x85m\\xa81\\x9aIj\\x0eDr1b\\x14~\\x1c\\xd3N\\xd4\\x00\\xe0\\x97>\\xf5:B\\x11Is\\x97\\xc7\\x14\\xdf(\\xed.\\xdcU\\n\\xe5y\\x143n\\xc6\\x0f\\xd6\\x96\\x11\\xcf\\xcc8\\x1dM<\\xb3\\xb2\\x15\\x18\\x0b\\xefP\\xc8v\\xa8\\x00\\xed=\\xcd\\x1b\\x0c\\xb2\\'\\xf3\\x18\\xa8l\\x0e\\x83h\\xa2y\\x19\\xa3U\\'%{\\xf7\\xaa\\xb1>$\\xd8\\xa0e\\x863S\\x14\\')\\xbb\\xa7SG0Z\\xcc\\x88D\\xaf %\\xb2GZ\\xbf\\xf61\\xd8\\x8f\\xce\\xa3\\xb6\\x865\\x04\\x93\\x9cr3\\xdc\\xd3\\xcc\\xfc\\x9f\\xdd\\x1a\\x107\\xd8\\xa1\\xe6\\x06\\xe1p\\x00\\x14\\xe2\\xc0(f\\x1c\\xe3\\x81Mh\\x91\\x0e:\\x9a\\x92\\x08\\xd9\\x1b|\\x8c\\x08\\x1d\\x01\\xf5\\xa9\\x18\\xb6\\xf13?\\x996Uz\\x80i\\xeft\\x0e\\xf5Q\\x9c\\x0e\\x9e\\xd4\\x92\\xcadn\\xff\\x00\\x85Rd\\x90\\xc8\\n\\x9c\\x03\\xd6\\xabanY\\x85\\x90\\x90rIa\\xce{R\\xc8\\x04\\x8d\\xb1\\x0e\\x00\\x1c\\x9fZ\\x8c\\x00!\\x08\\x83\\x07\\xb9=\\xea|\\xee\\x85a\\x03\\x0c8\\xc8\\xa5{\\x85\\x86+\\xaa\\xc8\\xab\\x9e\\x00\\xeai\\xe8\\x82Ip\\xad\\xc7j\\x89\\xa2\\x91d\\n\\x06MZS\\xe4\\xa0\\xc7-\\xdc\\xd5!\\x0e\\xc7\\x923\\xdcST\\x96}\\xc7\\xafjD\\xddprx\\x19\\xe4\\xd1<\\xd1\\xc4\\x02\\x83\\x90:SB\\xb1&2\\x0b\\x1c\\x9ej\\x0c\\xb9r\\xa7\\xb7jj\\xbbJ~Rv\\xd4\\xfbs\\xcf\\nhaa\\x15P\\x9d\\x8d\\xf2\\xff\\x00\\xb5\\xe9U.Uw\\x88\\xd2M\\xc4\\xf7\\xc5O3\\xc6\\x88y%\\xbb\\xd5R\\x9b\\xd07F\\xfa\\xd4\\xb4T{\\x91\\x80\\xe6p\\x1b\\x90\\xbc}j\\xe4j\\xcd\\x92\\xc3*\\xbf\\xc3I\\x05\\xb9\\xf2\\xcb\\xb8 \\x0f\\xe2\\xa4b\\xc0\\x1d\\xacx\\xf6\\xa9\\xb0\\xd8\\xaf02s\\xd7\\xd2\\x8d\\xd2\\xb7 pimLj\\xe7x\\x0c\\xf8\\xe8{U\\x8d\\xc9M\\t\\x91\"d\\x968\\x0czd\\xe2\\x98\\xccW\\xe5 \\x01\\xde\\x96~\\\\\\xf4,\\xa7\\x19\\x1d\\rE\\xb4\\xc8q\\xe9\\xc9\\xa7\\xb0\\xb7\\x1cr\\x1b\\x03\\xe6\\x15(!\\x14\\x8d\\xa3=~\\x94\\xd1\\x84@x\\xa9#\\x89\\xdb\\r\\'\\t\\xd4P\\x04Q\\xc6db\\xdd\\xf3\\xd3\\xd2\\xa4e\\x8c\\x1cF2q\\xf3q\\xdf\\xd6\\xa4\\x9aN6\\xc40\\x07z\\x83yC\\x85\\xc0c\\xd7\\xde\\x90\\x12F\\x15\\x07R[\\x18\\xf7\\xa6\\xb2\\x99\\xa4\\xc0\\x04\\x0c\\xe4\\xf3\\xd6\\x93\\xceipYTc\\x8c\\x8aWr\\x14*\\x8cz\\x9aw\\x0b\\x12Hs\\x11\\xd9\\xd11\\xf2\\xd5UQ$\\x8d\\xb9\\x00\\xc8\\xe0\\xe6\\x9e%l\\xec@9\\x1c\\x9akF#9\\xdd\\x9c\\xf6\\xa6\\x98\\xecH\\xaa\\x17\\xa6>\\x82\\x99,\\xa7p\\xef\\xdb\\x14\\xc3.\\xd0W\\x9cf\\x9f\\x1e\\xd2C\\xb9\\xe0\\xf3\\x8a\\x00H#\\x91\\xce\\x00\\xc9=\\xbd*\\xc7\\x96\\xb0\\xe3z\\x86>\\x99\\xa9\\x15e\\x920\\xd0\\xe1\\x14\\xf5>\\xd5\\x1e\\xd5\\x8c`6\\xe6=X\\xd1q\\x0ex\\xdad\\xdd!\\xc4}\\x86j\\xb9\\x924\\x8cE\\x86\\xcer1\\xe9S;3\\x80\\x15\\xb0\\xbd\\x85D\\xb6\\xee\\xd79`\\t\\xc5 \\x08\\xe2\\x0cr23\\xd4\\x9a\\xb5\\xf6\\xa1\\x17\\xee\\xf6\\xa9\\xdb\\xc6j\\tfUp\\x8as\\xd8\\xd3\\x97iQE\\x81\\xea@\\xfby\\x1c\\xe75.R\\x15\\x05O$r;T/\\xcc\\xc6\\x91\\x893\\x0c\\xff\\x00\\x9ei\\xdfP\\xb1,0\\x19d,\\xe3\\x00\\x0c\\x81\\xebN\\x92Vc\\xb4\\x1f\\x94S$b\\x14s\\xde\\x9c\\xdd\\x07\\xba\\xd2\\x00\\x1c\\x81Q\\x18\\xd8\\xb9 \\xfc\\xa3\\xb1\\xa1\\x89\\x08\\x0ei\\xf1\\x92\\x07^\\xd4\\x0cH\\xd0\\xb1;\\x98\\x04\\xa7\\x942\\x8c!\\xe9\\xfc\\xaaY\\xd4,*\\x00\\xc04\\xd7\\xf9 \\xf9x\\xe0Qa^\\xe4\\x13\\xca\\x96\\xea\\x14/=\\t\\xa6\\x19|\\xc0\\x0e*\\t\\xfefPy\\x1c\\xd4\\x96\\xbf6s\\xcd2\\x87\"nb\\xe4|\\x83\\xa7\\xd6\\xadA\\x1a\\x96\\x0f\\'\\xdd\\x1c\\xe2\\xab\\xe7\\x04b\\xb4\\xec\\x80o\\xbc\\x01\\xc0\\xf4\\xa0M\\x91]^*\\x80\\x91\\x0cdt\\x15X0\\x89w7,y\\xc7\\xa5\\x13(\\xf3\\xa48\\xe4\\x13P\\xb7+I\\xb1E\\\\\\x90\\xc8\\xceC\\x9e@\\x1c\\n2\\xf2\\xc86\\xb9\\x00\\x0cd\\xf7\\xa2?\\xf5x\\xa8_\\xfd]\\x17*\\xc4\\x9b\\x1a9J\\x908\\xf4\\xefR\\x0b\\xd7^\\x0e\\xd3\\x8a\\xa8?\\xe3\\xdf9=i)\\\\,\\x7f\\xff\\xd9'}"
        ],
        [
         "1",
         "ISIC_0015845",
         "0",
         "IP_8170065",
         "60.0",
         "male",
         "head/neck",
         "1.1",
         "TBP tile: close-up",
         "3D: white",
         "31.71257",
         "25.36474",
         "26.331",
         "24.54929",
         "41.21903",
         "35.29926",
         "39.70291",
         "44.06404",
         "48.86152",
         "55.36236",
         "0.9194971",
         "12.23529",
         "0.0",
         "6.34783",
         "1.781713",
         "-6.500838",
         "6.839008",
         "4.987244",
         "0.639885",
         "Head & Neck",
         "Head & Neck",
         "0.8219178",
         "1.334303e-07",
         "2.116402",
         "0.0",
         "3.354148",
         "0.0",
         "0.8532267",
         "3.912844",
         "0.2857143",
         "55",
         "-0.07830811",
         "1575.687",
         "57.1745",
         "Memorial Sloan Kettering Cancer Center",
         "CC-BY",
         "IL_6727506",
         "Benign",
         "Benign",
         "",
         "",
         "",
         "",
         "",
         null,
         "3.141455",
         "{'path': None, 'bytes': b'\\xff\\xd8\\xff\\xe0\\x00\\x10JFIF\\x00\\x01\\x01\\x00\\x00\\x01\\x00\\x01\\x00\\x00\\xff\\xdb\\x00C\\x00\\x08\\x06\\x06\\x07\\x06\\x05\\x08\\x07\\x07\\x07\\t\\t\\x08\\n\\x0c\\x14\\r\\x0c\\x0b\\x0b\\x0c\\x19\\x12\\x13\\x0f\\x14\\x1d\\x1a\\x1f\\x1e\\x1d\\x1a\\x1c\\x1c $.\\' \",#\\x1c\\x1c(7),01444\\x1f\\'9=82<.342\\xff\\xdb\\x00C\\x01\\t\\t\\t\\x0c\\x0b\\x0c\\x18\\r\\r\\x182!\\x1c!22222222222222222222222222222222222222222222222222\\xff\\xc0\\x00\\x11\\x08\\x00\\x7f\\x00\\x7f\\x03\\x01\"\\x00\\x02\\x11\\x01\\x03\\x11\\x01\\xff\\xc4\\x00\\x1f\\x00\\x00\\x01\\x05\\x01\\x01\\x01\\x01\\x01\\x01\\x00\\x00\\x00\\x00\\x00\\x00\\x00\\x00\\x01\\x02\\x03\\x04\\x05\\x06\\x07\\x08\\t\\n\\x0b\\xff\\xc4\\x00\\xb5\\x10\\x00\\x02\\x01\\x03\\x03\\x02\\x04\\x03\\x05\\x05\\x04\\x04\\x00\\x00\\x01}\\x01\\x02\\x03\\x00\\x04\\x11\\x05\\x12!1A\\x06\\x13Qa\\x07\"q\\x142\\x81\\x91\\xa1\\x08#B\\xb1\\xc1\\x15R\\xd1\\xf0$3br\\x82\\t\\n\\x16\\x17\\x18\\x19\\x1a%&\\'()*456789:CDEFGHIJSTUVWXYZcdefghijstuvwxyz\\x83\\x84\\x85\\x86\\x87\\x88\\x89\\x8a\\x92\\x93\\x94\\x95\\x96\\x97\\x98\\x99\\x9a\\xa2\\xa3\\xa4\\xa5\\xa6\\xa7\\xa8\\xa9\\xaa\\xb2\\xb3\\xb4\\xb5\\xb6\\xb7\\xb8\\xb9\\xba\\xc2\\xc3\\xc4\\xc5\\xc6\\xc7\\xc8\\xc9\\xca\\xd2\\xd3\\xd4\\xd5\\xd6\\xd7\\xd8\\xd9\\xda\\xe1\\xe2\\xe3\\xe4\\xe5\\xe6\\xe7\\xe8\\xe9\\xea\\xf1\\xf2\\xf3\\xf4\\xf5\\xf6\\xf7\\xf8\\xf9\\xfa\\xff\\xc4\\x00\\x1f\\x01\\x00\\x03\\x01\\x01\\x01\\x01\\x01\\x01\\x01\\x01\\x01\\x00\\x00\\x00\\x00\\x00\\x00\\x01\\x02\\x03\\x04\\x05\\x06\\x07\\x08\\t\\n\\x0b\\xff\\xc4\\x00\\xb5\\x11\\x00\\x02\\x01\\x02\\x04\\x04\\x03\\x04\\x07\\x05\\x04\\x04\\x00\\x01\\x02w\\x00\\x01\\x02\\x03\\x11\\x04\\x05!1\\x06\\x12AQ\\x07aq\\x13\"2\\x81\\x08\\x14B\\x91\\xa1\\xb1\\xc1\\t#3R\\xf0\\x15br\\xd1\\n\\x16$4\\xe1%\\xf1\\x17\\x18\\x19\\x1a&\\'()*56789:CDEFGHIJSTUVWXYZcdefghijstuvwxyz\\x82\\x83\\x84\\x85\\x86\\x87\\x88\\x89\\x8a\\x92\\x93\\x94\\x95\\x96\\x97\\x98\\x99\\x9a\\xa2\\xa3\\xa4\\xa5\\xa6\\xa7\\xa8\\xa9\\xaa\\xb2\\xb3\\xb4\\xb5\\xb6\\xb7\\xb8\\xb9\\xba\\xc2\\xc3\\xc4\\xc5\\xc6\\xc7\\xc8\\xc9\\xca\\xd2\\xd3\\xd4\\xd5\\xd6\\xd7\\xd8\\xd9\\xda\\xe2\\xe3\\xe4\\xe5\\xe6\\xe7\\xe8\\xe9\\xea\\xf2\\xf3\\xf4\\xf5\\xf6\\xf7\\xf8\\xf9\\xfa\\xff\\xda\\x00\\x0c\\x03\\x01\\x00\\x02\\x11\\x03\\x11\\x00?\\x00\\x91\\xe1q<R\\xa9\\xc2\\x8c\\x93W\\x0b\\x06\\\\\\xf2I\\xa4x\\x94pA\\xa6\\xe7p\\xc8?w\\xb5p\\x9e\\xd5\\xc8Lr.\\xf29\\x18\\xcf\\xd2\\xa6\\xb4\\xc1\\xb7\\x0e\\xc3\\x93\\xd7\\x14\\xf5R\\x13\\xebQ\\xc1#B\\xed\\x00\\x00\\xee\\xce\\x0f\\xa5\\x0b\\xb8\\\\\\x1d\\xd5.\\x0e\\xdeB\\xaf\\x1fST\\xdf\\xf7\\x97`\\xf5\\xda?Z\\x9a`\\xb0+\\xb6I\\'\\x9a\\x86\\xc9\\x0f\\x9aY\\x86\\x19\\xc7J.!\\xf2\\xb6\\xd5\\xcf<z\\xd4q\\xa3\\xc5\\x19g\\x1f3sSJ\\xbb\\xa5U9\\xf9\\xce)5\\'1\\xda1\\xe8\\xc0P\\x06n\\x9a\\xdf\\xbe\\x95\\x80\\xfb\\xcekR\\xe5\\xff\\x00\\xd1\\x8a\\x93\\x8cr}\\xeb;K_\\xdc)\\xc6[=\\xabJ\\xf5C\\xd9\\xf0\\xb8a\\x9c\\x9ae\\x12\\xeeh\\xadWfr\\xd89\\xf65$,\\xeb\\x11,~w=}*\\xbd\\xbb\\x13\\n\\xf0Y\\x80\\xe3\\xd8T\\xe5\\x8a\\xdc\\x82~\\xe0\\x1d\\xe9\\x03\"\\xbaP\\x03\\xb0\\xe8\\xa2\\xa2\\xd3\\x94\\xa0r\\xe3\\xdf&\\x9d|\\xe7w\\x96\\xa7\\x87<\\xd3\\xf8H\\xf6\\xf07c\\x91H}\\x07o3J9!zf\\xa2\\x98yj\\xc5O|b\\xac\\x14\\xcf(\\xa7\\x18\\x00\\x1ak\\xdb\\xf9\\x92\\xe3\\x9cc=h\\x02K\\xd9Dv\\xcaw\\r\\xe4\\x81\\x8aV\\x87j)\\xcf\\xcd\\xd6\\xaa\\xb34\\xf71\\xae2\\x14\\x82M[\\x91\\x8e\\x00n\\x08\\xe34\\xc8\\x103p\\xb8\\x18\\xf5\\xcdF\\xc5#\\xba\\x12z\\xf0hRwc\\xb94\\xdb\\x8c&\\xd3\\xd7\\x9a\\x00\\xaf{\\xb8\\xca\\x91\\xa9\\xe1\\x9b\\x93\\xedR\\xe33u\\x1c\\x0e\\xb5\\\\\\xb7\\x99r\\xce\\x1b;F\\x16\\xa6T\\x08ws\\xcf&\\x81\\x88\\\\\\x9b\\xa5\\xe4\\xe1Gj\\xad\\xa9\\x93:4k\\xd4\\x0c\\x93\\xedV\\xe3eVw\\xc19\\xe0UD\\xdb+L\\xd8\\xcf\\xf0\\x81B\\x11\\x16\\x94\\xc2)\\xcat+\\xc8\\xcdk^\\x00\\xb0\\x1c\\x00\\x06;V$\\x0e\"\\xd4\\xc0\\xdaIq\\xb7\\x19\\xad\\xa9\\xc0xV>\\xec@\\xa0lXW\\x10\\xa1\\xc1\\\\\\xf1\\xc7z$*\\x8c\\x0eA`y\\xcdL\\xc4\\xed\\x8dq\\xf7F\\x05e^e\\xa7\\x11\\x0cn~M\\x17\\x05\\xab\\x17\\xcc3]\\x17\\xc7\\n1I3\\x93<`\\x1c\\x14\\xe4\\x83S\\xc2\\xa1b\\xda:\\xf7\\xaa\\xf3[HP\\xbfr:\\xd24V5\\xa1\\x94yeI\\xe0\\x0c\\xd3c\\xdecg\\xce[<\\x8fJ\\xa9i\\x90\\xe0?9Q\\x9c\\xd6\\x90R\\xd1l\\x18\\x189,(D=\\n*\\x16(\\x82\\xa8\\xc3\\x13\\x82I\\xab3\\xed\\xda\\x00\\xfa\\xe6\\xaaG\\x87\\x8f\\xe7\\xe1\\x8fL\\x9a\\xb5\\'\\xfa\\xb2\\x1b\\x82\\x07J\\x11/q\\x8a\\x02\\x82Y\\x80\\xe3?Z\\xadp\\xc4\\x82\\xe0a@\\xe8j2K\\x96RO&\\xa6\\xb8\\xc7\\xd9\\xc63\\xd2\\x8d\\xc62\\xda\\x05\\x16\\xc0\\x95\\xe4\\xf2}\\x8dM>V!\\xb3\\x194\\xfbe\\xdb\\x16\\xd6\\x1c\\xe3\\x91P\\xdc\\x02[!\\xba\\x0c\\x0cS\\x11\\x0b\\xb7\\x93f\\xad\\x9f\\x9c\\xf4\\x1e\\xb4\\xc8\\x94E\\x11R2\\xcdQ\\x19\\x1a[\\x88\\x90\\x12\\xc12N;U\\x89\\x17\\x04\\xe0\\xf1\\x9e\\xb4\\xc2\\xc6r\\'\\x99\\xa9\\xae{\\x0f\\xca\\xb7B\\xe3\\xcbvl\\xed8\\x07\\xd2\\xb1\\xa1\\x05\\xef\\xe4Q\\x82q\\x8c\\xd6\\xf4\\\\\\xc6\\x8b\\xc1\\x00|\\xde\\xd4$6\\xc4\\xc9\\xdc\\xccG\\x07\\xe6\\xac\\xa8A\\x9e\\xfaIs\\xf7N\\x05_\\xd5$h-7\\x03\\x86\\xe8\\x07\\xaej\\x0bx|\\xabRy\\xdd\\x8d\\xc6\\x93\\x1a-\\xa2,v\\xae\\xc4r{\\xd3\\xdd\\x13\\xec\\x85\\xf8\\xcf@*\\xb7\\x9a\\xfb6\\x06\\xcex\\xfaT\\xf2\\xf1\\t\\xe3\\xe5 c\\xebH\\x06\\xc4\\x8a \\x8c\\x1eI\\xfeU,\\xd2\\x8bX\\xb6\\xe3\\'\\x8a\\x83\\x90\\x15A9\\x03\\x1cTW\\xe7\\xcb\\x8dcu\\xe4\\x9c\\xe4\\x9c\\xe6\\x8b\\x81\\x14hZ\\xe5Ns\\x81\\xc05vH\\xcb7q\\x9e\\xd4\\xc7\\xb7\\x02`\\xc8x\\xc7Z\\xbaFv\\xab\\x10\\x0f\\xf0\\x93\\xe9E\\x89l\\xccX\\x94<\\x84\\x8c\\x8f\\xe5E\\xc3\\x80\\xd0\\xa8^\\xe0\\x9czT\\x92.\\xdd\\xec\\x0f>\\xb5\\x0b\\xe5\\xe0\\x13g\\xe7`:t\\x02\\x9d\\x86[\\x95\\xd8\\\\\\xb3\\x01\\xc68\\xaa\\xb2\\xfc\\x85\\x8b\\x1e\\xa3\\xa1\\xa6\\x99\\xa5u\\xc69\\x03\\x06\\xab\\xeaR\\xec\\x864\\r\\xf37Q@Xu\\xa2\\x04\\x88\\xce\\xdc\\x16c\\x83R\\xe5d\\x1f)\\xe0\\x0c\\x9a\\xab\\x1f\\x993.\\xe2B(\\xe9\\xdb\\x14\\x92J\\xa8\\xc5P\\x12=\\xe9\\xb3NQmT\\x0b\\xb9$\\xdd\\xb4\\xfaV\\xdd\\xb4}\\x0b\\x1e\\x0f5\\x87e\\x89.Y\\xf9*\\rn\\x99\\x82\"\\x91\\xc8\\x14#9\\x19\\xda\\x94\\x82[\\x88m\\xf3\\xca\\x9d\\xc6\\xad8\\xf2m\\x00a\\xfb\\xd2~\\\\\\xfaU\\x15\\x02m]\\x9d\\x87\\xca\\xa2\\xb4\\x9b\\x12|\\xf2r\\xc7\\xf4\\x14\\x9e\\xa3\\xd8\\x86\\x03\\x99\\x15wu U\\xa9\\x15e-\\x1a\\x91\\xb1O<\\xd4\\n\\xe0H\\xcc\\x14aH\\xc7\\x15aJEl\\xd9O\\x99\\xfb\\xe7\\xa5$\\x0c\\x89Fn\\x18`m\\xaa\\xda\\xbb\\x0c\\xa6;w\\xab\\x0c\\xc1Pl>\\xe4\\xd5\\x0b\\xc47JF\\x0f-\\x9c\\xfaRo\\xa0\\x1a\\xc5ARA;z\\n\\x85\\x98\\xbe\\xd6~\\xdcS\"\\xb8\\x8d\\xa2(\\xa4\\x8c\\x0c0\\xa8\\xe4\\xb9\\n@\\x03,\\xdd\\x05;\\x93a\\xb7\\x84\\xf9%T\\xe0\\x9e\\xc3\\xd0\\xd4!\\xd8\\x01\\x18\\x1f(\\xa9]_\\'?|\\xd4\\xde@H\\xf2\\xc7\\xe6#$\\xd025\\x1f1f\\xea{VV\\xa0<\\xcb\\xd1\\x8c\\x92\\xa3\\x9a\\xd4\\xb8\\xddlW\\x001\\x03?Z\\xcb\\xd3\\xf7]js4\\xbc\\x1e\\xc2\\x9d\\x8a\\x8e\\xe4\\xea[\\xec\\xca\\xb8`\\x0fA\\x8aa\\x81\\x8f\\xcd\\x83\\x9e\\xa4V\\xbc\\x90\\x89&]\\xac\\xa5Pt\\xfe\\x94\\xb7\\x91\\xc4\\xa9\\xb99\\x18\\xc1\\xfa\\xd5=\\x8a\\xe734\\xf5\\x8e;D\\xda7L\\xf2\\x1c\\x03\\xe9Z\\x97L\"\\x8b\\x9c\\x16\\xc7QY:j~\\xfd\\xc89\\xdax\\xabz\\x84\\xc8\\xf0\\xa1\\x8d\\x8e\\xfe\\x8c=\\xeang\\xd4\\x83O\\x0ce\\x95\\xcfS\\xc5j\"\\x81\\x1b3t\\xc6*\\xae\\x9c\\x89\\x1c@7\\xde8\\'=\\xea\\xd4\\xe3d|u\\xf4\\xcfj\\x06\\xf7\\x1b\\x04\\x8a\\xc1\\x9c\\xa7\\xdd\\xecj+\\x89\\x16]\\xbf+\\x00\\x05\\x11\\x03\\x04r\\x0e\\xa3\\xa9\\xa7\\xca\\x86+M\\xc5\\x81f\\x19\\xc7\\xb5H\\x11Jw\\x14\\x8e\"NO5$\\xfba\\x8c) \\x13\\xd8\\xd4v.\\x8a\\xdb\\xdf\\xb0\\xe4\\xfb\\xd4\\x97\\x90\\x99J\\xb1Pq\\xda\\x90\\xca\\xa5\\x08!\\xc0#\\'\\x9fz\\x84\\x80\\xf3.\\t\\xdc\\x9c\\xe6\\xac\\xdd\\xba[\\xc6\\x8d\\x92s\\xc8\\x02\\x9bg\\x1a\\xfd\\xe7?3\\x12~\\x95]DN\\xcc\\x03)\\xceA\\x1cSg\\x95\\xf1\\x8e\\xd4\\x91\\x1f\\xde\\x95# t\\xe2\\xa3\\x91\\xbc\\xc9vFp\\xa395L\\x03\\'\\x96v\\xc9\\xc7SU-\\x81\\xb6\\xbb\\x8a\\xec\\x0c\\xfc\\xf9#\\xd4f\\xad\\xca\\xacP\\'_\\\\\\xd2I\\x08\\x16\\x98\\xeb\\xc7JW\\x03b\\xf0Z\\xc9+Om\\x94brW\\xb5e\\xdd\\x92\\xb1\\xb1s\\xfc$\\xfe5v9\\x94\\xdaDR<\\x9d\\xb8nk+S\\x90\\x9bw^s\\xd0U7rP\\xdd2\\x10\\x96\\xa4\\xbb8rs\\xc0\\xa6@<\\xeb\\x87bxRp*\\xd1\\x94\\xc7\\xa7\\x86\\x00d\\xf0\\r3O\\xb6a\\xf3\\xb8\\'95,h\\xb6\\x8a\\xc6E\\xdf\\x80\\xbd\\x01\\xf4\\xa5\\x94\\x12_h<t\\xa9$? A\\xca\\x86\\xdd\\x9fJtr\\x18\\xd8\\xe5F\\xd0\\x0e3Hd\\x0c\\xc1\\x11\\x97vC\\x8c\\x0f\\xad+oKA\\xbb\\x928\\xc1\\xa7\"\\x06\\x1b\\x8ep9\\x1ct\\x14\\x86h\\xeeSdd2\\xf7\\xc7jL.2\\xdd\\x03\\xc5\\xb9\\xb8\\xc6x\\xab`\\xaaF\\xa5\\xf3\\x9cu\\xa7C\\x1a(+\\xc1\\xf9z\\xfaT*\\x1aGl\\x80Pq\\xcfsOa\\x19\\xcc\\x0c\\xd0\\xa8,\\t\\'\\x8fQS\\xc1\\xb61\\x86\\xe3=}\\xea\\xad\\xa2\\x88\\xd0\\x96\\'9\\xe0U\\xd7\\n\\xaa\\xa4\\xe0\\x7fZ\\x06U\\xb8\\xb8\\xfb<\\xceI\\xf9\\x98\\r\\x8bV#A\\xf6xI\\x18\\xe7,}sU\\x06$\\xbf\\x8aiSrg\\x04U\\xf7\\x97k\\xbe\\xc5\\x01{S`\\xc5p@\\x0c:\\x0eA\\xa6LD\\xa4\\xa2t\\x03\\xa6)~c\\x1bd\\xe7\\x8eE60\\x0c;\\xd7\\xa1\\xe0\\x13\\xd6\\x81\\x04r4P\\xf9!F3\\x90s\\xfaUM\\\\0\\xb2w\\x03\\xef\\x0e*\\xd1]\\xc9\\xb4\\x9e\\xa7\\xf9\\xd5]u\\xfc\\x9d=\\x90\\x9c\\x80>Q\\x9a`5G\\x9a\\xd6\\xf6\\xa1p!A\\xbb\\x9e\\xa6\\xb4\\xe0\\xdb\\xe7\\xb0\\xfe\\x10\\x07\\x15\\x99\\xa5\\xa01\\xac\\xa7\\x82qZR\\x0c\\xc8@\\x18\\x18\\xe4\\xd2\\x02\\xbc\\x8c\\xe5\\xdc\\x02B\\x93\\x81\\x8a\\xb3\\xb0\\xc9\\x12\\x82\\xc3q\\xe3\\x8a\\x8c:\\x12\\x01\\x00\\x10i\\xe1\\xf63\\x9e\\x00\\xf4\\xa9\\x19$\\'\\xcb\\x04\\x1e\\x98\\xaa\\xa6\\x05k\\xc1$\\x03\\xcb\\x98\\x8c\\xe7\\xb3}EX\\xdd\\x98F\\x078\\xebO\\xb7Q\\x1c\\xca\\xec\\x0e\\xe3\\xef@\\x9a\\x1c\\xb3,\\x84\\xc6\\xe9\\xe5N\\xa3\\xe7_\\xf0\\xf6\\xa4P\\x91\\xc0{\\xb9l\\xe2\\xa0\\xd5$\\x12\\xb2\\xca\\x84\\xfd\\xa18V\\xfe\\x86\\xa6\\x84\\xad\\xc5\\xb0\\x93\\xa4\\xcb\\xc3 \\xfe\\x1ao\\xc8\\nN\\x81X\\x05\\x1fCMU3(f$g\\x80*\\xc36\\xe9\\x0c#\\x82Fr;Tl6\\x15\\x04\\xfc\\xab\\xc7Ji\\x02\\x18\\x91\\xe2\\xf6\\x18\\xdb\\x95\\x04\\xe7\\x154\\x99\\xc7\\xcb\\xc8\\xc9\\xedU_\\rx\\x85I\\x00\\xd5\\xdc\\x84P\\xa7\\xef/\\x7fjCce;b\\xc61\\xc5\\x03\\x08\\xa9\\x19`@\\x15Zw2\\xb6\\xd0H\\xdb\\xfa\\xd5\\xb6\\x03\\xcbV@9\\x039\\xa6\\x84@\\x8a\\xady\\x14nH^Mek,Zx\\xe1\\x07 \\x9f\\xd2\\xb5b\\x06C3\\xe7\\x9085\\x8c3>\\xa9\\xeb\\xb7\\xaei\\xf4\\x04m\\xdaF#\\x8a2@\\xc7B*\\xc3\\xc4\\xce$l\\x80\\x00\\xfc\\xea)1\\x1cqc\\xbb`\\n\\xb3p[\\xec\\x86 \\x00l`\\x91HW(\\x94\\x08\\xab\\xc6O\\x06\\x92\\x11\\xf6\\xbb\\xad\\xed\\xc2\\xa8\\xc7\\x1d\\xeaK\\xa8\\x04~Z!;\\xa4\\xe3\\xf4\\xebV\\x8d\\xbe\\xc8`\\x8f<}\\xd2~\\xb5)\\x14\\xd8`\\x00cU$v&\\x9c\\xe4\\xa2\\xa8\\xfb\\xa4\\x0c\\xe7\\xd6\\x9a\\xb2\\x00\\xcd\\x1b\\xe7*p1\\xde\\x92bV\\xd9\\xc1?ux\\xa6$E\\x1a\\x8b\\x86g<\\x12z\\xd3$\\xb7\\xb8\\x88\\xac\\xf6\\xad\\xfb\\xceA\\x1d\\x88\\xa9\\xe1\\x88\\x8bP\\xd9\\x19\\xc5K!>J*\\x9eO4\\x86\\xcf\\xff\\xd9'}"
        ],
        [
         "2",
         "ISIC_0015864",
         "0",
         "IP_6724798",
         "60.0",
         "male",
         "posterior torso",
         "3.4",
         "TBP tile: close-up",
         "3D: XP",
         "22.57583",
         "17.12817",
         "37.97046",
         "33.48541",
         "44.17492",
         "37.6118",
         "59.26585",
         "62.90973",
         "53.96118",
         "61.67052",
         "3.265153",
         "24.18462",
         "0.0",
         "5.447655",
         "4.485044",
         "-7.709336",
         "9.092376",
         "6.290359",
         "0.932147",
         "Torso Back Top Third",
         "Torso Back",
         "1.194905",
         "0.0002959177",
         "4.798335",
         "0.0",
         "8.886309",
         "0.0",
         "1.743651",
         "1.950777",
         "0.3619048",
         "105",
         "123.6497",
         "1472.01",
         "232.9089",
         "Memorial Sloan Kettering Cancer Center",
         "CC-BY",
         "",
         "Benign",
         "Benign",
         "",
         "",
         "",
         "",
         "",
         null,
         "99.80404",
         "{'path': None, 'bytes': b'\\xff\\xd8\\xff\\xe0\\x00\\x10JFIF\\x00\\x01\\x01\\x00\\x00\\x01\\x00\\x01\\x00\\x00\\xff\\xdb\\x00C\\x00\\x08\\x06\\x06\\x07\\x06\\x05\\x08\\x07\\x07\\x07\\t\\t\\x08\\n\\x0c\\x14\\r\\x0c\\x0b\\x0b\\x0c\\x19\\x12\\x13\\x0f\\x14\\x1d\\x1a\\x1f\\x1e\\x1d\\x1a\\x1c\\x1c $.\\' \",#\\x1c\\x1c(7),01444\\x1f\\'9=82<.342\\xff\\xdb\\x00C\\x01\\t\\t\\t\\x0c\\x0b\\x0c\\x18\\r\\r\\x182!\\x1c!22222222222222222222222222222222222222222222222222\\xff\\xc0\\x00\\x11\\x08\\x00\\x91\\x00\\x91\\x03\\x01\"\\x00\\x02\\x11\\x01\\x03\\x11\\x01\\xff\\xc4\\x00\\x1f\\x00\\x00\\x01\\x05\\x01\\x01\\x01\\x01\\x01\\x01\\x00\\x00\\x00\\x00\\x00\\x00\\x00\\x00\\x01\\x02\\x03\\x04\\x05\\x06\\x07\\x08\\t\\n\\x0b\\xff\\xc4\\x00\\xb5\\x10\\x00\\x02\\x01\\x03\\x03\\x02\\x04\\x03\\x05\\x05\\x04\\x04\\x00\\x00\\x01}\\x01\\x02\\x03\\x00\\x04\\x11\\x05\\x12!1A\\x06\\x13Qa\\x07\"q\\x142\\x81\\x91\\xa1\\x08#B\\xb1\\xc1\\x15R\\xd1\\xf0$3br\\x82\\t\\n\\x16\\x17\\x18\\x19\\x1a%&\\'()*456789:CDEFGHIJSTUVWXYZcdefghijstuvwxyz\\x83\\x84\\x85\\x86\\x87\\x88\\x89\\x8a\\x92\\x93\\x94\\x95\\x96\\x97\\x98\\x99\\x9a\\xa2\\xa3\\xa4\\xa5\\xa6\\xa7\\xa8\\xa9\\xaa\\xb2\\xb3\\xb4\\xb5\\xb6\\xb7\\xb8\\xb9\\xba\\xc2\\xc3\\xc4\\xc5\\xc6\\xc7\\xc8\\xc9\\xca\\xd2\\xd3\\xd4\\xd5\\xd6\\xd7\\xd8\\xd9\\xda\\xe1\\xe2\\xe3\\xe4\\xe5\\xe6\\xe7\\xe8\\xe9\\xea\\xf1\\xf2\\xf3\\xf4\\xf5\\xf6\\xf7\\xf8\\xf9\\xfa\\xff\\xc4\\x00\\x1f\\x01\\x00\\x03\\x01\\x01\\x01\\x01\\x01\\x01\\x01\\x01\\x01\\x00\\x00\\x00\\x00\\x00\\x00\\x01\\x02\\x03\\x04\\x05\\x06\\x07\\x08\\t\\n\\x0b\\xff\\xc4\\x00\\xb5\\x11\\x00\\x02\\x01\\x02\\x04\\x04\\x03\\x04\\x07\\x05\\x04\\x04\\x00\\x01\\x02w\\x00\\x01\\x02\\x03\\x11\\x04\\x05!1\\x06\\x12AQ\\x07aq\\x13\"2\\x81\\x08\\x14B\\x91\\xa1\\xb1\\xc1\\t#3R\\xf0\\x15br\\xd1\\n\\x16$4\\xe1%\\xf1\\x17\\x18\\x19\\x1a&\\'()*56789:CDEFGHIJSTUVWXYZcdefghijstuvwxyz\\x82\\x83\\x84\\x85\\x86\\x87\\x88\\x89\\x8a\\x92\\x93\\x94\\x95\\x96\\x97\\x98\\x99\\x9a\\xa2\\xa3\\xa4\\xa5\\xa6\\xa7\\xa8\\xa9\\xaa\\xb2\\xb3\\xb4\\xb5\\xb6\\xb7\\xb8\\xb9\\xba\\xc2\\xc3\\xc4\\xc5\\xc6\\xc7\\xc8\\xc9\\xca\\xd2\\xd3\\xd4\\xd5\\xd6\\xd7\\xd8\\xd9\\xda\\xe2\\xe3\\xe4\\xe5\\xe6\\xe7\\xe8\\xe9\\xea\\xf2\\xf3\\xf4\\xf5\\xf6\\xf7\\xf8\\xf9\\xfa\\xff\\xda\\x00\\x0c\\x03\\x01\\x00\\x02\\x11\\x03\\x11\\x00?\\x00\\xea\\xe7\\x8a7 s\\xf5\\x07\\x15K\\xec\\x8c\\x9c\\t\\\\\\x02}j\\xd4R\\r\\xab\\xb8\\xe7\\x14\\xb221?)8\\xe7\\x81^K\\xd5\\x1e\\xcav(\\xbc*\\x08\\xdc\\xe7\\xae2Z\\x94G\\x11\\xcf\\xcb\\x9c\\x1e\\t\\xa9\\x0ca\\xdc\\xee\\x07\\x1dG\\x158\\x8d\\x02\\x06\\x02\\xa6\\xda\\x95}\\x08VH\\xe3\\n\\x81v\\xf7\\xa9\\x94\\x19If\\x1f\\'oz\\x81\\xa2\\x17\\x13+\\x00@Z\\xb7\\xf3\\x18\\xc0\\x18\\x1e\\xd4\\xd0\\x88\\x96\\xe5\\xc3lT\\xe3\\xa6M;\\xcd2\\x122\\x08\\x1f\\x954B\\xc4\\xf5\\x07\\xf1\\xa7\\x08v\\xf2\\xab\\xc8\\xeb\\x8e\\xf57`\\x92(\\xddo#p\\x19\\xfaUxP\\x1c\\x02\\xbdOj\\xd0U.\\xdbYN\\rZKX\\xf3\\xd3\\x0b\\xd3\\x8aVl\\xb5$\\x88#\\\\(\\x01O>\\xd5h\\r\\xaa8\\x03\\xdb\\x15\\x1c\\xac |\\'-\\xdb\\xda\\xab\\xc9,\\xcc\\xdb\\x99\\x82\\x81\\xd8UF+\\xa9\\r\\xb7\\xb1o\\x00\\xe3\\x8e:\\xe6\\xa0\\xb8`@\\x19\\xe9M7\\x08\\x00\\x1b\\xbd\\xfa\\xd4^j>A\\\\\\x9c\\xf0E6\\xc6\\x89\\xa1B\\xc41`\\x07|\\xd4\\xb2\\xca\\x0e\\x15\\x0e\\x05UQ,\\xa8UJ\\x85\\xa6*\\xbclr\\xc0\\xd0\\x87k\\x97\\x11\\xa4\\x00/9\\xcdXS\\x9c\\x93\\xd7\\xde\\xa85\\xcb/\\x03\\x19\\xfaTku#1-\\xc6(\\x0eK\\x9a\\x9b\\xc7\\xf7V\\x8a\\xcd\\xfbX\\xa2\\xa8\\\\\\x84\\x9e|\\x11\\x10\\x0e3\\xda\\x94\\xc8\\x1bqC\\x91\\xedP=\\xa2\\xc8\\xc0\\x9e\\xe6\\xa6\\n\\xb6\\xe8z\\x10z\\xd4\\\\V+;6~\\xf7\\x07\\xf4\\xa8\\xa6\\xbah\\xe2\\x08\\xa4\\x9a\\xb2\\xa5\\x18\\x12G\\xe1Q\\x9b?0\\x87bq\\xda\\x9a)X\\xad\\x1d\\xf4\\xaa\\xc0`\\x84\\xf5\\xab\\xc9>\\xe0\\x1c\\x9a\\xab\\xe4\\xed|\\x12q\\x9e\\x86\\xac\\xc1\\x012\\x00\\x01$\\x9e\\x94\\xaeS\\xb5\\x8b)\\xb9~e\\xf9\\x94\\xf3V\\x06B\\x8e\\x99\\xcei\\xe9\\x01\\x8e=\\xb8\\x15[\\xcfu$\\x1c\\x11Oc+\\xdc\\x9c\\x15E\\xf3\\n\\xe7\\xf0\\xaa\\xedx\\x1dJ\\xc7\\xcb\\x1a\\x86\\xe2\\xe2F\\x1b#\\x04\\xfa\\x90:T\\x11C\\xb3\\xe6\\x1dq\\xcf\\xbd;\\x85\\xaeJ\\xd2\\xec\\xf9\\x9b%\\xbb\\xfa\\xd5Y\\xa4\\x96f\\xc4`~5hX\\xbc\\xaf\\xe63pO\\xdd\\x15v;5\\x00\\x83\\x81\\x8e\\x82\\xa5\\xa6^\\x88\\xc7\\x8e\\xcc\\xb3|\\xd9\\'\\xf9U\\xcf\\xb2m\\\\\\x92v\\xf7\\xab\\xa20\\x0e\\xd1\\xd7\\xbdEt\\x92\\x11\\xf2\\x9c-+X9\\xb5\\x19\\x11\\n\\xd8\\n9\\xa9%\\x81\\n\\xf2I \\xe4sQC\\x85P\\x1b!\\x8f\\xadN\\x90\\xee\\xc1\\xed\\x9fZ\\x13\\x07\\xa1\\x9e\\xf6n\\xec0p\\x07\\xebJl\\xdf\\x18\\xdd\\xcdk\\x18\\x90a\\xbd)\\x92\\x009Q\\xfaU\\x879C\\xfb7\\xfd\\xa3\\xf9\\xd1W6\\xb7\\xf7\\r\\x14\\\\9\\x8c\\xe8d/\\xb7sp995/\\x98\\xae\\x0e\\x08\\xc7L\\x9e\\xd5^?-\\xfeR\\x06j\\xe46\\xab\\xb3\\x95ROzQ\\x07\\xdc\\xad\\x14L\\x19\\xbel\\x8e\\xb50\\x90\\x91\\xb5\\xb23\\xd2\\xac\\x9bD\\x8c\\x8cp~\\xb5\\x14\\x90\\xba\\xc81\\xc0\\xcd6Jc!\\x81\\xdd\\xb2NG\\xadh\\xa2\\xac 1#=:\\xd6{\\xbc\\x88p\\xb9\\xe2\\xab\\xcdv\\xef\\x84\\x19\\x18=\\xean\\x90;\\xb2\\xfd\\xdd\\xf4cj\\x06\\xe7<\\x81\\xd6\\xa1x\\xdeT\\xdc\\x00\\x0b\\xe8:\\x9a\\xaa@fBTg\\xa8\\xabQN\\xa1\\x80l\\xe2\\x8ek\\x87-\\x85\\x031\\x80\\x13\\x1e\\xb5$Qm\\x19\\xc8\\xfa\\xd0X\\x16\\xe3\\xb78\\xa7,\\x8b\\xb0\\xe0s\\x9a6\\x00\\xc9F\\xeb\\xff\\x00\\xd6\\xa5{\\x82\\x14\\x13\\x9aj\\xca3\\xeb\\xedK \\x0e\\xa4\\x85\\xa7p\\xb1\\x1a\\xc8\\\\o\\x19\\x1c\\xd4\\xcb)e\\x05\\x88\\xf7\\xa6D\\xa0.\\x08\\x1f\\x89\\xa8n_`d\\\\`\\xd4\\x8e\\xc8R\\xf1d\\xe5\\xb9\\xcf\\xadO\\x1b\\x88\\xc0\\xc1?\\x8dc\\xc3\\x0c\\x8d0\\xca\\x9cz\\xd6\\x92\\xc2\\xed\\x82:b\\x92z\\xe86\\xb4.y\\xaazs\\xea)\\xeaw\\xff\\x00\\rW\\x8a\\x16$e\\x86EZ\\x90* \\x1b\\xb0\\xc7\\x8ekD\\xdb2n\\xc1\\x8f\\xf6\\x97\\xf3\\xa2\\x99\\xe57\\xf7\\x87\\xebE;\\x13\\xccb9\\t!\\x039\\xf5\\xc5I\\x05\\xd9\\x0eSq\\xe2\\x9c\\xe0I\\x18p\\xd9\\xa8\\xd6-\\xf8d\"\\xa1\\xa6\\x8d\\xb7-\\xa34\\x92d\\x9c\\x8e\\xb5d\\xc9\\x84\\x1cg\\xebTQ\\xe4\\x8b\\xa60\\x05I\\x0e\\xf90[>\\x98\\xa2\\xe2hM\\xe5\\xa4\\xce)\\x92\\xa2\\x1c\\xf1\\xce*\\xcb\\x08\\xe3\\x18\\xe8G5\\x11\\x00\\x1f\\xbb\\x9fzv\\x05\"\\xb38 \\x00\\xa7#\\xadH\\x8a\\x18\\xd00e#\\x03\\x1e\\xd5+$l\\xc0\\xe7\\x9a\\x82\\x89R\\x10\\x0e\\xee\\xfdpiv\\x00\\x0ex=3\\xe9LUv`3\\xc2\\xd3\\xdf\\x8c\\x04\\\\\\xe3\\xadZD_R/-P\\xf5\\xc94\\xd3pC\\xf9kN\\x99\\x0c\\xdfw\\x86\\xc75X\\xc0\\xe2M\\xd9?JM\\x94\\x97r\\xe0vQ\\xc8\\xcdW\\t!\\x99\\x8b\\x00\\xe0\\xfaS\\xe2\\xf3I\\x0b \\xe0\\x9a\\x9f\\xc91\\xe7\\r\\xf2\\xfa\\xd0\\'\\xa1\\x1a\\x10\\xad\\xfe\\xad\\x87\\xaf\\x19\\xa7\\xcb\\xb5\\xb0\\x8b##g<R\\xa4\\xae\\x84\\x9d\\xa0\\x8f\\\\S\\xe4`\\xc9\\x90\\xa3w\\xadR\\xb2%\\x94\\xd9n!b<\\xee=\\xc5&\\xc9\\xae\\x18n\\xb89\\x1e\\x83\\x15?.@b:\\xf5\\xa6\\x01\\xb6BA\\x1e\\x9cR\\xbd\\xb6\\x0b.\\xa4\\x9fc\\x93\\xfe~\\xa7\\xfc\\xe8\\xa7\\xf1\\xea\\xdf\\x9d\\x14\\xf9\\x85\\xca\\x8a\\xd3\\x98\\xd2\\xdb\\x0b\\xc7\\x15\\x1d\\x92/\\x94\\xb9n\\x08\\xf5\\xa6\\xc9\\x1eA\\x07\\xd3\\xbdF\\x84\\x1e\\x9f(\\x1dhn\\xe5\\xa4^q\\x18\\x04\\x8c\\x91NI7\\xfc\\xb1\\x8c\\x01\\xd4\\xd5t\\x8d\\x89\\xc0\\xce\\xdfn\\xf4\\xd9\\xa4\\xdaB\\xaf\\x03\\xda\\x96\\xda\\x8bVM!\\x80\\x13\\x92\\xc5\\xbdI\\xe6\\xa3\\x13\\x81\\x90\\x8aO\\xbe)\\x15\\x90\\xae\\xe6\\x15!(\\xaa[\\x03\\xa6x\\xa2\\xf7\\x1d\\xacU\\xb8w\\x8b\\x12c#5X\\xce\\xef l\\x103\\x9cb\\xafL\\xa2d\\x00\\x9e=\\xaa7\\x8b\\xcb\\x8c\\xed\\xf9\\x9a\\xa5\\xeb\\xa1q\\x18\\xfa\\x84\\x91\\xe4\\x01\\xc9\\xe34\\x8f\\xa8\\x98\\xe3\\x07#\\x9a\\xa6\\xf6\\xd2\\xb3\\x92T\\xf2sI-\\x85\\xc3m\\x01N:\\x9a\\\\\\xcfa\\xa8\\xa2\\xe5\\xae\\xac^`\\x8e2\\x0fB+HK\\x19]\\xc4\\xe2\\xb0\\xe2\\xb6\\x95%\\xc2.X\\xfe5\\xafofv\\x86\\x94\\xfc\\xde\\x87\\xa58\\xdc\\x99$\\xb6\\x07\\x99\\x9a@Qp\\x99\\xebS\\xbc\\xdb\\x80\\xc1\\xe0u\\xc58[\\x8e\\t\\xfeu*\\xc3\\x18\\x8c\\xf4\\xc8\\xab\\xd4\\x8d\\x08\\xa1Q\\xb0+\\x1c\\nd\\xb3y\\x7f*\\x8c\\x8a\\x95\\x88\\xc9\\xc09\\xfe\\x95\\x01U,\\x062OJ\\x04\"H\\xac\\x1b8\\xcezTA_\\xe6}\\xc0`p\\r<[\\xec\\x94\\xc9\\xbb,GA\\xd2\\xa3h\\xcb\\x1c\\x9d\\xdc\\xf3\\xc5K)\\t\\xe6\\xc9\\xfd\\xff\\x00\\xd2\\x8a\\x8f\\xcaoW\\xa2\\xa2\\xccd_k-\\xc3\\xf1V\\xa0\\xb5y\\x80e\\xe3<\\xed\\xc7Z\\xad\\r\\xba\\x96\\xdcW99\\xe6\\xb7\\xad$\\x86\\x18H\\xce[\\x15i\\x8az\"\\xb21A\\xb1\\xd0\\r\\xbd*\\xac\\xaa\\x1d\\xce\\x07\\x15-\\xcc\\xece<\\x00OJ\\x80\\xa4\\x81\\xb7s\\x83T\\xc5\\x11\\x0c \\xc7\\x82@\\xc7\\xbd\\x02\\x00\\xe0r~\\xb59\\x896\\x82FI\\xf5\\xa5\\x1b\\x08\\x00`c\\x8e)Xw\\x1a\\xb1\\xc7\\x10\\xe4f\\x85\\x0b+&:P\\xfb\\x00\\xc30\\xfc\\xea&\\xb8\\x8e\\x1d\\xbbI/\\xd0b\\x80\\xb9pD\\x88\\xc0\\x9cc\\xad2ID\\xacR!\\xd3\\xa9\\xedP\\xc6L\\x873>\\x07\\\\\\n\\xba\\xa2\\x15\\x8f\\x08y\\xf5\\x14\\xf4\\'^\\xa3a\\xb7XN\\xee\\xad\\x8eOzy\\x91\\x07\\xf1w\\xefU\\xe42\\x13\\xc18\\xebTd\\x98\\x92B\\xe7\"\\x87+\\x0e\\xd7\\xd4\\xd3I\\xd5\\x98\\x80\\xc0\\x9e\\xd4\\xae\\xe0cq\\x19>\\x95\\x9c\\x90\\xc9\\xb3xC\\xb8s\\x93N\\x95\\x9fh\\x04\\x8c\\x91\\xf9RM\\x83H\\xb0\\xf3n\\x1bT\\x1d\\xc6\\x9a\\xbb\\xc2\\xf2\\x0e}j\\xa7\\x9f\\xe5\\x11\\xb5K\\x9e\\xe6\\xad\\xc6\\xd7\\x13\\xf3\\xf2\\xaa\\xfbu\\xa0\\x074\\x8109<rEA5\\xc4\\x91/\\xc8\\x84\\xfa\\x03V\\xb6\\x10\\xdf60*\\td\\x89\\xe6TA\\x9cr\\xc7\\xb5\\x16\\x15\\xca\\xbfi\\xb8\\xfe\\xe7\\xe9Eie\\x7f\\xe7\\x98\\xa2\\x95\\x87r\\x94Ca\\xcbc\\xe9R\\xa4\\xc1\\xc9\\x1c\\x0cw\\xaa\\xa3\\xcca\\xc8\\xc7\\x1d\\xa9\\xeb\\x1a\\xaa\\xe4\\x1c\\x9cw\\xa3b\\xadr\\xd1\\xf2\\x94rri\\xca\\xe8\\xc4\\x02N*\\x92\\x02\\xecy\\x18\\x03\\x8cT\\xf1@C\\xf2qE\\xc3\\x94\\x96y\\x111\\xc8\\x03\\xde\\xa9+\\xb9f\\xday\\xec{U\\xb9Q2\\x01M\\xd9\\xf5\\xe9P\\x94)&\\xf0\\x07\\xd2\\x86\\xc4\\x91L\\xc7!\\x7f\\x9d\\xcb\\x0fA\\xd2\\x9d$\\xc2\\xde0|\\xb1\\xf9U\\xc5\\x01\\x81\\xf5\\xcfjsZ\\xf9\\x83\\xe6_\\xfe\\xbd-K\\xd0\\xa9\\r\\xcc\\x97\\x08\\n\\xa6\\x00\\xecj\\x7f5\\x90a\\x90n5/\\x94\\xb6\\xea6\\x8f\\xca\\x9e\\x81%\\x04\\x1e\\xbe\\xb4\\xd2bm\\x14\\x8d\\xdb\\x04}\\xbfJb]C\\x1f\\xceWs\\xfb\\xf5\\xa9\\x9a\\xd9dln\\xe0zTf\\xce<\\x92x\"\\x93l,\\x8b\\x89,\\x97\\x11\\xe3\\x1b\\x14\\xfeu:\\xdaD\\x8aq\\x96osU|\\xed\\x88\\x00\\x19\\xe3\\x19\\xa9\\xed\\xe4v8a\\x8f\\xc6\\x9a\\x91\\x0e6\\xd8\\x88\\xc0d9\\'\\x1cT\\x90\\x86V\\xeb\\xf2\\x8a\\xb3$\\x89\\x1a\\x93\\xd4\\x9e\\x9e\\xb5\\x02\\x17`N0==j\\xac+\\x8e$\\xc8\\xfbOL\\xf2hH\\x11\\x19\\x82/\\'\\xb9\\xaa\\xc6Yeb\\xb0\\xc5\\x8cq\\x96\\x18\\x15,V\\x97,\\xa4\\xbc\\x9bI\\xfe\\xe8\\xc51\\x16<\\xb6\\xf5\\x14T\\x7f\\xd9\\xf2\\xff\\x00\\xcfy?\\xef\\xaa(\\xb2\\x15\\xca#\\x04\\xe0}\\xdc\\xe3\\x8aO+y\\xf9\\x0ex\\xa7\\xc5\\x1faVa\\x8dPd\\x9a\\x9b\\x1b7b\\xa1\\x06\\xde6~\\xfd1UV\\xe6id\\r\\x9d\\xa3>\\xb5z\\xec\\xae\\xd2\\x07<\\xd5EP~R:T\\xc8q\\xd7R\\xcf\\x98\\\\\\x83\\xbc\\xfd*O\\x9b \\x11\\xc5,(\\x89\\xc8\\xc1\\xa9Y\\xc1s\\xebN(L\\x88\\x05V\\xe0rM\\\\\\x04\\x88\\xb9+\\x83\\xd2\\xb3\\xa7\\x90\\xc6\\xfd:sSB\\xed*\\x83\\x9e:S\\xbd\\x88z\\x96\\x81B\\xa0\\x1c~}j\\xa3C\\x92q\\x91\\xcf^\\xf4\\x8c\\xfe[c\\x9cz\\xd4\\xd0\\xca\\x08R:\\xd2\\xb8XU\\xb5\\xd8\\x80\\xe4\\xe4\\xd3\\x1e<\\xf21\\xf5\\x15<\\xb7#\\x05r:Q\\x19V!\\x8f\\\\S\\x15\\xfa\\x90\\x8brq\\x9e\\xde\\xb4\\xa1AF\\xedS7\\x1b\\xb0F*\\xac\\x8e\\xaaq\\xb8\\x00{P\\x90^\\xe3\\xa1Ffgnq\\xc0\\x06\\x9c\\xcc\\xea\\xa4\\xe7h\\x15\"K\\x1a\\xa2\\xc7\\x19\\x05\\xa9\\xae77\\xccs\\x9e\\xc2\\x9b\\x12%\\xb7`@%s\\xdf5e\\x9bx\\xcfOl\\xd5e]\\x80\\x05\\xc9\\xfe\\x957+\\x199\\xc9\\xf4\\xa6\\x98\\xa4.\\xc6\\xfe\\xfd\\x15[\\xcf\\x93\\xd1\\xbf:)\\x93r\\xa2\\xe1\\x17\\x96\\xeb\\xe9I\\xe6\\x16\\\\\\x0f\\xd6\\x95`R~bI\\x14:c\\x05GlqQsk\\x15e\\x041\\xc9\\'\\xd4Ti\\t2d\\xf1\\x9e\\xde\\xd5}Wp\\x04\\xaeN(\\xf2T\\x1d\\xc7\\x1d)jRi\\x10\\x16\\xf2\\xf6\\x8e\\xc3\\xde\\xa4\\xf9\\xd9\\x81\\xe1Fz\\x93J\\xf0y\\x9dq\\x8fZ\\x89\\xe2e\\xf9|\\xc2W\\xd74\\xd0\\xafq\\xf3*LX+r=\\xaa5\\x7f\\xb3\\xaf\\'\\x8c\\xf1C\\\\Gn\\xa0\\x8cp;\\xd5yn\\x84\\xd1\\xe7\\x00\\x0e\\xa2\\x93\\x04\\x8b[\\x9aE,2;\\xd4\\xd6\\xe7a\\xe4q\\xdb\\x8a\\xc7K\\xd2X\\xa2\\xb8\\xe3\\xb5\\\\\\xb6\\x96I\\x01\\x18\\xc8\\xf5\\xa9E4h\\xce\\xc8\\xa7\\xe6\\xdb\\x8fZ\\x86;\\xb8\\x83c\\x93\\xcfAU\\xda\\'\\xde\\x1aC\\xb9{\\x83Vv\\x83\\x08\\xf2\\xc6\\x1b\\xd2\\xae\\xe6v\\x1b-\\xfe7\\x04\\x89\\xf3\\xf4\\xe2\\xb2\\xcc\\xaf%\\xd6X1\\x03\\x9c\\n\\xd1i\\x180\\xde1\\xeaj\\x8b\\x82\\xce\\xe5\\x14\\xfbTJL\\xa8\\xc5\\x16\\x16\\xe5!`T~>\\x94\\x91\\xdfI$\\xdc\\x9d\\xdc\\xf6\\xaa\\xebg$\\x83\\xdc\\xf3S\\xb4b\\xd8\\x06\\xc6O\\xebR\\x9be4\\x91\\xa9\\x14\\xcb\\x8c\\xb1<P\\xd7\\x91\\x86\\xc6sY\\xc8\\x0e\\xc3;\\x13\\xc8\\xfb\\xb52F\\xb2\\xa0e\\x1d\\x0f5\\xa5\\xec\\x88\\xe5\\xee[\\xfbB{\\xd1Plo\\xee\\x8a(\\xb8\\xb9Q#}\\xff\\x00\\xc6\\x94\\xfd\\xc3\\xf4\\xa2\\x8a\\x06\\x1f\\xe0)\\x0fQE\\x15B`~\\xe7\\xe3Q?\\x7f\\xa5\\x14R\\x1a2u/\\xbaj\\xb2}\\xc5\\xfc(\\xa2\\x94\\x8d:\\x10\\xa7\\xfc}~5\\xbda\\xd5\\xbe\\xb4QP\\xb7\\x06\\\\\\x9b\\xee\\x9f\\xa1\\xa4\\x8b\\xfdb\\xd1Eh\\x8c\\x8a\\xf7\\xbd\\x1b\\xe8j\\x8a\\xff\\x00\\xab4QP\\xcb\\x81\\xa9o\\xf7\\x07\\xd2\\xa0\\xba\\xff\\x00\\\\\\xbfJ(\\xa2;\\x04\\xb7\\x11\\xff\\x00\\xd47\\xd2\\xac\\xda\\x7f\\xa9\\xa2\\x8a\\x18t%\\xa2\\x8a(\\x11\\xff\\xd9'}"
        ],
        [
         "3",
         "ISIC_0015902",
         "0",
         "IP_4111386",
         "65.0",
         "male",
         "anterior torso",
         "3.22",
         "TBP tile: close-up",
         "3D: XP",
         "14.2423288822174",
         "12.1647572742568",
         "21.4481442651631",
         "21.1213562925657",
         "25.7462001935915",
         "24.3740232866691",
         "56.4144285170649",
         "60.0603876362602",
         "18.6495183426657",
         "23.3148413340251",
         "6.07993995121036",
         "14.8892416135771",
         "0.514520296995049",
         "2.07757160796059",
         "0.326787972597426",
         "-4.66532299135938",
         "4.78341293261375",
         "6.40019612363943",
         "0.654458375002421",
         "Torso Front Top Half",
         "Torso Front",
         "2.48132784072667",
         "21.9894528388977",
         "1.97587443743163",
         "1.77170459478913",
         "9.51449919489256",
         "0.66468987772986",
         "1.25854054346649",
         "1.57373265038448",
         "0.209580838323353",
         "130",
         "-141.024780273438",
         "1442.18579101562",
         "58.3598022460938",
         "ACEMID MIA",
         "CC-0",
         "",
         "Benign",
         "Benign",
         "",
         "",
         "",
         "",
         "",
         null,
         "99.9899983406067",
         "{'path': None, 'bytes': b'\\xff\\xd8\\xff\\xe0\\x00\\x10JFIF\\x00\\x01\\x01\\x00\\x00\\x01\\x00\\x01\\x00\\x00\\xff\\xdb\\x00C\\x00\\x08\\x06\\x06\\x07\\x06\\x05\\x08\\x07\\x07\\x07\\t\\t\\x08\\n\\x0c\\x14\\r\\x0c\\x0b\\x0b\\x0c\\x19\\x12\\x13\\x0f\\x14\\x1d\\x1a\\x1f\\x1e\\x1d\\x1a\\x1c\\x1c $.\\' \",#\\x1c\\x1c(7),01444\\x1f\\'9=82<.342\\xff\\xdb\\x00C\\x01\\t\\t\\t\\x0c\\x0b\\x0c\\x18\\r\\r\\x182!\\x1c!22222222222222222222222222222222222222222222222222\\xff\\xc0\\x00\\x11\\x08\\x00m\\x00m\\x03\\x01\"\\x00\\x02\\x11\\x01\\x03\\x11\\x01\\xff\\xc4\\x00\\x1f\\x00\\x00\\x01\\x05\\x01\\x01\\x01\\x01\\x01\\x01\\x00\\x00\\x00\\x00\\x00\\x00\\x00\\x00\\x01\\x02\\x03\\x04\\x05\\x06\\x07\\x08\\t\\n\\x0b\\xff\\xc4\\x00\\xb5\\x10\\x00\\x02\\x01\\x03\\x03\\x02\\x04\\x03\\x05\\x05\\x04\\x04\\x00\\x00\\x01}\\x01\\x02\\x03\\x00\\x04\\x11\\x05\\x12!1A\\x06\\x13Qa\\x07\"q\\x142\\x81\\x91\\xa1\\x08#B\\xb1\\xc1\\x15R\\xd1\\xf0$3br\\x82\\t\\n\\x16\\x17\\x18\\x19\\x1a%&\\'()*456789:CDEFGHIJSTUVWXYZcdefghijstuvwxyz\\x83\\x84\\x85\\x86\\x87\\x88\\x89\\x8a\\x92\\x93\\x94\\x95\\x96\\x97\\x98\\x99\\x9a\\xa2\\xa3\\xa4\\xa5\\xa6\\xa7\\xa8\\xa9\\xaa\\xb2\\xb3\\xb4\\xb5\\xb6\\xb7\\xb8\\xb9\\xba\\xc2\\xc3\\xc4\\xc5\\xc6\\xc7\\xc8\\xc9\\xca\\xd2\\xd3\\xd4\\xd5\\xd6\\xd7\\xd8\\xd9\\xda\\xe1\\xe2\\xe3\\xe4\\xe5\\xe6\\xe7\\xe8\\xe9\\xea\\xf1\\xf2\\xf3\\xf4\\xf5\\xf6\\xf7\\xf8\\xf9\\xfa\\xff\\xc4\\x00\\x1f\\x01\\x00\\x03\\x01\\x01\\x01\\x01\\x01\\x01\\x01\\x01\\x01\\x00\\x00\\x00\\x00\\x00\\x00\\x01\\x02\\x03\\x04\\x05\\x06\\x07\\x08\\t\\n\\x0b\\xff\\xc4\\x00\\xb5\\x11\\x00\\x02\\x01\\x02\\x04\\x04\\x03\\x04\\x07\\x05\\x04\\x04\\x00\\x01\\x02w\\x00\\x01\\x02\\x03\\x11\\x04\\x05!1\\x06\\x12AQ\\x07aq\\x13\"2\\x81\\x08\\x14B\\x91\\xa1\\xb1\\xc1\\t#3R\\xf0\\x15br\\xd1\\n\\x16$4\\xe1%\\xf1\\x17\\x18\\x19\\x1a&\\'()*56789:CDEFGHIJSTUVWXYZcdefghijstuvwxyz\\x82\\x83\\x84\\x85\\x86\\x87\\x88\\x89\\x8a\\x92\\x93\\x94\\x95\\x96\\x97\\x98\\x99\\x9a\\xa2\\xa3\\xa4\\xa5\\xa6\\xa7\\xa8\\xa9\\xaa\\xb2\\xb3\\xb4\\xb5\\xb6\\xb7\\xb8\\xb9\\xba\\xc2\\xc3\\xc4\\xc5\\xc6\\xc7\\xc8\\xc9\\xca\\xd2\\xd3\\xd4\\xd5\\xd6\\xd7\\xd8\\xd9\\xda\\xe2\\xe3\\xe4\\xe5\\xe6\\xe7\\xe8\\xe9\\xea\\xf2\\xf3\\xf4\\xf5\\xf6\\xf7\\xf8\\xf9\\xfa\\xff\\xda\\x00\\x0c\\x03\\x01\\x00\\x02\\x11\\x03\\x11\\x00?\\x00\\xf3\\x926LX\\x02\\xcai\\xe8\\xca\\x1f\\x9e\\xfd\\xcd0\\x16#\\x9ejP\\xaa\\xca2?*\\xe1=\\x14\\xc9\\x15\\xf6\\x13\\xc7^x\\xa5p\\xa4g \\xfaS\\x11\\x82\\x90\\x84\\xf3S\\x81\\x1b\\x1c\\x91\\x83\\xd7\\x14\\x80r7\\x19a\\xf3\\x1a\\x91\\x18z\\x0c\\x9adj\\x0f\\xdd\\xef\\xd35$xV\\xcf_jC\\x1c\\xb8s\\xe8}\\xe8*\\xc3\\x82G\\xd7\\x14\\xa3n3\\x83\\xcfoJi;p\\x0e~\\xb4\\x02\\x10\\x86S\\x80r\\xbd\\xeaX\\xf8\\\\\\x0es\\xde\\x91>\\xef>\\x94\\xe2>_\\xbc\\x075#\\xb9\\x1e\\x13#\\xe6\\xe3\\xa7^\\x94\\x8d\\xe6&\\x00~\\xfdq\\xd6\\x90mf\\xc7\\x1c\\xd4\\x80\\x03\\xd5\\xb3\\x8e1\\x9ac%\\x80q\\x96a\\xcfJk\\xb2\\xbb\\x1c\\x8c\\x11L\\x8d\\t\\xcfoA\\x8aVnpGOj\\x04b\\xc6\\xb9\\x05\\x89\\xc7\\xb5L\\x15N\\x08\\xe2\\xa3\\x0c\\x865\\xc0 \\x9a\\x8d%ev]\\xc4\\xd6\\x84\\x13\\xa2e\\x89\\x03\\x91\\xd7\\xde\\x9e\\xad\\x99\\x06H\\x00u\\xa4V g8\\xc6\\rH\\x10\\x03\\xb9FG\\xa15 X\\x01\\x95\\xbeV\\xcf\\x18\\xa4\\xdd\\x81\\x9e\\xd9\\xa6\\xa9\\xc9\\xe9\\x82?Jk\\xae\\x0f\\xc8x#\\xb0\\xa42l\\x8cpM8\\xfc\\xa8\\x18\\x80sMQ\\x94\\xce\\xef\\x9b\\xd2\\x9c\\x8aYy\\xe4\\x01\\xd0\\xd2\\xb0\\xc7\\x03\\x8cm\\x1c\\xff\\x00J\\x19\\x86{\\x02}i\\x85H\\xe1O\\xd3&\\x94\\x83\\xc7\\xad\\x03C\\x14\\xa9`2\\x01\\xa9\\xd9\\x06\\xd3\\xb4\\xe1\\x85Rr\\xca7\\x06\\xef\\xdb\\xb5K\\x0c\\xbeb\\xe7q\\xc9\\xeeh\\xb8\\xc7\\xbc\\x86>\\x03g\\xd7\\x1d\\xa8k\\x8c\\xb1\\xc0\\xc7\\xd4\\xd3#\\x062\\xfb\\x9bp\\xed\\x9aj\\x85r\\xc7#\\xae*G\\xd0\\xa3\\xbb\\x11\\x909\\xc561\\xf2d\\x81\\xbb\\xaeh^A\\xcf\\x1cv\\xa7\\xa2\\x82\\xb9\\xcekfb\\x85\\xc8\\xd9\\xcfN\\x95*\\xb6\\xc6\\x05OJ\\x8a\\x00\\x06\\xe5jr!\\xde\\xc3\\x1fJ\\x92\\x917\\x98I\\xf9\\xba\\x9ejL\\x12\\x98\\x1dzf\\xaa w!\\t\\x07\\x06\\xa5y|\\x90r\\xd9\\xc0\\xa42e\\x04\\x1d\\xbf\\xd2\\xa4\\x8aFL\\x8c\\x0c\\xd5\\x18/3 G\\xefV\\x8bd\\x07\\x8c\\xe0\\xf4\\xc5\\x00O\\x11Y\\x0e\\x05\\x0e2\\xad\\xf3\\x1a\\x81%\\xf9\\xf6\\x95\\xdaO\\xa5N\\xb8\\xc0<\\x13\\xde\\x86\\x0br\\x18\\xe2\\xca\\x11\\x92A\\xfc\\xe9\\xf6\\xf0|\\xbbA\\xefR\\x88\\xc1Rq\\x83Q+\\x14\\x9c`\\x11\\x9e\\xe2\\x91W\\x16X\\xcb\\xb69\\x1e\\xd8\\xaa\\xa4\\xe3\\xef.O\\xd2\\xadJ\\xe4\\x9c\\x83\\xc8\\xf5\\xa8\\xf6\\x97bv\\x808\\xc6M \\xb9\\x95\\x1eH$\\x13\\x80pM9I\\x8eBz\\xadD\\x8ec\\xe3\\x07\\x93\\xde\\xa4g\\xe9\\x92\\x00\\'&\\xb5v1D\\x85\\xc1 \\x05\\xc7\\xa5H\\x8f\\x91\\xf8Uf\\x8fk3u\\xab(6\\x05 pi\\x15r@2\\xe0\\xf2\\x08\\xe4\\xd3n\\xe1\\xf9r\\xbc\\xe7\\xd6\\x90\\xcaV@\\x01\\xc0\\x1c\\x9a\\xb0\\\\:\\x01\\xba\\x93(\\xcc*\\x8a\\x9b\\xb2I\\xcfJ\\x9a\\x1b\\x96\\xc8\\x1b\\x88\\x03\\x9cz\\xd2\\xc9\\x16\\xd6\\xe0qP\\x80\\xa2@@8\\xa43L\\xba\\xce\\xaa\\xc7\\x86\\xc5O\\x11\\x06<\\x15\\x1b\\x87J\\xa9\\x0e\\x19s\\xd3\\xdb\\x15aF\\xccc\\xa9\\xf5\\xa0Hr\\xef@rIS\\xde\\x83\\x8e\\x0e;\\xd4\\xaa\\xfb\\xd3n\\x07Z`\\xf9S\\xdct\\xfc\\xe8c\\x06\\x02o\\x99G\\xcd\\xdcT%Y\\xb9l\\xe7\\xdcU\\x85T\\x1d\\x86Ozs\\x80q\\xf3\\x10{\\xe0R\\x0b\\x9c\\xeaa\\xe3\\x03\\xd3\\xa7\\xbd9\\xe3\\xdd\\xf7y\\xecsPF\\xf8\\xc6r1\\xc5\\\\\\xcf\\xcb\\xbct\\xadZ2Ca%\\xc1F\\xe0\\xe3\\xadJ\\x0e\\xd0\\xa0\\x93\\xc7L\\xd3#\\xc9\\xcb\\xa8\\xfc\\r=\\xa5\\x04m\\xdbHkQ\\xd2\\x90\\xe3\\x90\\x08\\xfaT\\x91m(H\\\\\\x11\\xebLU\\xdc\\x83\\x1e\\xb5(\\x03\\x1f0\\xe4\\xfa\\x1a\\x92\\x85\\x95\\x1c\\xa8S\\xc8\\xeai\\n\\xa8R@\\x18\\xebOW\\xf90\\t\\x18\\xe8}j\\'a\\xd3\\x07\\x14\\x02$\\x8d\\xc6v\\x9e{\\xe6\\xac\\x04\\xe5A>\\xfd*\\xac\\x7f)\\xe9\\xf8U\\x959\\xe7 g\\xde\\x90\\xf6\\x1c\\x88\\xcb\\xfe\\x06\\x9c\\x14\\xee\\xc7Ri\\x1aM\\xad\\x92F=OjTm\\xad\\x90A\\xef\\xed@\\x10\\xbe\\xf4\\xc8\\xc8\\xcez\\xe6\\x90N\\xc0|\\xd9&\\xac0$\\x16\\xc6\\xe3\\xdcUFi8\\x1bA\\xc5-JVf,n\\xbe[)L\\x93\\xd0\\x9a\\xb1\\x1eLEz{U]\\xb8\\x1b\\x869=\\xea\\xd4\\x0eq\\x82\\x06}\\xebk\\x18!\\xe8J\\xafb?\\x95H\\xa1Y\\xbecH\\x11Ie\\'\\xafCDC\\x93\\x9c\\x02:\\x1a\\x92\\x91\"\\xe7\\x05O \\x8e*x\\x98\\x15!\\x87\\xcdP >f\\t\\'\\xb7\\xd2\\xa4F\\t!\\x18\\xe6\\x90\\xc9\\xf8S\\xc8\\xc5W\\x9c\\x80A\\x1c\\xf0qR\\xbc\\xb9\\xc8\\xed\\xe9Q\\xc1\\x12\\xb209\\xe4\\xfeT\\x86\\x829Iu,\\xbfZ\\x9b<\\x81\\x9f\\xf1\\xa8\\x95B\\xb0\\x19\\xc7\\xd4\\xd4\\xe4&\\xe1\\x8cqH\\xa2I\"\\xfd\\xc9\\xc1\\xc9\\xc6y\\xa8\\x97\\x01r9`zS\\xc7+\\x8c\\xf6\\xa6\"\\xb0<u\\xfa\\xd0\"\\xe4y\\x03-\\x9al\\x8a\\x0bp1\\xf8P%\\xf9r{{\\xd2\\x9f\\x98\\xe7\\x19\\xa2\\xe0s*\\x03Fy\\xef\\xd2\\xa4P\\xbc\\x1c\\x11\\x9a\\x81\\x0e6\\x00\\x07\\'50\\xc18\\xc7J\\xd4\\xc9;\\x92\\r\\xc0\\x91\\x9e*D;\\x98\\xf0@\\xebM\\x89Cu\\xa9\\x01\\xda2=jJH7\\x15\\x93 \\xf5\\xf5\\xa9L\\x9f2\\x9f^*\"\\xa0\\xfc\\xc3\\x83\\xedR\\x01\\x96\\x07&\\x90\\xd0\\xf1\\x98\\xa4\\xddN\\x8d\\xf0K\\x0es\\xebJ\\x87tX#\\xd6\\x95\\x14yo\\xfe\\xce1I\\xd8a\\xb5d,)\\x8c\\n8\\xf4\\xf5\\xa7\\xab\\x15\\xe4q\\xda\\x9a\\xcf\\xb8\\xed#\"\\x90\\xd15\\xba\\xae\\xdc\\x828<\\x13R\\x14\\'\\x0c;\\xd5B\\xe6\"\\x08\\xe7<b\\xae\\xa3n\\x04\\x91\\xd2\\x80\\xeaFN\\x0f\\x07\\x9e\\xf4\\xa98U\\xc1\\xc5\\x0e\\x9b\\x90\\x12z\\xd5v\\xe1\\x8fzE[C\\xff\\xd9'}"
        ],
        [
         "4",
         "ISIC_0024200",
         "0",
         "IP_8313778",
         "55.0",
         "male",
         "anterior torso",
         "2.73",
         "TBP tile: close-up",
         "3D: white",
         "24.72552",
         "20.05747",
         "26.4649",
         "25.71046",
         "36.21798",
         "32.60874",
         "46.94607",
         "52.04118",
         "46.27631",
         "54.85574",
         "2.101708",
         "19.90256",
         "0.0",
         "4.668053",
         "0.7544338",
         "-8.579431",
         "9.148495",
         "6.531302",
         "0.9464478",
         "Torso Front Top Half",
         "Torso Front",
         "0.929916",
         "0.001378832",
         "3.658854",
         "0.0",
         "6.467562",
         "0.0",
         "2.085409",
         "2.480509",
         "0.3134328",
         "20",
         "-72.31564",
         "1488.72",
         "21.42896",
         "Memorial Sloan Kettering Cancer Center",
         "CC-BY",
         "",
         "Benign",
         "Benign",
         "",
         "",
         "",
         "",
         "",
         null,
         "70.44251",
         "{'path': None, 'bytes': b'\\xff\\xd8\\xff\\xe0\\x00\\x10JFIF\\x00\\x01\\x01\\x00\\x00\\x01\\x00\\x01\\x00\\x00\\xff\\xdb\\x00C\\x00\\x08\\x06\\x06\\x07\\x06\\x05\\x08\\x07\\x07\\x07\\t\\t\\x08\\n\\x0c\\x14\\r\\x0c\\x0b\\x0b\\x0c\\x19\\x12\\x13\\x0f\\x14\\x1d\\x1a\\x1f\\x1e\\x1d\\x1a\\x1c\\x1c $.\\' \",#\\x1c\\x1c(7),01444\\x1f\\'9=82<.342\\xff\\xdb\\x00C\\x01\\t\\t\\t\\x0c\\x0b\\x0c\\x18\\r\\r\\x182!\\x1c!22222222222222222222222222222222222222222222222222\\xff\\xc0\\x00\\x11\\x08\\x00}\\x00}\\x03\\x01\"\\x00\\x02\\x11\\x01\\x03\\x11\\x01\\xff\\xc4\\x00\\x1f\\x00\\x00\\x01\\x05\\x01\\x01\\x01\\x01\\x01\\x01\\x00\\x00\\x00\\x00\\x00\\x00\\x00\\x00\\x01\\x02\\x03\\x04\\x05\\x06\\x07\\x08\\t\\n\\x0b\\xff\\xc4\\x00\\xb5\\x10\\x00\\x02\\x01\\x03\\x03\\x02\\x04\\x03\\x05\\x05\\x04\\x04\\x00\\x00\\x01}\\x01\\x02\\x03\\x00\\x04\\x11\\x05\\x12!1A\\x06\\x13Qa\\x07\"q\\x142\\x81\\x91\\xa1\\x08#B\\xb1\\xc1\\x15R\\xd1\\xf0$3br\\x82\\t\\n\\x16\\x17\\x18\\x19\\x1a%&\\'()*456789:CDEFGHIJSTUVWXYZcdefghijstuvwxyz\\x83\\x84\\x85\\x86\\x87\\x88\\x89\\x8a\\x92\\x93\\x94\\x95\\x96\\x97\\x98\\x99\\x9a\\xa2\\xa3\\xa4\\xa5\\xa6\\xa7\\xa8\\xa9\\xaa\\xb2\\xb3\\xb4\\xb5\\xb6\\xb7\\xb8\\xb9\\xba\\xc2\\xc3\\xc4\\xc5\\xc6\\xc7\\xc8\\xc9\\xca\\xd2\\xd3\\xd4\\xd5\\xd6\\xd7\\xd8\\xd9\\xda\\xe1\\xe2\\xe3\\xe4\\xe5\\xe6\\xe7\\xe8\\xe9\\xea\\xf1\\xf2\\xf3\\xf4\\xf5\\xf6\\xf7\\xf8\\xf9\\xfa\\xff\\xc4\\x00\\x1f\\x01\\x00\\x03\\x01\\x01\\x01\\x01\\x01\\x01\\x01\\x01\\x01\\x00\\x00\\x00\\x00\\x00\\x00\\x01\\x02\\x03\\x04\\x05\\x06\\x07\\x08\\t\\n\\x0b\\xff\\xc4\\x00\\xb5\\x11\\x00\\x02\\x01\\x02\\x04\\x04\\x03\\x04\\x07\\x05\\x04\\x04\\x00\\x01\\x02w\\x00\\x01\\x02\\x03\\x11\\x04\\x05!1\\x06\\x12AQ\\x07aq\\x13\"2\\x81\\x08\\x14B\\x91\\xa1\\xb1\\xc1\\t#3R\\xf0\\x15br\\xd1\\n\\x16$4\\xe1%\\xf1\\x17\\x18\\x19\\x1a&\\'()*56789:CDEFGHIJSTUVWXYZcdefghijstuvwxyz\\x82\\x83\\x84\\x85\\x86\\x87\\x88\\x89\\x8a\\x92\\x93\\x94\\x95\\x96\\x97\\x98\\x99\\x9a\\xa2\\xa3\\xa4\\xa5\\xa6\\xa7\\xa8\\xa9\\xaa\\xb2\\xb3\\xb4\\xb5\\xb6\\xb7\\xb8\\xb9\\xba\\xc2\\xc3\\xc4\\xc5\\xc6\\xc7\\xc8\\xc9\\xca\\xd2\\xd3\\xd4\\xd5\\xd6\\xd7\\xd8\\xd9\\xda\\xe2\\xe3\\xe4\\xe5\\xe6\\xe7\\xe8\\xe9\\xea\\xf2\\xf3\\xf4\\xf5\\xf6\\xf7\\xf8\\xf9\\xfa\\xff\\xda\\x00\\x0c\\x03\\x01\\x00\\x02\\x11\\x03\\x11\\x00?\\x00\\xb2\\n&6\\xc8\\xc3\\xd4f\\xa5\\x98y\\xb1\\xee\\x00m\\x1e\\x94\\xcb{Xn#$\\x94\\x0e;\\x03\\x8c\\xd4sB $\\x96\\x90\\x03\\xd0\\x03\\x91\\\\\\x07\\xafaa\\xf9~L7\\xaf\\x14\\xe9\"I\\x01\\xe7\\r\\xea\\xc2\\xa1[\\x92\\x19F\\xe6\\xdb\\x9e7\\x0ej\\xf0\\x9a)\\x08\\xfd\\xda\\x83\\x8cg\\x1dhac4\\xf9\\xb1\\x0c\\xa6\\x0f\\xae*Hef\\x18b3\\xf5\\xa9\\xfc\\xdf$\\x10T\\x95\\xf6\\xe6\\xa3t\\xb5\\x99w\\xae\\xe4=\\xcf\\x02\\x80\\xb0\\xf42\\x10H\\xc0\\x1e\\xc6\\xa2\\xb9\\x98\\xc7\\x80\\xfc\\x1f\\\\R\\xbcS[\\x1c\\x02\\x1cz\\xa9\\xcdF\\xeb0\\x18u\\xde\\x0fji\\xdc\\t6\\xf9\\xa1]$\\xc8\\xeb\\x8c\\xd2\\xee\\xdeJ\\xbf\\xde\\xec\\n\\xff\\x00Z\\xa9#4dmR\\xbe\\xa0U\\xa4\\xb9\\x1eO\\xcd\\x8c\\xfb\\xd1p x\\x8cn\\x19H\\\\{\\xd3L\\xd2\\x0eK\\x1cw\\x15o\\x10\\xc8\\x80n$\\x9e\\xb8\\xe8*\\xb4\\xd1y/\\xca\\xef\\x1f\\x95\\x16\\x11\\x12O\\xba\\x7f\\x99\\xb2)\\xee#nT\\xe0\\x8a\\x89\\xa3\\x85\\xd7i\\x05\\x1b\\xd4w\\xa8\\x8a|\\xc3\\xe7<\\x1aV\\x18\\xae\\x15T\\xe0\\x12s\\xd4\\x8a\\x9e\\x0f,\\xc43\\xd6\\x9e\\x02yx9\\x06\\xa1.\\x8apG\\xe5LL\\xbb\\x147(w*0\\x03\\xa9\\x07\\xa5X\\x90\\xc9*\\x15x\\xce\\x07p3P\\tn\\xa2RRBW\\xbf=jE\\xbfm\\x9b$l\\x03\\xd7\\x07\\xad\"\\x88\\xc4,\\xd0\\xed\\xce\\xe4\\x1c\\x8e\\xf8\\xa8\\xe3F\\n]\\x1b\\'8\\xc1\\xcdH\\xf3|\\xa4\\xab\\xa8\\'\\xa0\\xcf&\\x9a\\xbb\\x998\\x00\\x1cv<\\xd0\\x08i\\xf31\\x86c\\x9fj\\x8bc\\x9c2|\\xc0u\\x07\\x8a\\xb9\\x14\\xb2\\xa2\\xa9\\x903s\\xdf\\x9a\\x8a|K.[\\xe4\\x1d\\xb6\\xf1@\\x12Gx\\x17\\x00\\xc6s\\xd3\\x1d\\xa9g\\x9d\\xc6\\xdd\\x91\\xf4\\xf4\\xa8@\\x90\\xb0\\x1e`1\\xfa\\xe3&\\xa4E-\\xff\\x00-C\\x13\\xd0\\x15\\xa1h!U\\xb2wH\\xa1\\x8f`:\\xd5Y\\x90H\\xe7\\x04\\xaa\\xe7\\xbd]\\x11\\xf9{w\\x10\\xad\\xeb\\xda\\xab\\x16\\x97\\xcd \\x94#<\\x9a\\xab\\x80[\\xa0\\x04#`\\xd4\\x93\\xe58\\x01\\x88\\x1f\\x954\\xc4\\x8c\\xacK\\xe1\\xbb\\x05\\xaa\\xc4N\\x9b\\xb6\\xb3\\x15\\xef\\x9aB\\x1f\\x02\\t\\x9c\\x82T.{\\xf5\\xa9\\xee-\\xa3\\x8b%\\x93p\\xf5SU \\x94\\t?x\\xb8J\\x9e\\xe1H\\x8b|o\\xc1\\xe8\\t\\xa0\\n\\x85\\x18\\xe7\\x19+P:\\xc8\\x0f\\x04\\x91\\xda\\xaf\\xc3\\x93\\x86\\xc7^\\xf4\\xd9\\x02\\x06\\xe4\\x0f\\xca\\x98\\x17\\xbc\\xa6\\x0b\\x94l\\x8c\\xf2)$\\x8a9\\xf0\\n\\x04\\xe3\\xa8\\xab\\x1ec)\\xc3co\\xfb#\\x15\\x03\\xbeX\\xe4\\x91\\xebKq\\x91\\xc5k\\x1f\\x9aSj\\x11\\xd3=\\xc5\\x13@m\\x8eD\\xad\\x8a\\x90\\xf9j\\x81\\x90\\xe1\\xc7R;\\xd3\\x1ac,\\xbb\\\\\\xe3\\xd3<R\\x01\\xa5\\xe7R\\xb8m\\xcai\\x1d\\x1bpn\\x0ez\\x83Vv\\xa1RHl\\x1fN\\xf5\\x11\\x8d\\xd1\\x89\\xdf\\x90:\\x0e\\xf4\\xc0\\x05\\xb0\\x90\\x12\\xbdG`i1=\\xb6\\x15\\x93+\\xfd\\xean\\xd0\\xb9\\xcc\\xac\\xa4\\xf4\\xc0\\xabp\\xa3\\x08\\xd9Z]\\xeb\\xd8\\x1e\\xb4\\t\\x95\\xa4\\x90\\x98\\xc8\\xc1#\\xd2\\xab\\xc72\\x92r\\x01\\xe6\\x9f8xI(\\xa0\\x8c\\xf2\\xa6\\xaa\\x07G \\x14#\\x9f\\xce\\x81\\x97\\xc4BN\\x9c1\\xee;Pb\\x91ABU\\x94\\xd4J\\xe6\\x129`OaL\\x17[\\xae\\x00\\xcb\\x01\\x9e\\xf4\\x81\\x8e\\xd9\\xb7;\\xa3\\xe3\\xde\\xa0\\x920\\xe0\\xe3<v\\xcekFw\\x8b\\xca\\x1f\\xbd\\x1b\\x8fc\\xd6\\xa9\\x8bv\\x90\\xe63\\xb5\\xfb\\x8e\\x82\\x98\\x86!\\xd86d\\x93\\xdb\\x06\\x9a\\xc0\\xbb\\x12I\\x1fQQ\\xe5\\xa0\\xb9\\x1b\\x869\\xc1\"\\xad5\\xfa\\xe0|\\x88\\x7f:\\x00\\xb5$7j\\x17\\x03x\\xf5\\x02\\xa0\\x90\\xec\\x18}\\xc4};\\xd4\\xd0LQT\\xf9\\xaeG\\xa1n*Y\\xe4F9#\\x1f\\xca\\xa6\\xe5\\xd8\\xa1\\x03#\\xa18\\xc0\\xcf\\\\T\\x8e\\xb1\\xb0\\xe1\\x837\\x7fj\\xb1$o\\x1c$\\xc6\\x81\\x94\\x8e@\\xaa\\xc8\\x12F%T#\\x81\\xf4\\xaa\\x11b\\xdd\\xf1\\x95\\xf3\\x0bc\\xa0\\xa9\\'g@\\xbfu\\x81\\xec;U4\\x0c\\x18H\\x08-\\x9e\\xe2\\xad\\x14i\\x02\\xb2>s\\xd4c\\xa1\\xa0Ef\\x95\\xe2<\\xa6A\\xe8*u\\x9d\\x02c$?\\x00n\\xedY\\xf7\\xd3]F\\x9bB\\xf4>\\x9c\\xd5(5\\tC2\\\\9-\\xdbw4[A\\xd8\\xdbDi\\xdb/ \\xe3\\xa0\\xf5\\xa7\\xbd\\xb2\\xafX\\xba\\x1c\\x8e*\\x82\\xdc\\x89\\x0eJ\\xa2\\xe7\\x9c\\xadY\\xf3\\x8b\\xc3\\x84\\x95\\xbf:\\x10\\x88\\xdd\\xd9>m\\xbb\\xc0\\xf44\\x8d,\\x0f\\x82\\xea\\xca\\xe7\\xa1\"\\x9f\\x07\\x98X\\x86\\x01\\x86:T\\x8c\\xa1\\xce\\x18\\xa9\\'\\x8eG\\x02\\x98\\x8aD\\xee\\x91N\\x0f\\x15t6\\xd4\\x04\\xa89\\x1dEV\\x92\\x06C\\x90U\\xc7|\\x1eE$j\\xd2\\x92\\x82V\\x1e\\xd4\\xac0\\xb8e\\x93vr=*\\x9bF\\xe3\\x1f(5~[{\\x84\\x1bX\\x86P9\\xc7Z\\x868\\xe4d\\x05\\x1b\\x00\\xff\\x00\\xb5L\\x0bm\\x12?$\\x1f^)\\nn`\\x11\\xf2?\\xda5:\\xe1\\x9c\\x8f\\xba\\x0f\\x1cPl\\x989(O\\x1f\\xc3\\x8a\\x82\\xee=\\x1c\\x80\"\\'\\x03\\xd4\\x0f\\xe7P\\xdc\\xc42\\x1bv?\\xda\\x02\\x99\\x89\\x01\\xda\\x08\\xe7\\xd4TE\\xe5\\x89\\xce\\xe5\\x0c\\x99\\xe6\\xa9\\n\\xc4i$\\xa8q\\x8d\\xcb\\xdb\\x035a$`\\x99\\x04\\x85oSQ\\xa4\\xac\\xa4\\x1d\\xbc\\x01\\xc6+@4\\x171~\\xf0\\x15\\xc0\\xec\\xb9\\xa1\\x89\\x94\\x1a5s\\x83!9\\xa8\\xa7\\xb4\\x82\\xe1\\x97-\\x87\\x14\\x92\\xc5\\x89\\xff\\x00s!S\\xe9\\xd2\\x9d\\xf3+\\x85\\x90\\x00\\xde\\xb4\\x06\\xa8\\xaf\\xfd\\x96\\xf1\\x9c\\x978\\x07\\x80*C\\x1b\\xc7\\x1a\\xed \\xaf\\xb1\\xab\\xefp[\\x03#$v\\xebM\\x85#\\xe8\\xc7\\x9aHW\"\\xb7\\x9fa\\x07\\xaf\\xf5\\xa5\\xb8\\xbbW\\x9bo\\x96\\xca\\x0fz[\\x8b)\\x14\\tc\\x07oc\\xebP,\\xee\\xd2\\xfe\\xf5\\x0eG\\xa54\\x03\\x84J\\x18\\x9d\\xe7i\\xe9\\xde\\x98\\t\\xb5\\x95\\x8cl\\x19}I\\xe6\\xa4&&\\x8c\\x00J\\x91\\xea*X\\xad\\x96a\\x9d\\xc0\\xe7\\xb5P\\x15\\xcd\\xcc\\x8e\\t$\\x87>\\xfcUb\\xb1wi\\x14\\xfa)\\xe2\\xac\\xcdk$R\\x15\\x0c\\xb8\\x1d\\x88\\xa8\\xa4\\x9f\\r\\xf3\\xc3\\xb8\\xfa\\x8e)\\x02\\xd0\\xbca\\xdb\\x8c\\x1c5,\\xb3\\xc8\\xa3\\x92\\xf9\\xf5\\x07\\xad=\"\\x97i\\xc4\\x9b\\xfe\\xa2\\x98\\xe6DQ\\xb9\\x7fJE\\x11\\x84\\xf3b2\\x17!\\xc7\\xa5\\x10\\x06\\xda\\xcaIl\\xfa\\xf4\\xa9$\\x06e2\"\\x10q\\xce\\xde*(\\xdaD \\xed\\'\\xda\\x90\\x0f\\x97\\xe4!W*I\\xf4\\xc85 m\\xee\\x10|\\x9e\\xa4w\\xa65\\xc0\\x94`\\xc2\\t\\xf5\\x07\\x15\\x18Y\\x18nB\\xa4\\xfb\\x9abd\\xf3\\xdb\\x91\\x82\\x18\\xb1\\xc7R*\\x13\\x03M\\x91\\xbb\\x04\\x0e\\t4\\x86k\\xa5\\xea\\x99\\xed\\xc9\\xa7F\\x1af\\n~F\\x1e\\xf4\\x01]\\xdaH\\xdbd\\x8a\\xbb\\x81\\xe0\\xafz\\xb1\\x14\\xeab\\xc3g=\\xb8\\xab&\\xc9\\xc2\\x03\\xb5]z\\x9ey\\xaa\\x8a\\x13\\xcc\\xda\\xc3h\\x1d3\\xdf\\xebA;\\x97^h>\\xce\\xbb%u\\x97\\xa1\\x19\\xf9j\\xa1\\x8afs$$1\\xe8i\\xb8\\x8aH\\xc8\\xc8\\x04w\\x1cU\\xa8\\x19#\\x1f!*{\\xe3\\x9c\\xd3\\r\\x8aa\\xcb\\x92\\xb2\\xc7\\xcfN)\\x99X\\xa4\\xf9r\\x01\\xecE^\\xb8\"F\\x07*=\\xf1\\xcdWwx\\xce$]\\xeb\\xd4\\x15\\x19\\xc5\\x00D\\xd3\\x89\\x1fl\\x8d\\xb7=\\xcd[X\\xd1\\xd0\\x12C{\\x91P\\xdc\\x08\\xee\\x17vC6;\\xae\\rP-$\\'j\\xca@\\xed\\x9aw\\x03j2am\\xab#\\x03\\x8e\\xe3\\xa5Eu4\\xab\\xb5X)8\\xe0\\x8arJ\\x9b\\xbf{\\x86=29\\x15\\x04\\xec\\x9b\\x88/\\xf2\\xfdy\\xa8-nE\\xe72\\x1c2\\x908\\xe8x\\xabq\\xb2\\xcb\\xc9\\xf9}\\xea\\x12\\x80\\xc6\\x15@c\\x9e\\x18\\x9ei|\\x90\\xa7\\x0cJ\\xd1\\xb0\\x0b\\xe6\\x18\\x98\\x8d\\x80\\xa1\\xeehh\\x94\\x9c\\xa1(G|`\\x1av\\xd6D\\xc9\\t(\\x1d0y\\xa8\\xbe\\xd0\\xb2\\x10\\xbb6\\xe3\\xf2\\xa0Ld\\xa6U!Y\\xb1\\xfe\\xd1\\x1cRC3\\xa6I\\x19\\'\\xbd[x\\xe2#\\xab\\x95\\x03\\x8a\\xab,L>h\\x1c\\xe3\\xfb\\xac3T\\x05\\x99.c\\x92<\\xfc\\xca\\xc3\\xb84\\xc8\\xe2G-\\xfb\\xce=s\\x9a\\xa9%\\xcb\\xb22\\xbc*q\\xfd\\xd1N\\xb7\\xb8E`\\n\\xb7NhZ\\x08\\x9eXde\\x01\\x101\\x1d\\xc0\\xe6\\x9b\\x0c\\xd1\\xaeVPc\\x93\\xb5ZY\\x91\\xd7\\xf7G\\x9f\\xf6MV\\x95\\x03\\xba\\x86V\\'=M!!%\\x95_\\xe5\\x8c\\xfd3\\xd6\\xa3\\x8eyco,\\x9c!\\xeaq\\x9al\\xb0\\xa7\\x9av\\xb8R:To\\x0c\\x81\\x83a\\x8a\\xfa\\x8a\\x06_\\x8d\\xed\\xd9\\x00>\\x9dM0Y\\x19\\x06\\xe8\\x8d\\xb9_\\xfah\\xd85\\x102\\x006\\x85*;\\x1a\\xb1\\x13\\x89\\x01&\\x14\\xfci\\xa4E\\xec=-\\x91\\xfeh\\x98\\x12=\\r6kee;\\xc0\\xde:\\x1cR\\x14\\x11\\x14)\\xc6\\xeeM<\\xbb\\x13\\xb4\\x93\\x8cT\\x9ajC\\x1d\\x9c\\xaa\\xc5\\xd0\\x9c\\x01\\xd0S\\xc5\\xe7\\xee\\xf1,x=9\\x15\"ews\\x91\\xd7\\x15\\x1b9v\\xda\\xc0\\x11\\xf4\\xa4\\x17\\x15]\\x1dA\\x00\\xe0\\xfav\\xa41(\\x8fv\\xdd\\xc3\\xd4u\\xa4XC\\x890J\\xed\\xe9\\x8al\\x0cT\\xac}Cu&\\x98\\x88\\xcc\\xdeC\\x86\\xc3m\\xa7\\x1b\\xd8\\xc1\\x1eQ,\\x18`\\xe4c\\x9a\\xb77\\xca\\xcf\\x10\\x00\\xafL\\x91\\x93Y\\x92D\\x8b*`p{zU!\\x97<\\xa0[y\\xe1\\x87q\\xde\\xa3-\\x1b\\xb1;I\\x07\\x81\\xb7\\xad:9\\x9c9N\\xab\\xe9U\\xc4\\xb9\\x93*\\xa1y#\\x8a\\t\\x03o\\x86-\\x1c\\x85J\\xf4\\rO\\x8e\\xe9\\x91\\xf0\\xccA\\xfd*\\xfc\\x11##3d\\x9d\\xa4\\xf0qPGk\\x1c\\xf9\\x0f\\x92\\x0fOjH\\x08\\xa5\\x89d!\\xc0\\xdc\\x07\\xb7J@\\xeaT\\xa8\\xde\\xbfC\\xfd*\\x0f(\\xc5t\\xd0\\xab\\xb6\\xdc\\xe2\\xa1\\x9bt.@rs\\xcf4\\x01:H\\x0b\\x98\\xc4\\x98\\'\\xd2\\x9e|\\xe4\\xe1\\x91I\\xf65Q@x\\xdd\\xd8\\x02x\\xedV\\xa1\\x91\\x960\\x01#\\xf1\\xa6\\x07\\xff\\xd9'}"
        ]
       ],
       "shape": {
        "columns": 56,
        "rows": 5
       }
      },
      "text/html": [
       "<div>\n",
       "<style scoped>\n",
       "    .dataframe tbody tr th:only-of-type {\n",
       "        vertical-align: middle;\n",
       "    }\n",
       "\n",
       "    .dataframe tbody tr th {\n",
       "        vertical-align: top;\n",
       "    }\n",
       "\n",
       "    .dataframe thead th {\n",
       "        text-align: right;\n",
       "    }\n",
       "</style>\n",
       "<table border=\"1\" class=\"dataframe\">\n",
       "  <thead>\n",
       "    <tr style=\"text-align: right;\">\n",
       "      <th></th>\n",
       "      <th>isic_id</th>\n",
       "      <th>target</th>\n",
       "      <th>patient_id</th>\n",
       "      <th>age_approx</th>\n",
       "      <th>sex</th>\n",
       "      <th>anatom_site_general</th>\n",
       "      <th>clin_size_long_diam_mm</th>\n",
       "      <th>image_type</th>\n",
       "      <th>tbp_tile_type</th>\n",
       "      <th>tbp_lv_A</th>\n",
       "      <th>...</th>\n",
       "      <th>iddx_full</th>\n",
       "      <th>iddx_1</th>\n",
       "      <th>iddx_2</th>\n",
       "      <th>iddx_3</th>\n",
       "      <th>iddx_4</th>\n",
       "      <th>iddx_5</th>\n",
       "      <th>mel_mitotic_index</th>\n",
       "      <th>mel_thick_mm</th>\n",
       "      <th>tbp_lv_dnn_lesion_confidence</th>\n",
       "      <th>image</th>\n",
       "    </tr>\n",
       "  </thead>\n",
       "  <tbody>\n",
       "    <tr>\n",
       "      <th>0</th>\n",
       "      <td>ISIC_0015670</td>\n",
       "      <td>0</td>\n",
       "      <td>IP_1235828</td>\n",
       "      <td>60.0</td>\n",
       "      <td>male</td>\n",
       "      <td>lower extremity</td>\n",
       "      <td>3.04</td>\n",
       "      <td>TBP tile: close-up</td>\n",
       "      <td>3D: white</td>\n",
       "      <td>20.244422</td>\n",
       "      <td>...</td>\n",
       "      <td>Benign</td>\n",
       "      <td>Benign</td>\n",
       "      <td></td>\n",
       "      <td></td>\n",
       "      <td></td>\n",
       "      <td></td>\n",
       "      <td></td>\n",
       "      <td>NaN</td>\n",
       "      <td>97.517282</td>\n",
       "      <td>{'path': None, 'bytes': b'\\xff\\xd8\\xff\\xe0\\x00...</td>\n",
       "    </tr>\n",
       "    <tr>\n",
       "      <th>1</th>\n",
       "      <td>ISIC_0015845</td>\n",
       "      <td>0</td>\n",
       "      <td>IP_8170065</td>\n",
       "      <td>60.0</td>\n",
       "      <td>male</td>\n",
       "      <td>head/neck</td>\n",
       "      <td>1.10</td>\n",
       "      <td>TBP tile: close-up</td>\n",
       "      <td>3D: white</td>\n",
       "      <td>31.712570</td>\n",
       "      <td>...</td>\n",
       "      <td>Benign</td>\n",
       "      <td>Benign</td>\n",
       "      <td></td>\n",
       "      <td></td>\n",
       "      <td></td>\n",
       "      <td></td>\n",
       "      <td></td>\n",
       "      <td>NaN</td>\n",
       "      <td>3.141455</td>\n",
       "      <td>{'path': None, 'bytes': b'\\xff\\xd8\\xff\\xe0\\x00...</td>\n",
       "    </tr>\n",
       "    <tr>\n",
       "      <th>2</th>\n",
       "      <td>ISIC_0015864</td>\n",
       "      <td>0</td>\n",
       "      <td>IP_6724798</td>\n",
       "      <td>60.0</td>\n",
       "      <td>male</td>\n",
       "      <td>posterior torso</td>\n",
       "      <td>3.40</td>\n",
       "      <td>TBP tile: close-up</td>\n",
       "      <td>3D: XP</td>\n",
       "      <td>22.575830</td>\n",
       "      <td>...</td>\n",
       "      <td>Benign</td>\n",
       "      <td>Benign</td>\n",
       "      <td></td>\n",
       "      <td></td>\n",
       "      <td></td>\n",
       "      <td></td>\n",
       "      <td></td>\n",
       "      <td>NaN</td>\n",
       "      <td>99.804040</td>\n",
       "      <td>{'path': None, 'bytes': b'\\xff\\xd8\\xff\\xe0\\x00...</td>\n",
       "    </tr>\n",
       "    <tr>\n",
       "      <th>3</th>\n",
       "      <td>ISIC_0015902</td>\n",
       "      <td>0</td>\n",
       "      <td>IP_4111386</td>\n",
       "      <td>65.0</td>\n",
       "      <td>male</td>\n",
       "      <td>anterior torso</td>\n",
       "      <td>3.22</td>\n",
       "      <td>TBP tile: close-up</td>\n",
       "      <td>3D: XP</td>\n",
       "      <td>14.242329</td>\n",
       "      <td>...</td>\n",
       "      <td>Benign</td>\n",
       "      <td>Benign</td>\n",
       "      <td></td>\n",
       "      <td></td>\n",
       "      <td></td>\n",
       "      <td></td>\n",
       "      <td></td>\n",
       "      <td>NaN</td>\n",
       "      <td>99.989998</td>\n",
       "      <td>{'path': None, 'bytes': b'\\xff\\xd8\\xff\\xe0\\x00...</td>\n",
       "    </tr>\n",
       "    <tr>\n",
       "      <th>4</th>\n",
       "      <td>ISIC_0024200</td>\n",
       "      <td>0</td>\n",
       "      <td>IP_8313778</td>\n",
       "      <td>55.0</td>\n",
       "      <td>male</td>\n",
       "      <td>anterior torso</td>\n",
       "      <td>2.73</td>\n",
       "      <td>TBP tile: close-up</td>\n",
       "      <td>3D: white</td>\n",
       "      <td>24.725520</td>\n",
       "      <td>...</td>\n",
       "      <td>Benign</td>\n",
       "      <td>Benign</td>\n",
       "      <td></td>\n",
       "      <td></td>\n",
       "      <td></td>\n",
       "      <td></td>\n",
       "      <td></td>\n",
       "      <td>NaN</td>\n",
       "      <td>70.442510</td>\n",
       "      <td>{'path': None, 'bytes': b'\\xff\\xd8\\xff\\xe0\\x00...</td>\n",
       "    </tr>\n",
       "  </tbody>\n",
       "</table>\n",
       "<p>5 rows × 56 columns</p>\n",
       "</div>"
      ],
      "text/plain": [
       "        isic_id  target  patient_id  age_approx   sex anatom_site_general  \\\n",
       "0  ISIC_0015670       0  IP_1235828        60.0  male     lower extremity   \n",
       "1  ISIC_0015845       0  IP_8170065        60.0  male           head/neck   \n",
       "2  ISIC_0015864       0  IP_6724798        60.0  male     posterior torso   \n",
       "3  ISIC_0015902       0  IP_4111386        65.0  male      anterior torso   \n",
       "4  ISIC_0024200       0  IP_8313778        55.0  male      anterior torso   \n",
       "\n",
       "   clin_size_long_diam_mm          image_type tbp_tile_type   tbp_lv_A  ...  \\\n",
       "0                    3.04  TBP tile: close-up     3D: white  20.244422  ...   \n",
       "1                    1.10  TBP tile: close-up     3D: white  31.712570  ...   \n",
       "2                    3.40  TBP tile: close-up        3D: XP  22.575830  ...   \n",
       "3                    3.22  TBP tile: close-up        3D: XP  14.242329  ...   \n",
       "4                    2.73  TBP tile: close-up     3D: white  24.725520  ...   \n",
       "\n",
       "   iddx_full  iddx_1  iddx_2  iddx_3  iddx_4  iddx_5  mel_mitotic_index  \\\n",
       "0     Benign  Benign                                                      \n",
       "1     Benign  Benign                                                      \n",
       "2     Benign  Benign                                                      \n",
       "3     Benign  Benign                                                      \n",
       "4     Benign  Benign                                                      \n",
       "\n",
       "   mel_thick_mm  tbp_lv_dnn_lesion_confidence  \\\n",
       "0           NaN                     97.517282   \n",
       "1           NaN                      3.141455   \n",
       "2           NaN                     99.804040   \n",
       "3           NaN                     99.989998   \n",
       "4           NaN                     70.442510   \n",
       "\n",
       "                                               image  \n",
       "0  {'path': None, 'bytes': b'\\xff\\xd8\\xff\\xe0\\x00...  \n",
       "1  {'path': None, 'bytes': b'\\xff\\xd8\\xff\\xe0\\x00...  \n",
       "2  {'path': None, 'bytes': b'\\xff\\xd8\\xff\\xe0\\x00...  \n",
       "3  {'path': None, 'bytes': b'\\xff\\xd8\\xff\\xe0\\x00...  \n",
       "4  {'path': None, 'bytes': b'\\xff\\xd8\\xff\\xe0\\x00...  \n",
       "\n",
       "[5 rows x 56 columns]"
      ]
     },
     "execution_count": 14,
     "metadata": {},
     "output_type": "execute_result"
    }
   ],
   "source": [
    "from functools import partial\n",
    "from typing import TypedDict, Optional\n",
    "from datasets import Image as HFImage\n",
    "\n",
    "image_feature = HFImage()\n",
    "\n",
    "\n",
    "class EncodedImage(TypedDict):\n",
    "    path: Optional[str]\n",
    "    bytes: Optional[bytes]\n",
    "\n",
    "\n",
    "def encode_image(file: h5py.File, key: str) -> EncodedImage:\n",
    "    image = get_image(file, key)\n",
    "    return image_feature.encode_example(image)\n",
    "\n",
    "\n",
    "with h5py.File(TRAIN_IMAGES_FILE, \"r\") as f:\n",
    "    encode_train_image = partial(encode_image, f)\n",
    "    train_df[\"image\"] = train_df[\"isic_id\"].apply(encode_train_image)\n",
    "\n",
    "train_df.head()"
   ]
  },
  {
   "cell_type": "code",
   "execution_count": 15,
   "id": "1bz0l937mjn",
   "metadata": {},
   "outputs": [
    {
     "data": {
      "text/plain": [
       "DatasetDict({\n",
       "    train: Dataset({\n",
       "        features: ['isic_id', 'target', 'patient_id', 'age_approx', 'sex', 'anatom_site_general', 'clin_size_long_diam_mm', 'image_type', 'tbp_tile_type', 'tbp_lv_A', 'tbp_lv_Aext', 'tbp_lv_B', 'tbp_lv_Bext', 'tbp_lv_C', 'tbp_lv_Cext', 'tbp_lv_H', 'tbp_lv_Hext', 'tbp_lv_L', 'tbp_lv_Lext', 'tbp_lv_areaMM2', 'tbp_lv_area_perim_ratio', 'tbp_lv_color_std_mean', 'tbp_lv_deltaA', 'tbp_lv_deltaB', 'tbp_lv_deltaL', 'tbp_lv_deltaLB', 'tbp_lv_deltaLBnorm', 'tbp_lv_eccentricity', 'tbp_lv_location', 'tbp_lv_location_simple', 'tbp_lv_minorAxisMM', 'tbp_lv_nevi_confidence', 'tbp_lv_norm_border', 'tbp_lv_norm_color', 'tbp_lv_perimeterMM', 'tbp_lv_radial_color_std_max', 'tbp_lv_stdL', 'tbp_lv_stdLExt', 'tbp_lv_symm_2axis', 'tbp_lv_symm_2axis_angle', 'tbp_lv_x', 'tbp_lv_y', 'tbp_lv_z', 'attribution', 'copyright_license', 'lesion_id', 'iddx_full', 'iddx_1', 'iddx_2', 'iddx_3', 'iddx_4', 'iddx_5', 'mel_mitotic_index', 'mel_thick_mm', 'tbp_lv_dnn_lesion_confidence', 'image'],\n",
       "        num_rows: 401059\n",
       "    })\n",
       "})"
      ]
     },
     "execution_count": 15,
     "metadata": {},
     "output_type": "execute_result"
    }
   ],
   "source": [
    "from datasets import Dataset, DatasetDict, Image as HFImage\n",
    "\n",
    "train_dataset = Dataset.from_pandas(train_df)\n",
    "train_dataset.cast_column(\"image\", HFImage())\n",
    "\n",
    "dataset = DatasetDict({\"train\": train_dataset})\n",
    "\n",
    "dataset"
   ]
  },
  {
   "cell_type": "markdown",
   "id": "042b0d1f",
   "metadata": {},
   "source": [
    "# Upload\n"
   ]
  },
  {
   "cell_type": "code",
   "execution_count": 16,
   "id": "a7719e4d",
   "metadata": {},
   "outputs": [
    {
     "data": {
      "text/plain": [
       "{'type': 'user',\n",
       " 'id': '633ae6e89f5846dc43009bc7',\n",
       " 'name': 'mrbrobot',\n",
       " 'fullname': 'Josh Wiley',\n",
       " 'isPro': False,\n",
       " 'avatarUrl': 'https://cdn-avatars.huggingface.co/v1/production/uploads/633ae6e89f5846dc43009bc7/-amzcpjqsmLsukZvjrH8j.jpeg',\n",
       " 'orgs': [{'type': 'org',\n",
       "   'id': '633ae878437225ed953a6ced',\n",
       "   'name': 'cloudbend',\n",
       "   'fullname': 'Cloudbend',\n",
       "   'avatarUrl': 'https://cdn-avatars.huggingface.co/v1/production/uploads/1664804970663-633ae6e89f5846dc43009bc7.png',\n",
       "   'isEnterprise': False}],\n",
       " 'auth': {'type': 'access_token',\n",
       "  'accessToken': {'displayName': 'hercules_repo_write',\n",
       "   'role': 'fineGrained',\n",
       "   'createdAt': '2025-10-13T15:22:55.485Z',\n",
       "   'fineGrained': {'canReadGatedRepos': False,\n",
       "    'global': [],\n",
       "    'scoped': [{'entity': {'_id': '633ae6e89f5846dc43009bc7',\n",
       "       'type': 'user',\n",
       "       'name': 'mrbrobot'},\n",
       "      'permissions': ['repo.content.read', 'repo.write']}]}}}}"
      ]
     },
     "execution_count": 16,
     "metadata": {},
     "output_type": "execute_result"
    }
   ],
   "source": [
    "from huggingface_hub import whoami\n",
    "\n",
    "whoami()"
   ]
  },
  {
   "cell_type": "code",
   "execution_count": 17,
   "id": "815f03b4",
   "metadata": {},
   "outputs": [
    {
     "data": {
      "application/vnd.jupyter.widget-view+json": {
       "model_id": "2ce781ef13b346a9ba390f89d84f68b4",
       "version_major": 2,
       "version_minor": 0
      },
      "text/plain": [
       "Uploading the dataset shards:   0%|          | 0/3 [00:00<?, ? shards/s]"
      ]
     },
     "metadata": {},
     "output_type": "display_data"
    },
    {
     "data": {
      "application/vnd.jupyter.widget-view+json": {
       "model_id": "318700c0f2524a37839f295377958a3c",
       "version_major": 2,
       "version_minor": 0
      },
      "text/plain": [
       "Creating parquet from Arrow format:   0%|          | 0/5 [00:00<?, ?ba/s]"
      ]
     },
     "metadata": {},
     "output_type": "display_data"
    },
    {
     "data": {
      "application/vnd.jupyter.widget-view+json": {
       "model_id": "16bcfaea8d4541acbab60b8d4d853a78",
       "version_major": 2,
       "version_minor": 0
      },
      "text/plain": [
       "Processing Files (0 / 0): |          |  0.00B /  0.00B            "
      ]
     },
     "metadata": {},
     "output_type": "display_data"
    },
    {
     "data": {
      "application/vnd.jupyter.widget-view+json": {
       "model_id": "f0bbc1ef9dca40f58095fb3dea37d7ff",
       "version_major": 2,
       "version_minor": 0
      },
      "text/plain": [
       "New Data Upload: |          |  0.00B /  0.00B            "
      ]
     },
     "metadata": {},
     "output_type": "display_data"
    },
    {
     "data": {
      "application/vnd.jupyter.widget-view+json": {
       "model_id": "ec2650cf6fa746dca0ec487bd79b10ee",
       "version_major": 2,
       "version_minor": 0
      },
      "text/plain": [
       "Creating parquet from Arrow format:   0%|          | 0/5 [00:00<?, ?ba/s]"
      ]
     },
     "metadata": {},
     "output_type": "display_data"
    },
    {
     "data": {
      "application/vnd.jupyter.widget-view+json": {
       "model_id": "e5d74af6022a442fb11078f14bd28bc4",
       "version_major": 2,
       "version_minor": 0
      },
      "text/plain": [
       "Processing Files (0 / 0): |          |  0.00B /  0.00B            "
      ]
     },
     "metadata": {},
     "output_type": "display_data"
    },
    {
     "data": {
      "application/vnd.jupyter.widget-view+json": {
       "model_id": "0910a9c9d1694218ba3d7bbc39722d6f",
       "version_major": 2,
       "version_minor": 0
      },
      "text/plain": [
       "New Data Upload: |          |  0.00B /  0.00B            "
      ]
     },
     "metadata": {},
     "output_type": "display_data"
    },
    {
     "data": {
      "application/vnd.jupyter.widget-view+json": {
       "model_id": "bc9fb5bfea0f48f7b7c36bc8e9c9475b",
       "version_major": 2,
       "version_minor": 0
      },
      "text/plain": [
       "Creating parquet from Arrow format:   0%|          | 0/5 [00:00<?, ?ba/s]"
      ]
     },
     "metadata": {},
     "output_type": "display_data"
    },
    {
     "data": {
      "application/vnd.jupyter.widget-view+json": {
       "model_id": "08b883efc8274c50b4bd0c8c48065203",
       "version_major": 2,
       "version_minor": 0
      },
      "text/plain": [
       "Processing Files (0 / 0): |          |  0.00B /  0.00B            "
      ]
     },
     "metadata": {},
     "output_type": "display_data"
    },
    {
     "data": {
      "application/vnd.jupyter.widget-view+json": {
       "model_id": "795dff7a325844e5a6310f44f6edadcf",
       "version_major": 2,
       "version_minor": 0
      },
      "text/plain": [
       "New Data Upload: |          |  0.00B /  0.00B            "
      ]
     },
     "metadata": {},
     "output_type": "display_data"
    },
    {
     "data": {
      "text/plain": [
       "CommitInfo(commit_url='https://huggingface.co/datasets/mrbrobot/isic-2024/commit/bc36ecd20c1bb85ca09f8068b84ced843cd67433', commit_message='ISIC 2024 - Skin Cancer Detection with 3D-TBP', commit_description='', oid='bc36ecd20c1bb85ca09f8068b84ced843cd67433', pr_url=None, repo_url=RepoUrl('https://huggingface.co/datasets/mrbrobot/isic-2024', endpoint='https://huggingface.co', repo_type='dataset', repo_id='mrbrobot/isic-2024'), pr_revision=None, pr_num=None)"
      ]
     },
     "execution_count": 17,
     "metadata": {},
     "output_type": "execute_result"
    }
   ],
   "source": [
    "username = whoami()[\"name\"]\n",
    "\n",
    "dataset.push_to_hub(\n",
    "    f\"{username}/isic-2024\",\n",
    "    private=False,\n",
    "    commit_message=\"ISIC 2024 - Skin Cancer Detection with 3D-TBP\",\n",
    ")"
   ]
  },
  {
   "cell_type": "markdown",
   "id": "994ae20b",
   "metadata": {},
   "source": [
    "# Cleanup\n"
   ]
  },
  {
   "cell_type": "code",
   "execution_count": 18,
   "id": "ba25c0cb",
   "metadata": {},
   "outputs": [],
   "source": [
    "!rm -rf $DATA_DIR"
   ]
  }
 ],
 "metadata": {
  "kernelspec": {
   "display_name": "isic",
   "language": "python",
   "name": "python3"
  },
  "language_info": {
   "codemirror_mode": {
    "name": "ipython",
    "version": 3
   },
   "file_extension": ".py",
   "mimetype": "text/x-python",
   "name": "python",
   "nbconvert_exporter": "python",
   "pygments_lexer": "ipython3",
   "version": "3.12.11"
  }
 },
 "nbformat": 4,
 "nbformat_minor": 5
}
