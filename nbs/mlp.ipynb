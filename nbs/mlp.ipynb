{
 "cells": [
  {
   "cell_type": "markdown",
   "metadata": {},
   "source": [
    "# Setup\n"
   ]
  },
  {
   "cell_type": "code",
   "execution_count": 1,
   "metadata": {},
   "outputs": [],
   "source": [
    "%load_ext autoreload\n",
    "%autoreload 2"
   ]
  },
  {
   "cell_type": "code",
   "execution_count": 2,
   "metadata": {},
   "outputs": [],
   "source": [
    "params = {\n",
    "    \"epochs\": 8,\n",
    "    \"batch_size\": 128,\n",
    "    \"learning_rate\": 0.001,\n",
    "    \"class_power\": 0.9,  # between 0 and 1 (inclusive), scales positive class weight (0 removes class weighting, 1 leaves class ratio unchanged)\n",
    "    \"focal_power\": 2,  # focusing parameter (gamma) in focal loss (default 2)\n",
    "    \"image_size\": 128,  # target image size, images resized to fit in square where sides or of this length\n",
    "    \"threshold\": 0.5,  # probability threshold for positive classification\n",
    "    \"seed\": 42,  # rng seed for reproducibility\n",
    "    # model architecture\n",
    "    \"image_layer_dims\": [128, 64, 32],  # accepts flattened image\n",
    "    \"metadata_layer_dims\": [8, 16, 32],  # accepts metatadata tensor from dataloader\n",
    "    \"fusion_layer_dims\": [16, 8],  # accepts concat of encoded image & metadata\n",
    "}\n",
    "\n",
    "epochs = params[\"epochs\"]\n",
    "batch_size = params[\"batch_size\"]\n",
    "lr = params[\"learning_rate\"]\n",
    "class_power = params[\"class_power\"]\n",
    "focal_power = params[\"focal_power\"]\n",
    "\n",
    "img_size = params[\"image_size\"], params[\"image_size\"]\n",
    "image_shape = params[\"image_size\"], params[\"image_size\"], 3\n",
    "threshold = params[\"threshold\"]\n",
    "seed = params[\"seed\"]\n",
    "\n",
    "# model architecture params\n",
    "image_layer_dims = params[\"image_layer_dims\"]\n",
    "metadata_layer_dims = params[\"metadata_layer_dims\"]\n",
    "fusion_layer_dims = params[\"fusion_layer_dims\"]"
   ]
  },
  {
   "cell_type": "code",
   "execution_count": 3,
   "metadata": {},
   "outputs": [
    {
     "data": {
      "text/plain": [
       "device(type='cuda')"
      ]
     },
     "execution_count": 3,
     "metadata": {},
     "output_type": "execute_result"
    }
   ],
   "source": [
    "import torch\n",
    "\n",
    "device = torch.device(\"cuda\" if torch.cuda.is_available() else \"cpu\")\n",
    "\n",
    "device"
   ]
  },
  {
   "cell_type": "code",
   "execution_count": 4,
   "metadata": {},
   "outputs": [],
   "source": [
    "import torch\n",
    "\n",
    "torch.manual_seed(seed)\n",
    "generator = torch.Generator().manual_seed(seed)"
   ]
  },
  {
   "cell_type": "code",
   "execution_count": 5,
   "metadata": {},
   "outputs": [],
   "source": [
    "import torch\n",
    "\n",
    "torch.set_float32_matmul_precision(\"high\")"
   ]
  },
  {
   "cell_type": "markdown",
   "metadata": {},
   "source": [
    "# Dataset\n"
   ]
  },
  {
   "cell_type": "code",
   "execution_count": 6,
   "metadata": {},
   "outputs": [
    {
     "data": {
      "text/plain": [
       "401059"
      ]
     },
     "execution_count": 6,
     "metadata": {},
     "output_type": "execute_result"
    }
   ],
   "source": [
    "from datasets import load_dataset\n",
    "from isic.dataset import ImageEncoder, MetadataEncoder, collate_batch\n",
    "\n",
    "ds = load_dataset(\"mrbrobot/isic-2024\", split=\"train\")\n",
    "ds = ds.select_columns([\"image\", \"age_approx\", \"sex\", \"anatom_site_general\", \"target\"])\n",
    "\n",
    "len(ds)"
   ]
  },
  {
   "cell_type": "code",
   "execution_count": 7,
   "metadata": {},
   "outputs": [],
   "source": [
    "# encode metadata\n",
    "metadata_encoder = MetadataEncoder().fit(ds)\n",
    "ds = ds.with_format(\"arrow\")\n",
    "ds = ds.map(\n",
    "    metadata_encoder,\n",
    "    batched=True,\n",
    "    batch_size=1000,\n",
    "    desc=\"Encoding metadata columns\",\n",
    ")\n",
    "\n",
    "# encode images\n",
    "image_encoder = ImageEncoder(image_size=img_size)\n",
    "ds = ds.with_format(\"torch\")\n",
    "ds = ds.with_transform(image_encoder, columns=[\"image\"], output_all_columns=True)"
   ]
  },
  {
   "cell_type": "markdown",
   "metadata": {},
   "source": [
    "# Model Definition\n"
   ]
  },
  {
   "cell_type": "code",
   "execution_count": 8,
   "metadata": {},
   "outputs": [
    {
     "data": {
      "text/plain": [
       "FusionMLPModel(\n",
       "  (image_stack): Sequential(\n",
       "    (0): Flatten(start_dim=1, end_dim=-1)\n",
       "    (1): MLP(\n",
       "      (network): Sequential(\n",
       "        (0): Linear(in_features=49152, out_features=128, bias=True)\n",
       "        (1): ReLU()\n",
       "        (2): Linear(in_features=128, out_features=64, bias=True)\n",
       "        (3): ReLU()\n",
       "        (4): Linear(in_features=64, out_features=32, bias=True)\n",
       "        (5): ReLU()\n",
       "      )\n",
       "    )\n",
       "  )\n",
       "  (metadata_stack): MLP(\n",
       "    (network): Sequential(\n",
       "      (0): Linear(in_features=8, out_features=16, bias=True)\n",
       "      (1): ReLU()\n",
       "      (2): Linear(in_features=16, out_features=32, bias=True)\n",
       "      (3): ReLU()\n",
       "    )\n",
       "  )\n",
       "  (fusion_head): Sequential(\n",
       "    (0): MLP(\n",
       "      (network): Sequential(\n",
       "        (0): Linear(in_features=64, out_features=16, bias=True)\n",
       "        (1): ReLU()\n",
       "        (2): Linear(in_features=16, out_features=8, bias=True)\n",
       "        (3): ReLU()\n",
       "      )\n",
       "    )\n",
       "    (1): Linear(in_features=8, out_features=1, bias=True)\n",
       "  )\n",
       ")"
      ]
     },
     "execution_count": 8,
     "metadata": {},
     "output_type": "execute_result"
    }
   ],
   "source": [
    "from isic.models import FusionMLPModel\n",
    "\n",
    "model = FusionMLPModel(\n",
    "    image_shape=image_shape,\n",
    "    image_layer_dims=image_layer_dims,\n",
    "    metadata_layer_dims=metadata_layer_dims,\n",
    "    fusion_layer_dims=fusion_layer_dims,\n",
    ").to(device)\n",
    "\n",
    "model"
   ]
  },
  {
   "cell_type": "code",
   "execution_count": 9,
   "metadata": {},
   "outputs": [
    {
     "data": {
      "text/plain": [
       "6303793"
      ]
     },
     "execution_count": 9,
     "metadata": {},
     "output_type": "execute_result"
    }
   ],
   "source": [
    "total_params = sum(p.numel() for p in model.parameters() if p.requires_grad)\n",
    "\n",
    "total_params"
   ]
  },
  {
   "cell_type": "markdown",
   "metadata": {},
   "source": [
    "# Training\n"
   ]
  },
  {
   "cell_type": "code",
   "execution_count": 10,
   "metadata": {},
   "outputs": [
    {
     "name": "stdout",
     "output_type": "stream",
     "text": [
      "Model device: cuda:0\n",
      "Total parameters: 6,303,793\n",
      "Trainable parameters: 6,303,793\n"
     ]
    }
   ],
   "source": [
    "optimizer = torch.optim.Adam(model.parameters(), lr=lr)\n",
    "\n",
    "print(f\"Model device: {next(model.parameters()).device}\")\n",
    "print(f\"Total parameters: {sum(p.numel() for p in model.parameters()):,}\")\n",
    "print(\n",
    "    f\"Trainable parameters: {sum(p.numel() for p in model.parameters() if p.requires_grad):,}\"\n",
    ")"
   ]
  },
  {
   "cell_type": "markdown",
   "metadata": {},
   "source": [
    "Class imbalance measurement & handling\n"
   ]
  },
  {
   "cell_type": "code",
   "execution_count": 11,
   "metadata": {},
   "outputs": [
    {
     "name": "stdout",
     "output_type": "stream",
     "text": [
      "Class Distribution:\n",
      "Benign: 400,666 samples\n",
      "Malignant: 393 samples\n",
      "Imbalance ratio: 1019.5:1\n"
     ]
    }
   ],
   "source": [
    "class_counts = [400666, 393]  # [benign, malignant] from EDA\n",
    "\n",
    "print(\"Class Distribution:\")\n",
    "print(f\"Benign: {class_counts[0]:,} samples\")\n",
    "print(f\"Malignant: {class_counts[1]:,} samples\")\n",
    "print(f\"Imbalance ratio: {class_counts[0] / class_counts[1]:.1f}:1\")"
   ]
  },
  {
   "cell_type": "code",
   "execution_count": 12,
   "metadata": {},
   "outputs": [
    {
     "name": "stdout",
     "output_type": "stream",
     "text": [
      "Positive weight: 1019.5\n",
      "Scaled positive class weight: 510.0\n"
     ]
    }
   ],
   "source": [
    "df = ds.to_pandas()\n",
    "neg_count = (df[\"target\"] == 0).sum()\n",
    "pos_count = (df[\"target\"] == 1).sum()\n",
    "pos_weight = neg_count / pos_count\n",
    "\n",
    "print(f\"Positive weight: {pos_weight:.1f}\")\n",
    "print(f\"Scaled positive class weight: {pos_weight**class_power:.1f}\")"
   ]
  },
  {
   "cell_type": "code",
   "execution_count": 13,
   "metadata": {},
   "outputs": [],
   "source": [
    "from isic.loss import WeightedFocalLoss\n",
    "\n",
    "scaled_pos_weight = torch.tensor([pos_weight**class_power], device=device)\n",
    "criterion = WeightedFocalLoss(pos_weight=scaled_pos_weight, gamma=focal_power)"
   ]
  },
  {
   "cell_type": "code",
   "execution_count": 14,
   "metadata": {},
   "outputs": [
    {
     "name": "stdout",
     "output_type": "stream",
     "text": [
      "Batches per epoch - Train: 2507, Val: 627\n"
     ]
    }
   ],
   "source": [
    "from torch.utils.data import DataLoader\n",
    "\n",
    "split = ds.train_test_split(test_size=0.2, seed=seed)\n",
    "train_ds, val_ds = split[\"train\"], split[\"test\"]\n",
    "\n",
    "train_loader = DataLoader(\n",
    "    train_ds,\n",
    "    batch_size=batch_size,\n",
    "    shuffle=True,\n",
    "    collate_fn=collate_batch,\n",
    ")\n",
    "val_loader = DataLoader(\n",
    "    val_ds,\n",
    "    batch_size=batch_size,\n",
    "    shuffle=False,\n",
    "    collate_fn=collate_batch,\n",
    ")\n",
    "\n",
    "print(f\"Batches per epoch - Train: {len(train_loader)}, Val: {len(val_loader)}\")"
   ]
  },
  {
   "cell_type": "code",
   "execution_count": 15,
   "metadata": {},
   "outputs": [
    {
     "name": "stdout",
     "output_type": "stream",
     "text": [
      "* Trackio project initialized: mlp\n",
      "* Trackio metrics logged to: /home/vscode/.cache/huggingface/trackio\n",
      "* View dashboard by running in your terminal:\n",
      "\u001b[1m\u001b[38;5;208mtrackio show --project \"mlp\"\u001b[0m\n",
      "* or by running in Python: trackio.show(project=\"mlp\")\n",
      "* Created new run: brave-forest-1\n",
      "\n",
      "Epoch 1/8\n",
      "------------------------------------------------------------\n"
     ]
    },
    {
     "name": "stderr",
     "output_type": "stream",
     "text": [
      "WARNING:root:No positive instances have been seen in target. Recall is converted from NaN to 0s.\n"
     ]
    },
    {
     "name": "stdout",
     "output_type": "stream",
     "text": [
      "Batch   0/2507: Loss: 0.1737 | Precision: 0.000 | Recall: 0.000\n",
      "Batch 100/2507: Loss: 2.9075 | Precision: 0.001 | Recall: 0.286\n",
      "Batch 200/2507: Loss: 0.1519 | Precision: 0.001 | Recall: 0.357\n",
      "Batch 300/2507: Loss: 0.1552 | Precision: 0.001 | Recall: 0.244\n",
      "Batch 400/2507: Loss: 0.1337 | Precision: 0.001 | Recall: 0.200\n",
      "Batch 500/2507: Loss: 3.3835 | Precision: 0.001 | Recall: 0.179\n",
      "Batch 600/2507: Loss: 0.1652 | Precision: 0.001 | Recall: 0.149\n",
      "Batch 700/2507: Loss: 0.1651 | Precision: 0.001 | Recall: 0.123\n",
      "Batch 800/2507: Loss: 0.1632 | Precision: 0.001 | Recall: 0.135\n",
      "Batch 900/2507: Loss: 0.1645 | Precision: 0.001 | Recall: 0.134\n",
      "Batch 1000/2507: Loss: 0.1591 | Precision: 0.002 | Recall: 0.137\n",
      "Batch 1100/2507: Loss: 0.1569 | Precision: 0.002 | Recall: 0.145\n",
      "Batch 1200/2507: Loss: 3.2494 | Precision: 0.002 | Recall: 0.138\n",
      "Batch 1300/2507: Loss: 0.1524 | Precision: 0.002 | Recall: 0.138\n",
      "Batch 1400/2507: Loss: 0.1553 | Precision: 0.002 | Recall: 0.138\n",
      "Batch 1500/2507: Loss: 0.1585 | Precision: 0.002 | Recall: 0.142\n",
      "Batch 1600/2507: Loss: 0.1486 | Precision: 0.002 | Recall: 0.136\n",
      "Batch 1700/2507: Loss: 0.1539 | Precision: 0.002 | Recall: 0.127\n",
      "Batch 1800/2507: Loss: 0.1419 | Precision: 0.002 | Recall: 0.127\n",
      "Batch 1900/2507: Loss: 0.1322 | Precision: 0.002 | Recall: 0.135\n",
      "Batch 2000/2507: Loss: 0.1181 | Precision: 0.002 | Recall: 0.134\n",
      "Batch 2100/2507: Loss: 0.1299 | Precision: 0.002 | Recall: 0.135\n",
      "Batch 2200/2507: Loss: 0.1367 | Precision: 0.002 | Recall: 0.139\n",
      "Batch 2300/2507: Loss: 0.1462 | Precision: 0.002 | Recall: 0.150\n",
      "Batch 2400/2507: Loss: 0.1691 | Precision: 0.002 | Recall: 0.163\n",
      "Batch 2500/2507: Loss: 0.1464 | Precision: 0.002 | Recall: 0.159\n"
     ]
    },
    {
     "data": {
      "text/html": [
       "<pre style=\"white-space:pre;overflow-x:auto;line-height:normal;font-family:Menlo,'DejaVu Sans Mono',consolas,'Courier New',monospace\"><span style=\"font-style: italic\">   Validation Confusion Matrix    </span>\n",
       "┏━━━━━━━━━━━┳━━━━━━━━┳━━━━━━━━━━━┓\n",
       "┃<span style=\"font-weight: bold\">           </span>┃<span style=\"font-weight: bold\"> Benign </span>┃<span style=\"font-weight: bold\"> Malignant </span>┃\n",
       "┡━━━━━━━━━━━╇━━━━━━━━╇━━━━━━━━━━━┩\n",
       "│<span style=\"color: #7f7f7f; text-decoration-color: #7f7f7f\"> Benign    </span>│ 76,813 │     3,320 │\n",
       "│<span style=\"color: #7f7f7f; text-decoration-color: #7f7f7f\"> Malignant </span>│     63 │        16 │\n",
       "└───────────┴────────┴───────────┘\n",
       "<span style=\"color: #7f7f7f; text-decoration-color: #7f7f7f; font-style: italic\">Rows: Actual | Columns: Predicted </span>\n",
       "</pre>\n"
      ],
      "text/plain": [
       "\u001b[3m   Validation Confusion Matrix    \u001b[0m\n",
       "┏━━━━━━━━━━━┳━━━━━━━━┳━━━━━━━━━━━┓\n",
       "┃\u001b[1m \u001b[0m\u001b[1m         \u001b[0m\u001b[1m \u001b[0m┃\u001b[1m \u001b[0m\u001b[1mBenign\u001b[0m\u001b[1m \u001b[0m┃\u001b[1m \u001b[0m\u001b[1mMalignant\u001b[0m\u001b[1m \u001b[0m┃\n",
       "┡━━━━━━━━━━━╇━━━━━━━━╇━━━━━━━━━━━┩\n",
       "│\u001b[2m \u001b[0m\u001b[2mBenign   \u001b[0m\u001b[2m \u001b[0m│ 76,813 │     3,320 │\n",
       "│\u001b[2m \u001b[0m\u001b[2mMalignant\u001b[0m\u001b[2m \u001b[0m│     63 │        16 │\n",
       "└───────────┴────────┴───────────┘\n",
       "\u001b[2;3mRows: Actual | Columns: Predicted \u001b[0m\n"
      ]
     },
     "metadata": {},
     "output_type": "display_data"
    },
    {
     "name": "stdout",
     "output_type": "stream",
     "text": [
      "\n",
      "Epoch 2/8\n",
      "------------------------------------------------------------\n"
     ]
    },
    {
     "name": "stderr",
     "output_type": "stream",
     "text": [
      "WARNING:root:No positive instances have been seen in target. Recall is converted from NaN to 0s.\n"
     ]
    },
    {
     "name": "stdout",
     "output_type": "stream",
     "text": [
      "Batch   0/2507: Loss: 0.1408 | Precision: 0.000 | Recall: 0.000\n",
      "Batch 100/2507: Loss: 0.1347 | Precision: 0.006 | Recall: 0.375\n",
      "Batch 200/2507: Loss: 0.1555 | Precision: 0.005 | Recall: 0.200\n",
      "Batch 300/2507: Loss: 0.1406 | Precision: 0.004 | Recall: 0.154\n",
      "Batch 400/2507: Loss: 0.1371 | Precision: 0.005 | Recall: 0.188\n",
      "Batch 500/2507: Loss: 0.1321 | Precision: 0.005 | Recall: 0.196\n",
      "Batch 600/2507: Loss: 0.1207 | Precision: 0.004 | Recall: 0.182\n",
      "Batch 700/2507: Loss: 3.2922 | Precision: 0.004 | Recall: 0.162\n",
      "Batch 800/2507: Loss: 0.1354 | Precision: 0.005 | Recall: 0.191\n",
      "Batch 900/2507: Loss: 0.1439 | Precision: 0.005 | Recall: 0.198\n",
      "Batch 1000/2507: Loss: 0.1235 | Precision: 0.005 | Recall: 0.186\n",
      "Batch 1100/2507: Loss: 0.1325 | Precision: 0.005 | Recall: 0.181\n",
      "Batch 1200/2507: Loss: 0.1298 | Precision: 0.005 | Recall: 0.172\n",
      "Batch 1300/2507: Loss: 0.1362 | Precision: 0.005 | Recall: 0.182\n",
      "Batch 1400/2507: Loss: 0.1697 | Precision: 0.005 | Recall: 0.181\n",
      "Batch 1500/2507: Loss: 0.1355 | Precision: 0.005 | Recall: 0.183\n",
      "Batch 1600/2507: Loss: 0.1733 | Precision: 0.005 | Recall: 0.185\n",
      "Batch 1700/2507: Loss: 0.1799 | Precision: 0.005 | Recall: 0.173\n",
      "Batch 1800/2507: Loss: 0.1927 | Precision: 0.004 | Recall: 0.197\n",
      "Batch 1900/2507: Loss: 0.1529 | Precision: 0.004 | Recall: 0.198\n",
      "Batch 2000/2507: Loss: 0.1365 | Precision: 0.004 | Recall: 0.197\n",
      "Batch 2100/2507: Loss: 0.1540 | Precision: 0.004 | Recall: 0.204\n",
      "Batch 2200/2507: Loss: 0.1381 | Precision: 0.004 | Recall: 0.200\n",
      "Batch 2300/2507: Loss: 0.1355 | Precision: 0.004 | Recall: 0.198\n",
      "Batch 2400/2507: Loss: 0.1177 | Precision: 0.004 | Recall: 0.207\n",
      "Batch 2500/2507: Loss: 0.1441 | Precision: 0.005 | Recall: 0.217\n"
     ]
    },
    {
     "data": {
      "text/html": [
       "<pre style=\"white-space:pre;overflow-x:auto;line-height:normal;font-family:Menlo,'DejaVu Sans Mono',consolas,'Courier New',monospace\"><span style=\"font-style: italic\">   Validation Confusion Matrix    </span>\n",
       "┏━━━━━━━━━━━┳━━━━━━━━┳━━━━━━━━━━━┓\n",
       "┃<span style=\"font-weight: bold\">           </span>┃<span style=\"font-weight: bold\"> Benign </span>┃<span style=\"font-weight: bold\"> Malignant </span>┃\n",
       "┡━━━━━━━━━━━╇━━━━━━━━╇━━━━━━━━━━━┩\n",
       "│<span style=\"color: #7f7f7f; text-decoration-color: #7f7f7f\"> Benign    </span>│ 76,864 │     3,269 │\n",
       "│<span style=\"color: #7f7f7f; text-decoration-color: #7f7f7f\"> Malignant </span>│     63 │        16 │\n",
       "└───────────┴────────┴───────────┘\n",
       "<span style=\"color: #7f7f7f; text-decoration-color: #7f7f7f; font-style: italic\">Rows: Actual | Columns: Predicted </span>\n",
       "</pre>\n"
      ],
      "text/plain": [
       "\u001b[3m   Validation Confusion Matrix    \u001b[0m\n",
       "┏━━━━━━━━━━━┳━━━━━━━━┳━━━━━━━━━━━┓\n",
       "┃\u001b[1m \u001b[0m\u001b[1m         \u001b[0m\u001b[1m \u001b[0m┃\u001b[1m \u001b[0m\u001b[1mBenign\u001b[0m\u001b[1m \u001b[0m┃\u001b[1m \u001b[0m\u001b[1mMalignant\u001b[0m\u001b[1m \u001b[0m┃\n",
       "┡━━━━━━━━━━━╇━━━━━━━━╇━━━━━━━━━━━┩\n",
       "│\u001b[2m \u001b[0m\u001b[2mBenign   \u001b[0m\u001b[2m \u001b[0m│ 76,864 │     3,269 │\n",
       "│\u001b[2m \u001b[0m\u001b[2mMalignant\u001b[0m\u001b[2m \u001b[0m│     63 │        16 │\n",
       "└───────────┴────────┴───────────┘\n",
       "\u001b[2;3mRows: Actual | Columns: Predicted \u001b[0m\n"
      ]
     },
     "metadata": {},
     "output_type": "display_data"
    },
    {
     "name": "stderr",
     "output_type": "stream",
     "text": [
      "WARNING:root:No positive instances have been seen in target. Recall is converted from NaN to 0s.\n"
     ]
    },
    {
     "name": "stdout",
     "output_type": "stream",
     "text": [
      "\n",
      "Epoch 3/8\n",
      "------------------------------------------------------------\n",
      "Batch   0/2507: Loss: 0.1416 | Precision: 0.000 | Recall: 0.000\n",
      "Batch 100/2507: Loss: 0.1738 | Precision: 0.003 | Recall: 0.250\n",
      "Batch 200/2507: Loss: 0.1300 | Precision: 0.003 | Recall: 0.227\n",
      "Batch 300/2507: Loss: 0.1283 | Precision: 0.004 | Recall: 0.233\n",
      "Batch 400/2507: Loss: 0.1225 | Precision: 0.004 | Recall: 0.220\n",
      "Batch 500/2507: Loss: 0.1381 | Precision: 0.005 | Recall: 0.245\n",
      "Batch 600/2507: Loss: 0.1406 | Precision: 0.004 | Recall: 0.200\n",
      "Batch 700/2507: Loss: 0.1452 | Precision: 0.004 | Recall: 0.188\n",
      "Batch 800/2507: Loss: 0.1451 | Precision: 0.005 | Recall: 0.217\n",
      "Batch 900/2507: Loss: 0.1397 | Precision: 0.005 | Recall: 0.221\n",
      "Batch 1000/2507: Loss: 3.3340 | Precision: 0.006 | Recall: 0.226\n",
      "Batch 1100/2507: Loss: 0.1275 | Precision: 0.006 | Recall: 0.217\n",
      "Batch 1200/2507: Loss: 0.1528 | Precision: 0.005 | Recall: 0.204\n",
      "Batch 1300/2507: Loss: 0.1394 | Precision: 0.005 | Recall: 0.199\n",
      "Batch 1400/2507: Loss: 0.1713 | Precision: 0.006 | Recall: 0.209\n",
      "Batch 1500/2507: Loss: 0.1689 | Precision: 0.006 | Recall: 0.212\n",
      "Batch 1600/2507: Loss: 0.1506 | Precision: 0.006 | Recall: 0.213\n",
      "Batch 1700/2507: Loss: 0.1268 | Precision: 0.006 | Recall: 0.216\n",
      "Batch 1800/2507: Loss: 1.1942 | Precision: 0.006 | Recall: 0.218\n",
      "Batch 1900/2507: Loss: 0.1398 | Precision: 0.006 | Recall: 0.210\n",
      "Batch 2000/2507: Loss: 0.1708 | Precision: 0.006 | Recall: 0.216\n",
      "Batch 2100/2507: Loss: 0.1433 | Precision: 0.006 | Recall: 0.217\n",
      "Batch 2200/2507: Loss: 0.1333 | Precision: 0.006 | Recall: 0.218\n",
      "Batch 2300/2507: Loss: 3.4314 | Precision: 0.006 | Recall: 0.207\n",
      "Batch 2400/2507: Loss: 0.1562 | Precision: 0.006 | Recall: 0.205\n",
      "Batch 2500/2507: Loss: 3.0824 | Precision: 0.006 | Recall: 0.198\n"
     ]
    },
    {
     "data": {
      "text/html": [
       "<pre style=\"white-space:pre;overflow-x:auto;line-height:normal;font-family:Menlo,'DejaVu Sans Mono',consolas,'Courier New',monospace\"><span style=\"font-style: italic\">   Validation Confusion Matrix    </span>\n",
       "┏━━━━━━━━━━━┳━━━━━━━━┳━━━━━━━━━━━┓\n",
       "┃<span style=\"font-weight: bold\">           </span>┃<span style=\"font-weight: bold\"> Benign </span>┃<span style=\"font-weight: bold\"> Malignant </span>┃\n",
       "┡━━━━━━━━━━━╇━━━━━━━━╇━━━━━━━━━━━┩\n",
       "│<span style=\"color: #7f7f7f; text-decoration-color: #7f7f7f\"> Benign    </span>│ 77,104 │     3,029 │\n",
       "│<span style=\"color: #7f7f7f; text-decoration-color: #7f7f7f\"> Malignant </span>│     63 │        16 │\n",
       "└───────────┴────────┴───────────┘\n",
       "<span style=\"color: #7f7f7f; text-decoration-color: #7f7f7f; font-style: italic\">Rows: Actual | Columns: Predicted </span>\n",
       "</pre>\n"
      ],
      "text/plain": [
       "\u001b[3m   Validation Confusion Matrix    \u001b[0m\n",
       "┏━━━━━━━━━━━┳━━━━━━━━┳━━━━━━━━━━━┓\n",
       "┃\u001b[1m \u001b[0m\u001b[1m         \u001b[0m\u001b[1m \u001b[0m┃\u001b[1m \u001b[0m\u001b[1mBenign\u001b[0m\u001b[1m \u001b[0m┃\u001b[1m \u001b[0m\u001b[1mMalignant\u001b[0m\u001b[1m \u001b[0m┃\n",
       "┡━━━━━━━━━━━╇━━━━━━━━╇━━━━━━━━━━━┩\n",
       "│\u001b[2m \u001b[0m\u001b[2mBenign   \u001b[0m\u001b[2m \u001b[0m│ 77,104 │     3,029 │\n",
       "│\u001b[2m \u001b[0m\u001b[2mMalignant\u001b[0m\u001b[2m \u001b[0m│     63 │        16 │\n",
       "└───────────┴────────┴───────────┘\n",
       "\u001b[2;3mRows: Actual | Columns: Predicted \u001b[0m\n"
      ]
     },
     "metadata": {},
     "output_type": "display_data"
    },
    {
     "name": "stderr",
     "output_type": "stream",
     "text": [
      "WARNING:root:No positive instances have been seen in target. Recall is converted from NaN to 0s.\n"
     ]
    },
    {
     "name": "stdout",
     "output_type": "stream",
     "text": [
      "\n",
      "Epoch 4/8\n",
      "------------------------------------------------------------\n",
      "Batch   0/2507: Loss: 0.1621 | Precision: 0.000 | Recall: 0.000\n",
      "Batch 100/2507: Loss: 0.1790 | Precision: 0.009 | Recall: 0.357\n",
      "Batch 200/2507: Loss: 0.1658 | Precision: 0.008 | Recall: 0.348\n",
      "Batch 300/2507: Loss: 0.1547 | Precision: 0.009 | Recall: 0.316\n",
      "Batch 400/2507: Loss: 0.1425 | Precision: 0.008 | Recall: 0.318\n",
      "Batch 500/2507: Loss: 0.1126 | Precision: 0.007 | Recall: 0.255\n",
      "Batch 600/2507: Loss: 0.1159 | Precision: 0.006 | Recall: 0.209\n",
      "Batch 700/2507: Loss: 3.1672 | Precision: 0.007 | Recall: 0.214\n",
      "Batch 800/2507: Loss: 0.1923 | Precision: 0.007 | Recall: 0.213\n",
      "Batch 900/2507: Loss: 0.1407 | Precision: 0.006 | Recall: 0.192\n",
      "Batch 1000/2507: Loss: 0.1449 | Precision: 0.006 | Recall: 0.183\n",
      "Batch 1100/2507: Loss: 3.1733 | Precision: 0.006 | Recall: 0.199\n",
      "Batch 1200/2507: Loss: 0.1556 | Precision: 0.007 | Recall: 0.197\n",
      "Batch 1300/2507: Loss: 0.1616 | Precision: 0.006 | Recall: 0.194\n",
      "Batch 1400/2507: Loss: 0.1615 | Precision: 0.006 | Recall: 0.186\n",
      "Batch 1500/2507: Loss: 0.1523 | Precision: 0.006 | Recall: 0.190\n",
      "Batch 1600/2507: Loss: 3.1123 | Precision: 0.006 | Recall: 0.184\n",
      "Batch 1700/2507: Loss: 0.1331 | Precision: 0.006 | Recall: 0.183\n",
      "Batch 1800/2507: Loss: 0.1462 | Precision: 0.006 | Recall: 0.190\n",
      "Batch 1900/2507: Loss: 3.3552 | Precision: 0.006 | Recall: 0.187\n",
      "Batch 2000/2507: Loss: 0.1148 | Precision: 0.006 | Recall: 0.184\n",
      "Batch 2100/2507: Loss: 0.0958 | Precision: 0.006 | Recall: 0.186\n",
      "Batch 2200/2507: Loss: 0.1298 | Precision: 0.006 | Recall: 0.195\n",
      "Batch 2300/2507: Loss: 3.4310 | Precision: 0.006 | Recall: 0.193\n",
      "Batch 2400/2507: Loss: 0.1647 | Precision: 0.006 | Recall: 0.191\n",
      "Batch 2500/2507: Loss: 0.1481 | Precision: 0.006 | Recall: 0.191\n"
     ]
    },
    {
     "data": {
      "text/html": [
       "<pre style=\"white-space:pre;overflow-x:auto;line-height:normal;font-family:Menlo,'DejaVu Sans Mono',consolas,'Courier New',monospace\"><span style=\"font-style: italic\">   Validation Confusion Matrix    </span>\n",
       "┏━━━━━━━━━━━┳━━━━━━━━┳━━━━━━━━━━━┓\n",
       "┃<span style=\"font-weight: bold\">           </span>┃<span style=\"font-weight: bold\"> Benign </span>┃<span style=\"font-weight: bold\"> Malignant </span>┃\n",
       "┡━━━━━━━━━━━╇━━━━━━━━╇━━━━━━━━━━━┩\n",
       "│<span style=\"color: #7f7f7f; text-decoration-color: #7f7f7f\"> Benign    </span>│ 77,761 │     2,372 │\n",
       "│<span style=\"color: #7f7f7f; text-decoration-color: #7f7f7f\"> Malignant </span>│     63 │        16 │\n",
       "└───────────┴────────┴───────────┘\n",
       "<span style=\"color: #7f7f7f; text-decoration-color: #7f7f7f; font-style: italic\">Rows: Actual | Columns: Predicted </span>\n",
       "</pre>\n"
      ],
      "text/plain": [
       "\u001b[3m   Validation Confusion Matrix    \u001b[0m\n",
       "┏━━━━━━━━━━━┳━━━━━━━━┳━━━━━━━━━━━┓\n",
       "┃\u001b[1m \u001b[0m\u001b[1m         \u001b[0m\u001b[1m \u001b[0m┃\u001b[1m \u001b[0m\u001b[1mBenign\u001b[0m\u001b[1m \u001b[0m┃\u001b[1m \u001b[0m\u001b[1mMalignant\u001b[0m\u001b[1m \u001b[0m┃\n",
       "┡━━━━━━━━━━━╇━━━━━━━━╇━━━━━━━━━━━┩\n",
       "│\u001b[2m \u001b[0m\u001b[2mBenign   \u001b[0m\u001b[2m \u001b[0m│ 77,761 │     2,372 │\n",
       "│\u001b[2m \u001b[0m\u001b[2mMalignant\u001b[0m\u001b[2m \u001b[0m│     63 │        16 │\n",
       "└───────────┴────────┴───────────┘\n",
       "\u001b[2;3mRows: Actual | Columns: Predicted \u001b[0m\n"
      ]
     },
     "metadata": {},
     "output_type": "display_data"
    },
    {
     "name": "stderr",
     "output_type": "stream",
     "text": [
      "WARNING:root:No positive instances have been seen in target. Recall is converted from NaN to 0s.\n"
     ]
    },
    {
     "name": "stdout",
     "output_type": "stream",
     "text": [
      "\n",
      "Epoch 5/8\n",
      "------------------------------------------------------------\n",
      "Batch   0/2507: Loss: 0.1616 | Precision: 0.000 | Recall: 0.000\n",
      "Batch 100/2507: Loss: 0.1676 | Precision: 0.002 | Recall: 0.077\n",
      "Batch 200/2507: Loss: 0.1457 | Precision: 0.003 | Recall: 0.080\n",
      "Batch 300/2507: Loss: 0.1460 | Precision: 0.003 | Recall: 0.108\n",
      "Batch 400/2507: Loss: 0.1478 | Precision: 0.006 | Recall: 0.196\n",
      "Batch 500/2507: Loss: 0.1629 | Precision: 0.007 | Recall: 0.222\n",
      "Batch 600/2507: Loss: 0.1257 | Precision: 0.006 | Recall: 0.208\n",
      "Batch 700/2507: Loss: 0.1303 | Precision: 0.006 | Recall: 0.176\n",
      "Batch 800/2507: Loss: 0.1367 | Precision: 0.006 | Recall: 0.177\n",
      "Batch 900/2507: Loss: 0.1227 | Precision: 0.005 | Recall: 0.183\n",
      "Batch 1000/2507: Loss: 0.1656 | Precision: 0.006 | Recall: 0.202\n",
      "Batch 1100/2507: Loss: 0.1479 | Precision: 0.006 | Recall: 0.189\n",
      "Batch 1200/2507: Loss: 0.1558 | Precision: 0.006 | Recall: 0.199\n",
      "Batch 1300/2507: Loss: 0.1464 | Precision: 0.006 | Recall: 0.203\n",
      "Batch 1400/2507: Loss: 0.1361 | Precision: 0.006 | Recall: 0.198\n",
      "Batch 1500/2507: Loss: 0.1074 | Precision: 0.006 | Recall: 0.203\n",
      "Batch 1600/2507: Loss: 0.1395 | Precision: 0.006 | Recall: 0.200\n",
      "Batch 1700/2507: Loss: 0.1323 | Precision: 0.006 | Recall: 0.190\n",
      "Batch 1800/2507: Loss: 0.1563 | Precision: 0.006 | Recall: 0.197\n",
      "Batch 1900/2507: Loss: 0.1629 | Precision: 0.006 | Recall: 0.189\n",
      "Batch 2000/2507: Loss: 0.1643 | Precision: 0.006 | Recall: 0.185\n",
      "Batch 2100/2507: Loss: 0.1516 | Precision: 0.006 | Recall: 0.194\n",
      "Batch 2200/2507: Loss: 0.1555 | Precision: 0.006 | Recall: 0.188\n",
      "Batch 2300/2507: Loss: 0.1422 | Precision: 0.006 | Recall: 0.188\n",
      "Batch 2400/2507: Loss: 0.1547 | Precision: 0.006 | Recall: 0.195\n",
      "Batch 2500/2507: Loss: 0.1534 | Precision: 0.006 | Recall: 0.198\n"
     ]
    },
    {
     "data": {
      "text/html": [
       "<pre style=\"white-space:pre;overflow-x:auto;line-height:normal;font-family:Menlo,'DejaVu Sans Mono',consolas,'Courier New',monospace\"><span style=\"font-style: italic\">   Validation Confusion Matrix    </span>\n",
       "┏━━━━━━━━━━━┳━━━━━━━━┳━━━━━━━━━━━┓\n",
       "┃<span style=\"font-weight: bold\">           </span>┃<span style=\"font-weight: bold\"> Benign </span>┃<span style=\"font-weight: bold\"> Malignant </span>┃\n",
       "┡━━━━━━━━━━━╇━━━━━━━━╇━━━━━━━━━━━┩\n",
       "│<span style=\"color: #7f7f7f; text-decoration-color: #7f7f7f\"> Benign    </span>│ 77,672 │     2,461 │\n",
       "│<span style=\"color: #7f7f7f; text-decoration-color: #7f7f7f\"> Malignant </span>│     63 │        16 │\n",
       "└───────────┴────────┴───────────┘\n",
       "<span style=\"color: #7f7f7f; text-decoration-color: #7f7f7f; font-style: italic\">Rows: Actual | Columns: Predicted </span>\n",
       "</pre>\n"
      ],
      "text/plain": [
       "\u001b[3m   Validation Confusion Matrix    \u001b[0m\n",
       "┏━━━━━━━━━━━┳━━━━━━━━┳━━━━━━━━━━━┓\n",
       "┃\u001b[1m \u001b[0m\u001b[1m         \u001b[0m\u001b[1m \u001b[0m┃\u001b[1m \u001b[0m\u001b[1mBenign\u001b[0m\u001b[1m \u001b[0m┃\u001b[1m \u001b[0m\u001b[1mMalignant\u001b[0m\u001b[1m \u001b[0m┃\n",
       "┡━━━━━━━━━━━╇━━━━━━━━╇━━━━━━━━━━━┩\n",
       "│\u001b[2m \u001b[0m\u001b[2mBenign   \u001b[0m\u001b[2m \u001b[0m│ 77,672 │     2,461 │\n",
       "│\u001b[2m \u001b[0m\u001b[2mMalignant\u001b[0m\u001b[2m \u001b[0m│     63 │        16 │\n",
       "└───────────┴────────┴───────────┘\n",
       "\u001b[2;3mRows: Actual | Columns: Predicted \u001b[0m\n"
      ]
     },
     "metadata": {},
     "output_type": "display_data"
    },
    {
     "name": "stderr",
     "output_type": "stream",
     "text": [
      "WARNING:root:No positive instances have been seen in target. Recall is converted from NaN to 0s.\n"
     ]
    },
    {
     "name": "stdout",
     "output_type": "stream",
     "text": [
      "\n",
      "Epoch 6/8\n",
      "------------------------------------------------------------\n",
      "Batch   0/2507: Loss: 0.1847 | Precision: 0.000 | Recall: 0.000\n",
      "Batch 100/2507: Loss: 0.1637 | Precision: 0.005 | Recall: 0.125\n",
      "Batch 200/2507: Loss: 0.1311 | Precision: 0.002 | Recall: 0.100\n",
      "Batch 300/2507: Loss: 0.1346 | Precision: 0.005 | Recall: 0.171\n",
      "Batch 400/2507: Loss: 0.1402 | Precision: 0.004 | Recall: 0.149\n",
      "Batch 500/2507: Loss: 0.1373 | Precision: 0.005 | Recall: 0.164\n",
      "Batch 600/2507: Loss: 0.1478 | Precision: 0.004 | Recall: 0.133\n",
      "Batch 700/2507: Loss: 0.1341 | Precision: 0.004 | Recall: 0.148\n",
      "Batch 800/2507: Loss: 3.5549 | Precision: 0.004 | Recall: 0.132\n",
      "Batch 900/2507: Loss: 0.1352 | Precision: 0.005 | Recall: 0.165\n",
      "Batch 1000/2507: Loss: 0.1367 | Precision: 0.004 | Recall: 0.150\n",
      "Batch 1100/2507: Loss: 0.1149 | Precision: 0.004 | Recall: 0.148\n",
      "Batch 1200/2507: Loss: 0.1423 | Precision: 0.005 | Recall: 0.163\n",
      "Batch 1300/2507: Loss: 0.1323 | Precision: 0.005 | Recall: 0.169\n",
      "Batch 1400/2507: Loss: 0.1603 | Precision: 0.006 | Recall: 0.194\n",
      "Batch 1500/2507: Loss: 0.1165 | Precision: 0.006 | Recall: 0.200\n",
      "Batch 1600/2507: Loss: 0.1189 | Precision: 0.006 | Recall: 0.197\n",
      "Batch 1700/2507: Loss: 0.1378 | Precision: 0.006 | Recall: 0.207\n",
      "Batch 1800/2507: Loss: 0.1694 | Precision: 0.006 | Recall: 0.196\n",
      "Batch 1900/2507: Loss: 0.1414 | Precision: 0.006 | Recall: 0.202\n",
      "Batch 2000/2507: Loss: 0.1656 | Precision: 0.006 | Recall: 0.204\n",
      "Batch 2100/2507: Loss: 0.1392 | Precision: 0.006 | Recall: 0.202\n",
      "Batch 2200/2507: Loss: 3.1525 | Precision: 0.006 | Recall: 0.197\n",
      "Batch 2300/2507: Loss: 0.1639 | Precision: 0.006 | Recall: 0.194\n",
      "Batch 2400/2507: Loss: 0.1593 | Precision: 0.006 | Recall: 0.187\n",
      "Batch 2500/2507: Loss: 0.1608 | Precision: 0.006 | Recall: 0.198\n"
     ]
    },
    {
     "data": {
      "text/html": [
       "<pre style=\"white-space:pre;overflow-x:auto;line-height:normal;font-family:Menlo,'DejaVu Sans Mono',consolas,'Courier New',monospace\"><span style=\"font-style: italic\">   Validation Confusion Matrix    </span>\n",
       "┏━━━━━━━━━━━┳━━━━━━━━┳━━━━━━━━━━━┓\n",
       "┃<span style=\"font-weight: bold\">           </span>┃<span style=\"font-weight: bold\"> Benign </span>┃<span style=\"font-weight: bold\"> Malignant </span>┃\n",
       "┡━━━━━━━━━━━╇━━━━━━━━╇━━━━━━━━━━━┩\n",
       "│<span style=\"color: #7f7f7f; text-decoration-color: #7f7f7f\"> Benign    </span>│ 77,375 │     2,758 │\n",
       "│<span style=\"color: #7f7f7f; text-decoration-color: #7f7f7f\"> Malignant </span>│     61 │        18 │\n",
       "└───────────┴────────┴───────────┘\n",
       "<span style=\"color: #7f7f7f; text-decoration-color: #7f7f7f; font-style: italic\">Rows: Actual | Columns: Predicted </span>\n",
       "</pre>\n"
      ],
      "text/plain": [
       "\u001b[3m   Validation Confusion Matrix    \u001b[0m\n",
       "┏━━━━━━━━━━━┳━━━━━━━━┳━━━━━━━━━━━┓\n",
       "┃\u001b[1m \u001b[0m\u001b[1m         \u001b[0m\u001b[1m \u001b[0m┃\u001b[1m \u001b[0m\u001b[1mBenign\u001b[0m\u001b[1m \u001b[0m┃\u001b[1m \u001b[0m\u001b[1mMalignant\u001b[0m\u001b[1m \u001b[0m┃\n",
       "┡━━━━━━━━━━━╇━━━━━━━━╇━━━━━━━━━━━┩\n",
       "│\u001b[2m \u001b[0m\u001b[2mBenign   \u001b[0m\u001b[2m \u001b[0m│ 77,375 │     2,758 │\n",
       "│\u001b[2m \u001b[0m\u001b[2mMalignant\u001b[0m\u001b[2m \u001b[0m│     61 │        18 │\n",
       "└───────────┴────────┴───────────┘\n",
       "\u001b[2;3mRows: Actual | Columns: Predicted \u001b[0m\n"
      ]
     },
     "metadata": {},
     "output_type": "display_data"
    },
    {
     "name": "stdout",
     "output_type": "stream",
     "text": [
      "\n",
      "Epoch 7/8\n",
      "------------------------------------------------------------\n",
      "Batch   0/2507: Loss: 3.2681 | Precision: 0.000 | Recall: 0.000\n",
      "Batch 100/2507: Loss: 0.1724 | Precision: 0.000 | Recall: 0.000\n",
      "Batch 200/2507: Loss: 3.2049 | Precision: 0.000 | Recall: 0.000\n",
      "Batch 300/2507: Loss: 0.1591 | Precision: 0.004 | Recall: 0.139\n",
      "Batch 400/2507: Loss: 0.1439 | Precision: 0.003 | Recall: 0.104\n",
      "Batch 500/2507: Loss: 0.1308 | Precision: 0.004 | Recall: 0.150\n",
      "Batch 600/2507: Loss: 0.1368 | Precision: 0.004 | Recall: 0.128\n",
      "Batch 700/2507: Loss: 0.1919 | Precision: 0.005 | Recall: 0.160\n",
      "Batch 800/2507: Loss: 0.1625 | Precision: 0.005 | Recall: 0.167\n",
      "Batch 900/2507: Loss: 1.1556 | Precision: 0.006 | Recall: 0.186\n",
      "Batch 1000/2507: Loss: 0.1617 | Precision: 0.005 | Recall: 0.175\n",
      "Batch 1100/2507: Loss: 0.1321 | Precision: 0.006 | Recall: 0.180\n",
      "Batch 1200/2507: Loss: 0.1596 | Precision: 0.006 | Recall: 0.180\n",
      "Batch 1300/2507: Loss: 0.1490 | Precision: 0.006 | Recall: 0.193\n",
      "Batch 1400/2507: Loss: 0.1199 | Precision: 0.006 | Recall: 0.186\n",
      "Batch 1500/2507: Loss: 0.0957 | Precision: 0.006 | Recall: 0.184\n",
      "Batch 1600/2507: Loss: 0.1638 | Precision: 0.006 | Recall: 0.188\n",
      "Batch 1700/2507: Loss: 0.1183 | Precision: 0.006 | Recall: 0.183\n",
      "Batch 1800/2507: Loss: 3.3400 | Precision: 0.006 | Recall: 0.193\n",
      "Batch 1900/2507: Loss: 0.1660 | Precision: 0.006 | Recall: 0.195\n",
      "Batch 2000/2507: Loss: 0.1725 | Precision: 0.006 | Recall: 0.190\n",
      "Batch 2100/2507: Loss: 0.1517 | Precision: 0.006 | Recall: 0.189\n",
      "Batch 2200/2507: Loss: 0.1269 | Precision: 0.006 | Recall: 0.191\n",
      "Batch 2300/2507: Loss: 0.1471 | Precision: 0.006 | Recall: 0.197\n",
      "Batch 2400/2507: Loss: 0.1671 | Precision: 0.006 | Recall: 0.194\n",
      "Batch 2500/2507: Loss: 0.1633 | Precision: 0.006 | Recall: 0.197\n"
     ]
    },
    {
     "data": {
      "text/html": [
       "<pre style=\"white-space:pre;overflow-x:auto;line-height:normal;font-family:Menlo,'DejaVu Sans Mono',consolas,'Courier New',monospace\"><span style=\"font-style: italic\">   Validation Confusion Matrix    </span>\n",
       "┏━━━━━━━━━━━┳━━━━━━━━┳━━━━━━━━━━━┓\n",
       "┃<span style=\"font-weight: bold\">           </span>┃<span style=\"font-weight: bold\"> Benign </span>┃<span style=\"font-weight: bold\"> Malignant </span>┃\n",
       "┡━━━━━━━━━━━╇━━━━━━━━╇━━━━━━━━━━━┩\n",
       "│<span style=\"color: #7f7f7f; text-decoration-color: #7f7f7f\"> Benign    </span>│ 77,275 │     2,858 │\n",
       "│<span style=\"color: #7f7f7f; text-decoration-color: #7f7f7f\"> Malignant </span>│     63 │        16 │\n",
       "└───────────┴────────┴───────────┘\n",
       "<span style=\"color: #7f7f7f; text-decoration-color: #7f7f7f; font-style: italic\">Rows: Actual | Columns: Predicted </span>\n",
       "</pre>\n"
      ],
      "text/plain": [
       "\u001b[3m   Validation Confusion Matrix    \u001b[0m\n",
       "┏━━━━━━━━━━━┳━━━━━━━━┳━━━━━━━━━━━┓\n",
       "┃\u001b[1m \u001b[0m\u001b[1m         \u001b[0m\u001b[1m \u001b[0m┃\u001b[1m \u001b[0m\u001b[1mBenign\u001b[0m\u001b[1m \u001b[0m┃\u001b[1m \u001b[0m\u001b[1mMalignant\u001b[0m\u001b[1m \u001b[0m┃\n",
       "┡━━━━━━━━━━━╇━━━━━━━━╇━━━━━━━━━━━┩\n",
       "│\u001b[2m \u001b[0m\u001b[2mBenign   \u001b[0m\u001b[2m \u001b[0m│ 77,275 │     2,858 │\n",
       "│\u001b[2m \u001b[0m\u001b[2mMalignant\u001b[0m\u001b[2m \u001b[0m│     63 │        16 │\n",
       "└───────────┴────────┴───────────┘\n",
       "\u001b[2;3mRows: Actual | Columns: Predicted \u001b[0m\n"
      ]
     },
     "metadata": {},
     "output_type": "display_data"
    },
    {
     "name": "stderr",
     "output_type": "stream",
     "text": [
      "WARNING:root:No positive instances have been seen in target. Recall is converted from NaN to 0s.\n"
     ]
    },
    {
     "name": "stdout",
     "output_type": "stream",
     "text": [
      "\n",
      "Epoch 8/8\n",
      "------------------------------------------------------------\n",
      "Batch   0/2507: Loss: 0.1599 | Precision: 0.000 | Recall: 0.000\n",
      "Batch 100/2507: Loss: 3.2465 | Precision: 0.005 | Recall: 0.167\n",
      "Batch 200/2507: Loss: 0.1903 | Precision: 0.007 | Recall: 0.214\n",
      "Batch 300/2507: Loss: 0.1639 | Precision: 0.007 | Recall: 0.282\n",
      "Batch 400/2507: Loss: 0.1581 | Precision: 0.007 | Recall: 0.250\n",
      "Batch 500/2507: Loss: 0.1408 | Precision: 0.006 | Recall: 0.238\n",
      "Batch 600/2507: Loss: 0.1767 | Precision: 0.007 | Recall: 0.225\n",
      "Batch 700/2507: Loss: 0.1431 | Precision: 0.006 | Recall: 0.215\n",
      "Batch 800/2507: Loss: 0.1574 | Precision: 0.006 | Recall: 0.202\n",
      "Batch 900/2507: Loss: 0.1465 | Precision: 0.006 | Recall: 0.211\n",
      "Batch 1000/2507: Loss: 0.1551 | Precision: 0.006 | Recall: 0.208\n",
      "Batch 1100/2507: Loss: 0.1468 | Precision: 0.007 | Recall: 0.208\n",
      "Batch 1200/2507: Loss: 0.1424 | Precision: 0.006 | Recall: 0.210\n",
      "Batch 1300/2507: Loss: 0.1640 | Precision: 0.007 | Recall: 0.209\n",
      "Batch 1400/2507: Loss: 0.1200 | Precision: 0.007 | Recall: 0.222\n",
      "Batch 1500/2507: Loss: 0.1329 | Precision: 0.007 | Recall: 0.218\n",
      "Batch 1600/2507: Loss: 0.1492 | Precision: 0.006 | Recall: 0.213\n",
      "Batch 1700/2507: Loss: 0.1373 | Precision: 0.006 | Recall: 0.218\n",
      "Batch 1800/2507: Loss: 0.1641 | Precision: 0.007 | Recall: 0.221\n",
      "Batch 1900/2507: Loss: 0.1568 | Precision: 0.006 | Recall: 0.208\n",
      "Batch 2000/2507: Loss: 0.1390 | Precision: 0.006 | Recall: 0.204\n",
      "Batch 2100/2507: Loss: 0.1306 | Precision: 0.006 | Recall: 0.213\n",
      "Batch 2200/2507: Loss: 0.1165 | Precision: 0.006 | Recall: 0.209\n",
      "Batch 2300/2507: Loss: 0.1032 | Precision: 0.006 | Recall: 0.203\n",
      "Batch 2400/2507: Loss: 0.1293 | Precision: 0.006 | Recall: 0.197\n",
      "Batch 2500/2507: Loss: 0.1416 | Precision: 0.006 | Recall: 0.195\n"
     ]
    },
    {
     "data": {
      "text/html": [
       "<pre style=\"white-space:pre;overflow-x:auto;line-height:normal;font-family:Menlo,'DejaVu Sans Mono',consolas,'Courier New',monospace\"><span style=\"font-style: italic\">   Validation Confusion Matrix    </span>\n",
       "┏━━━━━━━━━━━┳━━━━━━━━┳━━━━━━━━━━━┓\n",
       "┃<span style=\"font-weight: bold\">           </span>┃<span style=\"font-weight: bold\"> Benign </span>┃<span style=\"font-weight: bold\"> Malignant </span>┃\n",
       "┡━━━━━━━━━━━╇━━━━━━━━╇━━━━━━━━━━━┩\n",
       "│<span style=\"color: #7f7f7f; text-decoration-color: #7f7f7f\"> Benign    </span>│ 75,353 │     4,780 │\n",
       "│<span style=\"color: #7f7f7f; text-decoration-color: #7f7f7f\"> Malignant </span>│     61 │        18 │\n",
       "└───────────┴────────┴───────────┘\n",
       "<span style=\"color: #7f7f7f; text-decoration-color: #7f7f7f; font-style: italic\">Rows: Actual | Columns: Predicted </span>\n",
       "</pre>\n"
      ],
      "text/plain": [
       "\u001b[3m   Validation Confusion Matrix    \u001b[0m\n",
       "┏━━━━━━━━━━━┳━━━━━━━━┳━━━━━━━━━━━┓\n",
       "┃\u001b[1m \u001b[0m\u001b[1m         \u001b[0m\u001b[1m \u001b[0m┃\u001b[1m \u001b[0m\u001b[1mBenign\u001b[0m\u001b[1m \u001b[0m┃\u001b[1m \u001b[0m\u001b[1mMalignant\u001b[0m\u001b[1m \u001b[0m┃\n",
       "┡━━━━━━━━━━━╇━━━━━━━━╇━━━━━━━━━━━┩\n",
       "│\u001b[2m \u001b[0m\u001b[2mBenign   \u001b[0m\u001b[2m \u001b[0m│ 75,353 │     4,780 │\n",
       "│\u001b[2m \u001b[0m\u001b[2mMalignant\u001b[0m\u001b[2m \u001b[0m│     61 │        18 │\n",
       "└───────────┴────────┴───────────┘\n",
       "\u001b[2;3mRows: Actual | Columns: Predicted \u001b[0m\n"
      ]
     },
     "metadata": {},
     "output_type": "display_data"
    },
    {
     "name": "stdout",
     "output_type": "stream",
     "text": [
      "* Run finished. Uploading logs to Trackio (please wait...)\n"
     ]
    }
   ],
   "source": [
    "import trackio\n",
    "from isic.training import train, validate\n",
    "\n",
    "trackio.init(project=\"mlp\", config=params, embed=False)\n",
    "\n",
    "for epoch in range(epochs):\n",
    "    print(f\"\\nEpoch {epoch + 1}/{epochs}\")\n",
    "    print(\"-\" * 60)\n",
    "\n",
    "    # train\n",
    "    train_metrics = train(model, train_loader, criterion, optimizer, device, threshold)\n",
    "\n",
    "    # validate\n",
    "    val_metrics, confusion_mat = validate(\n",
    "        model, val_loader, criterion, device, threshold\n",
    "    )\n",
    "\n",
    "trackio.finish()"
   ]
  }
 ],
 "metadata": {
  "kernelspec": {
   "display_name": "isic",
   "language": "python",
   "name": "python3"
  },
  "language_info": {
   "codemirror_mode": {
    "name": "ipython",
    "version": 3
   },
   "file_extension": ".py",
   "mimetype": "text/x-python",
   "name": "python",
   "nbconvert_exporter": "python",
   "pygments_lexer": "ipython3",
   "version": "3.12.12"
  }
 },
 "nbformat": 4,
 "nbformat_minor": 2
}
