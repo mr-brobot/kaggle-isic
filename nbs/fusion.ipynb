{
 "cells": [
  {
   "cell_type": "markdown",
   "metadata": {},
   "source": [
    "# Setup\n"
   ]
  },
  {
   "cell_type": "code",
   "execution_count": 1,
   "metadata": {},
   "outputs": [],
   "source": [
    "%load_ext autoreload\n",
    "%autoreload 2"
   ]
  },
  {
   "cell_type": "code",
   "execution_count": 2,
   "metadata": {},
   "outputs": [],
   "source": [
    "params = {\n",
    "    \"epochs\": 16,\n",
    "    \"batch_size\": 128,\n",
    "    \"learning_rate\": 0.001,\n",
    "    \"class_power\": 0.9,  # between 0 and 1 (inclusive), scales positive class weight (0 removes class weighting, 1 leaves class ratio unchanged)\n",
    "    \"focal_power\": 2,  # focusing parameter (gamma) in focal loss (default 2)\n",
    "    \"image_size\": 128,  # target image size, images resized to fit in square where sides or of this length\n",
    "    \"threshold\": 0.5,  # probability threshold for positive classification\n",
    "    \"seed\": 42,  # rng seed for reproducibility\n",
    "    # model architecture\n",
    "    \"cnn_layers\": [\n",
    "        (16, 5, True),  # 128×128×3 → 64×64×16 (5×5 kernel, pool)\n",
    "        (32, 3, True),  # 64×64×16 → 32×32×32 (3×3 kernel, pool)\n",
    "        (64, 3, True),  # 32×32×32 → 16×16×64\n",
    "        (64, 3, True),  # 16×16×64 → 8×8×64\n",
    "        (32, 3, True),  # 8×8×64 → 4×4×32 (final: 512 features)\n",
    "    ],\n",
    "    \"metadata_layer_dims\": [8, 16, 32],  # accepts metatadata tensor from dataloader\n",
    "    \"fusion_layer_dims\": [128, 64, 8],  # fuse encoded image & metadata\n",
    "}\n",
    "\n",
    "epochs = params[\"epochs\"]\n",
    "batch_size = params[\"batch_size\"]\n",
    "lr = params[\"learning_rate\"]\n",
    "class_power = params[\"class_power\"]\n",
    "focal_power = params[\"focal_power\"]\n",
    "\n",
    "img_size = params[\"image_size\"], params[\"image_size\"]\n",
    "image_shape = params[\"image_size\"], params[\"image_size\"], 3\n",
    "threshold = params[\"threshold\"]\n",
    "seed = params[\"seed\"]\n",
    "\n",
    "# model architecture params\n",
    "cnn_layers = params[\"cnn_layers\"]\n",
    "metadata_layer_dims = params[\"metadata_layer_dims\"]\n",
    "fusion_layer_dims = params[\"fusion_layer_dims\"]"
   ]
  },
  {
   "cell_type": "code",
   "execution_count": 3,
   "metadata": {},
   "outputs": [
    {
     "data": {
      "text/plain": [
       "device(type='cuda')"
      ]
     },
     "execution_count": 3,
     "metadata": {},
     "output_type": "execute_result"
    }
   ],
   "source": [
    "import torch\n",
    "\n",
    "device = torch.device(\"cuda\" if torch.cuda.is_available() else \"cpu\")\n",
    "\n",
    "device"
   ]
  },
  {
   "cell_type": "code",
   "execution_count": 4,
   "metadata": {},
   "outputs": [],
   "source": [
    "import torch\n",
    "\n",
    "torch.manual_seed(seed)\n",
    "generator = torch.Generator().manual_seed(seed)"
   ]
  },
  {
   "cell_type": "code",
   "execution_count": 5,
   "metadata": {},
   "outputs": [],
   "source": [
    "import torch\n",
    "\n",
    "torch.set_float32_matmul_precision(\"high\")"
   ]
  },
  {
   "cell_type": "markdown",
   "metadata": {},
   "source": [
    "# Dataset\n"
   ]
  },
  {
   "cell_type": "code",
   "execution_count": 6,
   "metadata": {},
   "outputs": [
    {
     "data": {
      "text/plain": [
       "401059"
      ]
     },
     "execution_count": 6,
     "metadata": {},
     "output_type": "execute_result"
    }
   ],
   "source": [
    "from datasets import load_dataset\n",
    "from isic.dataset import ImageEncoder, MetadataEncoder, collate_batch\n",
    "\n",
    "ds = load_dataset(\"mrbrobot/isic-2024\", split=\"train\")\n",
    "ds = ds.select_columns([\"image\", \"age_approx\", \"sex\", \"anatom_site_general\", \"target\"])\n",
    "\n",
    "len(ds)"
   ]
  },
  {
   "cell_type": "code",
   "execution_count": 7,
   "metadata": {},
   "outputs": [],
   "source": [
    "# encode metadata\n",
    "metadata_encoder = MetadataEncoder().fit(ds)\n",
    "ds = ds.with_format(\"arrow\")\n",
    "ds = ds.map(\n",
    "    metadata_encoder,\n",
    "    batched=True,\n",
    "    batch_size=1000,\n",
    "    desc=\"Encoding metadata columns\",\n",
    ")\n",
    "\n",
    "# encode images\n",
    "image_encoder = ImageEncoder(image_size=img_size)\n",
    "ds = ds.with_format(\"torch\")\n",
    "ds = ds.with_transform(image_encoder, columns=[\"image\"], output_all_columns=True)"
   ]
  },
  {
   "cell_type": "markdown",
   "metadata": {},
   "source": [
    "# Model Definition\n"
   ]
  },
  {
   "cell_type": "code",
   "execution_count": 8,
   "metadata": {},
   "outputs": [
    {
     "data": {
      "text/plain": [
       "FusionModel(\n",
       "  (image_stack): Sequential(\n",
       "    (0): Conv2d(3, 16, kernel_size=(5, 5), stride=(1, 1), padding=same)\n",
       "    (1): BatchNorm2d(16, eps=1e-05, momentum=0.1, affine=True, track_running_stats=True)\n",
       "    (2): ReLU()\n",
       "    (3): MaxPool2d(kernel_size=2, stride=2, padding=0, dilation=1, ceil_mode=False)\n",
       "    (4): Conv2d(16, 32, kernel_size=(3, 3), stride=(1, 1), padding=same)\n",
       "    (5): BatchNorm2d(32, eps=1e-05, momentum=0.1, affine=True, track_running_stats=True)\n",
       "    (6): ReLU()\n",
       "    (7): MaxPool2d(kernel_size=2, stride=2, padding=0, dilation=1, ceil_mode=False)\n",
       "    (8): Conv2d(32, 64, kernel_size=(3, 3), stride=(1, 1), padding=same)\n",
       "    (9): BatchNorm2d(64, eps=1e-05, momentum=0.1, affine=True, track_running_stats=True)\n",
       "    (10): ReLU()\n",
       "    (11): MaxPool2d(kernel_size=2, stride=2, padding=0, dilation=1, ceil_mode=False)\n",
       "    (12): Conv2d(64, 64, kernel_size=(3, 3), stride=(1, 1), padding=same)\n",
       "    (13): BatchNorm2d(64, eps=1e-05, momentum=0.1, affine=True, track_running_stats=True)\n",
       "    (14): ReLU()\n",
       "    (15): MaxPool2d(kernel_size=2, stride=2, padding=0, dilation=1, ceil_mode=False)\n",
       "    (16): Conv2d(64, 32, kernel_size=(3, 3), stride=(1, 1), padding=same)\n",
       "    (17): BatchNorm2d(32, eps=1e-05, momentum=0.1, affine=True, track_running_stats=True)\n",
       "    (18): ReLU()\n",
       "    (19): MaxPool2d(kernel_size=2, stride=2, padding=0, dilation=1, ceil_mode=False)\n",
       "  )\n",
       "  (metadata_stack): MLP(\n",
       "    (network): Sequential(\n",
       "      (0): Linear(in_features=8, out_features=16, bias=True)\n",
       "      (1): ReLU()\n",
       "      (2): Linear(in_features=16, out_features=32, bias=True)\n",
       "      (3): ReLU()\n",
       "    )\n",
       "  )\n",
       "  (fusion_head): Sequential(\n",
       "    (0): MLP(\n",
       "      (network): Sequential(\n",
       "        (0): Linear(in_features=544, out_features=128, bias=True)\n",
       "        (1): ReLU()\n",
       "        (2): Linear(in_features=128, out_features=64, bias=True)\n",
       "        (3): ReLU()\n",
       "        (4): Linear(in_features=64, out_features=8, bias=True)\n",
       "        (5): ReLU()\n",
       "      )\n",
       "    )\n",
       "    (1): Linear(in_features=8, out_features=1, bias=True)\n",
       "  )\n",
       ")"
      ]
     },
     "execution_count": 8,
     "metadata": {},
     "output_type": "execute_result"
    }
   ],
   "source": [
    "from isic.models import FusionModel\n",
    "\n",
    "model = FusionModel(\n",
    "    image_shape=image_shape,\n",
    "    cnn_layers=cnn_layers,\n",
    "    metadata_layer_dims=metadata_layer_dims,\n",
    "    fusion_layer_dims=fusion_layer_dims,\n",
    ").to(device)\n",
    "\n",
    "model"
   ]
  },
  {
   "cell_type": "code",
   "execution_count": 9,
   "metadata": {},
   "outputs": [
    {
     "data": {
      "text/plain": [
       "159393"
      ]
     },
     "execution_count": 9,
     "metadata": {},
     "output_type": "execute_result"
    }
   ],
   "source": [
    "total_params = sum(p.numel() for p in model.parameters() if p.requires_grad)\n",
    "\n",
    "total_params"
   ]
  },
  {
   "cell_type": "markdown",
   "metadata": {},
   "source": [
    "# Training\n"
   ]
  },
  {
   "cell_type": "code",
   "execution_count": 10,
   "metadata": {},
   "outputs": [
    {
     "name": "stdout",
     "output_type": "stream",
     "text": [
      "Model device: cuda:0\n",
      "Total parameters: 159,393\n",
      "Trainable parameters: 159,393\n"
     ]
    }
   ],
   "source": [
    "optimizer = torch.optim.Adam(model.parameters(), lr=lr)\n",
    "\n",
    "print(f\"Model device: {next(model.parameters()).device}\")\n",
    "print(f\"Total parameters: {sum(p.numel() for p in model.parameters()):,}\")\n",
    "print(\n",
    "    f\"Trainable parameters: {sum(p.numel() for p in model.parameters() if p.requires_grad):,}\"\n",
    ")"
   ]
  },
  {
   "cell_type": "markdown",
   "metadata": {},
   "source": [
    "Class imbalance measurement & handling\n"
   ]
  },
  {
   "cell_type": "code",
   "execution_count": 11,
   "metadata": {},
   "outputs": [
    {
     "name": "stdout",
     "output_type": "stream",
     "text": [
      "Class Distribution:\n",
      "Benign: 400,666 samples\n",
      "Malignant: 393 samples\n",
      "Imbalance ratio: 1019.5:1\n"
     ]
    }
   ],
   "source": [
    "class_counts = [400666, 393]  # [benign, malignant] from EDA\n",
    "\n",
    "print(\"Class Distribution:\")\n",
    "print(f\"Benign: {class_counts[0]:,} samples\")\n",
    "print(f\"Malignant: {class_counts[1]:,} samples\")\n",
    "print(f\"Imbalance ratio: {class_counts[0] / class_counts[1]:.1f}:1\")"
   ]
  },
  {
   "cell_type": "code",
   "execution_count": 12,
   "metadata": {},
   "outputs": [
    {
     "name": "stdout",
     "output_type": "stream",
     "text": [
      "Positive weight: 1019.5\n",
      "Scaled positive class weight: 510.0\n"
     ]
    }
   ],
   "source": [
    "df = ds.to_pandas()\n",
    "neg_count = (df[\"target\"] == 0).sum()\n",
    "pos_count = (df[\"target\"] == 1).sum()\n",
    "pos_weight = neg_count / pos_count\n",
    "\n",
    "print(f\"Positive weight: {pos_weight:.1f}\")\n",
    "print(f\"Scaled positive class weight: {pos_weight**class_power:.1f}\")"
   ]
  },
  {
   "cell_type": "code",
   "execution_count": 13,
   "metadata": {},
   "outputs": [],
   "source": [
    "from isic.loss import WeightedFocalLoss\n",
    "\n",
    "scaled_pos_weight = torch.tensor([pos_weight**class_power], device=device)\n",
    "criterion = WeightedFocalLoss(pos_weight=scaled_pos_weight, gamma=focal_power)"
   ]
  },
  {
   "cell_type": "code",
   "execution_count": 14,
   "metadata": {},
   "outputs": [
    {
     "name": "stdout",
     "output_type": "stream",
     "text": [
      "Batches per epoch - Train: 2507, Val: 627\n"
     ]
    }
   ],
   "source": [
    "from torch.utils.data import DataLoader\n",
    "\n",
    "split = ds.train_test_split(test_size=0.2, seed=seed)\n",
    "train_ds, val_ds = split[\"train\"], split[\"test\"]\n",
    "\n",
    "train_loader = DataLoader(\n",
    "    train_ds,\n",
    "    batch_size=batch_size,\n",
    "    shuffle=True,\n",
    "    collate_fn=collate_batch,\n",
    ")\n",
    "val_loader = DataLoader(\n",
    "    val_ds,\n",
    "    batch_size=batch_size,\n",
    "    shuffle=False,\n",
    "    collate_fn=collate_batch,\n",
    ")\n",
    "\n",
    "print(f\"Batches per epoch - Train: {len(train_loader)}, Val: {len(val_loader)}\")"
   ]
  },
  {
   "cell_type": "code",
   "execution_count": 15,
   "metadata": {},
   "outputs": [
    {
     "name": "stdout",
     "output_type": "stream",
     "text": [
      "* Trackio project initialized: mlp\n",
      "* Trackio metrics logged to: /home/vscode/.cache/huggingface/trackio\n",
      "* View dashboard by running in your terminal:\n",
      "\u001b[1m\u001b[38;5;208mtrackio show --project \"mlp\"\u001b[0m\n",
      "* or by running in Python: trackio.show(project=\"mlp\")\n",
      "* Created new run: eager-mountain-3\n",
      "\n",
      "Epoch 1/16\n",
      "------------------------------------------------------------\n"
     ]
    },
    {
     "name": "stderr",
     "output_type": "stream",
     "text": [
      "WARNING:root:No positive instances have been seen in target. Recall is converted from NaN to 0s.\n"
     ]
    },
    {
     "name": "stdout",
     "output_type": "stream",
     "text": [
      "Batch   0/2507: Loss: 0.3030 | Precision: 0.000 | Recall: 0.000\n",
      "Batch 100/2507: Loss: 0.1617 | Precision: 0.001 | Recall: 0.273\n",
      "Batch 200/2507: Loss: 0.2021 | Precision: 0.001 | Recall: 0.211\n",
      "Batch 300/2507: Loss: 0.1831 | Precision: 0.001 | Recall: 0.226\n",
      "Batch 400/2507: Loss: 0.1521 | Precision: 0.001 | Recall: 0.383\n",
      "Batch 500/2507: Loss: 0.1838 | Precision: 0.001 | Recall: 0.417\n",
      "Batch 600/2507: Loss: 0.1545 | Precision: 0.001 | Recall: 0.467\n",
      "Batch 700/2507: Loss: 0.1276 | Precision: 0.001 | Recall: 0.470\n",
      "Batch 800/2507: Loss: 0.1287 | Precision: 0.001 | Recall: 0.484\n",
      "Batch 900/2507: Loss: 0.1029 | Precision: 0.001 | Recall: 0.471\n",
      "Batch 1000/2507: Loss: 0.1028 | Precision: 0.001 | Recall: 0.477\n",
      "Batch 1100/2507: Loss: 0.1823 | Precision: 0.001 | Recall: 0.492\n",
      "Batch 1200/2507: Loss: 0.0928 | Precision: 0.001 | Recall: 0.489\n",
      "Batch 1300/2507: Loss: 0.0865 | Precision: 0.001 | Recall: 0.490\n",
      "Batch 1400/2507: Loss: 0.1515 | Precision: 0.001 | Recall: 0.524\n",
      "Batch 1500/2507: Loss: 0.1431 | Precision: 0.002 | Recall: 0.535\n",
      "Batch 1600/2507: Loss: 0.0908 | Precision: 0.002 | Recall: 0.558\n",
      "Batch 1700/2507: Loss: 0.1279 | Precision: 0.002 | Recall: 0.566\n",
      "Batch 1800/2507: Loss: 0.1013 | Precision: 0.002 | Recall: 0.580\n",
      "Batch 1900/2507: Loss: 0.2442 | Precision: 0.002 | Recall: 0.588\n",
      "Batch 2000/2507: Loss: 0.1377 | Precision: 0.002 | Recall: 0.594\n",
      "Batch 2100/2507: Loss: 0.1127 | Precision: 0.002 | Recall: 0.596\n",
      "Batch 2200/2507: Loss: 2.6862 | Precision: 0.002 | Recall: 0.603\n",
      "Batch 2300/2507: Loss: 0.1742 | Precision: 0.002 | Recall: 0.616\n",
      "Batch 2400/2507: Loss: 0.1822 | Precision: 0.002 | Recall: 0.615\n",
      "Batch 2500/2507: Loss: 0.1008 | Precision: 0.002 | Recall: 0.621\n"
     ]
    },
    {
     "data": {
      "text/html": [
       "<pre style=\"white-space:pre;overflow-x:auto;line-height:normal;font-family:Menlo,'DejaVu Sans Mono',consolas,'Courier New',monospace\"><span style=\"font-style: italic\">   Validation Confusion Matrix    </span>\n",
       "┏━━━━━━━━━━━┳━━━━━━━━┳━━━━━━━━━━━┓\n",
       "┃<span style=\"font-weight: bold\">           </span>┃<span style=\"font-weight: bold\"> Benign </span>┃<span style=\"font-weight: bold\"> Malignant </span>┃\n",
       "┡━━━━━━━━━━━╇━━━━━━━━╇━━━━━━━━━━━┩\n",
       "│<span style=\"color: #7f7f7f; text-decoration-color: #7f7f7f\"> Benign    </span>│ 69,290 │    10,843 │\n",
       "│<span style=\"color: #7f7f7f; text-decoration-color: #7f7f7f\"> Malignant </span>│     26 │        53 │\n",
       "└───────────┴────────┴───────────┘\n",
       "<span style=\"color: #7f7f7f; text-decoration-color: #7f7f7f; font-style: italic\">Rows: Actual | Columns: Predicted </span>\n",
       "</pre>\n"
      ],
      "text/plain": [
       "\u001b[3m   Validation Confusion Matrix    \u001b[0m\n",
       "┏━━━━━━━━━━━┳━━━━━━━━┳━━━━━━━━━━━┓\n",
       "┃\u001b[1m \u001b[0m\u001b[1m         \u001b[0m\u001b[1m \u001b[0m┃\u001b[1m \u001b[0m\u001b[1mBenign\u001b[0m\u001b[1m \u001b[0m┃\u001b[1m \u001b[0m\u001b[1mMalignant\u001b[0m\u001b[1m \u001b[0m┃\n",
       "┡━━━━━━━━━━━╇━━━━━━━━╇━━━━━━━━━━━┩\n",
       "│\u001b[2m \u001b[0m\u001b[2mBenign   \u001b[0m\u001b[2m \u001b[0m│ 69,290 │    10,843 │\n",
       "│\u001b[2m \u001b[0m\u001b[2mMalignant\u001b[0m\u001b[2m \u001b[0m│     26 │        53 │\n",
       "└───────────┴────────┴───────────┘\n",
       "\u001b[2;3mRows: Actual | Columns: Predicted \u001b[0m\n"
      ]
     },
     "metadata": {},
     "output_type": "display_data"
    },
    {
     "name": "stdout",
     "output_type": "stream",
     "text": [
      "\n",
      "Epoch 2/16\n",
      "------------------------------------------------------------\n"
     ]
    },
    {
     "name": "stderr",
     "output_type": "stream",
     "text": [
      "WARNING:root:No positive instances have been seen in target. Recall is converted from NaN to 0s.\n"
     ]
    },
    {
     "name": "stdout",
     "output_type": "stream",
     "text": [
      "Batch   0/2507: Loss: 0.0869 | Precision: 0.000 | Recall: 0.000\n",
      "Batch 100/2507: Loss: 0.1109 | Precision: 0.003 | Recall: 0.643\n",
      "Batch 200/2507: Loss: 0.1545 | Precision: 0.004 | Recall: 0.742\n",
      "Batch 300/2507: Loss: 0.0914 | Precision: 0.003 | Recall: 0.810\n",
      "Batch 400/2507: Loss: 0.2283 | Precision: 0.003 | Recall: 0.759\n",
      "Batch 500/2507: Loss: 0.0911 | Precision: 0.003 | Recall: 0.768\n",
      "Batch 600/2507: Loss: 0.0702 | Precision: 0.003 | Recall: 0.778\n",
      "Batch 700/2507: Loss: 2.6533 | Precision: 0.003 | Recall: 0.787\n",
      "Batch 800/2507: Loss: 0.0940 | Precision: 0.003 | Recall: 0.786\n",
      "Batch 900/2507: Loss: 0.1292 | Precision: 0.003 | Recall: 0.757\n",
      "Batch 1000/2507: Loss: 0.2491 | Precision: 0.002 | Recall: 0.756\n",
      "Batch 1100/2507: Loss: 0.0880 | Precision: 0.002 | Recall: 0.757\n",
      "Batch 1200/2507: Loss: 0.1497 | Precision: 0.002 | Recall: 0.758\n",
      "Batch 1300/2507: Loss: 0.0890 | Precision: 0.002 | Recall: 0.768\n",
      "Batch 1400/2507: Loss: 0.1345 | Precision: 0.002 | Recall: 0.768\n",
      "Batch 1500/2507: Loss: 0.1675 | Precision: 0.002 | Recall: 0.757\n",
      "Batch 1600/2507: Loss: 0.0882 | Precision: 0.002 | Recall: 0.766\n",
      "Batch 1700/2507: Loss: 0.0715 | Precision: 0.002 | Recall: 0.759\n",
      "Batch 1800/2507: Loss: 0.1467 | Precision: 0.002 | Recall: 0.754\n",
      "Batch 1900/2507: Loss: 0.1790 | Precision: 0.002 | Recall: 0.744\n",
      "Batch 2000/2507: Loss: 0.1407 | Precision: 0.002 | Recall: 0.725\n",
      "Batch 2100/2507: Loss: 0.1206 | Precision: 0.002 | Recall: 0.732\n",
      "Batch 2200/2507: Loss: 0.0480 | Precision: 0.002 | Recall: 0.730\n",
      "Batch 2300/2507: Loss: 2.0259 | Precision: 0.002 | Recall: 0.723\n",
      "Batch 2400/2507: Loss: 0.1540 | Precision: 0.002 | Recall: 0.711\n",
      "Batch 2500/2507: Loss: 0.0584 | Precision: 0.002 | Recall: 0.717\n"
     ]
    },
    {
     "data": {
      "text/html": [
       "<pre style=\"white-space:pre;overflow-x:auto;line-height:normal;font-family:Menlo,'DejaVu Sans Mono',consolas,'Courier New',monospace\"><span style=\"font-style: italic\">   Validation Confusion Matrix    </span>\n",
       "┏━━━━━━━━━━━┳━━━━━━━━┳━━━━━━━━━━━┓\n",
       "┃<span style=\"font-weight: bold\">           </span>┃<span style=\"font-weight: bold\"> Benign </span>┃<span style=\"font-weight: bold\"> Malignant </span>┃\n",
       "┡━━━━━━━━━━━╇━━━━━━━━╇━━━━━━━━━━━┩\n",
       "│<span style=\"color: #7f7f7f; text-decoration-color: #7f7f7f\"> Benign    </span>│ 73,139 │     6,994 │\n",
       "│<span style=\"color: #7f7f7f; text-decoration-color: #7f7f7f\"> Malignant </span>│     37 │        42 │\n",
       "└───────────┴────────┴───────────┘\n",
       "<span style=\"color: #7f7f7f; text-decoration-color: #7f7f7f; font-style: italic\">Rows: Actual | Columns: Predicted </span>\n",
       "</pre>\n"
      ],
      "text/plain": [
       "\u001b[3m   Validation Confusion Matrix    \u001b[0m\n",
       "┏━━━━━━━━━━━┳━━━━━━━━┳━━━━━━━━━━━┓\n",
       "┃\u001b[1m \u001b[0m\u001b[1m         \u001b[0m\u001b[1m \u001b[0m┃\u001b[1m \u001b[0m\u001b[1mBenign\u001b[0m\u001b[1m \u001b[0m┃\u001b[1m \u001b[0m\u001b[1mMalignant\u001b[0m\u001b[1m \u001b[0m┃\n",
       "┡━━━━━━━━━━━╇━━━━━━━━╇━━━━━━━━━━━┩\n",
       "│\u001b[2m \u001b[0m\u001b[2mBenign   \u001b[0m\u001b[2m \u001b[0m│ 73,139 │     6,994 │\n",
       "│\u001b[2m \u001b[0m\u001b[2mMalignant\u001b[0m\u001b[2m \u001b[0m│     37 │        42 │\n",
       "└───────────┴────────┴───────────┘\n",
       "\u001b[2;3mRows: Actual | Columns: Predicted \u001b[0m\n"
      ]
     },
     "metadata": {},
     "output_type": "display_data"
    },
    {
     "name": "stderr",
     "output_type": "stream",
     "text": [
      "WARNING:root:No positive instances have been seen in target. Recall is converted from NaN to 0s.\n"
     ]
    },
    {
     "name": "stdout",
     "output_type": "stream",
     "text": [
      "\n",
      "Epoch 3/16\n",
      "------------------------------------------------------------\n",
      "Batch   0/2507: Loss: 0.0543 | Precision: 0.000 | Recall: 0.000\n",
      "Batch 100/2507: Loss: 0.1118 | Precision: 0.004 | Recall: 0.750\n",
      "Batch 200/2507: Loss: 0.1310 | Precision: 0.004 | Recall: 0.786\n",
      "Batch 300/2507: Loss: 0.0533 | Precision: 0.003 | Recall: 0.800\n",
      "Batch 400/2507: Loss: 0.1660 | Precision: 0.004 | Recall: 0.804\n",
      "Batch 500/2507: Loss: 3.8301 | Precision: 0.004 | Recall: 0.794\n",
      "Batch 600/2507: Loss: 0.0828 | Precision: 0.003 | Recall: 0.785\n",
      "Batch 700/2507: Loss: 2.0957 | Precision: 0.003 | Recall: 0.742\n",
      "Batch 800/2507: Loss: 2.1893 | Precision: 0.003 | Recall: 0.753\n",
      "Batch 900/2507: Loss: 0.1628 | Precision: 0.003 | Recall: 0.731\n",
      "Batch 1000/2507: Loss: 0.0952 | Precision: 0.003 | Recall: 0.731\n",
      "Batch 1100/2507: Loss: 0.1697 | Precision: 0.003 | Recall: 0.730\n",
      "Batch 1200/2507: Loss: 0.1070 | Precision: 0.003 | Recall: 0.748\n",
      "Batch 1300/2507: Loss: 1.1599 | Precision: 0.003 | Recall: 0.758\n",
      "Batch 1400/2507: Loss: 0.0573 | Precision: 0.003 | Recall: 0.763\n",
      "Batch 1500/2507: Loss: 0.2557 | Precision: 0.003 | Recall: 0.761\n",
      "Batch 1600/2507: Loss: 0.0712 | Precision: 0.003 | Recall: 0.765\n",
      "Batch 1700/2507: Loss: 0.1727 | Precision: 0.003 | Recall: 0.769\n",
      "Batch 1800/2507: Loss: 0.0655 | Precision: 0.003 | Recall: 0.763\n",
      "Batch 1900/2507: Loss: 0.5213 | Precision: 0.003 | Recall: 0.767\n",
      "Batch 2000/2507: Loss: 0.1692 | Precision: 0.003 | Recall: 0.762\n",
      "Batch 2100/2507: Loss: 0.1350 | Precision: 0.003 | Recall: 0.745\n",
      "Batch 2200/2507: Loss: 0.0191 | Precision: 0.003 | Recall: 0.749\n",
      "Batch 2300/2507: Loss: 0.1775 | Precision: 0.003 | Recall: 0.746\n",
      "Batch 2400/2507: Loss: 0.1342 | Precision: 0.003 | Recall: 0.751\n",
      "Batch 2500/2507: Loss: 0.1302 | Precision: 0.003 | Recall: 0.748\n"
     ]
    },
    {
     "data": {
      "text/html": [
       "<pre style=\"white-space:pre;overflow-x:auto;line-height:normal;font-family:Menlo,'DejaVu Sans Mono',consolas,'Courier New',monospace\"><span style=\"font-style: italic\">   Validation Confusion Matrix    </span>\n",
       "┏━━━━━━━━━━━┳━━━━━━━━┳━━━━━━━━━━━┓\n",
       "┃<span style=\"font-weight: bold\">           </span>┃<span style=\"font-weight: bold\"> Benign </span>┃<span style=\"font-weight: bold\"> Malignant </span>┃\n",
       "┡━━━━━━━━━━━╇━━━━━━━━╇━━━━━━━━━━━┩\n",
       "│<span style=\"color: #7f7f7f; text-decoration-color: #7f7f7f\"> Benign    </span>│ 67,094 │    13,039 │\n",
       "│<span style=\"color: #7f7f7f; text-decoration-color: #7f7f7f\"> Malignant </span>│     27 │        52 │\n",
       "└───────────┴────────┴───────────┘\n",
       "<span style=\"color: #7f7f7f; text-decoration-color: #7f7f7f; font-style: italic\">Rows: Actual | Columns: Predicted </span>\n",
       "</pre>\n"
      ],
      "text/plain": [
       "\u001b[3m   Validation Confusion Matrix    \u001b[0m\n",
       "┏━━━━━━━━━━━┳━━━━━━━━┳━━━━━━━━━━━┓\n",
       "┃\u001b[1m \u001b[0m\u001b[1m         \u001b[0m\u001b[1m \u001b[0m┃\u001b[1m \u001b[0m\u001b[1mBenign\u001b[0m\u001b[1m \u001b[0m┃\u001b[1m \u001b[0m\u001b[1mMalignant\u001b[0m\u001b[1m \u001b[0m┃\n",
       "┡━━━━━━━━━━━╇━━━━━━━━╇━━━━━━━━━━━┩\n",
       "│\u001b[2m \u001b[0m\u001b[2mBenign   \u001b[0m\u001b[2m \u001b[0m│ 67,094 │    13,039 │\n",
       "│\u001b[2m \u001b[0m\u001b[2mMalignant\u001b[0m\u001b[2m \u001b[0m│     27 │        52 │\n",
       "└───────────┴────────┴───────────┘\n",
       "\u001b[2;3mRows: Actual | Columns: Predicted \u001b[0m\n"
      ]
     },
     "metadata": {},
     "output_type": "display_data"
    },
    {
     "name": "stdout",
     "output_type": "stream",
     "text": [
      "\n",
      "Epoch 4/16\n",
      "------------------------------------------------------------\n"
     ]
    },
    {
     "name": "stderr",
     "output_type": "stream",
     "text": [
      "WARNING:root:No positive instances have been seen in target. Recall is converted from NaN to 0s.\n"
     ]
    },
    {
     "name": "stdout",
     "output_type": "stream",
     "text": [
      "Batch   0/2507: Loss: 0.1644 | Precision: 0.000 | Recall: 0.000\n",
      "Batch 100/2507: Loss: 0.1094 | Precision: 0.005 | Recall: 0.889\n",
      "Batch 200/2507: Loss: 0.0578 | Precision: 0.005 | Recall: 0.926\n",
      "Batch 300/2507: Loss: 0.1449 | Precision: 0.005 | Recall: 0.825\n",
      "Batch 400/2507: Loss: 0.2567 | Precision: 0.004 | Recall: 0.768\n",
      "Batch 500/2507: Loss: 0.1192 | Precision: 0.004 | Recall: 0.788\n",
      "Batch 600/2507: Loss: 0.0474 | Precision: 0.003 | Recall: 0.743\n",
      "Batch 700/2507: Loss: 0.0653 | Precision: 0.003 | Recall: 0.733\n",
      "Batch 800/2507: Loss: 0.1096 | Precision: 0.003 | Recall: 0.735\n",
      "Batch 900/2507: Loss: 0.1542 | Precision: 0.003 | Recall: 0.703\n",
      "Batch 1000/2507: Loss: 2.2535 | Precision: 0.003 | Recall: 0.722\n",
      "Batch 1100/2507: Loss: 0.1439 | Precision: 0.003 | Recall: 0.729\n",
      "Batch 1200/2507: Loss: 0.1378 | Precision: 0.003 | Recall: 0.718\n",
      "Batch 1300/2507: Loss: 0.1424 | Precision: 0.003 | Recall: 0.726\n",
      "Batch 1400/2507: Loss: 0.1381 | Precision: 0.004 | Recall: 0.722\n",
      "Batch 1500/2507: Loss: 0.0936 | Precision: 0.003 | Recall: 0.726\n",
      "Batch 1600/2507: Loss: 0.1439 | Precision: 0.004 | Recall: 0.714\n",
      "Batch 1700/2507: Loss: 1.8988 | Precision: 0.004 | Recall: 0.727\n",
      "Batch 1800/2507: Loss: 0.1140 | Precision: 0.004 | Recall: 0.730\n",
      "Batch 1900/2507: Loss: 0.1375 | Precision: 0.004 | Recall: 0.737\n",
      "Batch 2000/2507: Loss: 0.1229 | Precision: 0.004 | Recall: 0.734\n",
      "Batch 2100/2507: Loss: 0.1453 | Precision: 0.004 | Recall: 0.736\n",
      "Batch 2200/2507: Loss: 0.0643 | Precision: 0.004 | Recall: 0.737\n",
      "Batch 2300/2507: Loss: 0.2064 | Precision: 0.004 | Recall: 0.739\n",
      "Batch 2400/2507: Loss: 0.2058 | Precision: 0.004 | Recall: 0.736\n",
      "Batch 2500/2507: Loss: 0.1743 | Precision: 0.004 | Recall: 0.737\n"
     ]
    },
    {
     "data": {
      "text/html": [
       "<pre style=\"white-space:pre;overflow-x:auto;line-height:normal;font-family:Menlo,'DejaVu Sans Mono',consolas,'Courier New',monospace\"><span style=\"font-style: italic\">   Validation Confusion Matrix    </span>\n",
       "┏━━━━━━━━━━━┳━━━━━━━━┳━━━━━━━━━━━┓\n",
       "┃<span style=\"font-weight: bold\">           </span>┃<span style=\"font-weight: bold\"> Benign </span>┃<span style=\"font-weight: bold\"> Malignant </span>┃\n",
       "┡━━━━━━━━━━━╇━━━━━━━━╇━━━━━━━━━━━┩\n",
       "│<span style=\"color: #7f7f7f; text-decoration-color: #7f7f7f\"> Benign    </span>│ 57,219 │    22,914 │\n",
       "│<span style=\"color: #7f7f7f; text-decoration-color: #7f7f7f\"> Malignant </span>│     15 │        64 │\n",
       "└───────────┴────────┴───────────┘\n",
       "<span style=\"color: #7f7f7f; text-decoration-color: #7f7f7f; font-style: italic\">Rows: Actual | Columns: Predicted </span>\n",
       "</pre>\n"
      ],
      "text/plain": [
       "\u001b[3m   Validation Confusion Matrix    \u001b[0m\n",
       "┏━━━━━━━━━━━┳━━━━━━━━┳━━━━━━━━━━━┓\n",
       "┃\u001b[1m \u001b[0m\u001b[1m         \u001b[0m\u001b[1m \u001b[0m┃\u001b[1m \u001b[0m\u001b[1mBenign\u001b[0m\u001b[1m \u001b[0m┃\u001b[1m \u001b[0m\u001b[1mMalignant\u001b[0m\u001b[1m \u001b[0m┃\n",
       "┡━━━━━━━━━━━╇━━━━━━━━╇━━━━━━━━━━━┩\n",
       "│\u001b[2m \u001b[0m\u001b[2mBenign   \u001b[0m\u001b[2m \u001b[0m│ 57,219 │    22,914 │\n",
       "│\u001b[2m \u001b[0m\u001b[2mMalignant\u001b[0m\u001b[2m \u001b[0m│     15 │        64 │\n",
       "└───────────┴────────┴───────────┘\n",
       "\u001b[2;3mRows: Actual | Columns: Predicted \u001b[0m\n"
      ]
     },
     "metadata": {},
     "output_type": "display_data"
    },
    {
     "name": "stderr",
     "output_type": "stream",
     "text": [
      "WARNING:root:No positive instances have been seen in target. Recall is converted from NaN to 0s.\n"
     ]
    },
    {
     "name": "stdout",
     "output_type": "stream",
     "text": [
      "\n",
      "Epoch 5/16\n",
      "------------------------------------------------------------\n",
      "Batch   0/2507: Loss: 0.2120 | Precision: 0.000 | Recall: 0.000\n",
      "Batch 100/2507: Loss: 0.1265 | Precision: 0.002 | Recall: 0.636\n",
      "Batch 200/2507: Loss: 0.0624 | Precision: 0.004 | Recall: 0.783\n",
      "Batch 300/2507: Loss: 0.2321 | Precision: 0.005 | Recall: 0.769\n",
      "Batch 400/2507: Loss: 0.1137 | Precision: 0.005 | Recall: 0.760\n",
      "Batch 500/2507: Loss: 0.1459 | Precision: 0.004 | Recall: 0.723\n",
      "Batch 600/2507: Loss: 0.1887 | Precision: 0.005 | Recall: 0.756\n",
      "Batch 700/2507: Loss: 0.0921 | Precision: 0.005 | Recall: 0.763\n",
      "Batch 800/2507: Loss: 0.1105 | Precision: 0.005 | Recall: 0.760\n",
      "Batch 900/2507: Loss: 0.0945 | Precision: 0.005 | Recall: 0.752\n",
      "Batch 1000/2507: Loss: 0.0552 | Precision: 0.005 | Recall: 0.766\n",
      "Batch 1100/2507: Loss: 0.1004 | Precision: 0.005 | Recall: 0.759\n",
      "Batch 1200/2507: Loss: 0.0544 | Precision: 0.005 | Recall: 0.745\n",
      "Batch 1300/2507: Loss: 0.2371 | Precision: 0.005 | Recall: 0.741\n",
      "Batch 1400/2507: Loss: 0.1203 | Precision: 0.004 | Recall: 0.740\n",
      "Batch 1500/2507: Loss: 0.1373 | Precision: 0.004 | Recall: 0.742\n",
      "Batch 1600/2507: Loss: 0.1513 | Precision: 0.004 | Recall: 0.743\n",
      "Batch 1700/2507: Loss: 0.2051 | Precision: 0.004 | Recall: 0.743\n",
      "Batch 1800/2507: Loss: 0.4675 | Precision: 0.004 | Recall: 0.734\n",
      "Batch 1900/2507: Loss: 0.1305 | Precision: 0.004 | Recall: 0.730\n",
      "Batch 2000/2507: Loss: 0.0573 | Precision: 0.004 | Recall: 0.733\n",
      "Batch 2100/2507: Loss: 0.1344 | Precision: 0.004 | Recall: 0.735\n",
      "Batch 2200/2507: Loss: 0.2308 | Precision: 0.004 | Recall: 0.736\n",
      "Batch 2300/2507: Loss: 0.1210 | Precision: 0.004 | Recall: 0.730\n",
      "Batch 2400/2507: Loss: 0.1529 | Precision: 0.004 | Recall: 0.728\n",
      "Batch 2500/2507: Loss: 0.0480 | Precision: 0.004 | Recall: 0.728\n"
     ]
    },
    {
     "data": {
      "text/html": [
       "<pre style=\"white-space:pre;overflow-x:auto;line-height:normal;font-family:Menlo,'DejaVu Sans Mono',consolas,'Courier New',monospace\"><span style=\"font-style: italic\">   Validation Confusion Matrix    </span>\n",
       "┏━━━━━━━━━━━┳━━━━━━━━┳━━━━━━━━━━━┓\n",
       "┃<span style=\"font-weight: bold\">           </span>┃<span style=\"font-weight: bold\"> Benign </span>┃<span style=\"font-weight: bold\"> Malignant </span>┃\n",
       "┡━━━━━━━━━━━╇━━━━━━━━╇━━━━━━━━━━━┩\n",
       "│<span style=\"color: #7f7f7f; text-decoration-color: #7f7f7f\"> Benign    </span>│ 74,489 │     5,644 │\n",
       "│<span style=\"color: #7f7f7f; text-decoration-color: #7f7f7f\"> Malignant </span>│     31 │        48 │\n",
       "└───────────┴────────┴───────────┘\n",
       "<span style=\"color: #7f7f7f; text-decoration-color: #7f7f7f; font-style: italic\">Rows: Actual | Columns: Predicted </span>\n",
       "</pre>\n"
      ],
      "text/plain": [
       "\u001b[3m   Validation Confusion Matrix    \u001b[0m\n",
       "┏━━━━━━━━━━━┳━━━━━━━━┳━━━━━━━━━━━┓\n",
       "┃\u001b[1m \u001b[0m\u001b[1m         \u001b[0m\u001b[1m \u001b[0m┃\u001b[1m \u001b[0m\u001b[1mBenign\u001b[0m\u001b[1m \u001b[0m┃\u001b[1m \u001b[0m\u001b[1mMalignant\u001b[0m\u001b[1m \u001b[0m┃\n",
       "┡━━━━━━━━━━━╇━━━━━━━━╇━━━━━━━━━━━┩\n",
       "│\u001b[2m \u001b[0m\u001b[2mBenign   \u001b[0m\u001b[2m \u001b[0m│ 74,489 │     5,644 │\n",
       "│\u001b[2m \u001b[0m\u001b[2mMalignant\u001b[0m\u001b[2m \u001b[0m│     31 │        48 │\n",
       "└───────────┴────────┴───────────┘\n",
       "\u001b[2;3mRows: Actual | Columns: Predicted \u001b[0m\n"
      ]
     },
     "metadata": {},
     "output_type": "display_data"
    },
    {
     "name": "stdout",
     "output_type": "stream",
     "text": [
      "\n",
      "Epoch 6/16\n",
      "------------------------------------------------------------\n"
     ]
    },
    {
     "name": "stderr",
     "output_type": "stream",
     "text": [
      "WARNING:root:No positive instances have been seen in target. Recall is converted from NaN to 0s.\n"
     ]
    },
    {
     "name": "stdout",
     "output_type": "stream",
     "text": [
      "Batch   0/2507: Loss: 0.0294 | Precision: 0.000 | Recall: 0.000\n",
      "Batch 100/2507: Loss: 0.1081 | Precision: 0.006 | Recall: 0.733\n",
      "Batch 200/2507: Loss: 0.1258 | Precision: 0.005 | Recall: 0.733\n",
      "Batch 300/2507: Loss: 0.1347 | Precision: 0.006 | Recall: 0.714\n",
      "Batch 400/2507: Loss: 0.0991 | Precision: 0.005 | Recall: 0.712\n",
      "Batch 500/2507: Loss: 0.0400 | Precision: 0.005 | Recall: 0.730\n",
      "Batch 600/2507: Loss: 0.1273 | Precision: 0.005 | Recall: 0.730\n",
      "Batch 700/2507: Loss: 0.0753 | Precision: 0.005 | Recall: 0.741\n",
      "Batch 800/2507: Loss: 0.1941 | Precision: 0.004 | Recall: 0.742\n",
      "Batch 900/2507: Loss: 0.1472 | Precision: 0.004 | Recall: 0.763\n",
      "Batch 1000/2507: Loss: 0.1184 | Precision: 0.005 | Recall: 0.779\n",
      "Batch 1100/2507: Loss: 0.0933 | Precision: 0.005 | Recall: 0.792\n",
      "Batch 1200/2507: Loss: 0.1253 | Precision: 0.005 | Recall: 0.786\n",
      "Batch 1300/2507: Loss: 0.0445 | Precision: 0.005 | Recall: 0.788\n",
      "Batch 1400/2507: Loss: 0.1452 | Precision: 0.005 | Recall: 0.789\n",
      "Batch 1500/2507: Loss: 0.0722 | Precision: 0.005 | Recall: 0.784\n",
      "Batch 1600/2507: Loss: 0.1951 | Precision: 0.005 | Recall: 0.770\n",
      "Batch 1700/2507: Loss: 0.1280 | Precision: 0.005 | Recall: 0.755\n",
      "Batch 1800/2507: Loss: 0.2453 | Precision: 0.005 | Recall: 0.755\n",
      "Batch 1900/2507: Loss: 0.0812 | Precision: 0.004 | Recall: 0.759\n",
      "Batch 2000/2507: Loss: 0.0798 | Precision: 0.005 | Recall: 0.760\n",
      "Batch 2100/2507: Loss: 0.1456 | Precision: 0.005 | Recall: 0.760\n",
      "Batch 2200/2507: Loss: 0.1299 | Precision: 0.005 | Recall: 0.760\n",
      "Batch 2300/2507: Loss: 0.0687 | Precision: 0.005 | Recall: 0.765\n",
      "Batch 2400/2507: Loss: 0.0813 | Precision: 0.005 | Recall: 0.760\n",
      "Batch 2500/2507: Loss: 0.1100 | Precision: 0.005 | Recall: 0.758\n"
     ]
    },
    {
     "data": {
      "text/html": [
       "<pre style=\"white-space:pre;overflow-x:auto;line-height:normal;font-family:Menlo,'DejaVu Sans Mono',consolas,'Courier New',monospace\"><span style=\"font-style: italic\">   Validation Confusion Matrix    </span>\n",
       "┏━━━━━━━━━━━┳━━━━━━━━┳━━━━━━━━━━━┓\n",
       "┃<span style=\"font-weight: bold\">           </span>┃<span style=\"font-weight: bold\"> Benign </span>┃<span style=\"font-weight: bold\"> Malignant </span>┃\n",
       "┡━━━━━━━━━━━╇━━━━━━━━╇━━━━━━━━━━━┩\n",
       "│<span style=\"color: #7f7f7f; text-decoration-color: #7f7f7f\"> Benign    </span>│ 72,353 │     7,780 │\n",
       "│<span style=\"color: #7f7f7f; text-decoration-color: #7f7f7f\"> Malignant </span>│     21 │        58 │\n",
       "└───────────┴────────┴───────────┘\n",
       "<span style=\"color: #7f7f7f; text-decoration-color: #7f7f7f; font-style: italic\">Rows: Actual | Columns: Predicted </span>\n",
       "</pre>\n"
      ],
      "text/plain": [
       "\u001b[3m   Validation Confusion Matrix    \u001b[0m\n",
       "┏━━━━━━━━━━━┳━━━━━━━━┳━━━━━━━━━━━┓\n",
       "┃\u001b[1m \u001b[0m\u001b[1m         \u001b[0m\u001b[1m \u001b[0m┃\u001b[1m \u001b[0m\u001b[1mBenign\u001b[0m\u001b[1m \u001b[0m┃\u001b[1m \u001b[0m\u001b[1mMalignant\u001b[0m\u001b[1m \u001b[0m┃\n",
       "┡━━━━━━━━━━━╇━━━━━━━━╇━━━━━━━━━━━┩\n",
       "│\u001b[2m \u001b[0m\u001b[2mBenign   \u001b[0m\u001b[2m \u001b[0m│ 72,353 │     7,780 │\n",
       "│\u001b[2m \u001b[0m\u001b[2mMalignant\u001b[0m\u001b[2m \u001b[0m│     21 │        58 │\n",
       "└───────────┴────────┴───────────┘\n",
       "\u001b[2;3mRows: Actual | Columns: Predicted \u001b[0m\n"
      ]
     },
     "metadata": {},
     "output_type": "display_data"
    },
    {
     "name": "stderr",
     "output_type": "stream",
     "text": [
      "WARNING:root:No positive instances have been seen in target. Recall is converted from NaN to 0s.\n"
     ]
    },
    {
     "name": "stdout",
     "output_type": "stream",
     "text": [
      "\n",
      "Epoch 7/16\n",
      "------------------------------------------------------------\n",
      "Batch   0/2507: Loss: 0.0967 | Precision: 0.000 | Recall: 0.000\n",
      "Batch 100/2507: Loss: 0.1470 | Precision: 0.004 | Recall: 0.444\n",
      "Batch 200/2507: Loss: 0.1944 | Precision: 0.007 | Recall: 0.750\n",
      "Batch 300/2507: Loss: 0.0665 | Precision: 0.006 | Recall: 0.771\n",
      "Batch 400/2507: Loss: 0.0415 | Precision: 0.006 | Recall: 0.795\n",
      "Batch 500/2507: Loss: 0.0533 | Precision: 0.007 | Recall: 0.800\n",
      "Batch 600/2507: Loss: 0.1007 | Precision: 0.006 | Recall: 0.775\n",
      "Batch 700/2507: Loss: 0.0874 | Precision: 0.006 | Recall: 0.762\n",
      "Batch 800/2507: Loss: 0.1909 | Precision: 0.006 | Recall: 0.768\n",
      "Batch 900/2507: Loss: 0.0599 | Precision: 0.005 | Recall: 0.765\n",
      "Batch 1000/2507: Loss: 0.1270 | Precision: 0.005 | Recall: 0.752\n",
      "Batch 1100/2507: Loss: 0.1761 | Precision: 0.005 | Recall: 0.770\n",
      "Batch 1200/2507: Loss: 0.0907 | Precision: 0.005 | Recall: 0.772\n",
      "Batch 1300/2507: Loss: 0.1426 | Precision: 0.005 | Recall: 0.761\n",
      "Batch 1400/2507: Loss: 0.0695 | Precision: 0.006 | Recall: 0.766\n",
      "Batch 1500/2507: Loss: 0.1028 | Precision: 0.005 | Recall: 0.753\n",
      "Batch 1600/2507: Loss: 0.6181 | Precision: 0.005 | Recall: 0.751\n",
      "Batch 1700/2507: Loss: 0.7879 | Precision: 0.005 | Recall: 0.738\n",
      "Batch 1800/2507: Loss: 8.5668 | Precision: 0.005 | Recall: 0.743\n",
      "Batch 1900/2507: Loss: 0.1161 | Precision: 0.005 | Recall: 0.745\n",
      "Batch 2000/2507: Loss: 0.0392 | Precision: 0.005 | Recall: 0.746\n",
      "Batch 2100/2507: Loss: 0.0642 | Precision: 0.005 | Recall: 0.748\n",
      "Batch 2200/2507: Loss: 0.0891 | Precision: 0.005 | Recall: 0.740\n",
      "Batch 2300/2507: Loss: 6.6940 | Precision: 0.005 | Recall: 0.744\n",
      "Batch 2400/2507: Loss: 0.0999 | Precision: 0.005 | Recall: 0.753\n",
      "Batch 2500/2507: Loss: 0.3424 | Precision: 0.005 | Recall: 0.748\n"
     ]
    },
    {
     "data": {
      "text/html": [
       "<pre style=\"white-space:pre;overflow-x:auto;line-height:normal;font-family:Menlo,'DejaVu Sans Mono',consolas,'Courier New',monospace\"><span style=\"font-style: italic\">   Validation Confusion Matrix    </span>\n",
       "┏━━━━━━━━━━━┳━━━━━━━━┳━━━━━━━━━━━┓\n",
       "┃<span style=\"font-weight: bold\">           </span>┃<span style=\"font-weight: bold\"> Benign </span>┃<span style=\"font-weight: bold\"> Malignant </span>┃\n",
       "┡━━━━━━━━━━━╇━━━━━━━━╇━━━━━━━━━━━┩\n",
       "│<span style=\"color: #7f7f7f; text-decoration-color: #7f7f7f\"> Benign    </span>│ 59,086 │    21,047 │\n",
       "│<span style=\"color: #7f7f7f; text-decoration-color: #7f7f7f\"> Malignant </span>│     14 │        65 │\n",
       "└───────────┴────────┴───────────┘\n",
       "<span style=\"color: #7f7f7f; text-decoration-color: #7f7f7f; font-style: italic\">Rows: Actual | Columns: Predicted </span>\n",
       "</pre>\n"
      ],
      "text/plain": [
       "\u001b[3m   Validation Confusion Matrix    \u001b[0m\n",
       "┏━━━━━━━━━━━┳━━━━━━━━┳━━━━━━━━━━━┓\n",
       "┃\u001b[1m \u001b[0m\u001b[1m         \u001b[0m\u001b[1m \u001b[0m┃\u001b[1m \u001b[0m\u001b[1mBenign\u001b[0m\u001b[1m \u001b[0m┃\u001b[1m \u001b[0m\u001b[1mMalignant\u001b[0m\u001b[1m \u001b[0m┃\n",
       "┡━━━━━━━━━━━╇━━━━━━━━╇━━━━━━━━━━━┩\n",
       "│\u001b[2m \u001b[0m\u001b[2mBenign   \u001b[0m\u001b[2m \u001b[0m│ 59,086 │    21,047 │\n",
       "│\u001b[2m \u001b[0m\u001b[2mMalignant\u001b[0m\u001b[2m \u001b[0m│     14 │        65 │\n",
       "└───────────┴────────┴───────────┘\n",
       "\u001b[2;3mRows: Actual | Columns: Predicted \u001b[0m\n"
      ]
     },
     "metadata": {},
     "output_type": "display_data"
    },
    {
     "name": "stderr",
     "output_type": "stream",
     "text": [
      "WARNING:root:No positive instances have been seen in target. Recall is converted from NaN to 0s.\n"
     ]
    },
    {
     "name": "stdout",
     "output_type": "stream",
     "text": [
      "\n",
      "Epoch 8/16\n",
      "------------------------------------------------------------\n",
      "Batch   0/2507: Loss: 0.1632 | Precision: 0.000 | Recall: 0.000\n",
      "Batch 100/2507: Loss: 0.1149 | Precision: 0.010 | Recall: 0.923\n",
      "Batch 200/2507: Loss: 0.2407 | Precision: 0.004 | Recall: 0.812\n",
      "Batch 300/2507: Loss: 0.1473 | Precision: 0.004 | Recall: 0.814\n",
      "Batch 400/2507: Loss: 0.1634 | Precision: 0.004 | Recall: 0.788\n",
      "Batch 500/2507: Loss: 0.1084 | Precision: 0.004 | Recall: 0.828\n",
      "Batch 600/2507: Loss: 0.0968 | Precision: 0.004 | Recall: 0.803\n",
      "Batch 700/2507: Loss: 0.0718 | Precision: 0.004 | Recall: 0.807\n",
      "Batch 800/2507: Loss: 0.1061 | Precision: 0.004 | Recall: 0.798\n",
      "Batch 900/2507: Loss: 0.1179 | Precision: 0.005 | Recall: 0.784\n",
      "Batch 1000/2507: Loss: 0.0840 | Precision: 0.004 | Recall: 0.782\n",
      "Batch 1100/2507: Loss: 0.0877 | Precision: 0.004 | Recall: 0.760\n",
      "Batch 1200/2507: Loss: 0.0983 | Precision: 0.004 | Recall: 0.757\n",
      "Batch 1300/2507: Loss: 0.0831 | Precision: 0.005 | Recall: 0.747\n",
      "Batch 1400/2507: Loss: 0.2545 | Precision: 0.005 | Recall: 0.756\n",
      "Batch 1500/2507: Loss: 0.1748 | Precision: 0.005 | Recall: 0.771\n",
      "Batch 1600/2507: Loss: 0.1644 | Precision: 0.005 | Recall: 0.776\n",
      "Batch 1700/2507: Loss: 0.1106 | Precision: 0.005 | Recall: 0.768\n",
      "Batch 1800/2507: Loss: 0.5634 | Precision: 0.005 | Recall: 0.771\n",
      "Batch 1900/2507: Loss: 4.3186 | Precision: 0.005 | Recall: 0.771\n",
      "Batch 2000/2507: Loss: 0.0895 | Precision: 0.005 | Recall: 0.766\n",
      "Batch 2100/2507: Loss: 0.1771 | Precision: 0.005 | Recall: 0.772\n",
      "Batch 2200/2507: Loss: 7.8228 | Precision: 0.005 | Recall: 0.773\n",
      "Batch 2300/2507: Loss: 0.0826 | Precision: 0.005 | Recall: 0.770\n",
      "Batch 2400/2507: Loss: 0.1063 | Precision: 0.005 | Recall: 0.768\n",
      "Batch 2500/2507: Loss: 0.0515 | Precision: 0.005 | Recall: 0.763\n"
     ]
    },
    {
     "data": {
      "text/html": [
       "<pre style=\"white-space:pre;overflow-x:auto;line-height:normal;font-family:Menlo,'DejaVu Sans Mono',consolas,'Courier New',monospace\"><span style=\"font-style: italic\">   Validation Confusion Matrix    </span>\n",
       "┏━━━━━━━━━━━┳━━━━━━━━┳━━━━━━━━━━━┓\n",
       "┃<span style=\"font-weight: bold\">           </span>┃<span style=\"font-weight: bold\"> Benign </span>┃<span style=\"font-weight: bold\"> Malignant </span>┃\n",
       "┡━━━━━━━━━━━╇━━━━━━━━╇━━━━━━━━━━━┩\n",
       "│<span style=\"color: #7f7f7f; text-decoration-color: #7f7f7f\"> Benign    </span>│ 69,961 │    10,172 │\n",
       "│<span style=\"color: #7f7f7f; text-decoration-color: #7f7f7f\"> Malignant </span>│     15 │        64 │\n",
       "└───────────┴────────┴───────────┘\n",
       "<span style=\"color: #7f7f7f; text-decoration-color: #7f7f7f; font-style: italic\">Rows: Actual | Columns: Predicted </span>\n",
       "</pre>\n"
      ],
      "text/plain": [
       "\u001b[3m   Validation Confusion Matrix    \u001b[0m\n",
       "┏━━━━━━━━━━━┳━━━━━━━━┳━━━━━━━━━━━┓\n",
       "┃\u001b[1m \u001b[0m\u001b[1m         \u001b[0m\u001b[1m \u001b[0m┃\u001b[1m \u001b[0m\u001b[1mBenign\u001b[0m\u001b[1m \u001b[0m┃\u001b[1m \u001b[0m\u001b[1mMalignant\u001b[0m\u001b[1m \u001b[0m┃\n",
       "┡━━━━━━━━━━━╇━━━━━━━━╇━━━━━━━━━━━┩\n",
       "│\u001b[2m \u001b[0m\u001b[2mBenign   \u001b[0m\u001b[2m \u001b[0m│ 69,961 │    10,172 │\n",
       "│\u001b[2m \u001b[0m\u001b[2mMalignant\u001b[0m\u001b[2m \u001b[0m│     15 │        64 │\n",
       "└───────────┴────────┴───────────┘\n",
       "\u001b[2;3mRows: Actual | Columns: Predicted \u001b[0m\n"
      ]
     },
     "metadata": {},
     "output_type": "display_data"
    },
    {
     "name": "stderr",
     "output_type": "stream",
     "text": [
      "WARNING:root:No positive instances have been seen in target. Recall is converted from NaN to 0s.\n"
     ]
    },
    {
     "name": "stdout",
     "output_type": "stream",
     "text": [
      "\n",
      "Epoch 9/16\n",
      "------------------------------------------------------------\n",
      "Batch   0/2507: Loss: 0.1383 | Precision: 0.000 | Recall: 0.000\n",
      "Batch 100/2507: Loss: 0.0005 | Precision: 0.004 | Recall: 0.583\n",
      "Batch 200/2507: Loss: 0.0885 | Precision: 0.007 | Recall: 0.739\n",
      "Batch 300/2507: Loss: 0.1228 | Precision: 0.008 | Recall: 0.778\n",
      "Batch 400/2507: Loss: 0.0658 | Precision: 0.007 | Recall: 0.796\n",
      "Batch 500/2507: Loss: 0.0918 | Precision: 0.007 | Recall: 0.800\n",
      "Batch 600/2507: Loss: 0.1874 | Precision: 0.005 | Recall: 0.797\n",
      "Batch 700/2507: Loss: 0.1096 | Precision: 0.005 | Recall: 0.814\n",
      "Batch 800/2507: Loss: 0.1055 | Precision: 0.005 | Recall: 0.798\n",
      "Batch 900/2507: Loss: 0.1095 | Precision: 0.005 | Recall: 0.802\n",
      "Batch 1000/2507: Loss: 0.1253 | Precision: 0.005 | Recall: 0.770\n",
      "Batch 1100/2507: Loss: 0.0765 | Precision: 0.005 | Recall: 0.769\n",
      "Batch 1200/2507: Loss: 0.0986 | Precision: 0.005 | Recall: 0.766\n",
      "Batch 1300/2507: Loss: 0.1011 | Precision: 0.005 | Recall: 0.765\n",
      "Batch 1400/2507: Loss: 0.1025 | Precision: 0.005 | Recall: 0.767\n",
      "Batch 1500/2507: Loss: 0.1313 | Precision: 0.004 | Recall: 0.756\n",
      "Batch 1600/2507: Loss: 0.0988 | Precision: 0.005 | Recall: 0.755\n",
      "Batch 1700/2507: Loss: 0.1731 | Precision: 0.005 | Recall: 0.756\n",
      "Batch 1800/2507: Loss: 0.0323 | Precision: 0.005 | Recall: 0.755\n",
      "Batch 1900/2507: Loss: 0.1080 | Precision: 0.005 | Recall: 0.752\n",
      "Batch 2000/2507: Loss: 0.1657 | Precision: 0.005 | Recall: 0.749\n",
      "Batch 2100/2507: Loss: 0.0857 | Precision: 0.005 | Recall: 0.757\n",
      "Batch 2200/2507: Loss: 0.1193 | Precision: 0.005 | Recall: 0.753\n",
      "Batch 2300/2507: Loss: 0.1948 | Precision: 0.005 | Recall: 0.760\n",
      "Batch 2400/2507: Loss: 0.3026 | Precision: 0.005 | Recall: 0.752\n",
      "Batch 2500/2507: Loss: 0.1547 | Precision: 0.005 | Recall: 0.755\n"
     ]
    },
    {
     "data": {
      "text/html": [
       "<pre style=\"white-space:pre;overflow-x:auto;line-height:normal;font-family:Menlo,'DejaVu Sans Mono',consolas,'Courier New',monospace\"><span style=\"font-style: italic\">   Validation Confusion Matrix    </span>\n",
       "┏━━━━━━━━━━━┳━━━━━━━━┳━━━━━━━━━━━┓\n",
       "┃<span style=\"font-weight: bold\">           </span>┃<span style=\"font-weight: bold\"> Benign </span>┃<span style=\"font-weight: bold\"> Malignant </span>┃\n",
       "┡━━━━━━━━━━━╇━━━━━━━━╇━━━━━━━━━━━┩\n",
       "│<span style=\"color: #7f7f7f; text-decoration-color: #7f7f7f\"> Benign    </span>│ 65,661 │    14,472 │\n",
       "│<span style=\"color: #7f7f7f; text-decoration-color: #7f7f7f\"> Malignant </span>│     15 │        64 │\n",
       "└───────────┴────────┴───────────┘\n",
       "<span style=\"color: #7f7f7f; text-decoration-color: #7f7f7f; font-style: italic\">Rows: Actual | Columns: Predicted </span>\n",
       "</pre>\n"
      ],
      "text/plain": [
       "\u001b[3m   Validation Confusion Matrix    \u001b[0m\n",
       "┏━━━━━━━━━━━┳━━━━━━━━┳━━━━━━━━━━━┓\n",
       "┃\u001b[1m \u001b[0m\u001b[1m         \u001b[0m\u001b[1m \u001b[0m┃\u001b[1m \u001b[0m\u001b[1mBenign\u001b[0m\u001b[1m \u001b[0m┃\u001b[1m \u001b[0m\u001b[1mMalignant\u001b[0m\u001b[1m \u001b[0m┃\n",
       "┡━━━━━━━━━━━╇━━━━━━━━╇━━━━━━━━━━━┩\n",
       "│\u001b[2m \u001b[0m\u001b[2mBenign   \u001b[0m\u001b[2m \u001b[0m│ 65,661 │    14,472 │\n",
       "│\u001b[2m \u001b[0m\u001b[2mMalignant\u001b[0m\u001b[2m \u001b[0m│     15 │        64 │\n",
       "└───────────┴────────┴───────────┘\n",
       "\u001b[2;3mRows: Actual | Columns: Predicted \u001b[0m\n"
      ]
     },
     "metadata": {},
     "output_type": "display_data"
    },
    {
     "name": "stdout",
     "output_type": "stream",
     "text": [
      "\n",
      "Epoch 10/16\n",
      "------------------------------------------------------------\n"
     ]
    },
    {
     "name": "stderr",
     "output_type": "stream",
     "text": [
      "WARNING:root:No positive instances have been seen in target. Recall is converted from NaN to 0s.\n"
     ]
    },
    {
     "name": "stdout",
     "output_type": "stream",
     "text": [
      "Batch   0/2507: Loss: 0.1566 | Precision: 0.000 | Recall: 0.000\n",
      "Batch 100/2507: Loss: 0.1354 | Precision: 0.004 | Recall: 0.786\n",
      "Batch 200/2507: Loss: 0.1398 | Precision: 0.004 | Recall: 0.731\n",
      "Batch 300/2507: Loss: 0.0808 | Precision: 0.004 | Recall: 0.735\n",
      "Batch 400/2507: Loss: 0.1454 | Precision: 0.005 | Recall: 0.765\n",
      "Batch 500/2507: Loss: 0.0935 | Precision: 0.005 | Recall: 0.761\n",
      "Batch 600/2507: Loss: 0.0815 | Precision: 0.005 | Recall: 0.747\n",
      "Batch 700/2507: Loss: 0.1603 | Precision: 0.005 | Recall: 0.756\n",
      "Batch 800/2507: Loss: 0.0732 | Precision: 0.005 | Recall: 0.758\n",
      "Batch 900/2507: Loss: 0.0976 | Precision: 0.005 | Recall: 0.761\n",
      "Batch 1000/2507: Loss: 0.1312 | Precision: 0.005 | Recall: 0.754\n",
      "Batch 1100/2507: Loss: 0.0721 | Precision: 0.005 | Recall: 0.756\n",
      "Batch 1200/2507: Loss: 0.0289 | Precision: 0.005 | Recall: 0.766\n",
      "Batch 1300/2507: Loss: 0.1075 | Precision: 0.005 | Recall: 0.756\n",
      "Batch 1400/2507: Loss: 0.0979 | Precision: 0.005 | Recall: 0.756\n",
      "Batch 1500/2507: Loss: 0.1856 | Precision: 0.005 | Recall: 0.755\n",
      "Batch 1600/2507: Loss: 0.0656 | Precision: 0.005 | Recall: 0.764\n",
      "Batch 1700/2507: Loss: 0.1733 | Precision: 0.005 | Recall: 0.756\n",
      "Batch 1800/2507: Loss: 0.0844 | Precision: 0.005 | Recall: 0.750\n",
      "Batch 1900/2507: Loss: 0.1870 | Precision: 0.005 | Recall: 0.748\n",
      "Batch 2000/2507: Loss: 4.4782 | Precision: 0.005 | Recall: 0.740\n",
      "Batch 2100/2507: Loss: 0.0875 | Precision: 0.005 | Recall: 0.746\n",
      "Batch 2200/2507: Loss: 0.1189 | Precision: 0.005 | Recall: 0.748\n",
      "Batch 2300/2507: Loss: 0.1370 | Precision: 0.005 | Recall: 0.752\n",
      "Batch 2400/2507: Loss: 0.1512 | Precision: 0.005 | Recall: 0.759\n",
      "Batch 2500/2507: Loss: 0.0268 | Precision: 0.005 | Recall: 0.768\n"
     ]
    },
    {
     "data": {
      "text/html": [
       "<pre style=\"white-space:pre;overflow-x:auto;line-height:normal;font-family:Menlo,'DejaVu Sans Mono',consolas,'Courier New',monospace\"><span style=\"font-style: italic\">   Validation Confusion Matrix    </span>\n",
       "┏━━━━━━━━━━━┳━━━━━━━━┳━━━━━━━━━━━┓\n",
       "┃<span style=\"font-weight: bold\">           </span>┃<span style=\"font-weight: bold\"> Benign </span>┃<span style=\"font-weight: bold\"> Malignant </span>┃\n",
       "┡━━━━━━━━━━━╇━━━━━━━━╇━━━━━━━━━━━┩\n",
       "│<span style=\"color: #7f7f7f; text-decoration-color: #7f7f7f\"> Benign    </span>│ 74,104 │     6,029 │\n",
       "│<span style=\"color: #7f7f7f; text-decoration-color: #7f7f7f\"> Malignant </span>│     29 │        50 │\n",
       "└───────────┴────────┴───────────┘\n",
       "<span style=\"color: #7f7f7f; text-decoration-color: #7f7f7f; font-style: italic\">Rows: Actual | Columns: Predicted </span>\n",
       "</pre>\n"
      ],
      "text/plain": [
       "\u001b[3m   Validation Confusion Matrix    \u001b[0m\n",
       "┏━━━━━━━━━━━┳━━━━━━━━┳━━━━━━━━━━━┓\n",
       "┃\u001b[1m \u001b[0m\u001b[1m         \u001b[0m\u001b[1m \u001b[0m┃\u001b[1m \u001b[0m\u001b[1mBenign\u001b[0m\u001b[1m \u001b[0m┃\u001b[1m \u001b[0m\u001b[1mMalignant\u001b[0m\u001b[1m \u001b[0m┃\n",
       "┡━━━━━━━━━━━╇━━━━━━━━╇━━━━━━━━━━━┩\n",
       "│\u001b[2m \u001b[0m\u001b[2mBenign   \u001b[0m\u001b[2m \u001b[0m│ 74,104 │     6,029 │\n",
       "│\u001b[2m \u001b[0m\u001b[2mMalignant\u001b[0m\u001b[2m \u001b[0m│     29 │        50 │\n",
       "└───────────┴────────┴───────────┘\n",
       "\u001b[2;3mRows: Actual | Columns: Predicted \u001b[0m\n"
      ]
     },
     "metadata": {},
     "output_type": "display_data"
    },
    {
     "name": "stderr",
     "output_type": "stream",
     "text": [
      "WARNING:root:No positive instances have been seen in target. Recall is converted from NaN to 0s.\n"
     ]
    },
    {
     "name": "stdout",
     "output_type": "stream",
     "text": [
      "\n",
      "Epoch 11/16\n",
      "------------------------------------------------------------\n",
      "Batch   0/2507: Loss: 0.0630 | Precision: 0.000 | Recall: 0.000\n",
      "Batch 100/2507: Loss: 0.1427 | Precision: 0.003 | Recall: 0.600\n",
      "Batch 200/2507: Loss: 0.1790 | Precision: 0.004 | Recall: 0.667\n",
      "Batch 300/2507: Loss: 0.1526 | Precision: 0.005 | Recall: 0.758\n",
      "Batch 400/2507: Loss: 0.1931 | Precision: 0.006 | Recall: 0.788\n",
      "Batch 500/2507: Loss: 1.8900 | Precision: 0.005 | Recall: 0.779\n",
      "Batch 600/2507: Loss: 0.0598 | Precision: 0.006 | Recall: 0.812\n",
      "Batch 700/2507: Loss: 0.1116 | Precision: 0.005 | Recall: 0.796\n",
      "Batch 800/2507: Loss: 0.1045 | Precision: 0.005 | Recall: 0.780\n",
      "Batch 900/2507: Loss: 0.0853 | Precision: 0.006 | Recall: 0.775\n",
      "Batch 1000/2507: Loss: 0.1034 | Precision: 0.006 | Recall: 0.781\n",
      "Batch 1100/2507: Loss: 0.0794 | Precision: 0.006 | Recall: 0.784\n",
      "Batch 1200/2507: Loss: 0.1302 | Precision: 0.006 | Recall: 0.789\n",
      "Batch 1300/2507: Loss: 3.8119 | Precision: 0.006 | Recall: 0.787\n",
      "Batch 1400/2507: Loss: 0.0907 | Precision: 0.006 | Recall: 0.788\n",
      "Batch 1500/2507: Loss: 0.0882 | Precision: 0.006 | Recall: 0.798\n",
      "Batch 1600/2507: Loss: 0.1739 | Precision: 0.006 | Recall: 0.793\n",
      "Batch 1700/2507: Loss: 0.0819 | Precision: 0.006 | Recall: 0.796\n",
      "Batch 1800/2507: Loss: 0.2184 | Precision: 0.006 | Recall: 0.783\n",
      "Batch 1900/2507: Loss: 0.1089 | Precision: 0.005 | Recall: 0.784\n",
      "Batch 2000/2507: Loss: 0.1268 | Precision: 0.005 | Recall: 0.774\n",
      "Batch 2100/2507: Loss: 1.7252 | Precision: 0.005 | Recall: 0.762\n",
      "Batch 2200/2507: Loss: 10.1404 | Precision: 0.005 | Recall: 0.763\n",
      "Batch 2300/2507: Loss: 0.0646 | Precision: 0.005 | Recall: 0.764\n",
      "Batch 2400/2507: Loss: 0.1504 | Precision: 0.005 | Recall: 0.767\n",
      "Batch 2500/2507: Loss: 0.0806 | Precision: 0.005 | Recall: 0.771\n"
     ]
    },
    {
     "data": {
      "text/html": [
       "<pre style=\"white-space:pre;overflow-x:auto;line-height:normal;font-family:Menlo,'DejaVu Sans Mono',consolas,'Courier New',monospace\"><span style=\"font-style: italic\">   Validation Confusion Matrix    </span>\n",
       "┏━━━━━━━━━━━┳━━━━━━━━┳━━━━━━━━━━━┓\n",
       "┃<span style=\"font-weight: bold\">           </span>┃<span style=\"font-weight: bold\"> Benign </span>┃<span style=\"font-weight: bold\"> Malignant </span>┃\n",
       "┡━━━━━━━━━━━╇━━━━━━━━╇━━━━━━━━━━━┩\n",
       "│<span style=\"color: #7f7f7f; text-decoration-color: #7f7f7f\"> Benign    </span>│ 71,585 │     8,548 │\n",
       "│<span style=\"color: #7f7f7f; text-decoration-color: #7f7f7f\"> Malignant </span>│     19 │        60 │\n",
       "└───────────┴────────┴───────────┘\n",
       "<span style=\"color: #7f7f7f; text-decoration-color: #7f7f7f; font-style: italic\">Rows: Actual | Columns: Predicted </span>\n",
       "</pre>\n"
      ],
      "text/plain": [
       "\u001b[3m   Validation Confusion Matrix    \u001b[0m\n",
       "┏━━━━━━━━━━━┳━━━━━━━━┳━━━━━━━━━━━┓\n",
       "┃\u001b[1m \u001b[0m\u001b[1m         \u001b[0m\u001b[1m \u001b[0m┃\u001b[1m \u001b[0m\u001b[1mBenign\u001b[0m\u001b[1m \u001b[0m┃\u001b[1m \u001b[0m\u001b[1mMalignant\u001b[0m\u001b[1m \u001b[0m┃\n",
       "┡━━━━━━━━━━━╇━━━━━━━━╇━━━━━━━━━━━┩\n",
       "│\u001b[2m \u001b[0m\u001b[2mBenign   \u001b[0m\u001b[2m \u001b[0m│ 71,585 │     8,548 │\n",
       "│\u001b[2m \u001b[0m\u001b[2mMalignant\u001b[0m\u001b[2m \u001b[0m│     19 │        60 │\n",
       "└───────────┴────────┴───────────┘\n",
       "\u001b[2;3mRows: Actual | Columns: Predicted \u001b[0m\n"
      ]
     },
     "metadata": {},
     "output_type": "display_data"
    },
    {
     "name": "stderr",
     "output_type": "stream",
     "text": [
      "WARNING:root:No positive instances have been seen in target. Recall is converted from NaN to 0s.\n"
     ]
    },
    {
     "name": "stdout",
     "output_type": "stream",
     "text": [
      "\n",
      "Epoch 12/16\n",
      "------------------------------------------------------------\n",
      "Batch   0/2507: Loss: 0.0778 | Precision: 0.000 | Recall: 0.000\n",
      "Batch 100/2507: Loss: 0.0677 | Precision: 0.004 | Recall: 0.778\n",
      "Batch 200/2507: Loss: 0.9471 | Precision: 0.005 | Recall: 0.867\n",
      "Batch 300/2507: Loss: 0.1369 | Precision: 0.005 | Recall: 0.821\n",
      "Batch 400/2507: Loss: 0.1279 | Precision: 0.005 | Recall: 0.795\n",
      "Batch 500/2507: Loss: 0.1258 | Precision: 0.006 | Recall: 0.821\n",
      "Batch 600/2507: Loss: 0.2362 | Precision: 0.005 | Recall: 0.769\n",
      "Batch 700/2507: Loss: 0.1751 | Precision: 0.005 | Recall: 0.793\n",
      "Batch 800/2507: Loss: 0.1485 | Precision: 0.004 | Recall: 0.798\n",
      "Batch 900/2507: Loss: 0.1854 | Precision: 0.004 | Recall: 0.806\n",
      "Batch 1000/2507: Loss: 0.0764 | Precision: 0.004 | Recall: 0.814\n",
      "Batch 1100/2507: Loss: 0.1515 | Precision: 0.004 | Recall: 0.818\n",
      "Batch 1200/2507: Loss: 0.2001 | Precision: 0.004 | Recall: 0.818\n",
      "Batch 1300/2507: Loss: 0.0750 | Precision: 0.004 | Recall: 0.815\n",
      "Batch 1400/2507: Loss: 1.2840 | Precision: 0.004 | Recall: 0.819\n",
      "Batch 1500/2507: Loss: 0.3464 | Precision: 0.004 | Recall: 0.819\n",
      "Batch 1600/2507: Loss: 0.0622 | Precision: 0.005 | Recall: 0.833\n",
      "Batch 1700/2507: Loss: 0.1057 | Precision: 0.005 | Recall: 0.824\n",
      "Batch 1800/2507: Loss: 0.1019 | Precision: 0.005 | Recall: 0.824\n",
      "Batch 1900/2507: Loss: 0.0731 | Precision: 0.005 | Recall: 0.822\n",
      "Batch 2000/2507: Loss: 0.0935 | Precision: 0.005 | Recall: 0.822\n",
      "Batch 2100/2507: Loss: 0.6865 | Precision: 0.005 | Recall: 0.830\n",
      "Batch 2200/2507: Loss: 0.1950 | Precision: 0.005 | Recall: 0.824\n",
      "Batch 2300/2507: Loss: 0.0952 | Precision: 0.005 | Recall: 0.823\n",
      "Batch 2400/2507: Loss: 0.1302 | Precision: 0.005 | Recall: 0.817\n",
      "Batch 2500/2507: Loss: 0.1656 | Precision: 0.005 | Recall: 0.818\n"
     ]
    },
    {
     "data": {
      "text/html": [
       "<pre style=\"white-space:pre;overflow-x:auto;line-height:normal;font-family:Menlo,'DejaVu Sans Mono',consolas,'Courier New',monospace\"><span style=\"font-style: italic\">   Validation Confusion Matrix    </span>\n",
       "┏━━━━━━━━━━━┳━━━━━━━━┳━━━━━━━━━━━┓\n",
       "┃<span style=\"font-weight: bold\">           </span>┃<span style=\"font-weight: bold\"> Benign </span>┃<span style=\"font-weight: bold\"> Malignant </span>┃\n",
       "┡━━━━━━━━━━━╇━━━━━━━━╇━━━━━━━━━━━┩\n",
       "│<span style=\"color: #7f7f7f; text-decoration-color: #7f7f7f\"> Benign    </span>│ 64,321 │    15,812 │\n",
       "│<span style=\"color: #7f7f7f; text-decoration-color: #7f7f7f\"> Malignant </span>│     14 │        65 │\n",
       "└───────────┴────────┴───────────┘\n",
       "<span style=\"color: #7f7f7f; text-decoration-color: #7f7f7f; font-style: italic\">Rows: Actual | Columns: Predicted </span>\n",
       "</pre>\n"
      ],
      "text/plain": [
       "\u001b[3m   Validation Confusion Matrix    \u001b[0m\n",
       "┏━━━━━━━━━━━┳━━━━━━━━┳━━━━━━━━━━━┓\n",
       "┃\u001b[1m \u001b[0m\u001b[1m         \u001b[0m\u001b[1m \u001b[0m┃\u001b[1m \u001b[0m\u001b[1mBenign\u001b[0m\u001b[1m \u001b[0m┃\u001b[1m \u001b[0m\u001b[1mMalignant\u001b[0m\u001b[1m \u001b[0m┃\n",
       "┡━━━━━━━━━━━╇━━━━━━━━╇━━━━━━━━━━━┩\n",
       "│\u001b[2m \u001b[0m\u001b[2mBenign   \u001b[0m\u001b[2m \u001b[0m│ 64,321 │    15,812 │\n",
       "│\u001b[2m \u001b[0m\u001b[2mMalignant\u001b[0m\u001b[2m \u001b[0m│     14 │        65 │\n",
       "└───────────┴────────┴───────────┘\n",
       "\u001b[2;3mRows: Actual | Columns: Predicted \u001b[0m\n"
      ]
     },
     "metadata": {},
     "output_type": "display_data"
    },
    {
     "name": "stdout",
     "output_type": "stream",
     "text": [
      "\n",
      "Epoch 13/16\n",
      "------------------------------------------------------------\n"
     ]
    },
    {
     "name": "stderr",
     "output_type": "stream",
     "text": [
      "WARNING:root:No positive instances have been seen in target. Recall is converted from NaN to 0s.\n"
     ]
    },
    {
     "name": "stdout",
     "output_type": "stream",
     "text": [
      "Batch   0/2507: Loss: 0.1290 | Precision: 0.000 | Recall: 0.000\n",
      "Batch 100/2507: Loss: 1.5447 | Precision: 0.006 | Recall: 0.889\n",
      "Batch 200/2507: Loss: 0.0818 | Precision: 0.005 | Recall: 0.821\n",
      "Batch 300/2507: Loss: 0.1281 | Precision: 0.004 | Recall: 0.750\n",
      "Batch 400/2507: Loss: 0.0616 | Precision: 0.005 | Recall: 0.796\n",
      "Batch 500/2507: Loss: 0.1227 | Precision: 0.005 | Recall: 0.776\n",
      "Batch 600/2507: Loss: 0.5699 | Precision: 0.005 | Recall: 0.803\n",
      "Batch 700/2507: Loss: 0.1022 | Precision: 0.005 | Recall: 0.785\n",
      "Batch 800/2507: Loss: 0.1026 | Precision: 0.005 | Recall: 0.791\n",
      "Batch 900/2507: Loss: 0.0819 | Precision: 0.005 | Recall: 0.800\n",
      "Batch 1000/2507: Loss: 0.1189 | Precision: 0.005 | Recall: 0.771\n",
      "Batch 1100/2507: Loss: 0.1190 | Precision: 0.005 | Recall: 0.762\n",
      "Batch 1200/2507: Loss: 0.0628 | Precision: 0.005 | Recall: 0.765\n",
      "Batch 1300/2507: Loss: 0.1370 | Precision: 0.005 | Recall: 0.757\n",
      "Batch 1400/2507: Loss: 0.1446 | Precision: 0.006 | Recall: 0.756\n",
      "Batch 1500/2507: Loss: 0.1806 | Precision: 0.006 | Recall: 0.771\n",
      "Batch 1600/2507: Loss: 0.0632 | Precision: 0.006 | Recall: 0.770\n",
      "Batch 1700/2507: Loss: 0.0874 | Precision: 0.006 | Recall: 0.782\n",
      "Batch 1800/2507: Loss: 0.1302 | Precision: 0.006 | Recall: 0.780\n",
      "Batch 1900/2507: Loss: 0.1275 | Precision: 0.006 | Recall: 0.774\n",
      "Batch 2000/2507: Loss: 0.1168 | Precision: 0.006 | Recall: 0.775\n",
      "Batch 2100/2507: Loss: 0.1542 | Precision: 0.006 | Recall: 0.774\n",
      "Batch 2200/2507: Loss: 0.1521 | Precision: 0.006 | Recall: 0.767\n",
      "Batch 2300/2507: Loss: 0.1020 | Precision: 0.006 | Recall: 0.771\n",
      "Batch 2400/2507: Loss: 0.1013 | Precision: 0.006 | Recall: 0.770\n",
      "Batch 2500/2507: Loss: 0.1476 | Precision: 0.006 | Recall: 0.771\n"
     ]
    },
    {
     "data": {
      "text/html": [
       "<pre style=\"white-space:pre;overflow-x:auto;line-height:normal;font-family:Menlo,'DejaVu Sans Mono',consolas,'Courier New',monospace\"><span style=\"font-style: italic\">   Validation Confusion Matrix    </span>\n",
       "┏━━━━━━━━━━━┳━━━━━━━━┳━━━━━━━━━━━┓\n",
       "┃<span style=\"font-weight: bold\">           </span>┃<span style=\"font-weight: bold\"> Benign </span>┃<span style=\"font-weight: bold\"> Malignant </span>┃\n",
       "┡━━━━━━━━━━━╇━━━━━━━━╇━━━━━━━━━━━┩\n",
       "│<span style=\"color: #7f7f7f; text-decoration-color: #7f7f7f\"> Benign    </span>│ 63,783 │    16,350 │\n",
       "│<span style=\"color: #7f7f7f; text-decoration-color: #7f7f7f\"> Malignant </span>│     14 │        65 │\n",
       "└───────────┴────────┴───────────┘\n",
       "<span style=\"color: #7f7f7f; text-decoration-color: #7f7f7f; font-style: italic\">Rows: Actual | Columns: Predicted </span>\n",
       "</pre>\n"
      ],
      "text/plain": [
       "\u001b[3m   Validation Confusion Matrix    \u001b[0m\n",
       "┏━━━━━━━━━━━┳━━━━━━━━┳━━━━━━━━━━━┓\n",
       "┃\u001b[1m \u001b[0m\u001b[1m         \u001b[0m\u001b[1m \u001b[0m┃\u001b[1m \u001b[0m\u001b[1mBenign\u001b[0m\u001b[1m \u001b[0m┃\u001b[1m \u001b[0m\u001b[1mMalignant\u001b[0m\u001b[1m \u001b[0m┃\n",
       "┡━━━━━━━━━━━╇━━━━━━━━╇━━━━━━━━━━━┩\n",
       "│\u001b[2m \u001b[0m\u001b[2mBenign   \u001b[0m\u001b[2m \u001b[0m│ 63,783 │    16,350 │\n",
       "│\u001b[2m \u001b[0m\u001b[2mMalignant\u001b[0m\u001b[2m \u001b[0m│     14 │        65 │\n",
       "└───────────┴────────┴───────────┘\n",
       "\u001b[2;3mRows: Actual | Columns: Predicted \u001b[0m\n"
      ]
     },
     "metadata": {},
     "output_type": "display_data"
    },
    {
     "name": "stderr",
     "output_type": "stream",
     "text": [
      "WARNING:root:No positive instances have been seen in target. Recall is converted from NaN to 0s.\n"
     ]
    },
    {
     "name": "stdout",
     "output_type": "stream",
     "text": [
      "\n",
      "Epoch 14/16\n",
      "------------------------------------------------------------\n",
      "Batch   0/2507: Loss: 0.1478 | Precision: 0.000 | Recall: 0.000\n",
      "Batch 100/2507: Loss: 0.0708 | Precision: 0.004 | Recall: 0.857\n",
      "Batch 200/2507: Loss: 0.1124 | Precision: 0.004 | Recall: 0.688\n",
      "Batch 300/2507: Loss: 0.2596 | Precision: 0.004 | Recall: 0.750\n",
      "Batch 400/2507: Loss: 0.1492 | Precision: 0.005 | Recall: 0.740\n",
      "Batch 500/2507: Loss: 4.2754 | Precision: 0.005 | Recall: 0.712\n",
      "Batch 600/2507: Loss: 0.1670 | Precision: 0.006 | Recall: 0.733\n",
      "Batch 700/2507: Loss: 0.0971 | Precision: 0.006 | Recall: 0.741\n",
      "Batch 800/2507: Loss: 0.0872 | Precision: 0.007 | Recall: 0.780\n",
      "Batch 900/2507: Loss: 0.0825 | Precision: 0.006 | Recall: 0.761\n",
      "Batch 1000/2507: Loss: 3.1427 | Precision: 0.007 | Recall: 0.772\n",
      "Batch 1100/2507: Loss: 0.2268 | Precision: 0.007 | Recall: 0.784\n",
      "Batch 1200/2507: Loss: 0.1119 | Precision: 0.006 | Recall: 0.783\n",
      "Batch 1300/2507: Loss: 0.1435 | Precision: 0.006 | Recall: 0.760\n",
      "Batch 1400/2507: Loss: 0.1055 | Precision: 0.006 | Recall: 0.764\n",
      "Batch 1500/2507: Loss: 0.1194 | Precision: 0.006 | Recall: 0.775\n",
      "Batch 1600/2507: Loss: 0.2293 | Precision: 0.006 | Recall: 0.782\n",
      "Batch 1700/2507: Loss: 0.0801 | Precision: 0.006 | Recall: 0.782\n",
      "Batch 1800/2507: Loss: 0.1096 | Precision: 0.006 | Recall: 0.776\n",
      "Batch 1900/2507: Loss: 0.1223 | Precision: 0.006 | Recall: 0.784\n",
      "Batch 2000/2507: Loss: 0.0670 | Precision: 0.006 | Recall: 0.787\n",
      "Batch 2100/2507: Loss: 0.0695 | Precision: 0.006 | Recall: 0.789\n",
      "Batch 2200/2507: Loss: 0.1232 | Precision: 0.006 | Recall: 0.785\n",
      "Batch 2300/2507: Loss: 0.1063 | Precision: 0.006 | Recall: 0.792\n",
      "Batch 2400/2507: Loss: 0.0852 | Precision: 0.006 | Recall: 0.795\n",
      "Batch 2500/2507: Loss: 0.1211 | Precision: 0.006 | Recall: 0.793\n"
     ]
    },
    {
     "data": {
      "text/html": [
       "<pre style=\"white-space:pre;overflow-x:auto;line-height:normal;font-family:Menlo,'DejaVu Sans Mono',consolas,'Courier New',monospace\"><span style=\"font-style: italic\">   Validation Confusion Matrix    </span>\n",
       "┏━━━━━━━━━━━┳━━━━━━━━┳━━━━━━━━━━━┓\n",
       "┃<span style=\"font-weight: bold\">           </span>┃<span style=\"font-weight: bold\"> Benign </span>┃<span style=\"font-weight: bold\"> Malignant </span>┃\n",
       "┡━━━━━━━━━━━╇━━━━━━━━╇━━━━━━━━━━━┩\n",
       "│<span style=\"color: #7f7f7f; text-decoration-color: #7f7f7f\"> Benign    </span>│ 70,110 │    10,023 │\n",
       "│<span style=\"color: #7f7f7f; text-decoration-color: #7f7f7f\"> Malignant </span>│     19 │        60 │\n",
       "└───────────┴────────┴───────────┘\n",
       "<span style=\"color: #7f7f7f; text-decoration-color: #7f7f7f; font-style: italic\">Rows: Actual | Columns: Predicted </span>\n",
       "</pre>\n"
      ],
      "text/plain": [
       "\u001b[3m   Validation Confusion Matrix    \u001b[0m\n",
       "┏━━━━━━━━━━━┳━━━━━━━━┳━━━━━━━━━━━┓\n",
       "┃\u001b[1m \u001b[0m\u001b[1m         \u001b[0m\u001b[1m \u001b[0m┃\u001b[1m \u001b[0m\u001b[1mBenign\u001b[0m\u001b[1m \u001b[0m┃\u001b[1m \u001b[0m\u001b[1mMalignant\u001b[0m\u001b[1m \u001b[0m┃\n",
       "┡━━━━━━━━━━━╇━━━━━━━━╇━━━━━━━━━━━┩\n",
       "│\u001b[2m \u001b[0m\u001b[2mBenign   \u001b[0m\u001b[2m \u001b[0m│ 70,110 │    10,023 │\n",
       "│\u001b[2m \u001b[0m\u001b[2mMalignant\u001b[0m\u001b[2m \u001b[0m│     19 │        60 │\n",
       "└───────────┴────────┴───────────┘\n",
       "\u001b[2;3mRows: Actual | Columns: Predicted \u001b[0m\n"
      ]
     },
     "metadata": {},
     "output_type": "display_data"
    },
    {
     "name": "stdout",
     "output_type": "stream",
     "text": [
      "\n",
      "Epoch 15/16\n",
      "------------------------------------------------------------\n"
     ]
    },
    {
     "name": "stderr",
     "output_type": "stream",
     "text": [
      "WARNING:root:No positive instances have been seen in target. Recall is converted from NaN to 0s.\n"
     ]
    },
    {
     "name": "stdout",
     "output_type": "stream",
     "text": [
      "Batch   0/2507: Loss: 0.1087 | Precision: 0.000 | Recall: 0.000\n",
      "Batch 100/2507: Loss: 1.1497 | Precision: 0.006 | Recall: 0.733\n",
      "Batch 200/2507: Loss: 0.1098 | Precision: 0.006 | Recall: 0.750\n",
      "Batch 300/2507: Loss: 0.0965 | Precision: 0.006 | Recall: 0.756\n",
      "Batch 400/2507: Loss: 0.1064 | Precision: 0.006 | Recall: 0.769\n",
      "Batch 500/2507: Loss: 0.2139 | Precision: 0.006 | Recall: 0.758\n",
      "Batch 600/2507: Loss: 0.0430 | Precision: 0.006 | Recall: 0.781\n",
      "Batch 700/2507: Loss: 0.1556 | Precision: 0.006 | Recall: 0.773\n",
      "Batch 800/2507: Loss: 0.1551 | Precision: 0.006 | Recall: 0.768\n",
      "Batch 900/2507: Loss: 0.0993 | Precision: 0.005 | Recall: 0.789\n",
      "Batch 1000/2507: Loss: 0.0737 | Precision: 0.006 | Recall: 0.783\n",
      "Batch 1100/2507: Loss: 0.0532 | Precision: 0.006 | Recall: 0.785\n",
      "Batch 1200/2507: Loss: 0.2105 | Precision: 0.006 | Recall: 0.777\n",
      "Batch 1300/2507: Loss: 0.1261 | Precision: 0.006 | Recall: 0.792\n",
      "Batch 1400/2507: Loss: 0.0808 | Precision: 0.006 | Recall: 0.793\n",
      "Batch 1500/2507: Loss: 0.1145 | Precision: 0.006 | Recall: 0.797\n",
      "Batch 1600/2507: Loss: 0.1250 | Precision: 0.007 | Recall: 0.802\n",
      "Batch 1700/2507: Loss: 0.1583 | Precision: 0.007 | Recall: 0.801\n",
      "Batch 1800/2507: Loss: 0.0715 | Precision: 0.007 | Recall: 0.803\n",
      "Batch 1900/2507: Loss: 0.1108 | Precision: 0.007 | Recall: 0.800\n",
      "Batch 2000/2507: Loss: 0.1327 | Precision: 0.007 | Recall: 0.782\n",
      "Batch 2100/2507: Loss: 0.7148 | Precision: 0.007 | Recall: 0.793\n",
      "Batch 2200/2507: Loss: 0.0691 | Precision: 0.007 | Recall: 0.795\n",
      "Batch 2300/2507: Loss: 0.1075 | Precision: 0.007 | Recall: 0.787\n",
      "Batch 2400/2507: Loss: 1.3784 | Precision: 0.006 | Recall: 0.779\n",
      "Batch 2500/2507: Loss: 0.0985 | Precision: 0.006 | Recall: 0.776\n"
     ]
    },
    {
     "data": {
      "text/html": [
       "<pre style=\"white-space:pre;overflow-x:auto;line-height:normal;font-family:Menlo,'DejaVu Sans Mono',consolas,'Courier New',monospace\"><span style=\"font-style: italic\">   Validation Confusion Matrix    </span>\n",
       "┏━━━━━━━━━━━┳━━━━━━━━┳━━━━━━━━━━━┓\n",
       "┃<span style=\"font-weight: bold\">           </span>┃<span style=\"font-weight: bold\"> Benign </span>┃<span style=\"font-weight: bold\"> Malignant </span>┃\n",
       "┡━━━━━━━━━━━╇━━━━━━━━╇━━━━━━━━━━━┩\n",
       "│<span style=\"color: #7f7f7f; text-decoration-color: #7f7f7f\"> Benign    </span>│ 74,835 │     5,298 │\n",
       "│<span style=\"color: #7f7f7f; text-decoration-color: #7f7f7f\"> Malignant </span>│     28 │        51 │\n",
       "└───────────┴────────┴───────────┘\n",
       "<span style=\"color: #7f7f7f; text-decoration-color: #7f7f7f; font-style: italic\">Rows: Actual | Columns: Predicted </span>\n",
       "</pre>\n"
      ],
      "text/plain": [
       "\u001b[3m   Validation Confusion Matrix    \u001b[0m\n",
       "┏━━━━━━━━━━━┳━━━━━━━━┳━━━━━━━━━━━┓\n",
       "┃\u001b[1m \u001b[0m\u001b[1m         \u001b[0m\u001b[1m \u001b[0m┃\u001b[1m \u001b[0m\u001b[1mBenign\u001b[0m\u001b[1m \u001b[0m┃\u001b[1m \u001b[0m\u001b[1mMalignant\u001b[0m\u001b[1m \u001b[0m┃\n",
       "┡━━━━━━━━━━━╇━━━━━━━━╇━━━━━━━━━━━┩\n",
       "│\u001b[2m \u001b[0m\u001b[2mBenign   \u001b[0m\u001b[2m \u001b[0m│ 74,835 │     5,298 │\n",
       "│\u001b[2m \u001b[0m\u001b[2mMalignant\u001b[0m\u001b[2m \u001b[0m│     28 │        51 │\n",
       "└───────────┴────────┴───────────┘\n",
       "\u001b[2;3mRows: Actual | Columns: Predicted \u001b[0m\n"
      ]
     },
     "metadata": {},
     "output_type": "display_data"
    },
    {
     "name": "stdout",
     "output_type": "stream",
     "text": [
      "\n",
      "Epoch 16/16\n",
      "------------------------------------------------------------\n"
     ]
    },
    {
     "name": "stderr",
     "output_type": "stream",
     "text": [
      "WARNING:root:No positive instances have been seen in target. Recall is converted from NaN to 0s.\n"
     ]
    },
    {
     "name": "stdout",
     "output_type": "stream",
     "text": [
      "Batch   0/2507: Loss: 0.0822 | Precision: 0.000 | Recall: 0.000\n",
      "Batch 100/2507: Loss: 0.2298 | Precision: 0.007 | Recall: 0.600\n",
      "Batch 200/2507: Loss: 0.1457 | Precision: 0.008 | Recall: 0.731\n",
      "Batch 300/2507: Loss: 0.0737 | Precision: 0.009 | Recall: 0.744\n",
      "Batch 400/2507: Loss: 0.0871 | Precision: 0.009 | Recall: 0.804\n",
      "Batch 500/2507: Loss: 0.1152 | Precision: 0.009 | Recall: 0.809\n",
      "Batch 600/2507: Loss: 1.5122 | Precision: 0.008 | Recall: 0.800\n",
      "Batch 700/2507: Loss: 0.1852 | Precision: 0.008 | Recall: 0.788\n",
      "Batch 800/2507: Loss: 0.6867 | Precision: 0.008 | Recall: 0.782\n",
      "Batch 900/2507: Loss: 0.1213 | Precision: 0.008 | Recall: 0.795\n",
      "Batch 1000/2507: Loss: 0.0906 | Precision: 0.008 | Recall: 0.784\n",
      "Batch 1100/2507: Loss: 0.0658 | Precision: 0.007 | Recall: 0.787\n",
      "Batch 1200/2507: Loss: 0.1085 | Precision: 0.007 | Recall: 0.770\n",
      "Batch 1300/2507: Loss: 0.1567 | Precision: 0.007 | Recall: 0.764\n",
      "Batch 1400/2507: Loss: 0.0840 | Precision: 0.007 | Recall: 0.766\n",
      "Batch 1500/2507: Loss: 0.1319 | Precision: 0.008 | Recall: 0.771\n",
      "Batch 1600/2507: Loss: 0.1427 | Precision: 0.008 | Recall: 0.780\n",
      "Batch 1700/2507: Loss: 0.1632 | Precision: 0.008 | Recall: 0.778\n",
      "Batch 1800/2507: Loss: 0.1199 | Precision: 0.008 | Recall: 0.783\n",
      "Batch 1900/2507: Loss: 0.1166 | Precision: 0.008 | Recall: 0.782\n",
      "Batch 2000/2507: Loss: 0.1317 | Precision: 0.008 | Recall: 0.775\n",
      "Batch 2100/2507: Loss: 0.0800 | Precision: 0.008 | Recall: 0.771\n",
      "Batch 2200/2507: Loss: 0.0710 | Precision: 0.008 | Recall: 0.776\n",
      "Batch 2300/2507: Loss: 0.1232 | Precision: 0.008 | Recall: 0.769\n",
      "Batch 2400/2507: Loss: 0.0495 | Precision: 0.007 | Recall: 0.769\n",
      "Batch 2500/2507: Loss: 0.1194 | Precision: 0.007 | Recall: 0.770\n"
     ]
    },
    {
     "data": {
      "text/html": [
       "<pre style=\"white-space:pre;overflow-x:auto;line-height:normal;font-family:Menlo,'DejaVu Sans Mono',consolas,'Courier New',monospace\"><span style=\"font-style: italic\">   Validation Confusion Matrix    </span>\n",
       "┏━━━━━━━━━━━┳━━━━━━━━┳━━━━━━━━━━━┓\n",
       "┃<span style=\"font-weight: bold\">           </span>┃<span style=\"font-weight: bold\"> Benign </span>┃<span style=\"font-weight: bold\"> Malignant </span>┃\n",
       "┡━━━━━━━━━━━╇━━━━━━━━╇━━━━━━━━━━━┩\n",
       "│<span style=\"color: #7f7f7f; text-decoration-color: #7f7f7f\"> Benign    </span>│ 70,625 │     9,508 │\n",
       "│<span style=\"color: #7f7f7f; text-decoration-color: #7f7f7f\"> Malignant </span>│     18 │        61 │\n",
       "└───────────┴────────┴───────────┘\n",
       "<span style=\"color: #7f7f7f; text-decoration-color: #7f7f7f; font-style: italic\">Rows: Actual | Columns: Predicted </span>\n",
       "</pre>\n"
      ],
      "text/plain": [
       "\u001b[3m   Validation Confusion Matrix    \u001b[0m\n",
       "┏━━━━━━━━━━━┳━━━━━━━━┳━━━━━━━━━━━┓\n",
       "┃\u001b[1m \u001b[0m\u001b[1m         \u001b[0m\u001b[1m \u001b[0m┃\u001b[1m \u001b[0m\u001b[1mBenign\u001b[0m\u001b[1m \u001b[0m┃\u001b[1m \u001b[0m\u001b[1mMalignant\u001b[0m\u001b[1m \u001b[0m┃\n",
       "┡━━━━━━━━━━━╇━━━━━━━━╇━━━━━━━━━━━┩\n",
       "│\u001b[2m \u001b[0m\u001b[2mBenign   \u001b[0m\u001b[2m \u001b[0m│ 70,625 │     9,508 │\n",
       "│\u001b[2m \u001b[0m\u001b[2mMalignant\u001b[0m\u001b[2m \u001b[0m│     18 │        61 │\n",
       "└───────────┴────────┴───────────┘\n",
       "\u001b[2;3mRows: Actual | Columns: Predicted \u001b[0m\n"
      ]
     },
     "metadata": {},
     "output_type": "display_data"
    },
    {
     "name": "stdout",
     "output_type": "stream",
     "text": [
      "* Run finished. Uploading logs to Trackio (please wait...)\n"
     ]
    }
   ],
   "source": [
    "import trackio\n",
    "from isic.training import train, validate\n",
    "\n",
    "trackio.init(project=\"mlp\", config=params, embed=False)\n",
    "\n",
    "for epoch in range(epochs):\n",
    "    print(f\"\\nEpoch {epoch + 1}/{epochs}\")\n",
    "    print(\"-\" * 60)\n",
    "\n",
    "    # train\n",
    "    train_metrics = train(model, train_loader, criterion, optimizer, device, threshold)\n",
    "\n",
    "    # validate\n",
    "    val_metrics, confusion_mat = validate(\n",
    "        model, val_loader, criterion, device, threshold\n",
    "    )\n",
    "\n",
    "trackio.finish()"
   ]
  }
 ],
 "metadata": {
  "kernelspec": {
   "display_name": "isic",
   "language": "python",
   "name": "python3"
  },
  "language_info": {
   "codemirror_mode": {
    "name": "ipython",
    "version": 3
   },
   "file_extension": ".py",
   "mimetype": "text/x-python",
   "name": "python",
   "nbconvert_exporter": "python",
   "pygments_lexer": "ipython3",
   "version": "3.12.12"
  }
 },
 "nbformat": 4,
 "nbformat_minor": 2
}
