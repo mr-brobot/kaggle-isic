{
 "cells": [
  {
   "cell_type": "markdown",
   "metadata": {},
   "source": [
    "# Setup\n"
   ]
  },
  {
   "cell_type": "code",
   "execution_count": null,
   "metadata": {},
   "outputs": [],
   "source": [
    "%load_ext autoreload\n",
    "%autoreload 2"
   ]
  },
  {
   "cell_type": "code",
   "execution_count": null,
   "metadata": {},
   "outputs": [],
   "source": [
    "params = {\n",
    "    \"epochs\": 4,\n",
    "    \"batch_size\": 128,\n",
    "    \"learning_rate\": 0.001,\n",
    "    \"class_power\": 0.9,  # between 0 and 1 (inclusive), scales positive class weight (0 removes class weighting, 1 leaves class ratio unchanged)\n",
    "    \"focal_power\": 2,  # focusing parameter (gamma) in focal loss (default 2)\n",
    "    \"image_size\": 128,  # target image size, images resized to fit in square where sides or of this length\n",
    "    \"threshold\": 0.5,  # probability threshold for positive classification\n",
    "    \"seed\": 42,  # rng seed for reproducibility\n",
    "    # model architecture\n",
    "    \"cnn_layers\": [\n",
    "        (16, 5, True),  # 128×128×3 → 64×64×16 (5×5 kernel, pool)\n",
    "        (32, 3, True),  # 64×64×16 → 32×32×32 (3×3 kernel, pool)\n",
    "        (64, 3, True),  # 32×32×32 → 16×16×64\n",
    "        (64, 3, True),  # 16×16×64 → 8×8×64\n",
    "        (32, 3, True),  # 8×8×64 → 4×4×32 (final: 512 features)\n",
    "    ],\n",
    "    \"metadata_layer_dims\": [8, 16, 32],  # accepts metatadata tensor from dataloader\n",
    "    \"fusion_layer_dims\": [256, 128, 64, 8],  # fuse encoded image & metadata\n",
    "}\n",
    "\n",
    "epochs = params[\"epochs\"]\n",
    "batch_size = params[\"batch_size\"]\n",
    "lr = params[\"learning_rate\"]\n",
    "class_power = params[\"class_power\"]\n",
    "focal_power = params[\"focal_power\"]\n",
    "\n",
    "img_size = params[\"image_size\"], params[\"image_size\"]\n",
    "image_shape = params[\"image_size\"], params[\"image_size\"], 3\n",
    "threshold = params[\"threshold\"]\n",
    "seed = params[\"seed\"]\n",
    "\n",
    "# model architecture params\n",
    "cnn_layers = params[\"cnn_layers\"]\n",
    "metadata_layer_dims = params[\"metadata_layer_dims\"]\n",
    "fusion_layer_dims = params[\"fusion_layer_dims\"]"
   ]
  },
  {
   "cell_type": "code",
   "execution_count": null,
   "metadata": {},
   "outputs": [],
   "source": [
    "import torch\n",
    "\n",
    "device = torch.device(\"cuda\" if torch.cuda.is_available() else \"cpu\")\n",
    "\n",
    "device"
   ]
  },
  {
   "cell_type": "code",
   "execution_count": null,
   "metadata": {},
   "outputs": [],
   "source": [
    "import torch\n",
    "\n",
    "torch.manual_seed(seed)\n",
    "generator = torch.Generator().manual_seed(seed)"
   ]
  },
  {
   "cell_type": "code",
   "execution_count": null,
   "metadata": {},
   "outputs": [],
   "source": [
    "import torch\n",
    "\n",
    "torch.set_float32_matmul_precision(\"high\")"
   ]
  },
  {
   "cell_type": "markdown",
   "metadata": {},
   "source": [
    "# Dataset\n"
   ]
  },
  {
   "cell_type": "code",
   "execution_count": null,
   "metadata": {},
   "outputs": [],
   "source": [
    "from datasets import load_dataset\n",
    "from isic.dataset import ImageEncoder, MetadataEncoder, collate_batch\n",
    "\n",
    "ds = load_dataset(\"mrbrobot/isic-2024\", split=\"train\")\n",
    "ds = ds.select_columns([\"image\", \"age_approx\", \"sex\", \"anatom_site_general\", \"target\"])\n",
    "\n",
    "len(ds)"
   ]
  },
  {
   "cell_type": "code",
   "execution_count": null,
   "metadata": {},
   "outputs": [],
   "source": [
    "# encode metadata\n",
    "metadata_encoder = MetadataEncoder().fit(ds)\n",
    "ds = ds.with_format(\"arrow\")\n",
    "ds = ds.map(\n",
    "    metadata_encoder,\n",
    "    batched=True,\n",
    "    batch_size=1000,\n",
    "    desc=\"Encoding metadata columns\",\n",
    ")\n",
    "\n",
    "# encode images\n",
    "image_encoder = ImageEncoder(image_size=img_size)\n",
    "ds = ds.with_format(\"torch\")\n",
    "ds = ds.with_transform(image_encoder, columns=[\"image\"], output_all_columns=True)"
   ]
  },
  {
   "cell_type": "markdown",
   "metadata": {},
   "source": [
    "# Model Definition\n"
   ]
  },
  {
   "cell_type": "code",
   "execution_count": null,
   "metadata": {},
   "outputs": [],
   "source": [
    "from isic.models import FusionModel\n",
    "\n",
    "model = FusionModel(\n",
    "    image_shape=image_shape,\n",
    "    cnn_layers=cnn_layers,\n",
    "    metadata_layer_dims=metadata_layer_dims,\n",
    "    fusion_layer_dims=fusion_layer_dims,\n",
    ").to(device)\n",
    "\n",
    "model"
   ]
  },
  {
   "cell_type": "code",
   "execution_count": null,
   "metadata": {},
   "outputs": [],
   "source": [
    "total_params = sum(p.numel() for p in model.parameters() if p.requires_grad)\n",
    "\n",
    "total_params"
   ]
  },
  {
   "cell_type": "markdown",
   "metadata": {},
   "source": [
    "# Training\n"
   ]
  },
  {
   "cell_type": "code",
   "execution_count": null,
   "metadata": {},
   "outputs": [],
   "source": [
    "optimizer = torch.optim.Adam(model.parameters(), lr=lr)\n",
    "\n",
    "print(f\"Model device: {next(model.parameters()).device}\")\n",
    "print(f\"Total parameters: {sum(p.numel() for p in model.parameters()):,}\")\n",
    "print(\n",
    "    f\"Trainable parameters: {sum(p.numel() for p in model.parameters() if p.requires_grad):,}\"\n",
    ")"
   ]
  },
  {
   "cell_type": "markdown",
   "metadata": {},
   "source": [
    "Class imbalance measurement & handling\n"
   ]
  },
  {
   "cell_type": "code",
   "execution_count": null,
   "metadata": {},
   "outputs": [],
   "source": [
    "class_counts = [400666, 393]  # [benign, malignant] from EDA\n",
    "\n",
    "print(\"Class Distribution:\")\n",
    "print(f\"Benign: {class_counts[0]:,} samples\")\n",
    "print(f\"Malignant: {class_counts[1]:,} samples\")\n",
    "print(f\"Imbalance ratio: {class_counts[0] / class_counts[1]:.1f}:1\")"
   ]
  },
  {
   "cell_type": "code",
   "execution_count": null,
   "metadata": {},
   "outputs": [],
   "source": [
    "df = ds.to_pandas()\n",
    "neg_count = (df[\"target\"] == 0).sum()\n",
    "pos_count = (df[\"target\"] == 1).sum()\n",
    "pos_weight = neg_count / pos_count\n",
    "\n",
    "print(f\"Positive weight: {pos_weight:.1f}\")\n",
    "print(f\"Scaled positive class weight: {pos_weight**class_power:.1f}\")"
   ]
  },
  {
   "cell_type": "code",
   "execution_count": null,
   "metadata": {},
   "outputs": [],
   "source": [
    "from isic.loss import WeightedFocalLoss\n",
    "\n",
    "scaled_pos_weight = torch.tensor([pos_weight**class_power], device=device)\n",
    "criterion = WeightedFocalLoss(pos_weight=scaled_pos_weight, gamma=focal_power)"
   ]
  },
  {
   "cell_type": "code",
   "execution_count": null,
   "metadata": {},
   "outputs": [],
   "source": [
    "from torch.utils.data import DataLoader\n",
    "\n",
    "split = ds.train_test_split(test_size=0.2, seed=seed)\n",
    "train_ds, val_ds = split[\"train\"], split[\"test\"]\n",
    "\n",
    "train_loader = DataLoader(\n",
    "    train_ds,\n",
    "    batch_size=batch_size,\n",
    "    shuffle=True,\n",
    "    collate_fn=collate_batch,\n",
    ")\n",
    "val_loader = DataLoader(\n",
    "    val_ds,\n",
    "    batch_size=batch_size,\n",
    "    shuffle=False,\n",
    "    collate_fn=collate_batch,\n",
    ")\n",
    "\n",
    "print(f\"Batches per epoch - Train: {len(train_loader)}, Val: {len(val_loader)}\")"
   ]
  },
  {
   "cell_type": "code",
   "execution_count": null,
   "metadata": {},
   "outputs": [],
   "source": [
    "import trackio\n",
    "\n",
    "trackio.init(project=\"fusion\", config=params, embed=False);"
   ]
  },
  {
   "cell_type": "code",
   "execution_count": null,
   "metadata": {},
   "outputs": [],
   "source": [
    "from isic.training import train, validate\n",
    "from rich.console import Console\n",
    "\n",
    "console = Console(force_jupyter=False)\n",
    "\n",
    "for epoch in range(epochs):\n",
    "    console.rule(f\"[bold]Epoch {epoch + 1}/{epochs}\")\n",
    "\n",
    "    # train\n",
    "    train_metrics = train(\n",
    "        model, train_loader, criterion, optimizer, device, threshold, console=console\n",
    "    )\n",
    "\n",
    "    # validate\n",
    "    val_metrics, confusion_mat = validate(\n",
    "        model, val_loader, criterion, device, threshold, console=console\n",
    "    )"
   ]
  },
  {
   "cell_type": "code",
   "execution_count": null,
   "metadata": {},
   "outputs": [],
   "source": [
    "trackio.finish()"
   ]
  }
 ],
 "metadata": {
  "kernelspec": {
   "display_name": "isic",
   "language": "python",
   "name": "python3"
  },
  "language_info": {
   "codemirror_mode": {
    "name": "ipython",
    "version": 3
   },
   "file_extension": ".py",
   "mimetype": "text/x-python",
   "name": "python",
   "nbconvert_exporter": "python",
   "pygments_lexer": "ipython3",
   "version": "3.12.12"
  }
 },
 "nbformat": 4,
 "nbformat_minor": 2
}
