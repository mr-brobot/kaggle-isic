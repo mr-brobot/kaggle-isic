{
 "cells": [
  {
   "cell_type": "markdown",
   "metadata": {},
   "source": [
    "# Setup\n"
   ]
  },
  {
   "cell_type": "code",
   "execution_count": 1,
   "metadata": {},
   "outputs": [],
   "source": [
    "%load_ext autoreload\n",
    "%autoreload 2"
   ]
  },
  {
   "cell_type": "code",
   "execution_count": 2,
   "metadata": {},
   "outputs": [],
   "source": [
    "params = {\n",
    "    \"epochs\": 16,\n",
    "    \"batch_size\": 128,\n",
    "    \"learning_rate\": 0.001,\n",
    "    \"class_power\": 0.9,  # between 0 and 1 (inclusive), scales positive class weight (0 removes class weighting, 1 leaves class ratio unchanged)\n",
    "    \"focal_power\": 2,  # focusing parameter (gamma) in focal loss (default 2)\n",
    "    \"image_size\": 128,  # target image size, images resized to fit in square where sides or of this length\n",
    "    \"threshold\": 0.5,  # probability threshold for positive classification\n",
    "    \"seed\": 42,  # rng seed for reproducibility\n",
    "    # model architecture\n",
    "    \"cnn_layers\": [\n",
    "        (16, 5, True),  # 128×128×3 → 64×64×16 (5×5 kernel, pool)\n",
    "        (32, 3, True),  # 64×64×16 → 32×32×32 (3×3 kernel, pool)\n",
    "        (64, 3, True),  # 32×32×32 → 16×16×64\n",
    "        (64, 3, True),  # 16×16×64 → 8×8×64\n",
    "        (32, 3, True),  # 8×8×64 → 4×4×32 (final: 512 features)\n",
    "    ],\n",
    "    \"metadata_layer_dims\": [8, 16, 32],  # accepts metatadata tensor from dataloader\n",
    "    \"fusion_layer_dims\": [256, 128, 64, 8],  # fuse encoded image & metadata\n",
    "}\n",
    "\n",
    "epochs = params[\"epochs\"]\n",
    "batch_size = params[\"batch_size\"]\n",
    "lr = params[\"learning_rate\"]\n",
    "class_power = params[\"class_power\"]\n",
    "focal_power = params[\"focal_power\"]\n",
    "\n",
    "img_size = params[\"image_size\"], params[\"image_size\"]\n",
    "image_shape = params[\"image_size\"], params[\"image_size\"], 3\n",
    "threshold = params[\"threshold\"]\n",
    "seed = params[\"seed\"]\n",
    "\n",
    "# model architecture params\n",
    "cnn_layers = params[\"cnn_layers\"]\n",
    "metadata_layer_dims = params[\"metadata_layer_dims\"]\n",
    "fusion_layer_dims = params[\"fusion_layer_dims\"]"
   ]
  },
  {
   "cell_type": "code",
   "execution_count": 3,
   "metadata": {},
   "outputs": [
    {
     "data": {
      "text/plain": [
       "device(type='cuda')"
      ]
     },
     "execution_count": 3,
     "metadata": {},
     "output_type": "execute_result"
    }
   ],
   "source": [
    "import torch\n",
    "\n",
    "device = torch.device(\"cuda\" if torch.cuda.is_available() else \"cpu\")\n",
    "\n",
    "device"
   ]
  },
  {
   "cell_type": "code",
   "execution_count": 4,
   "metadata": {},
   "outputs": [],
   "source": [
    "import torch\n",
    "\n",
    "torch.manual_seed(seed)\n",
    "generator = torch.Generator().manual_seed(seed)"
   ]
  },
  {
   "cell_type": "code",
   "execution_count": 5,
   "metadata": {},
   "outputs": [],
   "source": [
    "import torch\n",
    "\n",
    "torch.set_float32_matmul_precision(\"high\")"
   ]
  },
  {
   "cell_type": "markdown",
   "metadata": {},
   "source": [
    "# Dataset\n"
   ]
  },
  {
   "cell_type": "code",
   "execution_count": 6,
   "metadata": {},
   "outputs": [
    {
     "data": {
      "text/plain": [
       "401059"
      ]
     },
     "execution_count": 6,
     "metadata": {},
     "output_type": "execute_result"
    }
   ],
   "source": [
    "from datasets import load_dataset\n",
    "from isic.dataset import ImageEncoder, MetadataEncoder, collate_batch\n",
    "\n",
    "ds = load_dataset(\"mrbrobot/isic-2024\", split=\"train\")\n",
    "ds = ds.select_columns([\"image\", \"age_approx\", \"sex\", \"anatom_site_general\", \"target\"])\n",
    "\n",
    "len(ds)"
   ]
  },
  {
   "cell_type": "code",
   "execution_count": 7,
   "metadata": {},
   "outputs": [],
   "source": [
    "# encode metadata\n",
    "metadata_encoder = MetadataEncoder().fit(ds)\n",
    "ds = ds.with_format(\"arrow\")\n",
    "ds = ds.map(\n",
    "    metadata_encoder,\n",
    "    batched=True,\n",
    "    batch_size=1000,\n",
    "    desc=\"Encoding metadata columns\",\n",
    ")\n",
    "\n",
    "# encode images\n",
    "image_encoder = ImageEncoder(image_size=img_size)\n",
    "ds = ds.with_format(\"torch\")\n",
    "ds = ds.with_transform(image_encoder, columns=[\"image\"], output_all_columns=True)"
   ]
  },
  {
   "cell_type": "markdown",
   "metadata": {},
   "source": [
    "# Model Definition\n"
   ]
  },
  {
   "cell_type": "code",
   "execution_count": 8,
   "metadata": {},
   "outputs": [
    {
     "data": {
      "text/plain": [
       "FusionModel(\n",
       "  (image_stack): Sequential(\n",
       "    (0): Conv2d(3, 16, kernel_size=(5, 5), stride=(1, 1), padding=same)\n",
       "    (1): BatchNorm2d(16, eps=1e-05, momentum=0.1, affine=True, track_running_stats=True)\n",
       "    (2): ReLU()\n",
       "    (3): MaxPool2d(kernel_size=2, stride=2, padding=0, dilation=1, ceil_mode=False)\n",
       "    (4): Conv2d(16, 32, kernel_size=(3, 3), stride=(1, 1), padding=same)\n",
       "    (5): BatchNorm2d(32, eps=1e-05, momentum=0.1, affine=True, track_running_stats=True)\n",
       "    (6): ReLU()\n",
       "    (7): MaxPool2d(kernel_size=2, stride=2, padding=0, dilation=1, ceil_mode=False)\n",
       "    (8): Conv2d(32, 64, kernel_size=(3, 3), stride=(1, 1), padding=same)\n",
       "    (9): BatchNorm2d(64, eps=1e-05, momentum=0.1, affine=True, track_running_stats=True)\n",
       "    (10): ReLU()\n",
       "    (11): MaxPool2d(kernel_size=2, stride=2, padding=0, dilation=1, ceil_mode=False)\n",
       "    (12): Conv2d(64, 64, kernel_size=(3, 3), stride=(1, 1), padding=same)\n",
       "    (13): BatchNorm2d(64, eps=1e-05, momentum=0.1, affine=True, track_running_stats=True)\n",
       "    (14): ReLU()\n",
       "    (15): MaxPool2d(kernel_size=2, stride=2, padding=0, dilation=1, ceil_mode=False)\n",
       "    (16): Conv2d(64, 32, kernel_size=(3, 3), stride=(1, 1), padding=same)\n",
       "    (17): BatchNorm2d(32, eps=1e-05, momentum=0.1, affine=True, track_running_stats=True)\n",
       "    (18): ReLU()\n",
       "    (19): MaxPool2d(kernel_size=2, stride=2, padding=0, dilation=1, ceil_mode=False)\n",
       "  )\n",
       "  (metadata_stack): MLP(\n",
       "    (network): Sequential(\n",
       "      (0): Linear(in_features=8, out_features=16, bias=True)\n",
       "      (1): LeakyReLU(negative_slope=0.01)\n",
       "      (2): Linear(in_features=16, out_features=32, bias=True)\n",
       "      (3): LeakyReLU(negative_slope=0.01)\n",
       "    )\n",
       "  )\n",
       "  (fusion_head): Sequential(\n",
       "    (0): MLP(\n",
       "      (network): Sequential(\n",
       "        (0): Linear(in_features=544, out_features=256, bias=True)\n",
       "        (1): BatchNorm1d(256, eps=1e-05, momentum=0.1, affine=True, track_running_stats=True)\n",
       "        (2): LeakyReLU(negative_slope=0.01)\n",
       "        (3): Linear(in_features=256, out_features=128, bias=True)\n",
       "        (4): BatchNorm1d(128, eps=1e-05, momentum=0.1, affine=True, track_running_stats=True)\n",
       "        (5): LeakyReLU(negative_slope=0.01)\n",
       "        (6): Linear(in_features=128, out_features=64, bias=True)\n",
       "        (7): BatchNorm1d(64, eps=1e-05, momentum=0.1, affine=True, track_running_stats=True)\n",
       "        (8): LeakyReLU(negative_slope=0.01)\n",
       "        (9): Linear(in_features=64, out_features=8, bias=True)\n",
       "        (10): BatchNorm1d(8, eps=1e-05, momentum=0.1, affine=True, track_running_stats=True)\n",
       "        (11): LeakyReLU(negative_slope=0.01)\n",
       "      )\n",
       "    )\n",
       "    (1): Linear(in_features=8, out_features=1, bias=True)\n",
       "  )\n",
       ")"
      ]
     },
     "execution_count": 8,
     "metadata": {},
     "output_type": "execute_result"
    }
   ],
   "source": [
    "from isic.models import FusionModel\n",
    "\n",
    "model = FusionModel(\n",
    "    image_shape=image_shape,\n",
    "    cnn_layers=cnn_layers,\n",
    "    metadata_layer_dims=metadata_layer_dims,\n",
    "    fusion_layer_dims=fusion_layer_dims,\n",
    ").to(device)\n",
    "\n",
    "model"
   ]
  },
  {
   "cell_type": "code",
   "execution_count": 9,
   "metadata": {},
   "outputs": [
    {
     "data": {
      "text/plain": [
       "262961"
      ]
     },
     "execution_count": 9,
     "metadata": {},
     "output_type": "execute_result"
    }
   ],
   "source": [
    "total_params = sum(p.numel() for p in model.parameters() if p.requires_grad)\n",
    "\n",
    "total_params"
   ]
  },
  {
   "cell_type": "markdown",
   "metadata": {},
   "source": [
    "# Training\n"
   ]
  },
  {
   "cell_type": "code",
   "execution_count": 10,
   "metadata": {},
   "outputs": [
    {
     "name": "stdout",
     "output_type": "stream",
     "text": [
      "Model device: cuda:0\n",
      "Total parameters: 262,961\n",
      "Trainable parameters: 262,961\n"
     ]
    }
   ],
   "source": [
    "optimizer = torch.optim.Adam(model.parameters(), lr=lr)\n",
    "\n",
    "print(f\"Model device: {next(model.parameters()).device}\")\n",
    "print(f\"Total parameters: {sum(p.numel() for p in model.parameters()):,}\")\n",
    "print(\n",
    "    f\"Trainable parameters: {sum(p.numel() for p in model.parameters() if p.requires_grad):,}\"\n",
    ")"
   ]
  },
  {
   "cell_type": "markdown",
   "metadata": {},
   "source": [
    "Class imbalance measurement & handling\n"
   ]
  },
  {
   "cell_type": "code",
   "execution_count": 11,
   "metadata": {},
   "outputs": [
    {
     "name": "stdout",
     "output_type": "stream",
     "text": [
      "Class Distribution:\n",
      "Benign: 400,666 samples\n",
      "Malignant: 393 samples\n",
      "Imbalance ratio: 1019.5:1\n"
     ]
    }
   ],
   "source": [
    "class_counts = [400666, 393]  # [benign, malignant] from EDA\n",
    "\n",
    "print(\"Class Distribution:\")\n",
    "print(f\"Benign: {class_counts[0]:,} samples\")\n",
    "print(f\"Malignant: {class_counts[1]:,} samples\")\n",
    "print(f\"Imbalance ratio: {class_counts[0] / class_counts[1]:.1f}:1\")"
   ]
  },
  {
   "cell_type": "code",
   "execution_count": 12,
   "metadata": {},
   "outputs": [
    {
     "name": "stdout",
     "output_type": "stream",
     "text": [
      "Positive weight: 1019.5\n",
      "Scaled positive class weight: 510.0\n"
     ]
    }
   ],
   "source": [
    "df = ds.to_pandas()\n",
    "neg_count = (df[\"target\"] == 0).sum()\n",
    "pos_count = (df[\"target\"] == 1).sum()\n",
    "pos_weight = neg_count / pos_count\n",
    "\n",
    "print(f\"Positive weight: {pos_weight:.1f}\")\n",
    "print(f\"Scaled positive class weight: {pos_weight**class_power:.1f}\")"
   ]
  },
  {
   "cell_type": "code",
   "execution_count": 13,
   "metadata": {},
   "outputs": [],
   "source": [
    "from isic.loss import WeightedFocalLoss\n",
    "\n",
    "scaled_pos_weight = torch.tensor([pos_weight**class_power], device=device)\n",
    "criterion = WeightedFocalLoss(pos_weight=scaled_pos_weight, gamma=focal_power)"
   ]
  },
  {
   "cell_type": "code",
   "execution_count": 14,
   "metadata": {},
   "outputs": [
    {
     "name": "stdout",
     "output_type": "stream",
     "text": [
      "Batches per epoch - Train: 2507, Val: 627\n"
     ]
    }
   ],
   "source": [
    "from torch.utils.data import DataLoader\n",
    "\n",
    "split = ds.train_test_split(test_size=0.2, seed=seed)\n",
    "train_ds, val_ds = split[\"train\"], split[\"test\"]\n",
    "\n",
    "train_loader = DataLoader(\n",
    "    train_ds,\n",
    "    batch_size=batch_size,\n",
    "    shuffle=True,\n",
    "    collate_fn=collate_batch,\n",
    ")\n",
    "val_loader = DataLoader(\n",
    "    val_ds,\n",
    "    batch_size=batch_size,\n",
    "    shuffle=False,\n",
    "    collate_fn=collate_batch,\n",
    ")\n",
    "\n",
    "print(f\"Batches per epoch - Train: {len(train_loader)}, Val: {len(val_loader)}\")"
   ]
  },
  {
   "cell_type": "code",
   "execution_count": 15,
   "metadata": {},
   "outputs": [
    {
     "name": "stdout",
     "output_type": "stream",
     "text": [
      "* Trackio project initialized: mlp\n",
      "* Trackio metrics logged to: /home/vscode/.cache/huggingface/trackio\n",
      "* View dashboard by running in your terminal:\n",
      "\u001b[1m\u001b[38;5;208mtrackio show --project \"mlp\"\u001b[0m\n",
      "* or by running in Python: trackio.show(project=\"mlp\")\n",
      "* Created new run: jolly-valley-7\n",
      "\n",
      "Epoch 1/16\n",
      "------------------------------------------------------------\n"
     ]
    },
    {
     "name": "stderr",
     "output_type": "stream",
     "text": [
      "WARNING:root:No positive instances have been seen in target. Recall is converted from NaN to 0s.\n"
     ]
    },
    {
     "name": "stdout",
     "output_type": "stream",
     "text": [
      "Batch   0/2507: Loss: 0.2399 | Precision: 0.000 | Recall: 0.000\n",
      "Batch 100/2507: Loss: 0.1673 | Precision: 0.001 | Recall: 0.545\n",
      "Batch 200/2507: Loss: 0.1510 | Precision: 0.001 | Recall: 0.435\n",
      "Batch 300/2507: Loss: 0.1555 | Precision: 0.001 | Recall: 0.343\n",
      "Batch 400/2507: Loss: 0.1418 | Precision: 0.001 | Recall: 0.298\n",
      "Batch 500/2507: Loss: 0.1407 | Precision: 0.001 | Recall: 0.268\n",
      "Batch 600/2507: Loss: 3.2338 | Precision: 0.001 | Recall: 0.289\n",
      "Batch 700/2507: Loss: 0.1465 | Precision: 0.001 | Recall: 0.287\n",
      "Batch 800/2507: Loss: 0.1465 | Precision: 0.001 | Recall: 0.315\n",
      "Batch 900/2507: Loss: 0.1522 | Precision: 0.001 | Recall: 0.276\n",
      "Batch 1000/2507: Loss: 0.1699 | Precision: 0.001 | Recall: 0.320\n",
      "Batch 1100/2507: Loss: 0.1603 | Precision: 0.001 | Recall: 0.333\n",
      "Batch 1200/2507: Loss: 0.1653 | Precision: 0.002 | Recall: 0.349\n",
      "Batch 1300/2507: Loss: 0.1555 | Precision: 0.002 | Recall: 0.346\n",
      "Batch 1400/2507: Loss: 2.8853 | Precision: 0.002 | Recall: 0.360\n",
      "Batch 1500/2507: Loss: 0.1435 | Precision: 0.002 | Recall: 0.380\n",
      "Batch 1600/2507: Loss: 3.1507 | Precision: 0.002 | Recall: 0.396\n",
      "Batch 1700/2507: Loss: 0.1700 | Precision: 0.002 | Recall: 0.423\n",
      "Batch 1800/2507: Loss: 0.1401 | Precision: 0.002 | Recall: 0.436\n",
      "Batch 1900/2507: Loss: 0.1483 | Precision: 0.002 | Recall: 0.438\n",
      "Batch 2000/2507: Loss: 0.1790 | Precision: 0.002 | Recall: 0.458\n",
      "Batch 2100/2507: Loss: 0.1581 | Precision: 0.002 | Recall: 0.475\n",
      "Batch 2200/2507: Loss: 1.2855 | Precision: 0.002 | Recall: 0.485\n",
      "Batch 2300/2507: Loss: 0.1407 | Precision: 0.002 | Recall: 0.488\n",
      "Batch 2400/2507: Loss: 0.1453 | Precision: 0.002 | Recall: 0.487\n",
      "Batch 2500/2507: Loss: 0.1434 | Precision: 0.002 | Recall: 0.487\n"
     ]
    },
    {
     "data": {
      "text/html": [
       "<pre style=\"white-space:pre;overflow-x:auto;line-height:normal;font-family:Menlo,'DejaVu Sans Mono',consolas,'Courier New',monospace\"><span style=\"font-style: italic\">   Validation Confusion Matrix    </span>\n",
       "┏━━━━━━━━━━━┳━━━━━━━━┳━━━━━━━━━━━┓\n",
       "┃<span style=\"font-weight: bold\">           </span>┃<span style=\"font-weight: bold\"> Benign </span>┃<span style=\"font-weight: bold\"> Malignant </span>┃\n",
       "┡━━━━━━━━━━━╇━━━━━━━━╇━━━━━━━━━━━┩\n",
       "│<span style=\"color: #7f7f7f; text-decoration-color: #7f7f7f\"> Benign    </span>│ 30,928 │    49,205 │\n",
       "│<span style=\"color: #7f7f7f; text-decoration-color: #7f7f7f\"> Malignant </span>│     13 │        66 │\n",
       "└───────────┴────────┴───────────┘\n",
       "<span style=\"color: #7f7f7f; text-decoration-color: #7f7f7f; font-style: italic\">Rows: Actual | Columns: Predicted </span>\n",
       "</pre>\n"
      ],
      "text/plain": [
       "\u001b[3m   Validation Confusion Matrix    \u001b[0m\n",
       "┏━━━━━━━━━━━┳━━━━━━━━┳━━━━━━━━━━━┓\n",
       "┃\u001b[1m \u001b[0m\u001b[1m         \u001b[0m\u001b[1m \u001b[0m┃\u001b[1m \u001b[0m\u001b[1mBenign\u001b[0m\u001b[1m \u001b[0m┃\u001b[1m \u001b[0m\u001b[1mMalignant\u001b[0m\u001b[1m \u001b[0m┃\n",
       "┡━━━━━━━━━━━╇━━━━━━━━╇━━━━━━━━━━━┩\n",
       "│\u001b[2m \u001b[0m\u001b[2mBenign   \u001b[0m\u001b[2m \u001b[0m│ 30,928 │    49,205 │\n",
       "│\u001b[2m \u001b[0m\u001b[2mMalignant\u001b[0m\u001b[2m \u001b[0m│     13 │        66 │\n",
       "└───────────┴────────┴───────────┘\n",
       "\u001b[2;3mRows: Actual | Columns: Predicted \u001b[0m\n"
      ]
     },
     "metadata": {},
     "output_type": "display_data"
    },
    {
     "name": "stdout",
     "output_type": "stream",
     "text": [
      "\n",
      "Epoch 2/16\n",
      "------------------------------------------------------------\n"
     ]
    },
    {
     "name": "stderr",
     "output_type": "stream",
     "text": [
      "WARNING:root:No positive instances have been seen in target. Recall is converted from NaN to 0s.\n"
     ]
    },
    {
     "name": "stdout",
     "output_type": "stream",
     "text": [
      "Batch   0/2507: Loss: 0.1450 | Precision: 0.000 | Recall: 0.000\n",
      "Batch 100/2507: Loss: 0.1419 | Precision: 0.001 | Recall: 0.143\n",
      "Batch 200/2507: Loss: 0.1316 | Precision: 0.001 | Recall: 0.316\n",
      "Batch 300/2507: Loss: 0.1254 | Precision: 0.002 | Recall: 0.357\n",
      "Batch 400/2507: Loss: 0.1221 | Precision: 0.002 | Recall: 0.457\n",
      "Batch 500/2507: Loss: 0.1147 | Precision: 0.002 | Recall: 0.452\n",
      "Batch 600/2507: Loss: 0.1240 | Precision: 0.002 | Recall: 0.439\n",
      "Batch 700/2507: Loss: 0.1238 | Precision: 0.002 | Recall: 0.437\n",
      "Batch 800/2507: Loss: 0.1367 | Precision: 0.003 | Recall: 0.448\n",
      "Batch 900/2507: Loss: 5.9040 | Precision: 0.003 | Recall: 0.460\n",
      "Batch 1000/2507: Loss: 0.1674 | Precision: 0.003 | Recall: 0.517\n",
      "Batch 1100/2507: Loss: 0.1360 | Precision: 0.003 | Recall: 0.535\n",
      "Batch 1200/2507: Loss: 0.1318 | Precision: 0.004 | Recall: 0.564\n",
      "Batch 1300/2507: Loss: 0.5345 | Precision: 0.004 | Recall: 0.571\n",
      "Batch 1400/2507: Loss: 0.1331 | Precision: 0.004 | Recall: 0.573\n",
      "Batch 1500/2507: Loss: 0.1134 | Precision: 0.004 | Recall: 0.567\n",
      "Batch 1600/2507: Loss: 0.1232 | Precision: 0.004 | Recall: 0.571\n",
      "Batch 1700/2507: Loss: 0.5296 | Precision: 0.004 | Recall: 0.582\n",
      "Batch 1800/2507: Loss: 0.1225 | Precision: 0.004 | Recall: 0.584\n",
      "Batch 1900/2507: Loss: 0.1171 | Precision: 0.004 | Recall: 0.587\n",
      "Batch 2000/2507: Loss: 0.1271 | Precision: 0.004 | Recall: 0.593\n",
      "Batch 2100/2507: Loss: 0.1507 | Precision: 0.004 | Recall: 0.608\n",
      "Batch 2200/2507: Loss: 0.1714 | Precision: 0.004 | Recall: 0.635\n",
      "Batch 2300/2507: Loss: 0.1591 | Precision: 0.004 | Recall: 0.647\n",
      "Batch 2400/2507: Loss: 0.1435 | Precision: 0.004 | Recall: 0.654\n",
      "Batch 2500/2507: Loss: 0.1391 | Precision: 0.004 | Recall: 0.653\n"
     ]
    },
    {
     "data": {
      "text/html": [
       "<pre style=\"white-space:pre;overflow-x:auto;line-height:normal;font-family:Menlo,'DejaVu Sans Mono',consolas,'Courier New',monospace\"><span style=\"font-style: italic\">   Validation Confusion Matrix    </span>\n",
       "┏━━━━━━━━━━━┳━━━━━━━━┳━━━━━━━━━━━┓\n",
       "┃<span style=\"font-weight: bold\">           </span>┃<span style=\"font-weight: bold\"> Benign </span>┃<span style=\"font-weight: bold\"> Malignant </span>┃\n",
       "┡━━━━━━━━━━━╇━━━━━━━━╇━━━━━━━━━━━┩\n",
       "│<span style=\"color: #7f7f7f; text-decoration-color: #7f7f7f\"> Benign    </span>│ 66,649 │    13,484 │\n",
       "│<span style=\"color: #7f7f7f; text-decoration-color: #7f7f7f\"> Malignant </span>│     16 │        63 │\n",
       "└───────────┴────────┴───────────┘\n",
       "<span style=\"color: #7f7f7f; text-decoration-color: #7f7f7f; font-style: italic\">Rows: Actual | Columns: Predicted </span>\n",
       "</pre>\n"
      ],
      "text/plain": [
       "\u001b[3m   Validation Confusion Matrix    \u001b[0m\n",
       "┏━━━━━━━━━━━┳━━━━━━━━┳━━━━━━━━━━━┓\n",
       "┃\u001b[1m \u001b[0m\u001b[1m         \u001b[0m\u001b[1m \u001b[0m┃\u001b[1m \u001b[0m\u001b[1mBenign\u001b[0m\u001b[1m \u001b[0m┃\u001b[1m \u001b[0m\u001b[1mMalignant\u001b[0m\u001b[1m \u001b[0m┃\n",
       "┡━━━━━━━━━━━╇━━━━━━━━╇━━━━━━━━━━━┩\n",
       "│\u001b[2m \u001b[0m\u001b[2mBenign   \u001b[0m\u001b[2m \u001b[0m│ 66,649 │    13,484 │\n",
       "│\u001b[2m \u001b[0m\u001b[2mMalignant\u001b[0m\u001b[2m \u001b[0m│     16 │        63 │\n",
       "└───────────┴────────┴───────────┘\n",
       "\u001b[2;3mRows: Actual | Columns: Predicted \u001b[0m\n"
      ]
     },
     "metadata": {},
     "output_type": "display_data"
    },
    {
     "name": "stderr",
     "output_type": "stream",
     "text": [
      "WARNING:root:No positive instances have been seen in target. Recall is converted from NaN to 0s.\n"
     ]
    },
    {
     "name": "stdout",
     "output_type": "stream",
     "text": [
      "\n",
      "Epoch 3/16\n",
      "------------------------------------------------------------\n",
      "Batch   0/2507: Loss: 0.1376 | Precision: 0.000 | Recall: 0.000\n",
      "Batch 100/2507: Loss: 3.1898 | Precision: 0.003 | Recall: 0.714\n",
      "Batch 200/2507: Loss: 0.1313 | Precision: 0.004 | Recall: 0.727\n",
      "Batch 300/2507: Loss: 0.1461 | Precision: 0.004 | Recall: 0.711\n",
      "Batch 400/2507: Loss: 0.1428 | Precision: 0.004 | Recall: 0.765\n",
      "Batch 500/2507: Loss: 0.1557 | Precision: 0.005 | Recall: 0.797\n",
      "Batch 600/2507: Loss: 0.1333 | Precision: 0.004 | Recall: 0.805\n",
      "Batch 700/2507: Loss: 0.1230 | Precision: 0.004 | Recall: 0.820\n",
      "Batch 800/2507: Loss: 0.1310 | Precision: 0.005 | Recall: 0.833\n",
      "Batch 900/2507: Loss: 0.1373 | Precision: 0.005 | Recall: 0.814\n",
      "Batch 1000/2507: Loss: 0.1217 | Precision: 0.004 | Recall: 0.789\n",
      "Batch 1100/2507: Loss: 0.1185 | Precision: 0.004 | Recall: 0.775\n",
      "Batch 1200/2507: Loss: 0.1345 | Precision: 0.005 | Recall: 0.767\n",
      "Batch 1300/2507: Loss: 0.1334 | Precision: 0.005 | Recall: 0.754\n",
      "Batch 1400/2507: Loss: 0.1347 | Precision: 0.005 | Recall: 0.761\n",
      "Batch 1500/2507: Loss: 0.1413 | Precision: 0.005 | Recall: 0.759\n",
      "Batch 1600/2507: Loss: 4.5149 | Precision: 0.005 | Recall: 0.756\n",
      "Batch 1700/2507: Loss: 0.1071 | Precision: 0.005 | Recall: 0.750\n",
      "Batch 1800/2507: Loss: 0.1177 | Precision: 0.005 | Recall: 0.750\n",
      "Batch 1900/2507: Loss: 0.1213 | Precision: 0.005 | Recall: 0.755\n",
      "Batch 2000/2507: Loss: 0.1231 | Precision: 0.005 | Recall: 0.740\n",
      "Batch 2100/2507: Loss: 0.1154 | Precision: 0.005 | Recall: 0.749\n",
      "Batch 2200/2507: Loss: 0.1239 | Precision: 0.005 | Recall: 0.758\n",
      "Batch 2300/2507: Loss: 0.1300 | Precision: 0.005 | Recall: 0.762\n",
      "Batch 2400/2507: Loss: 0.1093 | Precision: 0.005 | Recall: 0.761\n",
      "Batch 2500/2507: Loss: 0.1003 | Precision: 0.005 | Recall: 0.753\n"
     ]
    },
    {
     "data": {
      "text/html": [
       "<pre style=\"white-space:pre;overflow-x:auto;line-height:normal;font-family:Menlo,'DejaVu Sans Mono',consolas,'Courier New',monospace\"><span style=\"font-style: italic\">   Validation Confusion Matrix    </span>\n",
       "┏━━━━━━━━━━━┳━━━━━━━━┳━━━━━━━━━━━┓\n",
       "┃<span style=\"font-weight: bold\">           </span>┃<span style=\"font-weight: bold\"> Benign </span>┃<span style=\"font-weight: bold\"> Malignant </span>┃\n",
       "┡━━━━━━━━━━━╇━━━━━━━━╇━━━━━━━━━━━┩\n",
       "│<span style=\"color: #7f7f7f; text-decoration-color: #7f7f7f\"> Benign    </span>│ 76,718 │     3,415 │\n",
       "│<span style=\"color: #7f7f7f; text-decoration-color: #7f7f7f\"> Malignant </span>│     35 │        44 │\n",
       "└───────────┴────────┴───────────┘\n",
       "<span style=\"color: #7f7f7f; text-decoration-color: #7f7f7f; font-style: italic\">Rows: Actual | Columns: Predicted </span>\n",
       "</pre>\n"
      ],
      "text/plain": [
       "\u001b[3m   Validation Confusion Matrix    \u001b[0m\n",
       "┏━━━━━━━━━━━┳━━━━━━━━┳━━━━━━━━━━━┓\n",
       "┃\u001b[1m \u001b[0m\u001b[1m         \u001b[0m\u001b[1m \u001b[0m┃\u001b[1m \u001b[0m\u001b[1mBenign\u001b[0m\u001b[1m \u001b[0m┃\u001b[1m \u001b[0m\u001b[1mMalignant\u001b[0m\u001b[1m \u001b[0m┃\n",
       "┡━━━━━━━━━━━╇━━━━━━━━╇━━━━━━━━━━━┩\n",
       "│\u001b[2m \u001b[0m\u001b[2mBenign   \u001b[0m\u001b[2m \u001b[0m│ 76,718 │     3,415 │\n",
       "│\u001b[2m \u001b[0m\u001b[2mMalignant\u001b[0m\u001b[2m \u001b[0m│     35 │        44 │\n",
       "└───────────┴────────┴───────────┘\n",
       "\u001b[2;3mRows: Actual | Columns: Predicted \u001b[0m\n"
      ]
     },
     "metadata": {},
     "output_type": "display_data"
    },
    {
     "name": "stdout",
     "output_type": "stream",
     "text": [
      "\n",
      "Epoch 4/16\n",
      "------------------------------------------------------------\n"
     ]
    },
    {
     "name": "stderr",
     "output_type": "stream",
     "text": [
      "WARNING:root:No positive instances have been seen in target. Recall is converted from NaN to 0s.\n"
     ]
    },
    {
     "name": "stdout",
     "output_type": "stream",
     "text": [
      "Batch   0/2507: Loss: 0.1013 | Precision: 0.000 | Recall: 0.000\n",
      "Batch 100/2507: Loss: 0.1147 | Precision: 0.006 | Recall: 0.769\n",
      "Batch 200/2507: Loss: 0.1101 | Precision: 0.005 | Recall: 0.739\n",
      "Batch 300/2507: Loss: 0.1101 | Precision: 0.005 | Recall: 0.735\n",
      "Batch 400/2507: Loss: 0.1029 | Precision: 0.005 | Recall: 0.738\n",
      "Batch 500/2507: Loss: 2.7565 | Precision: 0.006 | Recall: 0.762\n",
      "Batch 600/2507: Loss: 0.1431 | Precision: 0.006 | Recall: 0.785\n",
      "Batch 700/2507: Loss: 0.1257 | Precision: 0.006 | Recall: 0.809\n",
      "Batch 800/2507: Loss: 0.1232 | Precision: 0.006 | Recall: 0.812\n",
      "Batch 900/2507: Loss: 0.1168 | Precision: 0.006 | Recall: 0.777\n",
      "Batch 1000/2507: Loss: 0.1013 | Precision: 0.005 | Recall: 0.769\n",
      "Batch 1100/2507: Loss: 0.1134 | Precision: 0.005 | Recall: 0.767\n",
      "Batch 1200/2507: Loss: 0.1035 | Precision: 0.005 | Recall: 0.773\n",
      "Batch 1300/2507: Loss: 0.1274 | Precision: 0.005 | Recall: 0.759\n",
      "Batch 1400/2507: Loss: 0.1372 | Precision: 0.006 | Recall: 0.771\n",
      "Batch 1500/2507: Loss: 0.1141 | Precision: 0.005 | Recall: 0.760\n",
      "Batch 1600/2507: Loss: 0.1131 | Precision: 0.005 | Recall: 0.759\n",
      "Batch 1700/2507: Loss: 0.1279 | Precision: 0.005 | Recall: 0.758\n",
      "Batch 1800/2507: Loss: 0.1372 | Precision: 0.005 | Recall: 0.759\n",
      "Batch 1900/2507: Loss: 0.1198 | Precision: 0.005 | Recall: 0.767\n",
      "Batch 2000/2507: Loss: 0.2640 | Precision: 0.005 | Recall: 0.759\n",
      "Batch 2100/2507: Loss: 0.1130 | Precision: 0.005 | Recall: 0.749\n",
      "Batch 2200/2507: Loss: 0.1140 | Precision: 0.005 | Recall: 0.748\n",
      "Batch 2300/2507: Loss: 0.1079 | Precision: 0.005 | Recall: 0.746\n",
      "Batch 2400/2507: Loss: 0.1130 | Precision: 0.005 | Recall: 0.750\n",
      "Batch 2500/2507: Loss: 0.1298 | Precision: 0.006 | Recall: 0.751\n"
     ]
    },
    {
     "data": {
      "text/html": [
       "<pre style=\"white-space:pre;overflow-x:auto;line-height:normal;font-family:Menlo,'DejaVu Sans Mono',consolas,'Courier New',monospace\"><span style=\"font-style: italic\">   Validation Confusion Matrix    </span>\n",
       "┏━━━━━━━━━━━┳━━━━━━━━┳━━━━━━━━━━━┓\n",
       "┃<span style=\"font-weight: bold\">           </span>┃<span style=\"font-weight: bold\"> Benign </span>┃<span style=\"font-weight: bold\"> Malignant </span>┃\n",
       "┡━━━━━━━━━━━╇━━━━━━━━╇━━━━━━━━━━━┩\n",
       "│<span style=\"color: #7f7f7f; text-decoration-color: #7f7f7f\"> Benign    </span>│ 70,625 │     9,508 │\n",
       "│<span style=\"color: #7f7f7f; text-decoration-color: #7f7f7f\"> Malignant </span>│     23 │        56 │\n",
       "└───────────┴────────┴───────────┘\n",
       "<span style=\"color: #7f7f7f; text-decoration-color: #7f7f7f; font-style: italic\">Rows: Actual | Columns: Predicted </span>\n",
       "</pre>\n"
      ],
      "text/plain": [
       "\u001b[3m   Validation Confusion Matrix    \u001b[0m\n",
       "┏━━━━━━━━━━━┳━━━━━━━━┳━━━━━━━━━━━┓\n",
       "┃\u001b[1m \u001b[0m\u001b[1m         \u001b[0m\u001b[1m \u001b[0m┃\u001b[1m \u001b[0m\u001b[1mBenign\u001b[0m\u001b[1m \u001b[0m┃\u001b[1m \u001b[0m\u001b[1mMalignant\u001b[0m\u001b[1m \u001b[0m┃\n",
       "┡━━━━━━━━━━━╇━━━━━━━━╇━━━━━━━━━━━┩\n",
       "│\u001b[2m \u001b[0m\u001b[2mBenign   \u001b[0m\u001b[2m \u001b[0m│ 70,625 │     9,508 │\n",
       "│\u001b[2m \u001b[0m\u001b[2mMalignant\u001b[0m\u001b[2m \u001b[0m│     23 │        56 │\n",
       "└───────────┴────────┴───────────┘\n",
       "\u001b[2;3mRows: Actual | Columns: Predicted \u001b[0m\n"
      ]
     },
     "metadata": {},
     "output_type": "display_data"
    },
    {
     "name": "stdout",
     "output_type": "stream",
     "text": [
      "\n",
      "Epoch 5/16\n",
      "------------------------------------------------------------\n"
     ]
    },
    {
     "name": "stderr",
     "output_type": "stream",
     "text": [
      "WARNING:root:No positive instances have been seen in target. Recall is converted from NaN to 0s.\n"
     ]
    },
    {
     "name": "stdout",
     "output_type": "stream",
     "text": [
      "Batch   0/2507: Loss: 0.1290 | Precision: 0.000 | Recall: 0.000\n",
      "Batch 100/2507: Loss: 0.1154 | Precision: 0.006 | Recall: 0.750\n",
      "Batch 200/2507: Loss: 0.1220 | Precision: 0.005 | Recall: 0.720\n",
      "Batch 300/2507: Loss: 0.1349 | Precision: 0.006 | Recall: 0.786\n",
      "Batch 400/2507: Loss: 0.1321 | Precision: 0.006 | Recall: 0.690\n",
      "Batch 500/2507: Loss: 0.1223 | Precision: 0.006 | Recall: 0.743\n",
      "Batch 600/2507: Loss: 0.1873 | Precision: 0.006 | Recall: 0.744\n",
      "Batch 700/2507: Loss: 0.1161 | Precision: 0.006 | Recall: 0.747\n",
      "Batch 800/2507: Loss: 0.1257 | Precision: 0.006 | Recall: 0.720\n",
      "Batch 900/2507: Loss: 0.1191 | Precision: 0.005 | Recall: 0.703\n",
      "Batch 1000/2507: Loss: 0.1206 | Precision: 0.005 | Recall: 0.705\n",
      "Batch 1100/2507: Loss: 0.1158 | Precision: 0.005 | Recall: 0.716\n",
      "Batch 1200/2507: Loss: 0.1244 | Precision: 0.005 | Recall: 0.723\n",
      "Batch 1300/2507: Loss: 0.1219 | Precision: 0.006 | Recall: 0.738\n",
      "Batch 1400/2507: Loss: 0.5425 | Precision: 0.006 | Recall: 0.746\n",
      "Batch 1500/2507: Loss: 0.1273 | Precision: 0.006 | Recall: 0.736\n",
      "Batch 1600/2507: Loss: 0.1231 | Precision: 0.006 | Recall: 0.739\n",
      "Batch 1700/2507: Loss: 0.1113 | Precision: 0.005 | Recall: 0.734\n",
      "Batch 1800/2507: Loss: 0.1197 | Precision: 0.005 | Recall: 0.739\n",
      "Batch 1900/2507: Loss: 0.1205 | Precision: 0.006 | Recall: 0.746\n",
      "Batch 2000/2507: Loss: 0.1291 | Precision: 0.006 | Recall: 0.755\n",
      "Batch 2100/2507: Loss: 4.1738 | Precision: 0.006 | Recall: 0.754\n",
      "Batch 2200/2507: Loss: 0.1279 | Precision: 0.006 | Recall: 0.765\n",
      "Batch 2300/2507: Loss: 0.1032 | Precision: 0.006 | Recall: 0.766\n",
      "Batch 2400/2507: Loss: 0.1156 | Precision: 0.006 | Recall: 0.761\n",
      "Batch 2500/2507: Loss: 0.0971 | Precision: 0.006 | Recall: 0.748\n"
     ]
    },
    {
     "data": {
      "text/html": [
       "<pre style=\"white-space:pre;overflow-x:auto;line-height:normal;font-family:Menlo,'DejaVu Sans Mono',consolas,'Courier New',monospace\"><span style=\"font-style: italic\">   Validation Confusion Matrix    </span>\n",
       "┏━━━━━━━━━━━┳━━━━━━━━┳━━━━━━━━━━━┓\n",
       "┃<span style=\"font-weight: bold\">           </span>┃<span style=\"font-weight: bold\"> Benign </span>┃<span style=\"font-weight: bold\"> Malignant </span>┃\n",
       "┡━━━━━━━━━━━╇━━━━━━━━╇━━━━━━━━━━━┩\n",
       "│<span style=\"color: #7f7f7f; text-decoration-color: #7f7f7f\"> Benign    </span>│ 73,289 │     6,844 │\n",
       "│<span style=\"color: #7f7f7f; text-decoration-color: #7f7f7f\"> Malignant </span>│     27 │        52 │\n",
       "└───────────┴────────┴───────────┘\n",
       "<span style=\"color: #7f7f7f; text-decoration-color: #7f7f7f; font-style: italic\">Rows: Actual | Columns: Predicted </span>\n",
       "</pre>\n"
      ],
      "text/plain": [
       "\u001b[3m   Validation Confusion Matrix    \u001b[0m\n",
       "┏━━━━━━━━━━━┳━━━━━━━━┳━━━━━━━━━━━┓\n",
       "┃\u001b[1m \u001b[0m\u001b[1m         \u001b[0m\u001b[1m \u001b[0m┃\u001b[1m \u001b[0m\u001b[1mBenign\u001b[0m\u001b[1m \u001b[0m┃\u001b[1m \u001b[0m\u001b[1mMalignant\u001b[0m\u001b[1m \u001b[0m┃\n",
       "┡━━━━━━━━━━━╇━━━━━━━━╇━━━━━━━━━━━┩\n",
       "│\u001b[2m \u001b[0m\u001b[2mBenign   \u001b[0m\u001b[2m \u001b[0m│ 73,289 │     6,844 │\n",
       "│\u001b[2m \u001b[0m\u001b[2mMalignant\u001b[0m\u001b[2m \u001b[0m│     27 │        52 │\n",
       "└───────────┴────────┴───────────┘\n",
       "\u001b[2;3mRows: Actual | Columns: Predicted \u001b[0m\n"
      ]
     },
     "metadata": {},
     "output_type": "display_data"
    },
    {
     "name": "stdout",
     "output_type": "stream",
     "text": [
      "\n",
      "Epoch 6/16\n",
      "------------------------------------------------------------\n"
     ]
    },
    {
     "name": "stderr",
     "output_type": "stream",
     "text": [
      "WARNING:root:No positive instances have been seen in target. Recall is converted from NaN to 0s.\n"
     ]
    },
    {
     "name": "stdout",
     "output_type": "stream",
     "text": [
      "Batch   0/2507: Loss: 0.0953 | Precision: 0.000 | Recall: 0.000\n",
      "Batch 100/2507: Loss: 0.1071 | Precision: 0.010 | Recall: 0.857\n",
      "Batch 200/2507: Loss: 0.1198 | Precision: 0.008 | Recall: 0.786\n",
      "Batch 300/2507: Loss: 0.1114 | Precision: 0.007 | Recall: 0.821\n",
      "Batch 400/2507: Loss: 0.1088 | Precision: 0.007 | Recall: 0.820\n",
      "Batch 500/2507: Loss: 0.1106 | Precision: 0.007 | Recall: 0.812\n",
      "Batch 600/2507: Loss: 0.1132 | Precision: 0.007 | Recall: 0.787\n",
      "Batch 700/2507: Loss: 0.1357 | Precision: 0.007 | Recall: 0.779\n",
      "Batch 800/2507: Loss: 4.8931 | Precision: 0.007 | Recall: 0.785\n",
      "Batch 900/2507: Loss: 0.1237 | Precision: 0.007 | Recall: 0.793\n",
      "Batch 1000/2507: Loss: 0.1265 | Precision: 0.007 | Recall: 0.781\n",
      "Batch 1100/2507: Loss: 0.1234 | Precision: 0.007 | Recall: 0.789\n",
      "Batch 1200/2507: Loss: 0.1201 | Precision: 0.006 | Recall: 0.772\n",
      "Batch 1300/2507: Loss: 0.1205 | Precision: 0.006 | Recall: 0.776\n",
      "Batch 1400/2507: Loss: 0.1093 | Precision: 0.006 | Recall: 0.770\n",
      "Batch 1500/2507: Loss: 0.1103 | Precision: 0.006 | Recall: 0.770\n",
      "Batch 1600/2507: Loss: 0.1197 | Precision: 0.006 | Recall: 0.779\n",
      "Batch 1700/2507: Loss: 0.2349 | Precision: 0.006 | Recall: 0.789\n",
      "Batch 1800/2507: Loss: 0.1008 | Precision: 0.006 | Recall: 0.776\n",
      "Batch 1900/2507: Loss: 0.1057 | Precision: 0.006 | Recall: 0.770\n",
      "Batch 2000/2507: Loss: 0.1277 | Precision: 0.006 | Recall: 0.766\n",
      "Batch 2100/2507: Loss: 0.1436 | Precision: 0.006 | Recall: 0.771\n",
      "Batch 2200/2507: Loss: 0.1479 | Precision: 0.006 | Recall: 0.766\n",
      "Batch 2300/2507: Loss: 0.1132 | Precision: 0.006 | Recall: 0.765\n",
      "Batch 2400/2507: Loss: 0.1210 | Precision: 0.006 | Recall: 0.771\n",
      "Batch 2500/2507: Loss: 0.1057 | Precision: 0.006 | Recall: 0.769\n"
     ]
    },
    {
     "data": {
      "text/html": [
       "<pre style=\"white-space:pre;overflow-x:auto;line-height:normal;font-family:Menlo,'DejaVu Sans Mono',consolas,'Courier New',monospace\"><span style=\"font-style: italic\">   Validation Confusion Matrix    </span>\n",
       "┏━━━━━━━━━━━┳━━━━━━━━┳━━━━━━━━━━━┓\n",
       "┃<span style=\"font-weight: bold\">           </span>┃<span style=\"font-weight: bold\"> Benign </span>┃<span style=\"font-weight: bold\"> Malignant </span>┃\n",
       "┡━━━━━━━━━━━╇━━━━━━━━╇━━━━━━━━━━━┩\n",
       "│<span style=\"color: #7f7f7f; text-decoration-color: #7f7f7f\"> Benign    </span>│ 67,006 │    13,127 │\n",
       "│<span style=\"color: #7f7f7f; text-decoration-color: #7f7f7f\"> Malignant </span>│     15 │        64 │\n",
       "└───────────┴────────┴───────────┘\n",
       "<span style=\"color: #7f7f7f; text-decoration-color: #7f7f7f; font-style: italic\">Rows: Actual | Columns: Predicted </span>\n",
       "</pre>\n"
      ],
      "text/plain": [
       "\u001b[3m   Validation Confusion Matrix    \u001b[0m\n",
       "┏━━━━━━━━━━━┳━━━━━━━━┳━━━━━━━━━━━┓\n",
       "┃\u001b[1m \u001b[0m\u001b[1m         \u001b[0m\u001b[1m \u001b[0m┃\u001b[1m \u001b[0m\u001b[1mBenign\u001b[0m\u001b[1m \u001b[0m┃\u001b[1m \u001b[0m\u001b[1mMalignant\u001b[0m\u001b[1m \u001b[0m┃\n",
       "┡━━━━━━━━━━━╇━━━━━━━━╇━━━━━━━━━━━┩\n",
       "│\u001b[2m \u001b[0m\u001b[2mBenign   \u001b[0m\u001b[2m \u001b[0m│ 67,006 │    13,127 │\n",
       "│\u001b[2m \u001b[0m\u001b[2mMalignant\u001b[0m\u001b[2m \u001b[0m│     15 │        64 │\n",
       "└───────────┴────────┴───────────┘\n",
       "\u001b[2;3mRows: Actual | Columns: Predicted \u001b[0m\n"
      ]
     },
     "metadata": {},
     "output_type": "display_data"
    },
    {
     "name": "stdout",
     "output_type": "stream",
     "text": [
      "\n",
      "Epoch 7/16\n",
      "------------------------------------------------------------\n"
     ]
    },
    {
     "name": "stderr",
     "output_type": "stream",
     "text": [
      "WARNING:root:No positive instances have been seen in target. Recall is converted from NaN to 0s.\n"
     ]
    },
    {
     "name": "stdout",
     "output_type": "stream",
     "text": [
      "Batch   0/2507: Loss: 0.1065 | Precision: 0.000 | Recall: 0.000\n",
      "Batch 100/2507: Loss: 0.1109 | Precision: 0.006 | Recall: 0.909\n",
      "Batch 200/2507: Loss: 0.1051 | Precision: 0.006 | Recall: 0.792\n",
      "Batch 300/2507: Loss: 0.6248 | Precision: 0.006 | Recall: 0.800\n",
      "Batch 400/2507: Loss: 0.1030 | Precision: 0.006 | Recall: 0.809\n",
      "Batch 500/2507: Loss: 0.1138 | Precision: 0.006 | Recall: 0.754\n",
      "Batch 600/2507: Loss: 0.1180 | Precision: 0.006 | Recall: 0.730\n",
      "Batch 700/2507: Loss: 0.1317 | Precision: 0.006 | Recall: 0.689\n",
      "Batch 800/2507: Loss: 0.1434 | Precision: 0.007 | Recall: 0.729\n",
      "Batch 900/2507: Loss: 0.1546 | Precision: 0.007 | Recall: 0.748\n",
      "Batch 1000/2507: Loss: 0.1237 | Precision: 0.007 | Recall: 0.748\n",
      "Batch 1100/2507: Loss: 0.1198 | Precision: 0.006 | Recall: 0.754\n",
      "Batch 1200/2507: Loss: 0.1086 | Precision: 0.006 | Recall: 0.763\n",
      "Batch 1300/2507: Loss: 0.1286 | Precision: 0.007 | Recall: 0.765\n",
      "Batch 1400/2507: Loss: 0.9698 | Precision: 0.007 | Recall: 0.769\n",
      "Batch 1500/2507: Loss: 0.1258 | Precision: 0.007 | Recall: 0.776\n",
      "Batch 1600/2507: Loss: 0.1257 | Precision: 0.007 | Recall: 0.785\n",
      "Batch 1700/2507: Loss: 0.1208 | Precision: 0.007 | Recall: 0.776\n",
      "Batch 1800/2507: Loss: 0.1204 | Precision: 0.007 | Recall: 0.778\n",
      "Batch 1900/2507: Loss: 0.1172 | Precision: 0.007 | Recall: 0.778\n",
      "Batch 2000/2507: Loss: 0.1104 | Precision: 0.007 | Recall: 0.777\n",
      "Batch 2100/2507: Loss: 0.0938 | Precision: 0.007 | Recall: 0.770\n",
      "Batch 2200/2507: Loss: 3.1253 | Precision: 0.006 | Recall: 0.766\n",
      "Batch 2300/2507: Loss: 0.0954 | Precision: 0.006 | Recall: 0.765\n",
      "Batch 2400/2507: Loss: 0.1031 | Precision: 0.006 | Recall: 0.763\n",
      "Batch 2500/2507: Loss: 0.1059 | Precision: 0.006 | Recall: 0.757\n"
     ]
    },
    {
     "data": {
      "text/html": [
       "<pre style=\"white-space:pre;overflow-x:auto;line-height:normal;font-family:Menlo,'DejaVu Sans Mono',consolas,'Courier New',monospace\"><span style=\"font-style: italic\">   Validation Confusion Matrix    </span>\n",
       "┏━━━━━━━━━━━┳━━━━━━━━┳━━━━━━━━━━━┓\n",
       "┃<span style=\"font-weight: bold\">           </span>┃<span style=\"font-weight: bold\"> Benign </span>┃<span style=\"font-weight: bold\"> Malignant </span>┃\n",
       "┡━━━━━━━━━━━╇━━━━━━━━╇━━━━━━━━━━━┩\n",
       "│<span style=\"color: #7f7f7f; text-decoration-color: #7f7f7f\"> Benign    </span>│ 75,082 │     5,051 │\n",
       "│<span style=\"color: #7f7f7f; text-decoration-color: #7f7f7f\"> Malignant </span>│     26 │        53 │\n",
       "└───────────┴────────┴───────────┘\n",
       "<span style=\"color: #7f7f7f; text-decoration-color: #7f7f7f; font-style: italic\">Rows: Actual | Columns: Predicted </span>\n",
       "</pre>\n"
      ],
      "text/plain": [
       "\u001b[3m   Validation Confusion Matrix    \u001b[0m\n",
       "┏━━━━━━━━━━━┳━━━━━━━━┳━━━━━━━━━━━┓\n",
       "┃\u001b[1m \u001b[0m\u001b[1m         \u001b[0m\u001b[1m \u001b[0m┃\u001b[1m \u001b[0m\u001b[1mBenign\u001b[0m\u001b[1m \u001b[0m┃\u001b[1m \u001b[0m\u001b[1mMalignant\u001b[0m\u001b[1m \u001b[0m┃\n",
       "┡━━━━━━━━━━━╇━━━━━━━━╇━━━━━━━━━━━┩\n",
       "│\u001b[2m \u001b[0m\u001b[2mBenign   \u001b[0m\u001b[2m \u001b[0m│ 75,082 │     5,051 │\n",
       "│\u001b[2m \u001b[0m\u001b[2mMalignant\u001b[0m\u001b[2m \u001b[0m│     26 │        53 │\n",
       "└───────────┴────────┴───────────┘\n",
       "\u001b[2;3mRows: Actual | Columns: Predicted \u001b[0m\n"
      ]
     },
     "metadata": {},
     "output_type": "display_data"
    },
    {
     "name": "stdout",
     "output_type": "stream",
     "text": [
      "\n",
      "Epoch 8/16\n",
      "------------------------------------------------------------\n",
      "Batch   0/2507: Loss: 3.4716 | Precision: 0.000 | Recall: 0.000\n",
      "Batch 100/2507: Loss: 0.1155 | Precision: 0.005 | Recall: 0.692\n",
      "Batch 200/2507: Loss: 0.1217 | Precision: 0.005 | Recall: 0.769\n",
      "Batch 300/2507: Loss: 0.1103 | Precision: 0.005 | Recall: 0.806\n",
      "Batch 400/2507: Loss: 0.1140 | Precision: 0.005 | Recall: 0.796\n",
      "Batch 500/2507: Loss: 0.1179 | Precision: 0.006 | Recall: 0.810\n",
      "Batch 600/2507: Loss: 0.1096 | Precision: 0.006 | Recall: 0.813\n",
      "Batch 700/2507: Loss: 0.0997 | Precision: 0.006 | Recall: 0.800\n",
      "Batch 800/2507: Loss: 0.1032 | Precision: 0.006 | Recall: 0.804\n",
      "Batch 900/2507: Loss: 0.1154 | Precision: 0.006 | Recall: 0.829\n",
      "Batch 1000/2507: Loss: 0.1184 | Precision: 0.006 | Recall: 0.825\n",
      "Batch 1100/2507: Loss: 0.1164 | Precision: 0.006 | Recall: 0.826\n",
      "Batch 1200/2507: Loss: 0.1168 | Precision: 0.006 | Recall: 0.824\n",
      "Batch 1300/2507: Loss: 0.1106 | Precision: 0.006 | Recall: 0.795\n",
      "Batch 1400/2507: Loss: 1.4774 | Precision: 0.006 | Recall: 0.794\n",
      "Batch 1500/2507: Loss: 0.1011 | Precision: 0.006 | Recall: 0.793\n",
      "Batch 1600/2507: Loss: 0.1030 | Precision: 0.006 | Recall: 0.782\n",
      "Batch 1700/2507: Loss: 0.1154 | Precision: 0.006 | Recall: 0.789\n",
      "Batch 1800/2507: Loss: 0.1159 | Precision: 0.006 | Recall: 0.798\n",
      "Batch 1900/2507: Loss: 0.1194 | Precision: 0.006 | Recall: 0.800\n",
      "Batch 2000/2507: Loss: 0.1179 | Precision: 0.006 | Recall: 0.798\n",
      "Batch 2100/2507: Loss: 0.1106 | Precision: 0.006 | Recall: 0.802\n",
      "Batch 2200/2507: Loss: 0.1161 | Precision: 0.006 | Recall: 0.788\n",
      "Batch 2300/2507: Loss: 0.1022 | Precision: 0.006 | Recall: 0.784\n",
      "Batch 2400/2507: Loss: 0.1129 | Precision: 0.006 | Recall: 0.768\n",
      "Batch 2500/2507: Loss: 0.1177 | Precision: 0.006 | Recall: 0.773\n"
     ]
    },
    {
     "data": {
      "text/html": [
       "<pre style=\"white-space:pre;overflow-x:auto;line-height:normal;font-family:Menlo,'DejaVu Sans Mono',consolas,'Courier New',monospace\"><span style=\"font-style: italic\">   Validation Confusion Matrix    </span>\n",
       "┏━━━━━━━━━━━┳━━━━━━━━┳━━━━━━━━━━━┓\n",
       "┃<span style=\"font-weight: bold\">           </span>┃<span style=\"font-weight: bold\"> Benign </span>┃<span style=\"font-weight: bold\"> Malignant </span>┃\n",
       "┡━━━━━━━━━━━╇━━━━━━━━╇━━━━━━━━━━━┩\n",
       "│<span style=\"color: #7f7f7f; text-decoration-color: #7f7f7f\"> Benign    </span>│ 69,323 │    10,810 │\n",
       "│<span style=\"color: #7f7f7f; text-decoration-color: #7f7f7f\"> Malignant </span>│     16 │        63 │\n",
       "└───────────┴────────┴───────────┘\n",
       "<span style=\"color: #7f7f7f; text-decoration-color: #7f7f7f; font-style: italic\">Rows: Actual | Columns: Predicted </span>\n",
       "</pre>\n"
      ],
      "text/plain": [
       "\u001b[3m   Validation Confusion Matrix    \u001b[0m\n",
       "┏━━━━━━━━━━━┳━━━━━━━━┳━━━━━━━━━━━┓\n",
       "┃\u001b[1m \u001b[0m\u001b[1m         \u001b[0m\u001b[1m \u001b[0m┃\u001b[1m \u001b[0m\u001b[1mBenign\u001b[0m\u001b[1m \u001b[0m┃\u001b[1m \u001b[0m\u001b[1mMalignant\u001b[0m\u001b[1m \u001b[0m┃\n",
       "┡━━━━━━━━━━━╇━━━━━━━━╇━━━━━━━━━━━┩\n",
       "│\u001b[2m \u001b[0m\u001b[2mBenign   \u001b[0m\u001b[2m \u001b[0m│ 69,323 │    10,810 │\n",
       "│\u001b[2m \u001b[0m\u001b[2mMalignant\u001b[0m\u001b[2m \u001b[0m│     16 │        63 │\n",
       "└───────────┴────────┴───────────┘\n",
       "\u001b[2;3mRows: Actual | Columns: Predicted \u001b[0m\n"
      ]
     },
     "metadata": {},
     "output_type": "display_data"
    },
    {
     "name": "stdout",
     "output_type": "stream",
     "text": [
      "\n",
      "Epoch 9/16\n",
      "------------------------------------------------------------\n"
     ]
    },
    {
     "name": "stderr",
     "output_type": "stream",
     "text": [
      "WARNING:root:No positive instances have been seen in target. Recall is converted from NaN to 0s.\n"
     ]
    },
    {
     "name": "stdout",
     "output_type": "stream",
     "text": [
      "Batch   0/2507: Loss: 0.1209 | Precision: 0.000 | Recall: 0.000\n",
      "Batch 100/2507: Loss: 0.1149 | Precision: 0.003 | Recall: 0.778\n",
      "Batch 200/2507: Loss: 0.1400 | Precision: 0.005 | Recall: 0.821\n",
      "Batch 300/2507: Loss: 0.1374 | Precision: 0.005 | Recall: 0.829\n",
      "Batch 400/2507: Loss: 0.1278 | Precision: 0.005 | Recall: 0.811\n",
      "Batch 500/2507: Loss: 0.1184 | Precision: 0.005 | Recall: 0.841\n",
      "Batch 600/2507: Loss: 0.1281 | Precision: 0.005 | Recall: 0.846\n",
      "Batch 700/2507: Loss: 0.1224 | Precision: 0.005 | Recall: 0.815\n",
      "Batch 800/2507: Loss: 0.1015 | Precision: 0.005 | Recall: 0.804\n",
      "Batch 900/2507: Loss: 0.5329 | Precision: 0.005 | Recall: 0.835\n",
      "Batch 1000/2507: Loss: 0.7382 | Precision: 0.005 | Recall: 0.835\n",
      "Batch 1100/2507: Loss: 0.1144 | Precision: 0.005 | Recall: 0.825\n",
      "Batch 1200/2507: Loss: 0.1102 | Precision: 0.005 | Recall: 0.804\n",
      "Batch 1300/2507: Loss: 0.1172 | Precision: 0.005 | Recall: 0.809\n",
      "Batch 1400/2507: Loss: 0.1101 | Precision: 0.005 | Recall: 0.810\n",
      "Batch 1500/2507: Loss: 0.1078 | Precision: 0.005 | Recall: 0.813\n",
      "Batch 1600/2507: Loss: 0.1088 | Precision: 0.005 | Recall: 0.807\n",
      "Batch 1700/2507: Loss: 0.1070 | Precision: 0.006 | Recall: 0.804\n",
      "Batch 1800/2507: Loss: 0.1195 | Precision: 0.006 | Recall: 0.793\n",
      "Batch 1900/2507: Loss: 3.6508 | Precision: 0.006 | Recall: 0.793\n",
      "Batch 2000/2507: Loss: 0.4471 | Precision: 0.006 | Recall: 0.795\n",
      "Batch 2100/2507: Loss: 0.1145 | Precision: 0.006 | Recall: 0.801\n",
      "Batch 2200/2507: Loss: 1.5714 | Precision: 0.006 | Recall: 0.804\n",
      "Batch 2300/2507: Loss: 0.1161 | Precision: 0.006 | Recall: 0.803\n",
      "Batch 2400/2507: Loss: 0.0852 | Precision: 0.006 | Recall: 0.793\n",
      "Batch 2500/2507: Loss: 0.1079 | Precision: 0.006 | Recall: 0.793\n"
     ]
    },
    {
     "data": {
      "text/html": [
       "<pre style=\"white-space:pre;overflow-x:auto;line-height:normal;font-family:Menlo,'DejaVu Sans Mono',consolas,'Courier New',monospace\"><span style=\"font-style: italic\">   Validation Confusion Matrix    </span>\n",
       "┏━━━━━━━━━━━┳━━━━━━━━┳━━━━━━━━━━━┓\n",
       "┃<span style=\"font-weight: bold\">           </span>┃<span style=\"font-weight: bold\"> Benign </span>┃<span style=\"font-weight: bold\"> Malignant </span>┃\n",
       "┡━━━━━━━━━━━╇━━━━━━━━╇━━━━━━━━━━━┩\n",
       "│<span style=\"color: #7f7f7f; text-decoration-color: #7f7f7f\"> Benign    </span>│ 70,578 │     9,555 │\n",
       "│<span style=\"color: #7f7f7f; text-decoration-color: #7f7f7f\"> Malignant </span>│     17 │        62 │\n",
       "└───────────┴────────┴───────────┘\n",
       "<span style=\"color: #7f7f7f; text-decoration-color: #7f7f7f; font-style: italic\">Rows: Actual | Columns: Predicted </span>\n",
       "</pre>\n"
      ],
      "text/plain": [
       "\u001b[3m   Validation Confusion Matrix    \u001b[0m\n",
       "┏━━━━━━━━━━━┳━━━━━━━━┳━━━━━━━━━━━┓\n",
       "┃\u001b[1m \u001b[0m\u001b[1m         \u001b[0m\u001b[1m \u001b[0m┃\u001b[1m \u001b[0m\u001b[1mBenign\u001b[0m\u001b[1m \u001b[0m┃\u001b[1m \u001b[0m\u001b[1mMalignant\u001b[0m\u001b[1m \u001b[0m┃\n",
       "┡━━━━━━━━━━━╇━━━━━━━━╇━━━━━━━━━━━┩\n",
       "│\u001b[2m \u001b[0m\u001b[2mBenign   \u001b[0m\u001b[2m \u001b[0m│ 70,578 │     9,555 │\n",
       "│\u001b[2m \u001b[0m\u001b[2mMalignant\u001b[0m\u001b[2m \u001b[0m│     17 │        62 │\n",
       "└───────────┴────────┴───────────┘\n",
       "\u001b[2;3mRows: Actual | Columns: Predicted \u001b[0m\n"
      ]
     },
     "metadata": {},
     "output_type": "display_data"
    },
    {
     "name": "stderr",
     "output_type": "stream",
     "text": [
      "WARNING:root:No positive instances have been seen in target. Recall is converted from NaN to 0s.\n"
     ]
    },
    {
     "name": "stdout",
     "output_type": "stream",
     "text": [
      "\n",
      "Epoch 10/16\n",
      "------------------------------------------------------------\n",
      "Batch   0/2507: Loss: 0.1055 | Precision: 0.000 | Recall: 0.000\n",
      "Batch 100/2507: Loss: 0.1225 | Precision: 0.010 | Recall: 0.789\n",
      "Batch 200/2507: Loss: 0.1282 | Precision: 0.009 | Recall: 0.844\n",
      "Batch 300/2507: Loss: 0.1344 | Precision: 0.009 | Recall: 0.854\n",
      "Batch 400/2507: Loss: 0.1474 | Precision: 0.010 | Recall: 0.881\n",
      "Batch 500/2507: Loss: 0.1220 | Precision: 0.008 | Recall: 0.857\n",
      "Batch 600/2507: Loss: 0.1089 | Precision: 0.008 | Recall: 0.864\n",
      "Batch 700/2507: Loss: 0.0926 | Precision: 0.007 | Recall: 0.860\n",
      "Batch 800/2507: Loss: 0.0967 | Precision: 0.007 | Recall: 0.856\n",
      "Batch 900/2507: Loss: 0.0838 | Precision: 0.007 | Recall: 0.855\n",
      "Batch 1000/2507: Loss: 0.0910 | Precision: 0.007 | Recall: 0.835\n",
      "Batch 1100/2507: Loss: 0.3921 | Precision: 0.007 | Recall: 0.819\n",
      "Batch 1200/2507: Loss: 0.1179 | Precision: 0.007 | Recall: 0.791\n",
      "Batch 1300/2507: Loss: 1.1354 | Precision: 0.007 | Recall: 0.796\n",
      "Batch 1400/2507: Loss: 0.1088 | Precision: 0.007 | Recall: 0.802\n",
      "Batch 1500/2507: Loss: 0.1027 | Precision: 0.007 | Recall: 0.798\n",
      "Batch 1600/2507: Loss: 0.0979 | Precision: 0.007 | Recall: 0.796\n",
      "Batch 1700/2507: Loss: 0.0951 | Precision: 0.006 | Recall: 0.792\n",
      "Batch 1800/2507: Loss: 0.1016 | Precision: 0.007 | Recall: 0.799\n",
      "Batch 1900/2507: Loss: 0.1082 | Precision: 0.006 | Recall: 0.786\n",
      "Batch 2000/2507: Loss: 0.1225 | Precision: 0.007 | Recall: 0.786\n",
      "Batch 2100/2507: Loss: 0.1197 | Precision: 0.007 | Recall: 0.792\n",
      "Batch 2200/2507: Loss: 1.2923 | Precision: 0.007 | Recall: 0.792\n",
      "Batch 2300/2507: Loss: 0.1216 | Precision: 0.006 | Recall: 0.797\n",
      "Batch 2400/2507: Loss: 0.1281 | Precision: 0.006 | Recall: 0.788\n",
      "Batch 2500/2507: Loss: 0.1082 | Precision: 0.006 | Recall: 0.790\n"
     ]
    },
    {
     "data": {
      "text/html": [
       "<pre style=\"white-space:pre;overflow-x:auto;line-height:normal;font-family:Menlo,'DejaVu Sans Mono',consolas,'Courier New',monospace\"><span style=\"font-style: italic\">   Validation Confusion Matrix    </span>\n",
       "┏━━━━━━━━━━━┳━━━━━━━━┳━━━━━━━━━━━┓\n",
       "┃<span style=\"font-weight: bold\">           </span>┃<span style=\"font-weight: bold\"> Benign </span>┃<span style=\"font-weight: bold\"> Malignant </span>┃\n",
       "┡━━━━━━━━━━━╇━━━━━━━━╇━━━━━━━━━━━┩\n",
       "│<span style=\"color: #7f7f7f; text-decoration-color: #7f7f7f\"> Benign    </span>│ 68,890 │    11,243 │\n",
       "│<span style=\"color: #7f7f7f; text-decoration-color: #7f7f7f\"> Malignant </span>│     17 │        62 │\n",
       "└───────────┴────────┴───────────┘\n",
       "<span style=\"color: #7f7f7f; text-decoration-color: #7f7f7f; font-style: italic\">Rows: Actual | Columns: Predicted </span>\n",
       "</pre>\n"
      ],
      "text/plain": [
       "\u001b[3m   Validation Confusion Matrix    \u001b[0m\n",
       "┏━━━━━━━━━━━┳━━━━━━━━┳━━━━━━━━━━━┓\n",
       "┃\u001b[1m \u001b[0m\u001b[1m         \u001b[0m\u001b[1m \u001b[0m┃\u001b[1m \u001b[0m\u001b[1mBenign\u001b[0m\u001b[1m \u001b[0m┃\u001b[1m \u001b[0m\u001b[1mMalignant\u001b[0m\u001b[1m \u001b[0m┃\n",
       "┡━━━━━━━━━━━╇━━━━━━━━╇━━━━━━━━━━━┩\n",
       "│\u001b[2m \u001b[0m\u001b[2mBenign   \u001b[0m\u001b[2m \u001b[0m│ 68,890 │    11,243 │\n",
       "│\u001b[2m \u001b[0m\u001b[2mMalignant\u001b[0m\u001b[2m \u001b[0m│     17 │        62 │\n",
       "└───────────┴────────┴───────────┘\n",
       "\u001b[2;3mRows: Actual | Columns: Predicted \u001b[0m\n"
      ]
     },
     "metadata": {},
     "output_type": "display_data"
    },
    {
     "name": "stderr",
     "output_type": "stream",
     "text": [
      "WARNING:root:No positive instances have been seen in target. Recall is converted from NaN to 0s.\n"
     ]
    },
    {
     "name": "stdout",
     "output_type": "stream",
     "text": [
      "\n",
      "Epoch 11/16\n",
      "------------------------------------------------------------\n",
      "Batch   0/2507: Loss: 0.1105 | Precision: 0.000 | Recall: 0.000\n",
      "Batch 100/2507: Loss: 0.1141 | Precision: 0.006 | Recall: 0.857\n",
      "Batch 200/2507: Loss: 0.1126 | Precision: 0.005 | Recall: 0.833\n",
      "Batch 300/2507: Loss: 0.1100 | Precision: 0.005 | Recall: 0.778\n",
      "Batch 400/2507: Loss: 0.1047 | Precision: 0.005 | Recall: 0.809\n",
      "Batch 500/2507: Loss: 0.1003 | Precision: 0.005 | Recall: 0.815\n",
      "Batch 600/2507: Loss: 0.1117 | Precision: 0.006 | Recall: 0.797\n",
      "Batch 700/2507: Loss: 3.8088 | Precision: 0.006 | Recall: 0.798\n",
      "Batch 800/2507: Loss: 0.1166 | Precision: 0.006 | Recall: 0.796\n",
      "Batch 900/2507: Loss: 0.3428 | Precision: 0.007 | Recall: 0.819\n",
      "Batch 1000/2507: Loss: 0.1360 | Precision: 0.007 | Recall: 0.830\n",
      "Batch 1100/2507: Loss: 0.1267 | Precision: 0.007 | Recall: 0.819\n",
      "Batch 1200/2507: Loss: 0.1143 | Precision: 0.007 | Recall: 0.818\n",
      "Batch 1300/2507: Loss: 0.0982 | Precision: 0.006 | Recall: 0.820\n",
      "Batch 1400/2507: Loss: 0.1007 | Precision: 0.006 | Recall: 0.815\n",
      "Batch 1500/2507: Loss: 0.0991 | Precision: 0.006 | Recall: 0.819\n",
      "Batch 1600/2507: Loss: 0.1007 | Precision: 0.006 | Recall: 0.802\n",
      "Batch 1700/2507: Loss: 0.1007 | Precision: 0.006 | Recall: 0.798\n",
      "Batch 1800/2507: Loss: 0.1053 | Precision: 0.006 | Recall: 0.800\n",
      "Batch 1900/2507: Loss: 0.1073 | Precision: 0.006 | Recall: 0.801\n",
      "Batch 2000/2507: Loss: 0.1131 | Precision: 0.006 | Recall: 0.805\n",
      "Batch 2100/2507: Loss: 0.3603 | Precision: 0.006 | Recall: 0.801\n",
      "Batch 2200/2507: Loss: 0.1192 | Precision: 0.006 | Recall: 0.799\n",
      "Batch 2300/2507: Loss: 0.1164 | Precision: 0.006 | Recall: 0.801\n",
      "Batch 2400/2507: Loss: 0.9253 | Precision: 0.006 | Recall: 0.797\n",
      "Batch 2500/2507: Loss: 0.1059 | Precision: 0.006 | Recall: 0.797\n"
     ]
    },
    {
     "data": {
      "text/html": [
       "<pre style=\"white-space:pre;overflow-x:auto;line-height:normal;font-family:Menlo,'DejaVu Sans Mono',consolas,'Courier New',monospace\"><span style=\"font-style: italic\">   Validation Confusion Matrix    </span>\n",
       "┏━━━━━━━━━━━┳━━━━━━━━┳━━━━━━━━━━━┓\n",
       "┃<span style=\"font-weight: bold\">           </span>┃<span style=\"font-weight: bold\"> Benign </span>┃<span style=\"font-weight: bold\"> Malignant </span>┃\n",
       "┡━━━━━━━━━━━╇━━━━━━━━╇━━━━━━━━━━━┩\n",
       "│<span style=\"color: #7f7f7f; text-decoration-color: #7f7f7f\"> Benign    </span>│ 62,869 │    17,264 │\n",
       "│<span style=\"color: #7f7f7f; text-decoration-color: #7f7f7f\"> Malignant </span>│     10 │        69 │\n",
       "└───────────┴────────┴───────────┘\n",
       "<span style=\"color: #7f7f7f; text-decoration-color: #7f7f7f; font-style: italic\">Rows: Actual | Columns: Predicted </span>\n",
       "</pre>\n"
      ],
      "text/plain": [
       "\u001b[3m   Validation Confusion Matrix    \u001b[0m\n",
       "┏━━━━━━━━━━━┳━━━━━━━━┳━━━━━━━━━━━┓\n",
       "┃\u001b[1m \u001b[0m\u001b[1m         \u001b[0m\u001b[1m \u001b[0m┃\u001b[1m \u001b[0m\u001b[1mBenign\u001b[0m\u001b[1m \u001b[0m┃\u001b[1m \u001b[0m\u001b[1mMalignant\u001b[0m\u001b[1m \u001b[0m┃\n",
       "┡━━━━━━━━━━━╇━━━━━━━━╇━━━━━━━━━━━┩\n",
       "│\u001b[2m \u001b[0m\u001b[2mBenign   \u001b[0m\u001b[2m \u001b[0m│ 62,869 │    17,264 │\n",
       "│\u001b[2m \u001b[0m\u001b[2mMalignant\u001b[0m\u001b[2m \u001b[0m│     10 │        69 │\n",
       "└───────────┴────────┴───────────┘\n",
       "\u001b[2;3mRows: Actual | Columns: Predicted \u001b[0m\n"
      ]
     },
     "metadata": {},
     "output_type": "display_data"
    },
    {
     "name": "stdout",
     "output_type": "stream",
     "text": [
      "\n",
      "Epoch 12/16\n",
      "------------------------------------------------------------\n"
     ]
    },
    {
     "name": "stderr",
     "output_type": "stream",
     "text": [
      "WARNING:root:No positive instances have been seen in target. Recall is converted from NaN to 0s.\n"
     ]
    },
    {
     "name": "stdout",
     "output_type": "stream",
     "text": [
      "Batch   0/2507: Loss: 0.1072 | Precision: 0.000 | Recall: 0.000\n",
      "Batch 100/2507: Loss: 0.1072 | Precision: 0.004 | Recall: 0.800\n",
      "Batch 200/2507: Loss: 0.1093 | Precision: 0.005 | Recall: 0.750\n",
      "Batch 300/2507: Loss: 0.1153 | Precision: 0.005 | Recall: 0.794\n",
      "Batch 400/2507: Loss: 0.1234 | Precision: 0.006 | Recall: 0.780\n",
      "Batch 500/2507: Loss: 0.1032 | Precision: 0.005 | Recall: 0.776\n",
      "Batch 600/2507: Loss: 0.1019 | Precision: 0.005 | Recall: 0.791\n",
      "Batch 700/2507: Loss: 2.4635 | Precision: 0.005 | Recall: 0.771\n",
      "Batch 800/2507: Loss: 1.0047 | Precision: 0.005 | Recall: 0.784\n",
      "Batch 900/2507: Loss: 0.1129 | Precision: 0.006 | Recall: 0.782\n",
      "Batch 1000/2507: Loss: 0.1082 | Precision: 0.006 | Recall: 0.802\n",
      "Batch 1100/2507: Loss: 0.1266 | Precision: 0.006 | Recall: 0.813\n",
      "Batch 1200/2507: Loss: 0.1115 | Precision: 0.006 | Recall: 0.810\n",
      "Batch 1300/2507: Loss: 0.1026 | Precision: 0.005 | Recall: 0.813\n",
      "Batch 1400/2507: Loss: 0.1077 | Precision: 0.005 | Recall: 0.811\n",
      "Batch 1500/2507: Loss: 0.1129 | Precision: 0.006 | Recall: 0.819\n",
      "Batch 1600/2507: Loss: 0.1110 | Precision: 0.006 | Recall: 0.813\n",
      "Batch 1700/2507: Loss: 0.1153 | Precision: 0.006 | Recall: 0.820\n",
      "Batch 1800/2507: Loss: 0.1295 | Precision: 0.006 | Recall: 0.821\n",
      "Batch 1900/2507: Loss: 0.1066 | Precision: 0.006 | Recall: 0.819\n",
      "Batch 2000/2507: Loss: 0.1198 | Precision: 0.006 | Recall: 0.819\n",
      "Batch 2100/2507: Loss: 0.1264 | Precision: 0.006 | Recall: 0.827\n",
      "Batch 2200/2507: Loss: 0.1138 | Precision: 0.006 | Recall: 0.830\n",
      "Batch 2300/2507: Loss: 0.1324 | Precision: 0.006 | Recall: 0.828\n",
      "Batch 2400/2507: Loss: 0.1124 | Precision: 0.006 | Recall: 0.828\n",
      "Batch 2500/2507: Loss: 0.0978 | Precision: 0.006 | Recall: 0.821\n"
     ]
    },
    {
     "data": {
      "text/html": [
       "<pre style=\"white-space:pre;overflow-x:auto;line-height:normal;font-family:Menlo,'DejaVu Sans Mono',consolas,'Courier New',monospace\"><span style=\"font-style: italic\">   Validation Confusion Matrix    </span>\n",
       "┏━━━━━━━━━━━┳━━━━━━━━┳━━━━━━━━━━━┓\n",
       "┃<span style=\"font-weight: bold\">           </span>┃<span style=\"font-weight: bold\"> Benign </span>┃<span style=\"font-weight: bold\"> Malignant </span>┃\n",
       "┡━━━━━━━━━━━╇━━━━━━━━╇━━━━━━━━━━━┩\n",
       "│<span style=\"color: #7f7f7f; text-decoration-color: #7f7f7f\"> Benign    </span>│ 71,453 │     8,680 │\n",
       "│<span style=\"color: #7f7f7f; text-decoration-color: #7f7f7f\"> Malignant </span>│     19 │        60 │\n",
       "└───────────┴────────┴───────────┘\n",
       "<span style=\"color: #7f7f7f; text-decoration-color: #7f7f7f; font-style: italic\">Rows: Actual | Columns: Predicted </span>\n",
       "</pre>\n"
      ],
      "text/plain": [
       "\u001b[3m   Validation Confusion Matrix    \u001b[0m\n",
       "┏━━━━━━━━━━━┳━━━━━━━━┳━━━━━━━━━━━┓\n",
       "┃\u001b[1m \u001b[0m\u001b[1m         \u001b[0m\u001b[1m \u001b[0m┃\u001b[1m \u001b[0m\u001b[1mBenign\u001b[0m\u001b[1m \u001b[0m┃\u001b[1m \u001b[0m\u001b[1mMalignant\u001b[0m\u001b[1m \u001b[0m┃\n",
       "┡━━━━━━━━━━━╇━━━━━━━━╇━━━━━━━━━━━┩\n",
       "│\u001b[2m \u001b[0m\u001b[2mBenign   \u001b[0m\u001b[2m \u001b[0m│ 71,453 │     8,680 │\n",
       "│\u001b[2m \u001b[0m\u001b[2mMalignant\u001b[0m\u001b[2m \u001b[0m│     19 │        60 │\n",
       "└───────────┴────────┴───────────┘\n",
       "\u001b[2;3mRows: Actual | Columns: Predicted \u001b[0m\n"
      ]
     },
     "metadata": {},
     "output_type": "display_data"
    },
    {
     "name": "stdout",
     "output_type": "stream",
     "text": [
      "\n",
      "Epoch 13/16\n",
      "------------------------------------------------------------\n"
     ]
    },
    {
     "name": "stderr",
     "output_type": "stream",
     "text": [
      "WARNING:root:No positive instances have been seen in target. Recall is converted from NaN to 0s.\n"
     ]
    },
    {
     "name": "stdout",
     "output_type": "stream",
     "text": [
      "Batch   0/2507: Loss: 0.0987 | Precision: 0.000 | Recall: 0.000\n",
      "Batch 100/2507: Loss: 0.1057 | Precision: 0.008 | Recall: 0.923\n",
      "Batch 200/2507: Loss: 0.1131 | Precision: 0.008 | Recall: 0.929\n",
      "Batch 300/2507: Loss: 0.1263 | Precision: 0.008 | Recall: 0.909\n",
      "Batch 400/2507: Loss: 0.1141 | Precision: 0.008 | Recall: 0.891\n",
      "Batch 500/2507: Loss: 0.1234 | Precision: 0.008 | Recall: 0.873\n",
      "Batch 600/2507: Loss: 0.1306 | Precision: 0.008 | Recall: 0.862\n",
      "Batch 700/2507: Loss: 0.1151 | Precision: 0.008 | Recall: 0.876\n",
      "Batch 800/2507: Loss: 0.1172 | Precision: 0.008 | Recall: 0.892\n",
      "Batch 900/2507: Loss: 0.1056 | Precision: 0.008 | Recall: 0.894\n",
      "Batch 1000/2507: Loss: 0.1110 | Precision: 0.008 | Recall: 0.896\n",
      "Batch 1100/2507: Loss: 0.0989 | Precision: 0.007 | Recall: 0.882\n",
      "Batch 1200/2507: Loss: 0.0983 | Precision: 0.007 | Recall: 0.877\n",
      "Batch 1300/2507: Loss: 0.0899 | Precision: 0.007 | Recall: 0.877\n",
      "Batch 1400/2507: Loss: 0.0887 | Precision: 0.007 | Recall: 0.876\n",
      "Batch 1500/2507: Loss: 0.0937 | Precision: 0.007 | Recall: 0.862\n",
      "Batch 1600/2507: Loss: 0.0958 | Precision: 0.007 | Recall: 0.841\n",
      "Batch 1700/2507: Loss: 0.0942 | Precision: 0.007 | Recall: 0.834\n",
      "Batch 1800/2507: Loss: 0.1033 | Precision: 0.007 | Recall: 0.834\n",
      "Batch 1900/2507: Loss: 0.0934 | Precision: 0.007 | Recall: 0.833\n",
      "Batch 2000/2507: Loss: 0.1130 | Precision: 0.007 | Recall: 0.837\n",
      "Batch 2100/2507: Loss: 0.1137 | Precision: 0.007 | Recall: 0.844\n",
      "Batch 2200/2507: Loss: 0.1202 | Precision: 0.007 | Recall: 0.837\n",
      "Batch 2300/2507: Loss: 0.1055 | Precision: 0.007 | Recall: 0.839\n",
      "Batch 2400/2507: Loss: 0.1055 | Precision: 0.007 | Recall: 0.836\n",
      "Batch 2500/2507: Loss: 0.1124 | Precision: 0.007 | Recall: 0.843\n"
     ]
    },
    {
     "data": {
      "text/html": [
       "<pre style=\"white-space:pre;overflow-x:auto;line-height:normal;font-family:Menlo,'DejaVu Sans Mono',consolas,'Courier New',monospace\"><span style=\"font-style: italic\">   Validation Confusion Matrix    </span>\n",
       "┏━━━━━━━━━━━┳━━━━━━━━┳━━━━━━━━━━━┓\n",
       "┃<span style=\"font-weight: bold\">           </span>┃<span style=\"font-weight: bold\"> Benign </span>┃<span style=\"font-weight: bold\"> Malignant </span>┃\n",
       "┡━━━━━━━━━━━╇━━━━━━━━╇━━━━━━━━━━━┩\n",
       "│<span style=\"color: #7f7f7f; text-decoration-color: #7f7f7f\"> Benign    </span>│ 76,974 │     3,159 │\n",
       "│<span style=\"color: #7f7f7f; text-decoration-color: #7f7f7f\"> Malignant </span>│     30 │        49 │\n",
       "└───────────┴────────┴───────────┘\n",
       "<span style=\"color: #7f7f7f; text-decoration-color: #7f7f7f; font-style: italic\">Rows: Actual | Columns: Predicted </span>\n",
       "</pre>\n"
      ],
      "text/plain": [
       "\u001b[3m   Validation Confusion Matrix    \u001b[0m\n",
       "┏━━━━━━━━━━━┳━━━━━━━━┳━━━━━━━━━━━┓\n",
       "┃\u001b[1m \u001b[0m\u001b[1m         \u001b[0m\u001b[1m \u001b[0m┃\u001b[1m \u001b[0m\u001b[1mBenign\u001b[0m\u001b[1m \u001b[0m┃\u001b[1m \u001b[0m\u001b[1mMalignant\u001b[0m\u001b[1m \u001b[0m┃\n",
       "┡━━━━━━━━━━━╇━━━━━━━━╇━━━━━━━━━━━┩\n",
       "│\u001b[2m \u001b[0m\u001b[2mBenign   \u001b[0m\u001b[2m \u001b[0m│ 76,974 │     3,159 │\n",
       "│\u001b[2m \u001b[0m\u001b[2mMalignant\u001b[0m\u001b[2m \u001b[0m│     30 │        49 │\n",
       "└───────────┴────────┴───────────┘\n",
       "\u001b[2;3mRows: Actual | Columns: Predicted \u001b[0m\n"
      ]
     },
     "metadata": {},
     "output_type": "display_data"
    },
    {
     "name": "stdout",
     "output_type": "stream",
     "text": [
      "\n",
      "Epoch 14/16\n",
      "------------------------------------------------------------\n"
     ]
    },
    {
     "name": "stderr",
     "output_type": "stream",
     "text": [
      "WARNING:root:No positive instances have been seen in target. Recall is converted from NaN to 0s.\n"
     ]
    },
    {
     "name": "stdout",
     "output_type": "stream",
     "text": [
      "Batch   0/2507: Loss: 0.1148 | Precision: 0.000 | Recall: 0.000\n",
      "Batch 100/2507: Loss: 0.1158 | Precision: 0.006 | Recall: 0.643\n",
      "Batch 200/2507: Loss: 0.1150 | Precision: 0.006 | Recall: 0.769\n",
      "Batch 300/2507: Loss: 0.1088 | Precision: 0.006 | Recall: 0.778\n",
      "Batch 400/2507: Loss: 0.1050 | Precision: 0.006 | Recall: 0.833\n",
      "Batch 500/2507: Loss: 0.1049 | Precision: 0.006 | Recall: 0.833\n",
      "Batch 600/2507: Loss: 0.0993 | Precision: 0.006 | Recall: 0.841\n",
      "Batch 700/2507: Loss: 0.0992 | Precision: 0.007 | Recall: 0.841\n",
      "Batch 800/2507: Loss: 0.1150 | Precision: 0.007 | Recall: 0.859\n",
      "Batch 900/2507: Loss: 0.1224 | Precision: 0.007 | Recall: 0.866\n",
      "Batch 1000/2507: Loss: 0.1087 | Precision: 0.007 | Recall: 0.877\n",
      "Batch 1100/2507: Loss: 0.0998 | Precision: 0.007 | Recall: 0.879\n",
      "Batch 1200/2507: Loss: 0.1121 | Precision: 0.007 | Recall: 0.870\n",
      "Batch 1300/2507: Loss: 0.1105 | Precision: 0.007 | Recall: 0.875\n",
      "Batch 1400/2507: Loss: 0.1089 | Precision: 0.007 | Recall: 0.879\n",
      "Batch 1500/2507: Loss: 0.1081 | Precision: 0.007 | Recall: 0.875\n",
      "Batch 1600/2507: Loss: 0.0926 | Precision: 0.007 | Recall: 0.859\n",
      "Batch 1700/2507: Loss: 0.3300 | Precision: 0.007 | Recall: 0.857\n",
      "Batch 1800/2507: Loss: 0.1089 | Precision: 0.007 | Recall: 0.862\n",
      "Batch 1900/2507: Loss: 0.1078 | Precision: 0.007 | Recall: 0.866\n",
      "Batch 2000/2507: Loss: 0.0997 | Precision: 0.007 | Recall: 0.864\n",
      "Batch 2100/2507: Loss: 0.1108 | Precision: 0.007 | Recall: 0.857\n",
      "Batch 2200/2507: Loss: 0.1074 | Precision: 0.007 | Recall: 0.858\n",
      "Batch 2300/2507: Loss: 0.1005 | Precision: 0.007 | Recall: 0.863\n",
      "Batch 2400/2507: Loss: 0.1241 | Precision: 0.007 | Recall: 0.852\n",
      "Batch 2500/2507: Loss: 0.1130 | Precision: 0.007 | Recall: 0.854\n"
     ]
    },
    {
     "data": {
      "text/html": [
       "<pre style=\"white-space:pre;overflow-x:auto;line-height:normal;font-family:Menlo,'DejaVu Sans Mono',consolas,'Courier New',monospace\"><span style=\"font-style: italic\">   Validation Confusion Matrix    </span>\n",
       "┏━━━━━━━━━━━┳━━━━━━━━┳━━━━━━━━━━━┓\n",
       "┃<span style=\"font-weight: bold\">           </span>┃<span style=\"font-weight: bold\"> Benign </span>┃<span style=\"font-weight: bold\"> Malignant </span>┃\n",
       "┡━━━━━━━━━━━╇━━━━━━━━╇━━━━━━━━━━━┩\n",
       "│<span style=\"color: #7f7f7f; text-decoration-color: #7f7f7f\"> Benign    </span>│ 68,549 │    11,584 │\n",
       "│<span style=\"color: #7f7f7f; text-decoration-color: #7f7f7f\"> Malignant </span>│     18 │        61 │\n",
       "└───────────┴────────┴───────────┘\n",
       "<span style=\"color: #7f7f7f; text-decoration-color: #7f7f7f; font-style: italic\">Rows: Actual | Columns: Predicted </span>\n",
       "</pre>\n"
      ],
      "text/plain": [
       "\u001b[3m   Validation Confusion Matrix    \u001b[0m\n",
       "┏━━━━━━━━━━━┳━━━━━━━━┳━━━━━━━━━━━┓\n",
       "┃\u001b[1m \u001b[0m\u001b[1m         \u001b[0m\u001b[1m \u001b[0m┃\u001b[1m \u001b[0m\u001b[1mBenign\u001b[0m\u001b[1m \u001b[0m┃\u001b[1m \u001b[0m\u001b[1mMalignant\u001b[0m\u001b[1m \u001b[0m┃\n",
       "┡━━━━━━━━━━━╇━━━━━━━━╇━━━━━━━━━━━┩\n",
       "│\u001b[2m \u001b[0m\u001b[2mBenign   \u001b[0m\u001b[2m \u001b[0m│ 68,549 │    11,584 │\n",
       "│\u001b[2m \u001b[0m\u001b[2mMalignant\u001b[0m\u001b[2m \u001b[0m│     18 │        61 │\n",
       "└───────────┴────────┴───────────┘\n",
       "\u001b[2;3mRows: Actual | Columns: Predicted \u001b[0m\n"
      ]
     },
     "metadata": {},
     "output_type": "display_data"
    },
    {
     "name": "stdout",
     "output_type": "stream",
     "text": [
      "\n",
      "Epoch 15/16\n",
      "------------------------------------------------------------\n"
     ]
    },
    {
     "name": "stderr",
     "output_type": "stream",
     "text": [
      "WARNING:root:No positive instances have been seen in target. Recall is converted from NaN to 0s.\n"
     ]
    },
    {
     "name": "stdout",
     "output_type": "stream",
     "text": [
      "Batch   0/2507: Loss: 0.1127 | Precision: 0.000 | Recall: 0.000\n",
      "Batch 100/2507: Loss: 0.1091 | Precision: 0.006 | Recall: 0.909\n",
      "Batch 200/2507: Loss: 0.1133 | Precision: 0.007 | Recall: 0.958\n",
      "Batch 300/2507: Loss: 0.1034 | Precision: 0.007 | Recall: 0.971\n",
      "Batch 400/2507: Loss: 0.1018 | Precision: 0.007 | Recall: 0.933\n",
      "Batch 500/2507: Loss: 0.1091 | Precision: 0.007 | Recall: 0.933\n",
      "Batch 600/2507: Loss: 0.1105 | Precision: 0.007 | Recall: 0.896\n",
      "Batch 700/2507: Loss: 0.1011 | Precision: 0.007 | Recall: 0.908\n",
      "Batch 800/2507: Loss: 0.1006 | Precision: 0.007 | Recall: 0.891\n",
      "Batch 900/2507: Loss: 0.0954 | Precision: 0.007 | Recall: 0.899\n",
      "Batch 1000/2507: Loss: 4.3540 | Precision: 0.007 | Recall: 0.881\n",
      "Batch 1100/2507: Loss: 0.0964 | Precision: 0.007 | Recall: 0.881\n",
      "Batch 1200/2507: Loss: 0.0991 | Precision: 0.007 | Recall: 0.874\n",
      "Batch 1300/2507: Loss: 0.1176 | Precision: 0.007 | Recall: 0.876\n",
      "Batch 1400/2507: Loss: 0.1047 | Precision: 0.007 | Recall: 0.881\n",
      "Batch 1500/2507: Loss: 0.1101 | Precision: 0.007 | Recall: 0.885\n",
      "Batch 1600/2507: Loss: 0.1077 | Precision: 0.007 | Recall: 0.887\n",
      "Batch 1700/2507: Loss: 0.1067 | Precision: 0.007 | Recall: 0.888\n",
      "Batch 1800/2507: Loss: 0.0949 | Precision: 0.007 | Recall: 0.887\n",
      "Batch 1900/2507: Loss: 0.0936 | Precision: 0.007 | Recall: 0.885\n",
      "Batch 2000/2507: Loss: 0.1010 | Precision: 0.007 | Recall: 0.875\n",
      "Batch 2100/2507: Loss: 0.0982 | Precision: 0.007 | Recall: 0.876\n",
      "Batch 2200/2507: Loss: 0.1157 | Precision: 0.007 | Recall: 0.870\n",
      "Batch 2300/2507: Loss: 0.1353 | Precision: 0.007 | Recall: 0.864\n",
      "Batch 2400/2507: Loss: 0.1258 | Precision: 0.007 | Recall: 0.863\n",
      "Batch 2500/2507: Loss: 0.1240 | Precision: 0.007 | Recall: 0.866\n"
     ]
    },
    {
     "data": {
      "text/html": [
       "<pre style=\"white-space:pre;overflow-x:auto;line-height:normal;font-family:Menlo,'DejaVu Sans Mono',consolas,'Courier New',monospace\"><span style=\"font-style: italic\">   Validation Confusion Matrix    </span>\n",
       "┏━━━━━━━━━━━┳━━━━━━━━┳━━━━━━━━━━━┓\n",
       "┃<span style=\"font-weight: bold\">           </span>┃<span style=\"font-weight: bold\"> Benign </span>┃<span style=\"font-weight: bold\"> Malignant </span>┃\n",
       "┡━━━━━━━━━━━╇━━━━━━━━╇━━━━━━━━━━━┩\n",
       "│<span style=\"color: #7f7f7f; text-decoration-color: #7f7f7f\"> Benign    </span>│ 70,473 │     9,660 │\n",
       "│<span style=\"color: #7f7f7f; text-decoration-color: #7f7f7f\"> Malignant </span>│     17 │        62 │\n",
       "└───────────┴────────┴───────────┘\n",
       "<span style=\"color: #7f7f7f; text-decoration-color: #7f7f7f; font-style: italic\">Rows: Actual | Columns: Predicted </span>\n",
       "</pre>\n"
      ],
      "text/plain": [
       "\u001b[3m   Validation Confusion Matrix    \u001b[0m\n",
       "┏━━━━━━━━━━━┳━━━━━━━━┳━━━━━━━━━━━┓\n",
       "┃\u001b[1m \u001b[0m\u001b[1m         \u001b[0m\u001b[1m \u001b[0m┃\u001b[1m \u001b[0m\u001b[1mBenign\u001b[0m\u001b[1m \u001b[0m┃\u001b[1m \u001b[0m\u001b[1mMalignant\u001b[0m\u001b[1m \u001b[0m┃\n",
       "┡━━━━━━━━━━━╇━━━━━━━━╇━━━━━━━━━━━┩\n",
       "│\u001b[2m \u001b[0m\u001b[2mBenign   \u001b[0m\u001b[2m \u001b[0m│ 70,473 │     9,660 │\n",
       "│\u001b[2m \u001b[0m\u001b[2mMalignant\u001b[0m\u001b[2m \u001b[0m│     17 │        62 │\n",
       "└───────────┴────────┴───────────┘\n",
       "\u001b[2;3mRows: Actual | Columns: Predicted \u001b[0m\n"
      ]
     },
     "metadata": {},
     "output_type": "display_data"
    },
    {
     "name": "stderr",
     "output_type": "stream",
     "text": [
      "WARNING:root:No positive instances have been seen in target. Recall is converted from NaN to 0s.\n"
     ]
    },
    {
     "name": "stdout",
     "output_type": "stream",
     "text": [
      "\n",
      "Epoch 16/16\n",
      "------------------------------------------------------------\n",
      "Batch   0/2507: Loss: 0.1240 | Precision: 0.000 | Recall: 0.000\n",
      "Batch 100/2507: Loss: 0.1152 | Precision: 0.005 | Recall: 0.900\n",
      "Batch 200/2507: Loss: 0.1155 | Precision: 0.007 | Recall: 0.917\n",
      "Batch 300/2507: Loss: 0.1145 | Precision: 0.006 | Recall: 0.816\n",
      "Batch 400/2507: Loss: 0.0971 | Precision: 0.005 | Recall: 0.837\n",
      "Batch 500/2507: Loss: 0.1184 | Precision: 0.006 | Recall: 0.852\n",
      "Batch 600/2507: Loss: 0.1202 | Precision: 0.006 | Recall: 0.877\n",
      "Batch 700/2507: Loss: 0.6313 | Precision: 0.006 | Recall: 0.864\n",
      "Batch 800/2507: Loss: 0.3732 | Precision: 0.006 | Recall: 0.868\n",
      "Batch 900/2507: Loss: 0.1074 | Precision: 0.006 | Recall: 0.876\n",
      "Batch 1000/2507: Loss: 0.1132 | Precision: 0.006 | Recall: 0.843\n",
      "Batch 1100/2507: Loss: 0.1052 | Precision: 0.006 | Recall: 0.845\n",
      "Batch 1200/2507: Loss: 0.1070 | Precision: 0.006 | Recall: 0.852\n",
      "Batch 1300/2507: Loss: 0.1118 | Precision: 0.006 | Recall: 0.865\n",
      "Batch 1400/2507: Loss: 0.1103 | Precision: 0.006 | Recall: 0.859\n",
      "Batch 1500/2507: Loss: 0.1122 | Precision: 0.007 | Recall: 0.871\n",
      "Batch 1600/2507: Loss: 0.1079 | Precision: 0.007 | Recall: 0.878\n",
      "Batch 1700/2507: Loss: 0.6264 | Precision: 0.007 | Recall: 0.887\n",
      "Batch 1800/2507: Loss: 0.1187 | Precision: 0.007 | Recall: 0.877\n",
      "Batch 1900/2507: Loss: 0.1229 | Precision: 0.007 | Recall: 0.886\n",
      "Batch 2000/2507: Loss: 0.1136 | Precision: 0.007 | Recall: 0.887\n",
      "Batch 2100/2507: Loss: 0.1648 | Precision: 0.007 | Recall: 0.892\n",
      "Batch 2200/2507: Loss: 0.0999 | Precision: 0.007 | Recall: 0.893\n",
      "Batch 2300/2507: Loss: 0.0949 | Precision: 0.007 | Recall: 0.887\n",
      "Batch 2400/2507: Loss: 0.0967 | Precision: 0.007 | Recall: 0.885\n",
      "Batch 2500/2507: Loss: 0.0964 | Precision: 0.007 | Recall: 0.885\n"
     ]
    },
    {
     "data": {
      "text/html": [
       "<pre style=\"white-space:pre;overflow-x:auto;line-height:normal;font-family:Menlo,'DejaVu Sans Mono',consolas,'Courier New',monospace\"><span style=\"font-style: italic\">   Validation Confusion Matrix    </span>\n",
       "┏━━━━━━━━━━━┳━━━━━━━━┳━━━━━━━━━━━┓\n",
       "┃<span style=\"font-weight: bold\">           </span>┃<span style=\"font-weight: bold\"> Benign </span>┃<span style=\"font-weight: bold\"> Malignant </span>┃\n",
       "┡━━━━━━━━━━━╇━━━━━━━━╇━━━━━━━━━━━┩\n",
       "│<span style=\"color: #7f7f7f; text-decoration-color: #7f7f7f\"> Benign    </span>│ 69,165 │    10,968 │\n",
       "│<span style=\"color: #7f7f7f; text-decoration-color: #7f7f7f\"> Malignant </span>│     16 │        63 │\n",
       "└───────────┴────────┴───────────┘\n",
       "<span style=\"color: #7f7f7f; text-decoration-color: #7f7f7f; font-style: italic\">Rows: Actual | Columns: Predicted </span>\n",
       "</pre>\n"
      ],
      "text/plain": [
       "\u001b[3m   Validation Confusion Matrix    \u001b[0m\n",
       "┏━━━━━━━━━━━┳━━━━━━━━┳━━━━━━━━━━━┓\n",
       "┃\u001b[1m \u001b[0m\u001b[1m         \u001b[0m\u001b[1m \u001b[0m┃\u001b[1m \u001b[0m\u001b[1mBenign\u001b[0m\u001b[1m \u001b[0m┃\u001b[1m \u001b[0m\u001b[1mMalignant\u001b[0m\u001b[1m \u001b[0m┃\n",
       "┡━━━━━━━━━━━╇━━━━━━━━╇━━━━━━━━━━━┩\n",
       "│\u001b[2m \u001b[0m\u001b[2mBenign   \u001b[0m\u001b[2m \u001b[0m│ 69,165 │    10,968 │\n",
       "│\u001b[2m \u001b[0m\u001b[2mMalignant\u001b[0m\u001b[2m \u001b[0m│     16 │        63 │\n",
       "└───────────┴────────┴───────────┘\n",
       "\u001b[2;3mRows: Actual | Columns: Predicted \u001b[0m\n"
      ]
     },
     "metadata": {},
     "output_type": "display_data"
    },
    {
     "name": "stdout",
     "output_type": "stream",
     "text": [
      "* Run finished. Uploading logs to Trackio (please wait...)\n"
     ]
    }
   ],
   "source": [
    "import trackio\n",
    "from isic.training import train, validate\n",
    "\n",
    "trackio.init(project=\"mlp\", config=params, embed=False)\n",
    "\n",
    "for epoch in range(epochs):\n",
    "    print(f\"\\nEpoch {epoch + 1}/{epochs}\")\n",
    "    print(\"-\" * 60)\n",
    "\n",
    "    # train\n",
    "    train_metrics = train(model, train_loader, criterion, optimizer, device, threshold)\n",
    "\n",
    "    # validate\n",
    "    val_metrics, confusion_mat = validate(\n",
    "        model, val_loader, criterion, device, threshold\n",
    "    )\n",
    "\n",
    "trackio.finish()"
   ]
  }
 ],
 "metadata": {
  "kernelspec": {
   "display_name": "isic",
   "language": "python",
   "name": "python3"
  },
  "language_info": {
   "codemirror_mode": {
    "name": "ipython",
    "version": 3
   },
   "file_extension": ".py",
   "mimetype": "text/x-python",
   "name": "python",
   "nbconvert_exporter": "python",
   "pygments_lexer": "ipython3",
   "version": "3.12.12"
  }
 },
 "nbformat": 4,
 "nbformat_minor": 2
}
