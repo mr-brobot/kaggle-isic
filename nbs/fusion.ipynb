{
 "cells": [
  {
   "cell_type": "markdown",
   "metadata": {},
   "source": [
    "# Setup\n"
   ]
  },
  {
   "cell_type": "code",
   "execution_count": 1,
   "metadata": {},
   "outputs": [],
   "source": [
    "%load_ext autoreload\n",
    "%autoreload 2"
   ]
  },
  {
   "cell_type": "code",
   "execution_count": 2,
   "metadata": {},
   "outputs": [],
   "source": [
    "params = {\n",
    "    \"epochs\": 8,\n",
    "    \"batch_size\": 128,\n",
    "    \"learning_rate\": 0.001,\n",
    "    \"class_power\": 0.9,  # between 0 and 1 (inclusive), scales positive class weight (0 removes class weighting, 1 leaves class ratio unchanged)\n",
    "    \"focal_power\": 2,  # focusing parameter (gamma) in focal loss (default 2)\n",
    "    \"image_size\": 128,  # target image size, images resized to fit in square where sides or of this length\n",
    "    \"threshold\": 0.5,  # probability threshold for positive classification\n",
    "    \"seed\": 42,  # rng seed for reproducibility\n",
    "    # model architecture\n",
    "    \"cnn_layers\": [\n",
    "        (16, 5, True),  # 128×128×3 → 64×64×16 (5×5 kernel, pool)\n",
    "        (32, 3, True),  # 64×64×16 → 32×32×32 (3×3 kernel, pool)\n",
    "        (64, 3, True),  # 32×32×32 → 16×16×64\n",
    "        (64, 3, True),  # 16×16×64 → 8×8×64\n",
    "        (32, 3, True),  # 8×8×64 → 4×4×32 (final: 512 features)\n",
    "    ],\n",
    "    \"metadata_layer_dims\": [8, 16, 32],  # accepts metatadata tensor from dataloader\n",
    "    \"fusion_layer_dims\": [256, 128, 64, 8],  # fuse encoded image & metadata\n",
    "}\n",
    "\n",
    "epochs = params[\"epochs\"]\n",
    "batch_size = params[\"batch_size\"]\n",
    "lr = params[\"learning_rate\"]\n",
    "class_power = params[\"class_power\"]\n",
    "focal_power = params[\"focal_power\"]\n",
    "\n",
    "img_size = params[\"image_size\"], params[\"image_size\"]\n",
    "image_shape = params[\"image_size\"], params[\"image_size\"], 3\n",
    "threshold = params[\"threshold\"]\n",
    "seed = params[\"seed\"]\n",
    "\n",
    "# model architecture params\n",
    "cnn_layers = params[\"cnn_layers\"]\n",
    "metadata_layer_dims = params[\"metadata_layer_dims\"]\n",
    "fusion_layer_dims = params[\"fusion_layer_dims\"]"
   ]
  },
  {
   "cell_type": "code",
   "execution_count": 3,
   "metadata": {},
   "outputs": [
    {
     "data": {
      "text/plain": [
       "device(type='cuda')"
      ]
     },
     "execution_count": 3,
     "metadata": {},
     "output_type": "execute_result"
    }
   ],
   "source": [
    "import torch\n",
    "\n",
    "device = torch.device(\"cuda\" if torch.cuda.is_available() else \"cpu\")\n",
    "\n",
    "device"
   ]
  },
  {
   "cell_type": "code",
   "execution_count": 4,
   "metadata": {},
   "outputs": [],
   "source": [
    "import torch\n",
    "\n",
    "torch.manual_seed(seed)\n",
    "generator = torch.Generator().manual_seed(seed)"
   ]
  },
  {
   "cell_type": "code",
   "execution_count": 5,
   "metadata": {},
   "outputs": [],
   "source": [
    "import torch\n",
    "\n",
    "torch.set_float32_matmul_precision(\"high\")"
   ]
  },
  {
   "cell_type": "markdown",
   "metadata": {},
   "source": [
    "# Dataset\n"
   ]
  },
  {
   "cell_type": "code",
   "execution_count": 6,
   "metadata": {},
   "outputs": [
    {
     "data": {
      "text/plain": [
       "401059"
      ]
     },
     "execution_count": 6,
     "metadata": {},
     "output_type": "execute_result"
    }
   ],
   "source": [
    "from datasets import load_dataset\n",
    "from isic.dataset import ImageEncoder, MetadataEncoder, collate_batch\n",
    "\n",
    "ds = load_dataset(\"mrbrobot/isic-2024\", split=\"train\")\n",
    "ds = ds.select_columns([\"image\", \"age_approx\", \"sex\", \"anatom_site_general\", \"target\"])\n",
    "\n",
    "len(ds)"
   ]
  },
  {
   "cell_type": "code",
   "execution_count": 7,
   "metadata": {},
   "outputs": [],
   "source": [
    "# encode metadata\n",
    "metadata_encoder = MetadataEncoder().fit(ds)\n",
    "ds = ds.with_format(\"arrow\")\n",
    "ds = ds.map(\n",
    "    metadata_encoder,\n",
    "    batched=True,\n",
    "    batch_size=1000,\n",
    "    desc=\"Encoding metadata columns\",\n",
    ")\n",
    "\n",
    "# encode images\n",
    "image_encoder = ImageEncoder(image_size=img_size)\n",
    "ds = ds.with_format(\"torch\")\n",
    "ds = ds.with_transform(image_encoder, columns=[\"image\"], output_all_columns=True)"
   ]
  },
  {
   "cell_type": "markdown",
   "metadata": {},
   "source": [
    "# Model Definition\n"
   ]
  },
  {
   "cell_type": "code",
   "execution_count": 8,
   "metadata": {},
   "outputs": [
    {
     "data": {
      "text/plain": [
       "FusionModel(\n",
       "  (image_stack): Sequential(\n",
       "    (0): Conv2d(3, 16, kernel_size=(5, 5), stride=(1, 1), padding=same)\n",
       "    (1): BatchNorm2d(16, eps=1e-05, momentum=0.1, affine=True, track_running_stats=True)\n",
       "    (2): SiLU()\n",
       "    (3): MaxPool2d(kernel_size=2, stride=2, padding=0, dilation=1, ceil_mode=False)\n",
       "    (4): Conv2d(16, 32, kernel_size=(3, 3), stride=(1, 1), padding=same)\n",
       "    (5): BatchNorm2d(32, eps=1e-05, momentum=0.1, affine=True, track_running_stats=True)\n",
       "    (6): SiLU()\n",
       "    (7): MaxPool2d(kernel_size=2, stride=2, padding=0, dilation=1, ceil_mode=False)\n",
       "    (8): Conv2d(32, 64, kernel_size=(3, 3), stride=(1, 1), padding=same)\n",
       "    (9): BatchNorm2d(64, eps=1e-05, momentum=0.1, affine=True, track_running_stats=True)\n",
       "    (10): SiLU()\n",
       "    (11): MaxPool2d(kernel_size=2, stride=2, padding=0, dilation=1, ceil_mode=False)\n",
       "    (12): Conv2d(64, 64, kernel_size=(3, 3), stride=(1, 1), padding=same)\n",
       "    (13): BatchNorm2d(64, eps=1e-05, momentum=0.1, affine=True, track_running_stats=True)\n",
       "    (14): SiLU()\n",
       "    (15): MaxPool2d(kernel_size=2, stride=2, padding=0, dilation=1, ceil_mode=False)\n",
       "    (16): Conv2d(64, 32, kernel_size=(3, 3), stride=(1, 1), padding=same)\n",
       "    (17): BatchNorm2d(32, eps=1e-05, momentum=0.1, affine=True, track_running_stats=True)\n",
       "    (18): SiLU()\n",
       "    (19): MaxPool2d(kernel_size=2, stride=2, padding=0, dilation=1, ceil_mode=False)\n",
       "  )\n",
       "  (metadata_stack): MLP(\n",
       "    (network): Sequential(\n",
       "      (0): Linear(in_features=8, out_features=16, bias=True)\n",
       "      (1): LeakyReLU(negative_slope=0.01)\n",
       "      (2): Linear(in_features=16, out_features=32, bias=True)\n",
       "      (3): LeakyReLU(negative_slope=0.01)\n",
       "    )\n",
       "  )\n",
       "  (fusion_head): Sequential(\n",
       "    (0): MLP(\n",
       "      (network): Sequential(\n",
       "        (0): Linear(in_features=544, out_features=256, bias=True)\n",
       "        (1): BatchNorm1d(256, eps=1e-05, momentum=0.1, affine=True, track_running_stats=True)\n",
       "        (2): LeakyReLU(negative_slope=0.01)\n",
       "        (3): Linear(in_features=256, out_features=128, bias=True)\n",
       "        (4): BatchNorm1d(128, eps=1e-05, momentum=0.1, affine=True, track_running_stats=True)\n",
       "        (5): LeakyReLU(negative_slope=0.01)\n",
       "        (6): Linear(in_features=128, out_features=64, bias=True)\n",
       "        (7): BatchNorm1d(64, eps=1e-05, momentum=0.1, affine=True, track_running_stats=True)\n",
       "        (8): LeakyReLU(negative_slope=0.01)\n",
       "        (9): Linear(in_features=64, out_features=8, bias=True)\n",
       "        (10): BatchNorm1d(8, eps=1e-05, momentum=0.1, affine=True, track_running_stats=True)\n",
       "        (11): LeakyReLU(negative_slope=0.01)\n",
       "      )\n",
       "    )\n",
       "    (1): Linear(in_features=8, out_features=1, bias=True)\n",
       "  )\n",
       ")"
      ]
     },
     "execution_count": 8,
     "metadata": {},
     "output_type": "execute_result"
    }
   ],
   "source": [
    "from isic.models import FusionModel\n",
    "\n",
    "model = FusionModel(\n",
    "    image_shape=image_shape,\n",
    "    cnn_layers=cnn_layers,\n",
    "    metadata_layer_dims=metadata_layer_dims,\n",
    "    fusion_layer_dims=fusion_layer_dims,\n",
    ").to(device)\n",
    "\n",
    "model"
   ]
  },
  {
   "cell_type": "code",
   "execution_count": 9,
   "metadata": {},
   "outputs": [
    {
     "data": {
      "text/plain": [
       "262961"
      ]
     },
     "execution_count": 9,
     "metadata": {},
     "output_type": "execute_result"
    }
   ],
   "source": [
    "total_params = sum(p.numel() for p in model.parameters() if p.requires_grad)\n",
    "\n",
    "total_params"
   ]
  },
  {
   "cell_type": "markdown",
   "metadata": {},
   "source": [
    "# Training\n"
   ]
  },
  {
   "cell_type": "code",
   "execution_count": 10,
   "metadata": {},
   "outputs": [
    {
     "name": "stdout",
     "output_type": "stream",
     "text": [
      "Model device: cuda:0\n",
      "Total parameters: 262,961\n",
      "Trainable parameters: 262,961\n"
     ]
    }
   ],
   "source": [
    "optimizer = torch.optim.Adam(model.parameters(), lr=lr)\n",
    "\n",
    "print(f\"Model device: {next(model.parameters()).device}\")\n",
    "print(f\"Total parameters: {sum(p.numel() for p in model.parameters()):,}\")\n",
    "print(\n",
    "    f\"Trainable parameters: {sum(p.numel() for p in model.parameters() if p.requires_grad):,}\"\n",
    ")"
   ]
  },
  {
   "cell_type": "markdown",
   "metadata": {},
   "source": [
    "Class imbalance measurement & handling\n"
   ]
  },
  {
   "cell_type": "code",
   "execution_count": 11,
   "metadata": {},
   "outputs": [
    {
     "name": "stdout",
     "output_type": "stream",
     "text": [
      "Class Distribution:\n",
      "Benign: 400,666 samples\n",
      "Malignant: 393 samples\n",
      "Imbalance ratio: 1019.5:1\n"
     ]
    }
   ],
   "source": [
    "class_counts = [400666, 393]  # [benign, malignant] from EDA\n",
    "\n",
    "print(\"Class Distribution:\")\n",
    "print(f\"Benign: {class_counts[0]:,} samples\")\n",
    "print(f\"Malignant: {class_counts[1]:,} samples\")\n",
    "print(f\"Imbalance ratio: {class_counts[0] / class_counts[1]:.1f}:1\")"
   ]
  },
  {
   "cell_type": "code",
   "execution_count": 12,
   "metadata": {},
   "outputs": [
    {
     "name": "stdout",
     "output_type": "stream",
     "text": [
      "Positive weight: 1019.5\n",
      "Scaled positive class weight: 510.0\n"
     ]
    }
   ],
   "source": [
    "df = ds.to_pandas()\n",
    "neg_count = (df[\"target\"] == 0).sum()\n",
    "pos_count = (df[\"target\"] == 1).sum()\n",
    "pos_weight = neg_count / pos_count\n",
    "\n",
    "print(f\"Positive weight: {pos_weight:.1f}\")\n",
    "print(f\"Scaled positive class weight: {pos_weight**class_power:.1f}\")"
   ]
  },
  {
   "cell_type": "code",
   "execution_count": 13,
   "metadata": {},
   "outputs": [],
   "source": [
    "from isic.loss import WeightedFocalLoss\n",
    "\n",
    "scaled_pos_weight = torch.tensor([pos_weight**class_power], device=device)\n",
    "criterion = WeightedFocalLoss(pos_weight=scaled_pos_weight, gamma=focal_power)"
   ]
  },
  {
   "cell_type": "code",
   "execution_count": 14,
   "metadata": {},
   "outputs": [
    {
     "name": "stdout",
     "output_type": "stream",
     "text": [
      "Batches per epoch - Train: 2507, Val: 627\n"
     ]
    }
   ],
   "source": [
    "from torch.utils.data import DataLoader\n",
    "\n",
    "split = ds.train_test_split(test_size=0.2, seed=seed)\n",
    "train_ds, val_ds = split[\"train\"], split[\"test\"]\n",
    "\n",
    "train_loader = DataLoader(\n",
    "    train_ds,\n",
    "    batch_size=batch_size,\n",
    "    shuffle=True,\n",
    "    collate_fn=collate_batch,\n",
    ")\n",
    "val_loader = DataLoader(\n",
    "    val_ds,\n",
    "    batch_size=batch_size,\n",
    "    shuffle=False,\n",
    "    collate_fn=collate_batch,\n",
    ")\n",
    "\n",
    "print(f\"Batches per epoch - Train: {len(train_loader)}, Val: {len(val_loader)}\")"
   ]
  },
  {
   "cell_type": "code",
   "execution_count": 15,
   "metadata": {},
   "outputs": [
    {
     "name": "stdout",
     "output_type": "stream",
     "text": [
      "* Trackio project initialized: fusion\n",
      "* Trackio metrics logged to: /home/vscode/.cache/huggingface/trackio\n",
      "* View dashboard by running in your terminal:\n",
      "\u001b[1m\u001b[38;5;208mtrackio show --project \"fusion\"\u001b[0m\n",
      "* or by running in Python: trackio.show(project=\"fusion\")\n",
      "* Created new run: dainty-sunset-0\n"
     ]
    }
   ],
   "source": [
    "import trackio\n",
    "\n",
    "trackio.init(project=\"fusion\", config=params, embed=False);"
   ]
  },
  {
   "cell_type": "code",
   "execution_count": 16,
   "metadata": {},
   "outputs": [
    {
     "name": "stdout",
     "output_type": "stream",
     "text": [
      "\u001b[92m────────────────────────────────── \u001b[0m\u001b[1mEpoch \u001b[0m\u001b[1;36m1\u001b[0m\u001b[1m/\u001b[0m\u001b[1;36m8\u001b[0m\u001b[92m ───────────────────────────────────\u001b[0m\n",
      "\u001b[2KTraining \u001b[90m━━━━━━━━━━\u001b[0m \u001b[35m100%\u001b[0m (2507/2507) Loss: \u001b[36m0.4795\u001b[0m Prec: \u001b[32m0.002\u001b[0m Rec: \u001b[33m0.475\u001b[0m \u001b[33m0:04:09\u001b[0m04:09\u001b[0m03:43\u001b[0m\n",
      "\u001b[2KValidation \u001b[90m━━━━━━━━━━\u001b[0m \u001b[35m100%\u001b[0m (627/627) Loss: \u001b[36m0.4365\u001b[0m Prec: \u001b[32m0.003\u001b[0m Rec: \u001b[33m0.608\u001b[0m \u001b[33m0:00:54\u001b[0m00:54\u001b[0m00:49\u001b[0m\n",
      "\u001b[?25h\u001b[3m   Validation Confusion Matrix    \u001b[0m\n",
      "┏━━━━━━━━━━━┳━━━━━━━━┳━━━━━━━━━━━┓\n",
      "┃\u001b[1m \u001b[0m\u001b[1m         \u001b[0m\u001b[1m \u001b[0m┃\u001b[1m \u001b[0m\u001b[1mBenign\u001b[0m\u001b[1m \u001b[0m┃\u001b[1m \u001b[0m\u001b[1mMalignant\u001b[0m\u001b[1m \u001b[0m┃\n",
      "┡━━━━━━━━━━━╇━━━━━━━━╇━━━━━━━━━━━┩\n",
      "│\u001b[2m \u001b[0m\u001b[2mBenign   \u001b[0m\u001b[2m \u001b[0m│ 66,369 │    13,764 │\n",
      "│\u001b[2m \u001b[0m\u001b[2mMalignant\u001b[0m\u001b[2m \u001b[0m│     31 │        48 │\n",
      "└───────────┴────────┴───────────┘\n",
      "\u001b[2;3mRows: Actual | Columns: Predicted \u001b[0m\n",
      "\u001b[92m────────────────────────────────── \u001b[0m\u001b[1mEpoch \u001b[0m\u001b[1;36m2\u001b[0m\u001b[1m/\u001b[0m\u001b[1;36m8\u001b[0m\u001b[92m ───────────────────────────────────\u001b[0m\n",
      "\u001b[2KTraining \u001b[90m━━━━━━━━━━\u001b[0m \u001b[35m100%\u001b[0m (2507/2507) Loss: \u001b[36m0.3681\u001b[0m Prec: \u001b[32m0.005\u001b[0m Rec: \u001b[33m0.710\u001b[0m \u001b[33m0:04:12\u001b[0m04:12\u001b[0m03:46\u001b[0m\n",
      "\u001b[2KValidation \u001b[90m━━━━━━━━━━\u001b[0m \u001b[35m100%\u001b[0m (627/627) Loss: \u001b[36m0.3369\u001b[0m Prec: \u001b[32m0.004\u001b[0m Rec: \u001b[33m0.785\u001b[0m \u001b[33m0:00:58\u001b[0m00:58\u001b[0m00:52\u001b[0m\n",
      "\u001b[?25h\u001b[3m   Validation Confusion Matrix    \u001b[0m\n",
      "┏━━━━━━━━━━━┳━━━━━━━━┳━━━━━━━━━━━┓\n",
      "┃\u001b[1m \u001b[0m\u001b[1m         \u001b[0m\u001b[1m \u001b[0m┃\u001b[1m \u001b[0m\u001b[1mBenign\u001b[0m\u001b[1m \u001b[0m┃\u001b[1m \u001b[0m\u001b[1mMalignant\u001b[0m\u001b[1m \u001b[0m┃\n",
      "┡━━━━━━━━━━━╇━━━━━━━━╇━━━━━━━━━━━┩\n",
      "│\u001b[2m \u001b[0m\u001b[2mBenign   \u001b[0m\u001b[2m \u001b[0m│ 65,895 │    14,238 │\n",
      "│\u001b[2m \u001b[0m\u001b[2mMalignant\u001b[0m\u001b[2m \u001b[0m│     17 │        62 │\n",
      "└───────────┴────────┴───────────┘\n",
      "\u001b[2;3mRows: Actual | Columns: Predicted \u001b[0m\n",
      "\u001b[92m────────────────────────────────── \u001b[0m\u001b[1mEpoch \u001b[0m\u001b[1;36m3\u001b[0m\u001b[1m/\u001b[0m\u001b[1;36m8\u001b[0m\u001b[92m ───────────────────────────────────\u001b[0m\n",
      "\u001b[2KTraining \u001b[90m━━━━━━━━━━\u001b[0m \u001b[35m100%\u001b[0m (2507/2507) Loss: \u001b[36m0.3520\u001b[0m Prec: \u001b[32m0.005\u001b[0m Rec: \u001b[33m0.777\u001b[0m \u001b[33m0:04:16\u001b[0m04:16\u001b[0m03:52\u001b[0m\n",
      "\u001b[2KValidation \u001b[90m━━━━━━━━━━\u001b[0m \u001b[35m100%\u001b[0m (627/627) Loss: \u001b[36m0.3361\u001b[0m Prec: \u001b[32m0.009\u001b[0m Rec: \u001b[33m0.684\u001b[0m \u001b[33m0:01:03\u001b[0m01:03\u001b[0m00:57\u001b[0m\n",
      "\u001b[?25h\u001b[3m   Validation Confusion Matrix    \u001b[0m\n",
      "┏━━━━━━━━━━━┳━━━━━━━━┳━━━━━━━━━━━┓\n",
      "┃\u001b[1m \u001b[0m\u001b[1m         \u001b[0m\u001b[1m \u001b[0m┃\u001b[1m \u001b[0m\u001b[1mBenign\u001b[0m\u001b[1m \u001b[0m┃\u001b[1m \u001b[0m\u001b[1mMalignant\u001b[0m\u001b[1m \u001b[0m┃\n",
      "┡━━━━━━━━━━━╇━━━━━━━━╇━━━━━━━━━━━┩\n",
      "│\u001b[2m \u001b[0m\u001b[2mBenign   \u001b[0m\u001b[2m \u001b[0m│ 74,163 │     5,970 │\n",
      "│\u001b[2m \u001b[0m\u001b[2mMalignant\u001b[0m\u001b[2m \u001b[0m│     25 │        54 │\n",
      "└───────────┴────────┴───────────┘\n",
      "\u001b[2;3mRows: Actual | Columns: Predicted \u001b[0m\n",
      "\u001b[92m────────────────────────────────── \u001b[0m\u001b[1mEpoch \u001b[0m\u001b[1;36m4\u001b[0m\u001b[1m/\u001b[0m\u001b[1;36m8\u001b[0m\u001b[92m ───────────────────────────────────\u001b[0m\n",
      "\u001b[2KTraining \u001b[90m━━━━━━━━━━\u001b[0m \u001b[35m100%\u001b[0m (2507/2507) Loss: \u001b[36m0.3421\u001b[0m Prec: \u001b[32m0.005\u001b[0m Rec: \u001b[33m0.771\u001b[0m \u001b[33m0:04:11\u001b[0m04:11\u001b[0m03:46\u001b[0m\n",
      "\u001b[2KValidation \u001b[90m━━━━━━━━━━\u001b[0m \u001b[35m100%\u001b[0m (627/627) Loss: \u001b[36m0.3336\u001b[0m Prec: \u001b[32m0.005\u001b[0m Rec: \u001b[33m0.747\u001b[0m \u001b[33m0:00:52\u001b[0m00:52\u001b[0m00:48\u001b[0m\n",
      "\u001b[?25h\u001b[3m   Validation Confusion Matrix    \u001b[0m\n",
      "┏━━━━━━━━━━━┳━━━━━━━━┳━━━━━━━━━━━┓\n",
      "┃\u001b[1m \u001b[0m\u001b[1m         \u001b[0m\u001b[1m \u001b[0m┃\u001b[1m \u001b[0m\u001b[1mBenign\u001b[0m\u001b[1m \u001b[0m┃\u001b[1m \u001b[0m\u001b[1mMalignant\u001b[0m\u001b[1m \u001b[0m┃\n",
      "┡━━━━━━━━━━━╇━━━━━━━━╇━━━━━━━━━━━┩\n",
      "│\u001b[2m \u001b[0m\u001b[2mBenign   \u001b[0m\u001b[2m \u001b[0m│ 67,481 │    12,652 │\n",
      "│\u001b[2m \u001b[0m\u001b[2mMalignant\u001b[0m\u001b[2m \u001b[0m│     20 │        59 │\n",
      "└───────────┴────────┴───────────┘\n",
      "\u001b[2;3mRows: Actual | Columns: Predicted \u001b[0m\n",
      "\u001b[92m────────────────────────────────── \u001b[0m\u001b[1mEpoch \u001b[0m\u001b[1;36m5\u001b[0m\u001b[1m/\u001b[0m\u001b[1;36m8\u001b[0m\u001b[92m ───────────────────────────────────\u001b[0m\n",
      "\u001b[2KTraining \u001b[90m━━━━━━━━━━\u001b[0m \u001b[35m100%\u001b[0m (2507/2507) Loss: \u001b[36m0.3287\u001b[0m Prec: \u001b[32m0.005\u001b[0m Rec: \u001b[33m0.822\u001b[0m \u001b[33m0:04:12\u001b[0m04:12\u001b[0m03:46\u001b[0m\n",
      "\u001b[2KValidation \u001b[90m━━━━━━━━━━\u001b[0m \u001b[35m100%\u001b[0m (627/627) Loss: \u001b[36m0.3515\u001b[0m Prec: \u001b[32m0.006\u001b[0m Rec: \u001b[33m0.709\u001b[0m \u001b[33m0:00:59\u001b[0m00:59\u001b[0m00:53\u001b[0m\n",
      "\u001b[?25h\u001b[3m   Validation Confusion Matrix    \u001b[0m\n",
      "┏━━━━━━━━━━━┳━━━━━━━━┳━━━━━━━━━━━┓\n",
      "┃\u001b[1m \u001b[0m\u001b[1m         \u001b[0m\u001b[1m \u001b[0m┃\u001b[1m \u001b[0m\u001b[1mBenign\u001b[0m\u001b[1m \u001b[0m┃\u001b[1m \u001b[0m\u001b[1mMalignant\u001b[0m\u001b[1m \u001b[0m┃\n",
      "┡━━━━━━━━━━━╇━━━━━━━━╇━━━━━━━━━━━┩\n",
      "│\u001b[2m \u001b[0m\u001b[2mBenign   \u001b[0m\u001b[2m \u001b[0m│ 70,692 │     9,441 │\n",
      "│\u001b[2m \u001b[0m\u001b[2mMalignant\u001b[0m\u001b[2m \u001b[0m│     23 │        56 │\n",
      "└───────────┴────────┴───────────┘\n",
      "\u001b[2;3mRows: Actual | Columns: Predicted \u001b[0m\n",
      "\u001b[92m────────────────────────────────── \u001b[0m\u001b[1mEpoch \u001b[0m\u001b[1;36m6\u001b[0m\u001b[1m/\u001b[0m\u001b[1;36m8\u001b[0m\u001b[92m ───────────────────────────────────\u001b[0m\n",
      "\u001b[2KTraining \u001b[90m━━━━━━━━━━\u001b[0m \u001b[35m100%\u001b[0m (2507/2507) Loss: \u001b[36m0.3246\u001b[0m Prec: \u001b[32m0.006\u001b[0m Rec: \u001b[33m0.771\u001b[0m \u001b[33m0:04:14\u001b[0m04:14\u001b[0m03:47\u001b[0m\n",
      "\u001b[2KValidation \u001b[90m━━━━━━━━━━\u001b[0m \u001b[35m100%\u001b[0m (627/627) Loss: \u001b[36m0.3251\u001b[0m Prec: \u001b[32m0.005\u001b[0m Rec: \u001b[33m0.810\u001b[0m \u001b[33m0:01:01\u001b[0m01:01\u001b[0m00:55\u001b[0m\n",
      "\u001b[?25h\u001b[3m   Validation Confusion Matrix    \u001b[0m\n",
      "┏━━━━━━━━━━━┳━━━━━━━━┳━━━━━━━━━━━┓\n",
      "┃\u001b[1m \u001b[0m\u001b[1m         \u001b[0m\u001b[1m \u001b[0m┃\u001b[1m \u001b[0m\u001b[1mBenign\u001b[0m\u001b[1m \u001b[0m┃\u001b[1m \u001b[0m\u001b[1mMalignant\u001b[0m\u001b[1m \u001b[0m┃\n",
      "┡━━━━━━━━━━━╇━━━━━━━━╇━━━━━━━━━━━┩\n",
      "│\u001b[2m \u001b[0m\u001b[2mBenign   \u001b[0m\u001b[2m \u001b[0m│ 68,152 │    11,981 │\n",
      "│\u001b[2m \u001b[0m\u001b[2mMalignant\u001b[0m\u001b[2m \u001b[0m│     15 │        64 │\n",
      "└───────────┴────────┴───────────┘\n",
      "\u001b[2;3mRows: Actual | Columns: Predicted \u001b[0m\n",
      "\u001b[92m────────────────────────────────── \u001b[0m\u001b[1mEpoch \u001b[0m\u001b[1;36m7\u001b[0m\u001b[1m/\u001b[0m\u001b[1;36m8\u001b[0m\u001b[92m ───────────────────────────────────\u001b[0m\n",
      "\u001b[2KTraining \u001b[90m━━━━━━━━━━\u001b[0m \u001b[35m100%\u001b[0m (2507/2507) Loss: \u001b[36m0.3213\u001b[0m Prec: \u001b[32m0.007\u001b[0m Rec: \u001b[33m0.764\u001b[0m \u001b[33m0:04:01\u001b[0m04:01\u001b[0m03:38\u001b[0m\n",
      "\u001b[2KValidation \u001b[90m━━━━━━━━━━\u001b[0m \u001b[35m100%\u001b[0m (627/627) Loss: \u001b[36m0.3150\u001b[0m Prec: \u001b[32m0.010\u001b[0m Rec: \u001b[33m0.696\u001b[0m \u001b[33m0:01:03\u001b[0m01:03\u001b[0m00:56\u001b[0m\n",
      "\u001b[?25h\u001b[3m   Validation Confusion Matrix    \u001b[0m\n",
      "┏━━━━━━━━━━━┳━━━━━━━━┳━━━━━━━━━━━┓\n",
      "┃\u001b[1m \u001b[0m\u001b[1m         \u001b[0m\u001b[1m \u001b[0m┃\u001b[1m \u001b[0m\u001b[1mBenign\u001b[0m\u001b[1m \u001b[0m┃\u001b[1m \u001b[0m\u001b[1mMalignant\u001b[0m\u001b[1m \u001b[0m┃\n",
      "┡━━━━━━━━━━━╇━━━━━━━━╇━━━━━━━━━━━┩\n",
      "│\u001b[2m \u001b[0m\u001b[2mBenign   \u001b[0m\u001b[2m \u001b[0m│ 74,604 │     5,529 │\n",
      "│\u001b[2m \u001b[0m\u001b[2mMalignant\u001b[0m\u001b[2m \u001b[0m│     24 │        55 │\n",
      "└───────────┴────────┴───────────┘\n",
      "\u001b[2;3mRows: Actual | Columns: Predicted \u001b[0m\n",
      "\u001b[92m────────────────────────────────── \u001b[0m\u001b[1mEpoch \u001b[0m\u001b[1;36m8\u001b[0m\u001b[1m/\u001b[0m\u001b[1;36m8\u001b[0m\u001b[92m ───────────────────────────────────\u001b[0m\n",
      "\u001b[2KTraining \u001b[90m━━━━━━━━━━\u001b[0m \u001b[35m100%\u001b[0m (2507/2507) Loss: \u001b[36m0.3195\u001b[0m Prec: \u001b[32m0.006\u001b[0m Rec: \u001b[33m0.777\u001b[0m \u001b[33m0:04:18\u001b[0m04:18\u001b[0m03:52\u001b[0m\n",
      "\u001b[2KValidation \u001b[90m━━━━━━━━━━\u001b[0m \u001b[35m100%\u001b[0m (627/627) Loss: \u001b[36m0.3145\u001b[0m Prec: \u001b[32m0.006\u001b[0m Rec: \u001b[33m0.797\u001b[0m \u001b[33m0:00:52\u001b[0m00:52\u001b[0m00:48\u001b[0m\n",
      "\u001b[?25h\u001b[3m   Validation Confusion Matrix    \u001b[0m\n",
      "┏━━━━━━━━━━━┳━━━━━━━━┳━━━━━━━━━━━┓\n",
      "┃\u001b[1m \u001b[0m\u001b[1m         \u001b[0m\u001b[1m \u001b[0m┃\u001b[1m \u001b[0m\u001b[1mBenign\u001b[0m\u001b[1m \u001b[0m┃\u001b[1m \u001b[0m\u001b[1mMalignant\u001b[0m\u001b[1m \u001b[0m┃\n",
      "┡━━━━━━━━━━━╇━━━━━━━━╇━━━━━━━━━━━┩\n",
      "│\u001b[2m \u001b[0m\u001b[2mBenign   \u001b[0m\u001b[2m \u001b[0m│ 69,182 │    10,951 │\n",
      "│\u001b[2m \u001b[0m\u001b[2mMalignant\u001b[0m\u001b[2m \u001b[0m│     16 │        63 │\n",
      "└───────────┴────────┴───────────┘\n",
      "\u001b[2;3mRows: Actual | Columns: Predicted \u001b[0m\n"
     ]
    }
   ],
   "source": [
    "from isic.training import train, validate\n",
    "from rich.console import Console\n",
    "\n",
    "console = Console(force_jupyter=False)\n",
    "\n",
    "for epoch in range(epochs):\n",
    "    console.rule(f\"[bold]Epoch {epoch + 1}/{epochs}\")\n",
    "\n",
    "    # train\n",
    "    train_metrics = train(\n",
    "        model, train_loader, criterion, optimizer, device, threshold, console=console\n",
    "    )\n",
    "\n",
    "    # validate\n",
    "    val_metrics, confusion_mat = validate(\n",
    "        model, val_loader, criterion, device, threshold, console=console\n",
    "    )"
   ]
  },
  {
   "cell_type": "code",
   "execution_count": 17,
   "metadata": {},
   "outputs": [
    {
     "name": "stdout",
     "output_type": "stream",
     "text": [
      "* Run finished. Uploading logs to Trackio (please wait...)\n"
     ]
    }
   ],
   "source": [
    "trackio.finish()"
   ]
  }
 ],
 "metadata": {
  "kernelspec": {
   "display_name": "isic",
   "language": "python",
   "name": "python3"
  },
  "language_info": {
   "codemirror_mode": {
    "name": "ipython",
    "version": 3
   },
   "file_extension": ".py",
   "mimetype": "text/x-python",
   "name": "python",
   "nbconvert_exporter": "python",
   "pygments_lexer": "ipython3",
   "version": "3.12.12"
  }
 },
 "nbformat": 4,
 "nbformat_minor": 2
}
